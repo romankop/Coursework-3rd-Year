{
 "cells": [
  {
   "cell_type": "markdown",
   "metadata": {},
   "source": [
    "# Импорт библиотек и загрузка данных"
   ]
  },
  {
   "cell_type": "markdown",
   "metadata": {},
   "source": [
    "Импортирую библиотеки для обработки данных."
   ]
  },
  {
   "cell_type": "code",
   "execution_count": 1,
   "metadata": {},
   "outputs": [],
   "source": [
    "import pandas as pd\n",
    "import numpy as np\n",
    "import matplotlib.pyplot as pl\n",
    "\n",
    "import warnings\n",
    "warnings.filterwarnings(\"ignore\")"
   ]
  },
  {
   "cell_type": "markdown",
   "metadata": {},
   "source": [
    "Считывание файла с данными. Он очень большой!"
   ]
  },
  {
   "cell_type": "code",
   "execution_count": 27,
   "metadata": {},
   "outputs": [
    {
     "name": "stdout",
     "output_type": "stream",
     "text": [
      "Wall time: 2min 10s\n"
     ]
    }
   ],
   "source": [
    "%%time\n",
    "df = pd.read_csv(r'C:\\Users\\Redmi\\Downloads\\f13_data.csv')"
   ]
  },
  {
   "cell_type": "markdown",
   "metadata": {},
   "source": [
    "В этом датасете много разных столбцов. Некоторые я до сих пор не понимаю."
   ]
  },
  {
   "cell_type": "code",
   "execution_count": 3,
   "metadata": {},
   "outputs": [
    {
     "data": {
      "text/plain": [
       "Index(['Unnamed: 0', 'stamp', 'access_id', 'other_manager',\n",
       "       'investment_discretion', 'put_call', 'security_class',\n",
       "       'ssh_prn_amt_type', 'acceptance_stamp', 'market_value', 'ssh_prn_amt',\n",
       "       'voting_authority_sole', 'voting_authority_shared',\n",
       "       'voting_authority_none', 'cik', 'conformed_submission_type',\n",
       "       'conformed_period_of_report', 'filed_as_of_date', 'date_of_change',\n",
       "       'effectiveness_date', 'fiscal_year_end', 'close', 'is_shifted_price',\n",
       "       'id'],\n",
       "      dtype='object')"
      ]
     },
     "execution_count": 3,
     "metadata": {},
     "output_type": "execute_result"
    }
   ],
   "source": [
    "df.columns"
   ]
  },
  {
   "cell_type": "markdown",
   "metadata": {},
   "source": [
    "Подгрузим таблицу соответствия CIK и наименования институционального инвестора. Таблица соответствия взята из базы <a href=\"https://www.sec.gov/Archives/edgar/cik-lookup-data.txt\">EDGAR</a>."
   ]
  },
  {
   "cell_type": "code",
   "execution_count": 4,
   "metadata": {},
   "outputs": [
    {
     "data": {
      "text/html": [
       "<div>\n",
       "<style scoped>\n",
       "    .dataframe tbody tr th:only-of-type {\n",
       "        vertical-align: middle;\n",
       "    }\n",
       "\n",
       "    .dataframe tbody tr th {\n",
       "        vertical-align: top;\n",
       "    }\n",
       "\n",
       "    .dataframe thead th {\n",
       "        text-align: right;\n",
       "    }\n",
       "</style>\n",
       "<table border=\"1\" class=\"dataframe\">\n",
       "  <thead>\n",
       "    <tr style=\"text-align: right;\">\n",
       "      <th></th>\n",
       "      <th>fund_name</th>\n",
       "      <th>cik</th>\n",
       "    </tr>\n",
       "  </thead>\n",
       "  <tbody>\n",
       "    <tr>\n",
       "      <th>0</th>\n",
       "      <td>!J INC</td>\n",
       "      <td>1438823</td>\n",
       "    </tr>\n",
       "    <tr>\n",
       "      <th>1</th>\n",
       "      <td>#1 A LIFESAFER HOLDINGS, INC.</td>\n",
       "      <td>1509607</td>\n",
       "    </tr>\n",
       "    <tr>\n",
       "      <th>2</th>\n",
       "      <td>#1 ARIZONA DISCOUNT PROPERTIES LLC</td>\n",
       "      <td>1457512</td>\n",
       "    </tr>\n",
       "    <tr>\n",
       "      <th>3</th>\n",
       "      <td>#1 PAINTBALL CORP</td>\n",
       "      <td>1433777</td>\n",
       "    </tr>\n",
       "    <tr>\n",
       "      <th>4</th>\n",
       "      <td>$ LLC</td>\n",
       "      <td>1427189</td>\n",
       "    </tr>\n",
       "  </tbody>\n",
       "</table>\n",
       "</div>"
      ],
      "text/plain": [
       "                            fund_name      cik\n",
       "0                              !J INC  1438823\n",
       "1       #1 A LIFESAFER HOLDINGS, INC.  1509607\n",
       "2  #1 ARIZONA DISCOUNT PROPERTIES LLC  1457512\n",
       "3                   #1 PAINTBALL CORP  1433777\n",
       "4                               $ LLC  1427189"
      ]
     },
     "execution_count": 4,
     "metadata": {},
     "output_type": "execute_result"
    }
   ],
   "source": [
    "cik_array = []\n",
    "\n",
    "# Открываю файл\n",
    "with open('cik-lookup-data.txt', 'r') as cik_data:\n",
    "    \n",
    "    # Создаю массив из пар \"CIK - Название компании\"\n",
    "    for string in cik_data:\n",
    "        if string:\n",
    "            cik_array.append([string[:-13], int(string[-12:-2])])\n",
    "\n",
    "# Перевожу массив в Dataframe\n",
    "cik_lookup = pd.DataFrame(data=cik_array, columns=['fund_name', 'cik'])\n",
    "cik_lookup.head()"
   ]
  },
  {
   "cell_type": "markdown",
   "metadata": {},
   "source": [
    "Теперь подгрузим таблицу соответствия тикера и его id. Таблица соответствия взята из базы <a href=\"https://www.sec.gov/include/ticker.txt\">EDGAR</a>. С их помощью я через Yahoo! Finance я попытаюсь вычленить сектор каждой компании-эмитента, чтобы на его основе сгенерировать полезные для анализа переменные."
   ]
  },
  {
   "cell_type": "code",
   "execution_count": 5,
   "metadata": {},
   "outputs": [
    {
     "data": {
      "text/html": [
       "<div>\n",
       "<style scoped>\n",
       "    .dataframe tbody tr th:only-of-type {\n",
       "        vertical-align: middle;\n",
       "    }\n",
       "\n",
       "    .dataframe tbody tr th {\n",
       "        vertical-align: top;\n",
       "    }\n",
       "\n",
       "    .dataframe thead th {\n",
       "        text-align: right;\n",
       "    }\n",
       "</style>\n",
       "<table border=\"1\" class=\"dataframe\">\n",
       "  <thead>\n",
       "    <tr style=\"text-align: right;\">\n",
       "      <th></th>\n",
       "      <th>ticker</th>\n",
       "      <th>ticker_id</th>\n",
       "    </tr>\n",
       "  </thead>\n",
       "  <tbody>\n",
       "    <tr>\n",
       "      <th>0</th>\n",
       "      <td>aapl</td>\n",
       "      <td>320193</td>\n",
       "    </tr>\n",
       "    <tr>\n",
       "      <th>1</th>\n",
       "      <td>msft</td>\n",
       "      <td>789019</td>\n",
       "    </tr>\n",
       "    <tr>\n",
       "      <th>2</th>\n",
       "      <td>amzn</td>\n",
       "      <td>1018724</td>\n",
       "    </tr>\n",
       "    <tr>\n",
       "      <th>3</th>\n",
       "      <td>goog</td>\n",
       "      <td>1652044</td>\n",
       "    </tr>\n",
       "    <tr>\n",
       "      <th>4</th>\n",
       "      <td>fb</td>\n",
       "      <td>1326801</td>\n",
       "    </tr>\n",
       "  </tbody>\n",
       "</table>\n",
       "</div>"
      ],
      "text/plain": [
       "  ticker  ticker_id\n",
       "0   aapl     320193\n",
       "1   msft     789019\n",
       "2   amzn    1018724\n",
       "3   goog    1652044\n",
       "4     fb    1326801"
      ]
     },
     "execution_count": 5,
     "metadata": {},
     "output_type": "execute_result"
    }
   ],
   "source": [
    "# Считываю таблицу соответствия\n",
    "tickers_lookup = pd.read_csv('ticker.txt', sep='\\t', names=['ticker', 'ticker_id'])\n",
    "tickers_lookup.head()"
   ]
  },
  {
   "cell_type": "markdown",
   "metadata": {},
   "source": [
    "Чтобы скачивать данные о секторе, я напишу специальную функцию."
   ]
  },
  {
   "cell_type": "code",
   "execution_count": 6,
   "metadata": {},
   "outputs": [],
   "source": [
    "# функция выгрузки секторов для набора тикеров\n",
    "def extract_tickers_with_sector(symbols: list) -> pd.DataFrame :\n",
    "    \n",
    "    from yahooquery import Ticker\n",
    "    \n",
    "    # Получаю информацию из базы данных о тикерах\n",
    "    tickers = Ticker(symbols, asynchronous=True)\n",
    "    tickers = tickers.get_modules(\"summaryProfile quoteType\")\n",
    "    tickers = pd.DataFrame.from_dict(tickers).T\n",
    "    \n",
    "    # Преобразую информацию в понятный формат\n",
    "    ticker_frames = [pd.json_normalize([x for x in tickers[module] if isinstance(x, dict)]) \\\n",
    "                                         for module in ['summaryProfile', 'quoteType']]\n",
    "    \n",
    "    # Оставляю необходимые столбцы\n",
    "    tickers = pd.concat(ticker_frames, axis=1)[['symbol', 'sector']]\n",
    "    # Для будущей пользы (и соответствия исходному формату) изменяю формат тикеров\n",
    "    tickers.symbol = tickers.symbol.str.lower()\n",
    "\n",
    "    return tickers"
   ]
  },
  {
   "cell_type": "markdown",
   "metadata": {},
   "source": [
    "Теперь получу информацию о секторе."
   ]
  },
  {
   "cell_type": "code",
   "execution_count": 7,
   "metadata": {},
   "outputs": [
    {
     "name": "stdout",
     "output_type": "stream",
     "text": [
      "Wall time: 8min 2s\n"
     ]
    },
    {
     "data": {
      "text/html": [
       "<div>\n",
       "<style scoped>\n",
       "    .dataframe tbody tr th:only-of-type {\n",
       "        vertical-align: middle;\n",
       "    }\n",
       "\n",
       "    .dataframe tbody tr th {\n",
       "        vertical-align: top;\n",
       "    }\n",
       "\n",
       "    .dataframe thead th {\n",
       "        text-align: right;\n",
       "    }\n",
       "</style>\n",
       "<table border=\"1\" class=\"dataframe\">\n",
       "  <thead>\n",
       "    <tr style=\"text-align: right;\">\n",
       "      <th></th>\n",
       "      <th>sector</th>\n",
       "      <th>ticker</th>\n",
       "      <th>ticker_id</th>\n",
       "    </tr>\n",
       "  </thead>\n",
       "  <tbody>\n",
       "    <tr>\n",
       "      <th>0</th>\n",
       "      <td>Technology</td>\n",
       "      <td>aapl</td>\n",
       "      <td>320193</td>\n",
       "    </tr>\n",
       "    <tr>\n",
       "      <th>1</th>\n",
       "      <td>Technology</td>\n",
       "      <td>msft</td>\n",
       "      <td>789019</td>\n",
       "    </tr>\n",
       "    <tr>\n",
       "      <th>2</th>\n",
       "      <td>Consumer Cyclical</td>\n",
       "      <td>amzn</td>\n",
       "      <td>1018724</td>\n",
       "    </tr>\n",
       "    <tr>\n",
       "      <th>3</th>\n",
       "      <td>Communication Services</td>\n",
       "      <td>goog</td>\n",
       "      <td>1652044</td>\n",
       "    </tr>\n",
       "    <tr>\n",
       "      <th>4</th>\n",
       "      <td>Communication Services</td>\n",
       "      <td>fb</td>\n",
       "      <td>1326801</td>\n",
       "    </tr>\n",
       "  </tbody>\n",
       "</table>\n",
       "</div>"
      ],
      "text/plain": [
       "                   sector ticker  ticker_id\n",
       "0              Technology   aapl     320193\n",
       "1              Technology   msft     789019\n",
       "2       Consumer Cyclical   amzn    1018724\n",
       "3  Communication Services   goog    1652044\n",
       "4  Communication Services     fb    1326801"
      ]
     },
     "execution_count": 7,
     "metadata": {},
     "output_type": "execute_result"
    }
   ],
   "source": [
    "%%time\n",
    "\n",
    "# Формирую названия тикеров для функции\n",
    "symbols = tickers_lookup.ticker.unique()\n",
    "# Получаю значения секторов\n",
    "tickers = extract_tickers_with_sector(symbols)\n",
    "# Присоединяю данные о секторе к основной таблице\n",
    "tickers = tickers.merge(tickers_lookup, left_on='symbol',\n",
    "                        right_on='ticker', how='right', suffixes=(None, None))\n",
    "# Удаляю ненужный столбец, по которому велось присоединение\n",
    "tickers.drop('symbol', axis=1, inplace=True)\n",
    "\n",
    "tickers.head()"
   ]
  },
  {
   "cell_type": "markdown",
   "metadata": {},
   "source": [
    "Я также заметил, что последняя буква (иногда и две) в написании тикеров часто соответствует типу финансового инструмента. Поэтому для тикеров с ненайденными секторами повторю процедуру, используя их в запросе без первой и второй буквы."
   ]
  },
  {
   "cell_type": "code",
   "execution_count": 8,
   "metadata": {
    "scrolled": true
   },
   "outputs": [
    {
     "name": "stdout",
     "output_type": "stream",
     "text": [
      "Wall time: 2min 30s\n"
     ]
    }
   ],
   "source": [
    "%%time\n",
    "\n",
    "# Прохожу цикл по количеству убранных с конца букв\n",
    "for last in (1, 2):\n",
    "    # Составляю список правильных наименований тикеров без сектора для запроса\n",
    "    symbols_without_sector = tickers[tickers.sector.isna()].ticker.str[:-last]\n",
    "    # Получаю таблицу соответствия измененных названий тикеров и сектора\n",
    "    res_for_symbols_without_sector = extract_tickers_with_sector(symbols_without_sector)\n",
    "    # Составляю таблицу полных названий тикеров без названия и сектора\n",
    "    sector_vals = symbols_without_sector.to_frame().merge(res_for_symbols_without_sector, how='left',\n",
    "                                                          left_on='ticker', right_on='symbol').sector\n",
    "    # Обновляю изначальную таблицу новыми соответствиями\n",
    "    tickers.loc[tickers.sector.isna(), 'sector'] = sector_vals.values\n",
    "\n",
    "# Изменяю пустые поля и отсутствия сектора на неопределенное значение\n",
    "tickers['sector'] = tickers.sector.replace('', 'Undefined')\n",
    "tickers['sector'] = tickers.sector.fillna('Undefined')\n",
    "# Расширяю тип колонки идентификатора тикера для удобства сочленения с основными данными\n",
    "tickers['ticker_id'] = tickers.ticker_id.astype('int64')"
   ]
  },
  {
   "cell_type": "markdown",
   "metadata": {},
   "source": [
    "Посмотрим теперь на распределение секторов среди тикеров."
   ]
  },
  {
   "cell_type": "code",
   "execution_count": 9,
   "metadata": {
    "scrolled": false
   },
   "outputs": [
    {
     "data": {
      "image/png": "[encoded data removed]",
      "text/plain": [
       "<Figure size 1152x576 with 1 Axes>"
      ]
     },
     "metadata": {
      "needs_background": "light"
     },
     "output_type": "display_data"
    }
   ],
   "source": [
    "pl.figure(figsize=(16,8));\n",
    "tickers.sector.value_counts().plot(kind='barh', title='Stock Sectors Distribuition').invert_yaxis();"
   ]
  },
  {
   "cell_type": "markdown",
   "metadata": {},
   "source": [
    "Большинство компаний работают в секторах Здравоохранения и Финансовых услуг, а также в промышленности, IT и циклических индустрий. Замечу, что у нас огромная доля компаний не получила в соответствие сектор, что не очень приятно для дальнейшего анализа."
   ]
  },
  {
   "cell_type": "markdown",
   "metadata": {},
   "source": [
    "# Обработка датасета"
   ]
  },
  {
   "cell_type": "markdown",
   "metadata": {},
   "source": [
    "Определяю количество лагов доли акции."
   ]
  },
  {
   "cell_type": "code",
   "execution_count": 10,
   "metadata": {},
   "outputs": [],
   "source": [
    "num_lags = 4"
   ]
  },
  {
   "cell_type": "markdown",
   "metadata": {},
   "source": [
    "Чищу данные."
   ]
  },
  {
   "cell_type": "code",
   "execution_count": 28,
   "metadata": {},
   "outputs": [
    {
     "name": "stdout",
     "output_type": "stream",
     "text": [
      "Wall time: 47.9 s\n"
     ]
    }
   ],
   "source": [
    "%%time\n",
    "# оставляю только акции\n",
    "df = df[df['security_class'] == \"STOCK\"]\n",
    "# беру только самодостаточные активы\n",
    "df = df[df['investment_discretion'] == \"SOLE\"]\n",
    "# оставляю только обыкновенные акции с неразделимым правом на голосовании\n",
    "df = df[(df['voting_authority_sole'] > 0) & (df['voting_authority_shared'] + df['voting_authority_none'] == 0)]\n",
    "\n",
    "# Создаю переменную количества акций\n",
    "\n",
    "# Создаю маску, указывающую, где стоит число акций\n",
    "mask = (df['ssh_prn_amt_type'] == 'SH')\n",
    "# Нахожу количество акций через отношение стоимости позиции и цены закрытия, если количество не было указано\n",
    "df['shares'] = mask * df.ssh_prn_amt + (1 - mask) * df.market_value / df.close\n",
    "\n",
    "# Почему-то в датасете есть позиции, на которых стоит нулевая стоимость или нулевое количество\n",
    "df = df[df['shares'] > 0]\n",
    "df = df[df['market_value'] > 0]\n",
    "\n",
    "# перевожу дату в кварталы\n",
    "df['period'] = pd.to_datetime(df.conformed_period_of_report).dt.to_period('Q')\n",
    "\n",
    "# оставляю нужные колонки и перевожу в нужные форматы\n",
    "df = df[['shares', 'market_value', 'cik', 'period', 'id', 'conformed_submission_type', 'close']].dropna()\n",
    "df['shares'] = df['shares'].round()\n",
    "df['ticker_id'] = df['id'].astype('int')\n",
    "df['cik'] = df['cik'].astype('int')\n",
    "df.drop('id', axis=1, inplace=True)"
   ]
  },
  {
   "cell_type": "markdown",
   "metadata": {},
   "source": [
    "Теперь я хочу учесть влияние поправок к основным отчетам. Как сказано в сведениях, в поправках указываются дополнительно купленные к изначальным активы. Значит, моя задача - прибавить эти дополнения к основным показателям.\n",
    "\n",
    "Для начала я разделю данные на две таблицы по типу отчета."
   ]
  },
  {
   "cell_type": "code",
   "execution_count": 29,
   "metadata": {},
   "outputs": [],
   "source": [
    "base_subs = df[df.conformed_submission_type == '13F-HR']\n",
    "amends = df[df.conformed_submission_type == '13F-HR/A']"
   ]
  },
  {
   "cell_type": "markdown",
   "metadata": {},
   "source": [
    "Теперь я создам таблицу, где будут находиться данные по позициям, подвергнутым изменениям поправками. Замечу, что часто в этом датасете поправки просто повторяют позиции в основных отчетах, а также дублируются позиции из основных отчетов и поправок, при этом дублируются с противоположным типом отчета. Я скорректирую данные на эти недочеты."
   ]
  },
  {
   "cell_type": "code",
   "execution_count": 30,
   "metadata": {},
   "outputs": [
    {
     "name": "stdout",
     "output_type": "stream",
     "text": [
      "Shape with duplicates: (59224, 11)\n",
      "Shape without duplicates: (54193, 11)\n"
     ]
    },
    {
     "data": {
      "text/html": [
       "<div>\n",
       "<style scoped>\n",
       "    .dataframe tbody tr th:only-of-type {\n",
       "        vertical-align: middle;\n",
       "    }\n",
       "\n",
       "    .dataframe tbody tr th {\n",
       "        vertical-align: top;\n",
       "    }\n",
       "\n",
       "    .dataframe thead th {\n",
       "        text-align: right;\n",
       "    }\n",
       "</style>\n",
       "<table border=\"1\" class=\"dataframe\">\n",
       "  <thead>\n",
       "    <tr style=\"text-align: right;\">\n",
       "      <th></th>\n",
       "      <th>shares</th>\n",
       "      <th>market_value</th>\n",
       "      <th>cik</th>\n",
       "      <th>period</th>\n",
       "      <th>ticker_id</th>\n",
       "    </tr>\n",
       "  </thead>\n",
       "  <tbody>\n",
       "    <tr>\n",
       "      <th>32</th>\n",
       "      <td>630349.0</td>\n",
       "      <td>43286000.0</td>\n",
       "      <td>866842</td>\n",
       "      <td>2016Q1</td>\n",
       "      <td>59351</td>\n",
       "    </tr>\n",
       "    <tr>\n",
       "      <th>33</th>\n",
       "      <td>2267391.0</td>\n",
       "      <td>72844000.0</td>\n",
       "      <td>866842</td>\n",
       "      <td>2016Q1</td>\n",
       "      <td>55299</td>\n",
       "    </tr>\n",
       "    <tr>\n",
       "      <th>34</th>\n",
       "      <td>1223822.0</td>\n",
       "      <td>52497000.0</td>\n",
       "      <td>866842</td>\n",
       "      <td>2016Q1</td>\n",
       "      <td>58022</td>\n",
       "    </tr>\n",
       "    <tr>\n",
       "      <th>35</th>\n",
       "      <td>127337.0</td>\n",
       "      <td>2211000.0</td>\n",
       "      <td>866842</td>\n",
       "      <td>2016Q1</td>\n",
       "      <td>13845</td>\n",
       "    </tr>\n",
       "    <tr>\n",
       "      <th>36</th>\n",
       "      <td>8244.0</td>\n",
       "      <td>740000.0</td>\n",
       "      <td>866842</td>\n",
       "      <td>2016Q1</td>\n",
       "      <td>10965955</td>\n",
       "    </tr>\n",
       "  </tbody>\n",
       "</table>\n",
       "</div>"
      ],
      "text/plain": [
       "       shares  market_value     cik  period  ticker_id\n",
       "32   630349.0    43286000.0  866842  2016Q1      59351\n",
       "33  2267391.0    72844000.0  866842  2016Q1      55299\n",
       "34  1223822.0    52497000.0  866842  2016Q1      58022\n",
       "35   127337.0     2211000.0  866842  2016Q1      13845\n",
       "36     8244.0      740000.0  866842  2016Q1   10965955"
      ]
     },
     "execution_count": 30,
     "metadata": {},
     "output_type": "execute_result"
    }
   ],
   "source": [
    "# Выберу позиции, которые могут быть изменены\n",
    "confront_pos = base_subs.merge(amends, on=['cik', 'period', 'ticker_id'], how='inner', suffixes=(None, '_amend'))\n",
    "# Отберу позиции, которые не повторяются в поправках\n",
    "confront_pos = confront_pos[confront_pos.shares != confront_pos.shares_amend]\n",
    "\n",
    "# Добавлю дополнительно приобретенные акции и их стоимость к основным активам\n",
    "confront_pos['shares'] += confront_pos['shares_amend']\n",
    "confront_pos['market_value'] += confront_pos['market_value_amend']\n",
    "\n",
    "print('Shape with duplicates:', confront_pos.shape)\n",
    "\n",
    "# Выкину из данных дубликаты\n",
    "confront_pos.drop_duplicates(inplace=True)\n",
    "\n",
    "print('Shape without duplicates:', confront_pos.shape)\n",
    "\n",
    "# Выберу нужные колонки\n",
    "confront_pos = confront_pos[['shares', 'market_value', 'cik', 'period', 'ticker_id']]\n",
    "\n",
    "confront_pos.head()"
   ]
  },
  {
   "cell_type": "markdown",
   "metadata": {},
   "source": [
    "Теперь отражу найденные изменения на основном датасете. Также я создам отдельную переменную, указывающую на то, что позиция притерпела изменения."
   ]
  },
  {
   "cell_type": "code",
   "execution_count": 31,
   "metadata": {},
   "outputs": [],
   "source": [
    "# Соединеню оба набора данных\n",
    "df = base_subs.merge(confront_pos, how='left', on=['cik', 'period', 'ticker_id'], suffixes=(None, '_amend'))\n",
    "\n",
    "# Перезаполню данные об акциях и их стоимости через измененные значения\n",
    "df['shares'] = df.shares_amend.fillna(df.shares)\n",
    "df['market_value'] = df.market_value_amend.fillna(df.market_value)\n",
    "\n",
    "# Создаю индикатор наличия изменений\n",
    "df['amend'] = ~df.shares_amend.isna()\n",
    "\n",
    "# Удаляю ненужные колонки\n",
    "df.drop(['shares_amend', 'market_value_amend', 'conformed_submission_type'], axis=1, inplace=True)"
   ]
  },
  {
   "cell_type": "markdown",
   "metadata": {},
   "source": [
    "Теперь постараюсь посмотреть, есть ли смысл использовать сектор компании для анализа вопроса. Посмотрим, какому количеству данных соответствует сектор."
   ]
  },
  {
   "cell_type": "code",
   "execution_count": 32,
   "metadata": {
    "scrolled": false
   },
   "outputs": [
    {
     "name": "stdout",
     "output_type": "stream",
     "text": [
      "0.39% covered by sectoral mapping\n"
     ]
    }
   ],
   "source": [
    "# Привязываю данные о тикерах к основнуму датасету.\n",
    "data = df.merge(tickers, how='left', on='ticker_id', suffixes=(None, None))\n",
    "\n",
    "# Вывожу долю покрытия данными о тикерами\n",
    "print(str(round(data[~data.ticker.isna()].shape[0] / data.shape[0] * 100, 3)) + '% covered by sectoral mapping')"
   ]
  },
  {
   "cell_type": "markdown",
   "metadata": {},
   "source": [
    "Как мы видим, соответствием в базе тикеров обладает меньше процента наблюдений. Поэтому я не буду включать данные о секторе в разработку модели.\n",
    "\n",
    "Для красоты отсортирую данные и создам необходимый индекс. "
   ]
  },
  {
   "cell_type": "code",
   "execution_count": 33,
   "metadata": {},
   "outputs": [
    {
     "name": "stdout",
     "output_type": "stream",
     "text": [
      "Wall time: 12.2 s\n"
     ]
    }
   ],
   "source": [
    "%%time\n",
    "\n",
    "# Добавлю индекс комбинации тикера и инвестора для удобства в будущем\n",
    "df['object'] = df.ticker_id.apply(str) + '_' + df.cik.apply(str)\n",
    "\n",
    "# Сортирую данные\n",
    "df = df.sort_values(by=['ticker_id', 'cik', 'period'])"
   ]
  },
  {
   "cell_type": "code",
   "execution_count": 34,
   "metadata": {},
   "outputs": [],
   "source": [
    "# копирую датасет для возможности бэк-апа\n",
    "final_df = df.copy(deep=True)"
   ]
  },
  {
   "cell_type": "markdown",
   "metadata": {},
   "source": [
    "## Размер фондов"
   ]
  },
  {
   "cell_type": "markdown",
   "metadata": {},
   "source": [
    "Сначала я создаю таблицу накопленной ценности инвестора в каждый квартал."
   ]
  },
  {
   "cell_type": "code",
   "execution_count": 35,
   "metadata": {},
   "outputs": [],
   "source": [
    "funds_value = final_df.groupby(by=['period', 'cik'])['market_value'].sum().reset_index()"
   ]
  },
  {
   "cell_type": "markdown",
   "metadata": {},
   "source": [
    "Формирую пороговые значения низкой и высокой стоимости. Их я выбирал так, чтобы они примерно поровну делили выборку по размеру."
   ]
  },
  {
   "cell_type": "code",
   "execution_count": 36,
   "metadata": {},
   "outputs": [],
   "source": [
    "high_value = 3e8\n",
    "low_value = 1e8"
   ]
  },
  {
   "cell_type": "markdown",
   "metadata": {},
   "source": [
    "Рассмотрим некоторые основные описательные статистики."
   ]
  },
  {
   "cell_type": "code",
   "execution_count": 37,
   "metadata": {
    "scrolled": false
   },
   "outputs": [
    {
     "data": {
      "image/png": "[encoded data removed]",
      "text/plain": [
       "<Figure size 1728x864 with 4 Axes>"
      ]
     },
     "metadata": {
      "needs_background": "light"
     },
     "output_type": "display_data"
    }
   ],
   "source": [
    "fig, axs = pl.subplots(2, 2, figsize=(24, 12));\n",
    "\n",
    "plot_data = funds_value.groupby('period')['cik'].nunique()\n",
    "axs[0, 0].plot(plot_data.index.to_series().astype(str), plot_data.values);\n",
    "axs[0, 0].set_title('Number of funds');\n",
    "axs[0, 0].set(xlabel='years', ylabel='funds number');\n",
    "# axs[0, 0].tick_params(axis='x', labelsize=8);\n",
    "axs[0, 0].xaxis.set_major_locator(pl.MaxNLocator(10));\n",
    "\n",
    "plot_data = funds_value[funds_value.market_value > high_value].groupby('period')['cik'].nunique()\n",
    "axs[0, 1].plot(plot_data.index.to_series().astype(str), plot_data.values);\n",
    "axs[0, 1].set_title('Number of high net worth funds');\n",
    "axs[0, 1].set(xlabel='years', ylabel='funds number');\n",
    "axs[0, 1].xaxis.set_major_locator(pl.MaxNLocator(10));\n",
    "\n",
    "plot_data = funds_value[funds_value.market_value < low_value].groupby('period')['cik'].nunique()\n",
    "axs[1, 0].plot(plot_data.index.to_series().astype(str), plot_data.values);\n",
    "axs[1, 0].set_title('Number of low net worth funds');\n",
    "axs[1, 0].set(xlabel='years', ylabel='funds number');\n",
    "axs[1, 0].xaxis.set_major_locator(pl.MaxNLocator(10));\n",
    "\n",
    "plot_data = funds_value.groupby('period')['cik'].median()\n",
    "axs[1, 1].plot(plot_data.index.to_series().astype(str), plot_data.values);\n",
    "axs[1, 1].set_title('Median Value of Worth');\n",
    "axs[1, 1].set(xlabel='years', ylabel='median value');\n",
    "axs[1, 1].xaxis.set_major_locator(pl.MaxNLocator(10));"
   ]
  },
  {
   "cell_type": "markdown",
   "metadata": {},
   "source": [
    "Мы видим, что в нашем датасете до 2017 года фондов почти не было (их было меньше 100). Далее произошло резкое увеличение числа инвесторов, причем значительную их долю составили средние фонды, которые продолжают доминировать по количеству. Замеиим, что медианная стоимость упала в первом квартале 2016-го года, когда бурно увеличилось количество фондов в выборке. Это означает, что большинство пришедших фондов, несмотря на мое деление, были ближе к бедным, чем к богатым. Кроме того, в последнее время количество фондов в выборке уменьшилось. "
   ]
  },
  {
   "cell_type": "markdown",
   "metadata": {},
   "source": [
    "Теперь я посмотрю на распределение ценности фондов."
   ]
  },
  {
   "cell_type": "code",
   "execution_count": 38,
   "metadata": {},
   "outputs": [
    {
     "data": {
      "image/png": "[encoded data removed]",
      "text/plain": [
       "<Figure size 1440x432 with 3 Axes>"
      ]
     },
     "metadata": {
      "needs_background": "light"
     },
     "output_type": "display_data"
    }
   ],
   "source": [
    "fig, axs = pl.subplots(1, 3, figsize=(20,6));\n",
    "\n",
    "axs[0].hist(funds_value[funds_value.period == '2017Q1'].market_value.apply(np.log), bins=100);\n",
    "axs[0].set_title('2017Q1');\n",
    "\n",
    "axs[1].hist(funds_value[funds_value.period == '2017Q4'].market_value.apply(np.log), bins=100);\n",
    "axs[1].set_title('2017Q4');\n",
    "\n",
    "axs[2].hist(funds_value[funds_value.period == '2018Q3'].market_value.apply(np.log), bins=100);\n",
    "axs[2].set_title('2018Q3');\n",
    "\n",
    "for ax in axs.flat:\n",
    "    ax.set(ylabel='Investor Value Log-Distribution')"
   ]
  },
  {
   "cell_type": "markdown",
   "metadata": {},
   "source": [
    "Из графиков видно, что распределение незначительно изменялось за последние 2 года. Оно похоже на нормальное (то есть, если мы перейдем из логарифма к изначальным значениям, оно будет логнормальным. Только левый хвост у него больше, так как большинство фондов ближе к бедным, как говорилось выше."
   ]
  },
  {
   "cell_type": "markdown",
   "metadata": {},
   "source": [
    "Теперь создам дополнительные регрессоры."
   ]
  },
  {
   "cell_type": "code",
   "execution_count": 39,
   "metadata": {},
   "outputs": [],
   "source": [
    "final_df = final_df.merge(funds_value, on=['cik', 'period'], how='left', suffixes=('', '_fund'))\n",
    "# Доля тикера в активах фонда поквартально\n",
    "final_df['ticket_share'] = final_df.market_value / final_df.market_value_fund\n",
    "# Логарифмирую ценность фонда как всякую денежную величину\n",
    "final_df['log_value_fund'] = np.log(final_df.market_value_fund)\n",
    "# Создаю индикаторные переменные, указывающие на принадлежность фонда к весовой категории\n",
    "final_df['low_value'] = final_df.market_value_fund.le(low_value)\n",
    "final_df['high_value'] = final_df.market_value_fund.ge(high_value)\n",
    "final_df['med_value'] = ~(final_df['low_value'] + final_df['high_value'])"
   ]
  },
  {
   "cell_type": "markdown",
   "metadata": {},
   "source": [
    "## Создание лагов регрессий"
   ]
  },
  {
   "cell_type": "markdown",
   "metadata": {},
   "source": [
    "Создаю лаговые значения, связанные с акциями, для каждого наблюдения. Кроме того, создаю основную переменную, представляющую изменение количества акций тикера с начала инвестирования в акцию. Её я и буду предсказывать. Важно уточнить, что изменение считается от первоначально купленного количества акций тикера."
   ]
  },
  {
   "cell_type": "code",
   "execution_count": 40,
   "metadata": {},
   "outputs": [
    {
     "name": "stdout",
     "output_type": "stream",
     "text": [
      "Wall time: 48.1 s\n"
     ]
    }
   ],
   "source": [
    "%%time\n",
    "\n",
    "# Считаю разницу кварталов, чтобы брать только те значения для лагов, которые из предыдущего квартала\n",
    "\n",
    "# Иначе может выйти так, что я буду создавать лаги на наблюдение, которое было несколько кварталов назад\n",
    "# Такая ситуация нам не нужна, так как это означает, что фирма тогда закончила инвестирование в эту акцию,\n",
    "# а потом заново возобновила по другим, возможно, причинам, и начался новый цикл инвестирования в этот тикер\n",
    "final_df['quarter_diff'] = final_df.period.dt.year * 4 + final_df.period.dt.quarter \\\n",
    "                - (final_df.period.dt.year * 4 + final_df.period.dt.quarter).shift()\n",
    "\n",
    "# Создаю лаги для количества акций и доли тикера в активах фонда\n",
    "for lag in range(1, num_lags + 2):\n",
    "    final_df['shares_lag' + '_' + str(lag)] = final_df.shares.shift(periods=lag). \\\n",
    "                                              where((final_df.object == final_df.object.shift(periods=lag)) &\n",
    "                                                    (final_df.quarter_diff == 1))\n",
    "    final_df['ticket_share_lag' + '_' + str(lag)] = final_df.ticket_share.shift(periods=lag). \\\n",
    "                                              where((final_df.object == final_df.object.shift(periods=lag)) &\n",
    "                                                    (final_df.quarter_diff == 1))\n",
    "    final_df['amend' + '_' + str(lag)] = final_df.amend.shift(periods=lag). \\\n",
    "                                              where((final_df.object == final_df.object.shift(periods=lag)) &\n",
    "                                                    (final_df.quarter_diff == 1))\n",
    "\n",
    "# Создаю лаги первого порядка для переменных размера фондов, так как в прогнозный квартал\n",
    "# мы не можем наблюдать размер фонда\n",
    "final_df['market_value_fund_lag' + '_' + str(1)] = final_df.market_value_fund.shift(periods=1). \\\n",
    "                                              where((final_df.object == final_df.object.shift(periods=lag)) &\n",
    "                                                    (final_df.quarter_diff == 1))    \n",
    "final_df['log_value_fund_lag' + '_' + str(1)] = final_df.log_value_fund.shift(periods=1). \\\n",
    "                                              where((final_df.object == final_df.object.shift(periods=lag)) &\n",
    "                                                    (final_df.quarter_diff == 1))\n",
    "final_df['low_value_lag' + '_' + str(1)] = final_df.low_value.shift(periods=1). \\\n",
    "                                              where((final_df.object == final_df.object.shift(periods=lag)) &\n",
    "                                                    (final_df.quarter_diff == 1))    \n",
    "final_df['high_value_lag' + '_' + str(1)] = final_df.high_value.shift(periods=1). \\\n",
    "                                              where((final_df.object == final_df.object.shift(periods=lag)) &\n",
    "                                                    (final_df.quarter_diff == 1))\n",
    "final_df['med_value_lag' + '_' + str(1)] = final_df.med_value.shift(periods=1). \\\n",
    "                                              where((final_df.object == final_df.object.shift(periods=lag)) &\n",
    "                                                    (final_df.quarter_diff == 1))\n",
    "\n",
    "# Создаю предсказываю переменную и её лаги\n",
    "for lag in range(1, num_lags + 1):\n",
    "    final_df['net_shares_lag' + '_' + str(lag)] = final_df['shares_lag' + '_' + str(lag)]. \\\n",
    "                                                  div(final_df['shares_lag' + '_' + str(num_lags + 1)], axis=0).sub(1)\n",
    "\n",
    "final_df['net_shares'] = final_df.shares.div(final_df['shares_lag' + '_' + str(num_lags + 1)], axis = 0).sub(1)"
   ]
  },
  {
   "cell_type": "markdown",
   "metadata": {},
   "source": [
    "Вот итоговые переменные."
   ]
  },
  {
   "cell_type": "code",
   "execution_count": 41,
   "metadata": {
    "scrolled": false
   },
   "outputs": [
    {
     "data": {
      "text/html": [
       "<div>\n",
       "<style scoped>\n",
       "    .dataframe tbody tr th:only-of-type {\n",
       "        vertical-align: middle;\n",
       "    }\n",
       "\n",
       "    .dataframe tbody tr th {\n",
       "        vertical-align: top;\n",
       "    }\n",
       "\n",
       "    .dataframe thead th {\n",
       "        text-align: right;\n",
       "    }\n",
       "</style>\n",
       "<table border=\"1\" class=\"dataframe\">\n",
       "  <thead>\n",
       "    <tr style=\"text-align: right;\">\n",
       "      <th></th>\n",
       "      <th>shares</th>\n",
       "      <th>market_value</th>\n",
       "      <th>cik</th>\n",
       "      <th>period</th>\n",
       "      <th>close</th>\n",
       "      <th>ticker_id</th>\n",
       "      <th>amend</th>\n",
       "      <th>object</th>\n",
       "      <th>market_value_fund</th>\n",
       "      <th>ticket_share</th>\n",
       "      <th>...</th>\n",
       "      <th>market_value_fund_lag_1</th>\n",
       "      <th>log_value_fund_lag_1</th>\n",
       "      <th>low_value_lag_1</th>\n",
       "      <th>high_value_lag_1</th>\n",
       "      <th>med_value_lag_1</th>\n",
       "      <th>net_shares_lag_1</th>\n",
       "      <th>net_shares_lag_2</th>\n",
       "      <th>net_shares_lag_3</th>\n",
       "      <th>net_shares_lag_4</th>\n",
       "      <th>net_shares</th>\n",
       "    </tr>\n",
       "  </thead>\n",
       "  <tbody>\n",
       "    <tr>\n",
       "      <th>0</th>\n",
       "      <td>30681.0</td>\n",
       "      <td>859000.0</td>\n",
       "      <td>5272</td>\n",
       "      <td>2016Q1</td>\n",
       "      <td>28.000</td>\n",
       "      <td>779</td>\n",
       "      <td>False</td>\n",
       "      <td>779_5272</td>\n",
       "      <td>2.289083e+10</td>\n",
       "      <td>0.000038</td>\n",
       "      <td>...</td>\n",
       "      <td>NaN</td>\n",
       "      <td>NaN</td>\n",
       "      <td>NaN</td>\n",
       "      <td>NaN</td>\n",
       "      <td>NaN</td>\n",
       "      <td>NaN</td>\n",
       "      <td>NaN</td>\n",
       "      <td>NaN</td>\n",
       "      <td>NaN</td>\n",
       "      <td>NaN</td>\n",
       "    </tr>\n",
       "    <tr>\n",
       "      <th>1</th>\n",
       "      <td>29955.0</td>\n",
       "      <td>824062.0</td>\n",
       "      <td>5272</td>\n",
       "      <td>2016Q2</td>\n",
       "      <td>27.510</td>\n",
       "      <td>779</td>\n",
       "      <td>False</td>\n",
       "      <td>779_5272</td>\n",
       "      <td>2.356084e+10</td>\n",
       "      <td>0.000035</td>\n",
       "      <td>...</td>\n",
       "      <td>NaN</td>\n",
       "      <td>NaN</td>\n",
       "      <td>NaN</td>\n",
       "      <td>NaN</td>\n",
       "      <td>NaN</td>\n",
       "      <td>NaN</td>\n",
       "      <td>NaN</td>\n",
       "      <td>NaN</td>\n",
       "      <td>NaN</td>\n",
       "      <td>NaN</td>\n",
       "    </tr>\n",
       "    <tr>\n",
       "      <th>2</th>\n",
       "      <td>29922.0</td>\n",
       "      <td>862352.0</td>\n",
       "      <td>5272</td>\n",
       "      <td>2016Q3</td>\n",
       "      <td>28.820</td>\n",
       "      <td>779</td>\n",
       "      <td>False</td>\n",
       "      <td>779_5272</td>\n",
       "      <td>2.500677e+10</td>\n",
       "      <td>0.000034</td>\n",
       "      <td>...</td>\n",
       "      <td>NaN</td>\n",
       "      <td>NaN</td>\n",
       "      <td>NaN</td>\n",
       "      <td>NaN</td>\n",
       "      <td>NaN</td>\n",
       "      <td>NaN</td>\n",
       "      <td>NaN</td>\n",
       "      <td>NaN</td>\n",
       "      <td>NaN</td>\n",
       "      <td>NaN</td>\n",
       "    </tr>\n",
       "    <tr>\n",
       "      <th>3</th>\n",
       "      <td>29473.0</td>\n",
       "      <td>974000.0</td>\n",
       "      <td>5272</td>\n",
       "      <td>2016Q4</td>\n",
       "      <td>33.050</td>\n",
       "      <td>779</td>\n",
       "      <td>False</td>\n",
       "      <td>779_5272</td>\n",
       "      <td>2.577238e+10</td>\n",
       "      <td>0.000038</td>\n",
       "      <td>...</td>\n",
       "      <td>NaN</td>\n",
       "      <td>NaN</td>\n",
       "      <td>NaN</td>\n",
       "      <td>NaN</td>\n",
       "      <td>NaN</td>\n",
       "      <td>NaN</td>\n",
       "      <td>NaN</td>\n",
       "      <td>NaN</td>\n",
       "      <td>NaN</td>\n",
       "      <td>NaN</td>\n",
       "    </tr>\n",
       "    <tr>\n",
       "      <th>4</th>\n",
       "      <td>24875.0</td>\n",
       "      <td>879000.0</td>\n",
       "      <td>5272</td>\n",
       "      <td>2017Q1</td>\n",
       "      <td>35.350</td>\n",
       "      <td>779</td>\n",
       "      <td>False</td>\n",
       "      <td>779_5272</td>\n",
       "      <td>2.635926e+10</td>\n",
       "      <td>0.000033</td>\n",
       "      <td>...</td>\n",
       "      <td>NaN</td>\n",
       "      <td>NaN</td>\n",
       "      <td>NaN</td>\n",
       "      <td>NaN</td>\n",
       "      <td>NaN</td>\n",
       "      <td>NaN</td>\n",
       "      <td>NaN</td>\n",
       "      <td>NaN</td>\n",
       "      <td>NaN</td>\n",
       "      <td>NaN</td>\n",
       "    </tr>\n",
       "    <tr>\n",
       "      <th>5</th>\n",
       "      <td>30773.0</td>\n",
       "      <td>1134000.0</td>\n",
       "      <td>5272</td>\n",
       "      <td>2017Q2</td>\n",
       "      <td>36.850</td>\n",
       "      <td>779</td>\n",
       "      <td>False</td>\n",
       "      <td>779_5272</td>\n",
       "      <td>2.752555e+10</td>\n",
       "      <td>0.000041</td>\n",
       "      <td>...</td>\n",
       "      <td>2.635926e+10</td>\n",
       "      <td>23.995085</td>\n",
       "      <td>False</td>\n",
       "      <td>True</td>\n",
       "      <td>False</td>\n",
       "      <td>-0.189238</td>\n",
       "      <td>-0.039373</td>\n",
       "      <td>-0.024738</td>\n",
       "      <td>-0.023663</td>\n",
       "      <td>0.002999</td>\n",
       "    </tr>\n",
       "    <tr>\n",
       "      <th>6</th>\n",
       "      <td>32699.0</td>\n",
       "      <td>1127000.0</td>\n",
       "      <td>5272</td>\n",
       "      <td>2017Q3</td>\n",
       "      <td>34.475</td>\n",
       "      <td>779</td>\n",
       "      <td>False</td>\n",
       "      <td>779_5272</td>\n",
       "      <td>2.809268e+10</td>\n",
       "      <td>0.000040</td>\n",
       "      <td>...</td>\n",
       "      <td>2.752555e+10</td>\n",
       "      <td>24.038381</td>\n",
       "      <td>False</td>\n",
       "      <td>True</td>\n",
       "      <td>False</td>\n",
       "      <td>0.027308</td>\n",
       "      <td>-0.169588</td>\n",
       "      <td>-0.016091</td>\n",
       "      <td>-0.001102</td>\n",
       "      <td>0.091604</td>\n",
       "    </tr>\n",
       "    <tr>\n",
       "      <th>7</th>\n",
       "      <td>32818.0</td>\n",
       "      <td>1204000.0</td>\n",
       "      <td>5272</td>\n",
       "      <td>2017Q4</td>\n",
       "      <td>36.700</td>\n",
       "      <td>779</td>\n",
       "      <td>False</td>\n",
       "      <td>779_5272</td>\n",
       "      <td>3.025178e+10</td>\n",
       "      <td>0.000040</td>\n",
       "      <td>...</td>\n",
       "      <td>2.809268e+10</td>\n",
       "      <td>24.058775</td>\n",
       "      <td>False</td>\n",
       "      <td>True</td>\n",
       "      <td>False</td>\n",
       "      <td>0.092808</td>\n",
       "      <td>0.028441</td>\n",
       "      <td>-0.168672</td>\n",
       "      <td>-0.015006</td>\n",
       "      <td>0.096785</td>\n",
       "    </tr>\n",
       "    <tr>\n",
       "      <th>8</th>\n",
       "      <td>26489.0</td>\n",
       "      <td>1033000.0</td>\n",
       "      <td>5272</td>\n",
       "      <td>2018Q1</td>\n",
       "      <td>39.000</td>\n",
       "      <td>779</td>\n",
       "      <td>False</td>\n",
       "      <td>779_5272</td>\n",
       "      <td>2.840826e+10</td>\n",
       "      <td>0.000036</td>\n",
       "      <td>...</td>\n",
       "      <td>3.025178e+10</td>\n",
       "      <td>24.132821</td>\n",
       "      <td>False</td>\n",
       "      <td>True</td>\n",
       "      <td>False</td>\n",
       "      <td>0.113494</td>\n",
       "      <td>0.109456</td>\n",
       "      <td>0.044108</td>\n",
       "      <td>-0.156007</td>\n",
       "      <td>-0.101245</td>\n",
       "    </tr>\n",
       "    <tr>\n",
       "      <th>9</th>\n",
       "      <td>31682.0</td>\n",
       "      <td>1053000.0</td>\n",
       "      <td>5272</td>\n",
       "      <td>2018Q2</td>\n",
       "      <td>33.250</td>\n",
       "      <td>779</td>\n",
       "      <td>False</td>\n",
       "      <td>779_5272</td>\n",
       "      <td>2.834944e+10</td>\n",
       "      <td>0.000037</td>\n",
       "      <td>...</td>\n",
       "      <td>2.840826e+10</td>\n",
       "      <td>24.069946</td>\n",
       "      <td>False</td>\n",
       "      <td>True</td>\n",
       "      <td>False</td>\n",
       "      <td>0.064884</td>\n",
       "      <td>0.319317</td>\n",
       "      <td>0.314533</td>\n",
       "      <td>0.237106</td>\n",
       "      <td>0.273648</td>\n",
       "    </tr>\n",
       "  </tbody>\n",
       "</table>\n",
       "<p>10 rows × 40 columns</p>\n",
       "</div>"
      ],
      "text/plain": [
       "    shares  market_value   cik  period   close  ticker_id  amend    object  \\\n",
       "0  30681.0      859000.0  5272  2016Q1  28.000        779  False  779_5272   \n",
       "1  29955.0      824062.0  5272  2016Q2  27.510        779  False  779_5272   \n",
       "2  29922.0      862352.0  5272  2016Q3  28.820        779  False  779_5272   \n",
       "3  29473.0      974000.0  5272  2016Q4  33.050        779  False  779_5272   \n",
       "4  24875.0      879000.0  5272  2017Q1  35.350        779  False  779_5272   \n",
       "5  30773.0     1134000.0  5272  2017Q2  36.850        779  False  779_5272   \n",
       "6  32699.0     1127000.0  5272  2017Q3  34.475        779  False  779_5272   \n",
       "7  32818.0     1204000.0  5272  2017Q4  36.700        779  False  779_5272   \n",
       "8  26489.0     1033000.0  5272  2018Q1  39.000        779  False  779_5272   \n",
       "9  31682.0     1053000.0  5272  2018Q2  33.250        779  False  779_5272   \n",
       "\n",
       "   market_value_fund  ticket_share  ...  market_value_fund_lag_1  \\\n",
       "0       2.289083e+10      0.000038  ...                      NaN   \n",
       "1       2.356084e+10      0.000035  ...                      NaN   \n",
       "2       2.500677e+10      0.000034  ...                      NaN   \n",
       "3       2.577238e+10      0.000038  ...                      NaN   \n",
       "4       2.635926e+10      0.000033  ...                      NaN   \n",
       "5       2.752555e+10      0.000041  ...             2.635926e+10   \n",
       "6       2.809268e+10      0.000040  ...             2.752555e+10   \n",
       "7       3.025178e+10      0.000040  ...             2.809268e+10   \n",
       "8       2.840826e+10      0.000036  ...             3.025178e+10   \n",
       "9       2.834944e+10      0.000037  ...             2.840826e+10   \n",
       "\n",
       "   log_value_fund_lag_1  low_value_lag_1  high_value_lag_1  med_value_lag_1  \\\n",
       "0                   NaN              NaN               NaN              NaN   \n",
       "1                   NaN              NaN               NaN              NaN   \n",
       "2                   NaN              NaN               NaN              NaN   \n",
       "3                   NaN              NaN               NaN              NaN   \n",
       "4                   NaN              NaN               NaN              NaN   \n",
       "5             23.995085            False              True            False   \n",
       "6             24.038381            False              True            False   \n",
       "7             24.058775            False              True            False   \n",
       "8             24.132821            False              True            False   \n",
       "9             24.069946            False              True            False   \n",
       "\n",
       "   net_shares_lag_1  net_shares_lag_2 net_shares_lag_3  net_shares_lag_4  \\\n",
       "0               NaN               NaN              NaN               NaN   \n",
       "1               NaN               NaN              NaN               NaN   \n",
       "2               NaN               NaN              NaN               NaN   \n",
       "3               NaN               NaN              NaN               NaN   \n",
       "4               NaN               NaN              NaN               NaN   \n",
       "5         -0.189238         -0.039373        -0.024738         -0.023663   \n",
       "6          0.027308         -0.169588        -0.016091         -0.001102   \n",
       "7          0.092808          0.028441        -0.168672         -0.015006   \n",
       "8          0.113494          0.109456         0.044108         -0.156007   \n",
       "9          0.064884          0.319317         0.314533          0.237106   \n",
       "\n",
       "   net_shares  \n",
       "0         NaN  \n",
       "1         NaN  \n",
       "2         NaN  \n",
       "3         NaN  \n",
       "4         NaN  \n",
       "5    0.002999  \n",
       "6    0.091604  \n",
       "7    0.096785  \n",
       "8   -0.101245  \n",
       "9    0.273648  \n",
       "\n",
       "[10 rows x 40 columns]"
      ]
     },
     "execution_count": 41,
     "metadata": {},
     "output_type": "execute_result"
    }
   ],
   "source": [
    "final_df.head(10)"
   ]
  },
  {
   "cell_type": "code",
   "execution_count": 42,
   "metadata": {},
   "outputs": [
    {
     "data": {
      "text/plain": [
       "Index(['shares', 'market_value', 'cik', 'period', 'close', 'ticker_id',\n",
       "       'amend', 'object', 'market_value_fund', 'ticket_share',\n",
       "       'log_value_fund', 'low_value', 'high_value', 'med_value',\n",
       "       'quarter_diff', 'shares_lag_1', 'ticket_share_lag_1', 'amend_1',\n",
       "       'shares_lag_2', 'ticket_share_lag_2', 'amend_2', 'shares_lag_3',\n",
       "       'ticket_share_lag_3', 'amend_3', 'shares_lag_4', 'ticket_share_lag_4',\n",
       "       'amend_4', 'shares_lag_5', 'ticket_share_lag_5', 'amend_5',\n",
       "       'market_value_fund_lag_1', 'log_value_fund_lag_1', 'low_value_lag_1',\n",
       "       'high_value_lag_1', 'med_value_lag_1', 'net_shares_lag_1',\n",
       "       'net_shares_lag_2', 'net_shares_lag_3', 'net_shares_lag_4',\n",
       "       'net_shares'],\n",
       "      dtype='object')"
      ]
     },
     "execution_count": 42,
     "metadata": {},
     "output_type": "execute_result"
    }
   ],
   "source": [
    "final_df.columns"
   ]
  },
  {
   "cell_type": "markdown",
   "metadata": {},
   "source": [
    "## Метрики стиля инвестирования"
   ]
  },
  {
   "cell_type": "markdown",
   "metadata": {},
   "source": [
    "Сейчас я посмотрю на то, как фонды торгуют через призму стандартных метрик. С помощью этого я постараюсь добавить переменные, которые бы контролировали стиль фонда, ибо в зависимости от стиля инвестирования может меняться отношение к активам."
   ]
  },
  {
   "cell_type": "markdown",
   "metadata": {},
   "source": [
    "### Turnover и HHI"
   ]
  },
  {
   "cell_type": "markdown",
   "metadata": {},
   "source": [
    "Считаю такие классные и потрясающие (реально же) метрики как turnover и индекс Херфиндаля-Хиршмана (HHI) для того, чтобы разграничить фонды по типам инвестирования и проводить контроль по ним. "
   ]
  },
  {
   "cell_type": "markdown",
   "metadata": {},
   "source": [
    "Сначала вычислю turnover."
   ]
  },
  {
   "cell_type": "code",
   "execution_count": 43,
   "metadata": {},
   "outputs": [
    {
     "data": {
      "text/html": [
       "<div>\n",
       "<style scoped>\n",
       "    .dataframe tbody tr th:only-of-type {\n",
       "        vertical-align: middle;\n",
       "    }\n",
       "\n",
       "    .dataframe tbody tr th {\n",
       "        vertical-align: top;\n",
       "    }\n",
       "\n",
       "    .dataframe thead th {\n",
       "        text-align: right;\n",
       "    }\n",
       "</style>\n",
       "<table border=\"1\" class=\"dataframe\">\n",
       "  <thead>\n",
       "    <tr style=\"text-align: right;\">\n",
       "      <th></th>\n",
       "      <th>period</th>\n",
       "      <th>cik</th>\n",
       "      <th>turnover</th>\n",
       "    </tr>\n",
       "  </thead>\n",
       "  <tbody>\n",
       "    <tr>\n",
       "      <th>0</th>\n",
       "      <td>2008Q4</td>\n",
       "      <td>1691827</td>\n",
       "      <td>0.0</td>\n",
       "    </tr>\n",
       "    <tr>\n",
       "      <th>1</th>\n",
       "      <td>2009Q4</td>\n",
       "      <td>1691827</td>\n",
       "      <td>0.0</td>\n",
       "    </tr>\n",
       "    <tr>\n",
       "      <th>2</th>\n",
       "      <td>2010Q4</td>\n",
       "      <td>1691827</td>\n",
       "      <td>0.0</td>\n",
       "    </tr>\n",
       "    <tr>\n",
       "      <th>3</th>\n",
       "      <td>2011Q4</td>\n",
       "      <td>1686409</td>\n",
       "      <td>0.0</td>\n",
       "    </tr>\n",
       "    <tr>\n",
       "      <th>4</th>\n",
       "      <td>2011Q4</td>\n",
       "      <td>1691827</td>\n",
       "      <td>0.0</td>\n",
       "    </tr>\n",
       "  </tbody>\n",
       "</table>\n",
       "</div>"
      ],
      "text/plain": [
       "   period      cik  turnover\n",
       "0  2008Q4  1691827       0.0\n",
       "1  2009Q4  1691827       0.0\n",
       "2  2010Q4  1691827       0.0\n",
       "3  2011Q4  1686409       0.0\n",
       "4  2011Q4  1691827       0.0"
      ]
     },
     "execution_count": 43,
     "metadata": {},
     "output_type": "execute_result"
    }
   ],
   "source": [
    "turnover = final_df.groupby(['period', 'cik']) \\\n",
    "            .apply(lambda x: np.abs(x['ticket_share_lag_1'] - x['ticket_share_lag_2']).sum()).reset_index()\n",
    "turnover.rename(columns={0: 'turnover'}, inplace=True)\n",
    "turnover.head()"
   ]
  },
  {
   "cell_type": "markdown",
   "metadata": {},
   "source": [
    "Теперь HHI."
   ]
  },
  {
   "cell_type": "code",
   "execution_count": 44,
   "metadata": {},
   "outputs": [
    {
     "data": {
      "text/html": [
       "<div>\n",
       "<style scoped>\n",
       "    .dataframe tbody tr th:only-of-type {\n",
       "        vertical-align: middle;\n",
       "    }\n",
       "\n",
       "    .dataframe tbody tr th {\n",
       "        vertical-align: top;\n",
       "    }\n",
       "\n",
       "    .dataframe thead th {\n",
       "        text-align: right;\n",
       "    }\n",
       "</style>\n",
       "<table border=\"1\" class=\"dataframe\">\n",
       "  <thead>\n",
       "    <tr style=\"text-align: right;\">\n",
       "      <th></th>\n",
       "      <th>period</th>\n",
       "      <th>cik</th>\n",
       "      <th>hhi</th>\n",
       "    </tr>\n",
       "  </thead>\n",
       "  <tbody>\n",
       "    <tr>\n",
       "      <th>0</th>\n",
       "      <td>2008Q4</td>\n",
       "      <td>1691827</td>\n",
       "      <td>0.0</td>\n",
       "    </tr>\n",
       "    <tr>\n",
       "      <th>1</th>\n",
       "      <td>2009Q4</td>\n",
       "      <td>1691827</td>\n",
       "      <td>0.0</td>\n",
       "    </tr>\n",
       "    <tr>\n",
       "      <th>2</th>\n",
       "      <td>2010Q4</td>\n",
       "      <td>1691827</td>\n",
       "      <td>0.0</td>\n",
       "    </tr>\n",
       "    <tr>\n",
       "      <th>3</th>\n",
       "      <td>2011Q4</td>\n",
       "      <td>1686409</td>\n",
       "      <td>0.0</td>\n",
       "    </tr>\n",
       "    <tr>\n",
       "      <th>4</th>\n",
       "      <td>2011Q4</td>\n",
       "      <td>1691827</td>\n",
       "      <td>0.0</td>\n",
       "    </tr>\n",
       "  </tbody>\n",
       "</table>\n",
       "</div>"
      ],
      "text/plain": [
       "   period      cik  hhi\n",
       "0  2008Q4  1691827  0.0\n",
       "1  2009Q4  1691827  0.0\n",
       "2  2010Q4  1691827  0.0\n",
       "3  2011Q4  1686409  0.0\n",
       "4  2011Q4  1691827  0.0"
      ]
     },
     "execution_count": 44,
     "metadata": {},
     "output_type": "execute_result"
    }
   ],
   "source": [
    "hhi = final_df.groupby(['period', 'cik']) \\\n",
    "            .apply(lambda x: np.square(x['ticket_share_lag_1']).sum()).reset_index()\n",
    "hhi.rename(columns={0: 'hhi'}, inplace=True)\n",
    "hhi.head()"
   ]
  },
  {
   "cell_type": "markdown",
   "metadata": {},
   "source": [
    "Теперь посмотрю на их распределение."
   ]
  },
  {
   "cell_type": "code",
   "execution_count": 45,
   "metadata": {
    "scrolled": true
   },
   "outputs": [
    {
     "data": {
      "image/png": "[encoded data removed]",
      "text/plain": [
       "<Figure size 1440x432 with 2 Axes>"
      ]
     },
     "metadata": {
      "needs_background": "light"
     },
     "output_type": "display_data"
    }
   ],
   "source": [
    "fig, axs = pl.subplots(1, 2, figsize=(20,6));\n",
    "\n",
    "axs[0].hist(turnover.turnover, density=True, bins=50, range=(0.001, 3));\n",
    "axs[0].set_title('Distribution of Turnover');\n",
    "axs[0].set(xlabel='Turnover', ylabel='Density');\n",
    "\n",
    "axs[1].hist(hhi.hhi, density=True, bins=50, range=(0.001, 1));\n",
    "axs[1].set_title('Distribution of HHI');\n",
    "axs[1].set(xlabel='HHI', ylabel='Density');\n"
   ]
  },
  {
   "cell_type": "markdown",
   "metadata": {},
   "source": [
    "Можно заметить, что их распределения похожи на геометрическое/Пуассона. Можно разграничить фонды по этим категориям, установив границы для каждого из критерия. Например, 0.5 для Turnover и 0.2 для HHI."
   ]
  },
  {
   "cell_type": "code",
   "execution_count": 46,
   "metadata": {},
   "outputs": [
    {
     "data": {
      "image/png": "[encoded data removed]",
      "text/plain": [
       "<Figure size 432x288 with 1 Axes>"
      ]
     },
     "metadata": {
      "needs_background": "light"
     },
     "output_type": "display_data"
    }
   ],
   "source": [
    "pl.scatter(hhi[hhi.period == final_df.period.max()].hhi, turnover[turnover.period == final_df.period.max()].turnover, s=1.8);\n",
    "pl.xlabel('HHI');\n",
    "pl.ylabel('Turnover');\n",
    "pl.title('Joint Distribution of HHI and Turnover in ' + str(final_df.period.max()));"
   ]
  },
  {
   "cell_type": "markdown",
   "metadata": {},
   "source": [
    "Если мы посмотрим на совместное их распределение, то не увидим каких-то кластеров. Но подозрительно выделяются наблюдения с HHI=1 (фонды с одной акцией). Вопрос - как такие фонды существуют/как они попали к нам в выборку? Установим контроль и на них."
   ]
  },
  {
   "cell_type": "markdown",
   "metadata": {},
   "source": [
    "Добавляю переменные на основе наблюдений."
   ]
  },
  {
   "cell_type": "code",
   "execution_count": 47,
   "metadata": {},
   "outputs": [],
   "source": [
    "# Добавляю сами индексы\n",
    "final_df = final_df.merge(turnover, on=['cik', 'period'], how='left', suffixes=(False, False))\n",
    "final_df = final_df.merge(hhi, on=['cik', 'period'], how='left', suffixes=(False, False))\n",
    "\n",
    "# Устанавливаю контроль на фонды с одной акцией\n",
    "final_df['hhi_eq_1'] = final_df.hhi.eq(1)\n",
    "\n",
    "# Разграничиваю фонды по метрикам через индикаторы\n",
    "final_df['high_hhi'] = final_df.hhi > .2\n",
    "final_df['high_turnover'] = final_df.turnover > .5"
   ]
  },
  {
   "cell_type": "markdown",
   "metadata": {},
   "source": [
    "Если мы посмотрим на совместное распределение Размера фонда и наших метрик, то опять не увидим каких-либо кластеров, по которым можно было бы провести классификацию. Печаль."
   ]
  },
  {
   "cell_type": "code",
   "execution_count": 48,
   "metadata": {},
   "outputs": [
    {
     "data": {
      "image/png": "[encoded data removed]",
      "text/plain": [
       "<Figure size 1440x432 with 2 Axes>"
      ]
     },
     "metadata": {
      "needs_background": "light"
     },
     "output_type": "display_data"
    }
   ],
   "source": [
    "fig, axs = pl.subplots(1, 2, figsize=(20,6));\n",
    "\n",
    "axs[0].scatter(final_df[final_df.period == final_df.period.max()].log_value_fund,\n",
    "           final_df[final_df.period == final_df.period.max()].hhi, s=1.8);\n",
    "axs[0].set_title(final_df.period.max());\n",
    "axs[0].set(xlabel='Log Net Worth of Fund', ylabel='HHI');\n",
    "\n",
    "axs[1].scatter(final_df[final_df.period == final_df.period.max()].log_value_fund,\n",
    "           final_df[final_df.period == final_df.period.max()].turnover, s=1.8);\n",
    "axs[1].set_title(final_df.period.max());\n",
    "axs[1].set(xlabel='Log Net Worth of Fund', ylabel='Turnover');"
   ]
  },
  {
   "cell_type": "markdown",
   "metadata": {},
   "source": [
    "Тем не менее, при достаточной фантазии мы можем представить, что большинство значений находится в окружности с центром в точке (20, 0) и с радиусами 0.4 для HHI и 1.2 для Turnover. Также осуществим контроль на экстремальные значения turnover > 1.4. Они выбиваются из общей картины."
   ]
  },
  {
   "cell_type": "code",
   "execution_count": 49,
   "metadata": {},
   "outputs": [],
   "source": [
    "final_df['extreme_turnover'] = final_df.turnover > 1.4\n",
    "final_df['cluster_hhi'] = (np.square(final_df.hhi) + np.square(final_df.log_value_fund - 20) > (0.4 ** 2))\n",
    "final_df['cluster_turnover'] = (np.square(final_df.turnover) + np.square(final_df.log_value_fund - 20) > (1.2 ** 2))"
   ]
  },
  {
   "cell_type": "markdown",
   "metadata": {},
   "source": [
    "Посмотрим на это же совместное распределение, только в разрезе весовой категории фондов."
   ]
  },
  {
   "cell_type": "code",
   "execution_count": 50,
   "metadata": {},
   "outputs": [
    {
     "data": {
      "image/png": "[encoded data removed]",
      "text/plain": [
       "<Figure size 1440x1296 with 6 Axes>"
      ]
     },
     "metadata": {
      "needs_background": "light"
     },
     "output_type": "display_data"
    }
   ],
   "source": [
    "fig, axs = pl.subplots(3, 2, figsize=(20,18));\n",
    "\n",
    "plot_data_high = final_df[final_df.high_value == True]\n",
    "\n",
    "axs[0, 0].scatter(plot_data_high[plot_data_high.period == plot_data_high.period.max()].log_value_fund,\n",
    "           plot_data_high[plot_data_high.period == plot_data_high.period.max()].hhi, s=1.8);\n",
    "axs[0, 0].set_title('High Value Funds in ' + str(plot_data_high.period.max()));\n",
    "axs[0, 0].set(xlabel='Log Net Worth of Fund', ylabel='HHI');\n",
    "\n",
    "axs[0, 1].scatter(plot_data_high[plot_data_high.period == plot_data_high.period.max()].log_value_fund,\n",
    "           plot_data_high[plot_data_high.period == plot_data_high.period.max()].turnover, s=1.8);\n",
    "axs[0, 1].set_title('High Value Funds in ' + str(plot_data_high.period.max()));\n",
    "axs[0, 1].set(xlabel='Log Net Worth of Fund', ylabel='Turnover');\n",
    "\n",
    "plot_data_med = final_df[final_df.med_value == True]\n",
    "\n",
    "axs[1, 0].scatter(plot_data_med[plot_data_med.period == plot_data_med.period.max()].log_value_fund,\n",
    "           plot_data_med[plot_data_med.period == plot_data_med.period.max()].hhi, s=1.8);\n",
    "axs[1, 0].set_title('Medium Value Funds in ' + str(plot_data_med.period.max()));\n",
    "axs[1, 0].set(xlabel='Log Net Worth of Fund', ylabel='HHI');\n",
    "\n",
    "axs[1, 1].scatter(plot_data_med[plot_data_med.period == plot_data_med.period.max()].log_value_fund,\n",
    "           plot_data_med[plot_data_med.period == plot_data_med.period.max()].turnover, s=1.8);\n",
    "axs[1, 1].set_title('Medium Value Funds in ' + str(plot_data_med.period.max()));\n",
    "axs[1, 1].set(xlabel='Log Net Worth of Fund', ylabel='Turnover');\n",
    "\n",
    "plot_data_low = final_df[final_df.low_value == True]\n",
    "\n",
    "axs[2, 0].scatter(plot_data_low[plot_data_low.period == plot_data_low.period.max()].log_value_fund,\n",
    "           plot_data_low[plot_data_low.period == plot_data_low.period.max()].hhi, s=1.8);\n",
    "axs[2, 0].set_title('Low Value Funds in ' + str(plot_data_low.period.max()));\n",
    "axs[2, 0].set(xlabel='Log Net Worth of Fund', ylabel='HHI');\n",
    "\n",
    "axs[2, 1].scatter(plot_data_low[plot_data_low.period == plot_data_low.period.max()].log_value_fund,\n",
    "           plot_data_low[plot_data_low.period == plot_data_low.period.max()].turnover, s=1.8);\n",
    "axs[2, 1].set_title('Low Value Funds in ' + str(plot_data_low.period.max()));\n",
    "axs[2, 1].set(xlabel='Log Net Worth of Fund', ylabel='Turnover');"
   ]
  },
  {
   "cell_type": "markdown",
   "metadata": {},
   "source": [
    "Как видно из графиков, в разрезе размера стили инвестирования различаются. Чем больше фонд, чем меньше будет HHI, что говорит о высокой диверсификации их активов, что логично, ведь у них достаточно активов для этого. Про turnover можно сказать так же, но только зависимость уже видна слабее. Тем не менее, стоит факторизировать hhi/turnover и размер фонда."
   ]
  },
  {
   "cell_type": "markdown",
   "metadata": {},
   "source": [
    "### Количество акций в портфеле"
   ]
  },
  {
   "cell_type": "markdown",
   "metadata": {},
   "source": [
    "Сейчас я посмотрю на то, как соотносится количество акций в портфеле с его размером и метриками, расмотренными выше.\n",
    "\n",
    "Сначала я создам таблицу с данными о количестве позиций у фондов."
   ]
  },
  {
   "cell_type": "code",
   "execution_count": 51,
   "metadata": {},
   "outputs": [
    {
     "data": {
      "text/html": [
       "<div>\n",
       "<style scoped>\n",
       "    .dataframe tbody tr th:only-of-type {\n",
       "        vertical-align: middle;\n",
       "    }\n",
       "\n",
       "    .dataframe tbody tr th {\n",
       "        vertical-align: top;\n",
       "    }\n",
       "\n",
       "    .dataframe thead th {\n",
       "        text-align: right;\n",
       "    }\n",
       "</style>\n",
       "<table border=\"1\" class=\"dataframe\">\n",
       "  <thead>\n",
       "    <tr style=\"text-align: right;\">\n",
       "      <th></th>\n",
       "      <th>period</th>\n",
       "      <th>cik</th>\n",
       "      <th>pos_count</th>\n",
       "    </tr>\n",
       "  </thead>\n",
       "  <tbody>\n",
       "    <tr>\n",
       "      <th>0</th>\n",
       "      <td>2008Q4</td>\n",
       "      <td>1691827</td>\n",
       "      <td>119</td>\n",
       "    </tr>\n",
       "    <tr>\n",
       "      <th>1</th>\n",
       "      <td>2009Q4</td>\n",
       "      <td>1691827</td>\n",
       "      <td>115</td>\n",
       "    </tr>\n",
       "    <tr>\n",
       "      <th>2</th>\n",
       "      <td>2010Q4</td>\n",
       "      <td>1691827</td>\n",
       "      <td>86</td>\n",
       "    </tr>\n",
       "    <tr>\n",
       "      <th>3</th>\n",
       "      <td>2011Q4</td>\n",
       "      <td>1686409</td>\n",
       "      <td>4</td>\n",
       "    </tr>\n",
       "    <tr>\n",
       "      <th>4</th>\n",
       "      <td>2011Q4</td>\n",
       "      <td>1691827</td>\n",
       "      <td>79</td>\n",
       "    </tr>\n",
       "  </tbody>\n",
       "</table>\n",
       "</div>"
      ],
      "text/plain": [
       "   period      cik  pos_count\n",
       "0  2008Q4  1691827        119\n",
       "1  2009Q4  1691827        115\n",
       "2  2010Q4  1691827         86\n",
       "3  2011Q4  1686409          4\n",
       "4  2011Q4  1691827         79"
      ]
     },
     "execution_count": 51,
     "metadata": {},
     "output_type": "execute_result"
    }
   ],
   "source": [
    "# Создаю таблицу количества позиций из агрегированных данных\n",
    "pos_count = final_df.groupby(['period', 'cik']).count().reset_index()[['period', 'cik', 'shares']]\n",
    "pos_count.rename(columns={'shares': 'pos_count'}, inplace=True)\n",
    "\n",
    "pos_count.head()"
   ]
  },
  {
   "cell_type": "markdown",
   "metadata": {},
   "source": [
    "Теперь добавляю эти данные в датасет и пролаггирую их, так как, опять же, нам не доступны данные из периода предсказания."
   ]
  },
  {
   "cell_type": "code",
   "execution_count": 52,
   "metadata": {},
   "outputs": [],
   "source": [
    "# Присоединяю новые данные\n",
    "final_df = final_df.merge(pos_count, on=['period', 'cik'], how='left', suffixes=(False, False))\n",
    "# Создаю лаг количества тикеров в фонде\n",
    "final_df['pos_count_lag' + '_' + str(1)] = final_df.pos_count.shift(periods=1). \\\n",
    "                                              where((final_df.object == final_df.object.shift(periods=lag)) &\n",
    "                                                    (final_df.quarter_diff == 1))"
   ]
  },
  {
   "cell_type": "markdown",
   "metadata": {},
   "source": [
    "Теперь посмотрим на распределение количества позиций в фонде."
   ]
  },
  {
   "cell_type": "code",
   "execution_count": 53,
   "metadata": {},
   "outputs": [
    {
     "data": {
      "image/png": "[encoded data removed]",
      "text/plain": [
       "<Figure size 432x288 with 1 Axes>"
      ]
     },
     "metadata": {
      "needs_background": "light"
     },
     "output_type": "display_data"
    }
   ],
   "source": [
    "pl.hist(final_df.pos_count, bins=30);\n",
    "pl.title('Распределение количества позиций у инвесторов');"
   ]
  },
  {
   "cell_type": "markdown",
   "metadata": {},
   "source": [
    "Как мы видим, есть три кластера: с убывающим распределением от 0 до 5000 позиций, небольшая группа от 10000 до 15000 позиций и маленький островок с 25000 позициями (!!!). Создам индикаторные переменные на принадлежность кластерам."
   ]
  },
  {
   "cell_type": "code",
   "execution_count": 54,
   "metadata": {},
   "outputs": [],
   "source": [
    "final_df['high_pos_count'] = final_df.pos_count_lag_1 > 7500\n",
    "final_df['extreme_pos_count'] = final_df.pos_count_lag_1 > 15000"
   ]
  },
  {
   "cell_type": "markdown",
   "metadata": {},
   "source": [
    "Теперь возьму корень из количества соседей, чтобы сгладить распределение этой величины."
   ]
  },
  {
   "cell_type": "code",
   "execution_count": 56,
   "metadata": {},
   "outputs": [],
   "source": [
    "final_df['sqrt_pos_count_lag_1'] = np.sqrt(final_df.pos_count_lag_1)"
   ]
  },
  {
   "cell_type": "markdown",
   "metadata": {},
   "source": [
    "Теперь я посмотрю на совместное распределение корня числа позиций и логарифма ценности фонда."
   ]
  },
  {
   "cell_type": "code",
   "execution_count": 61,
   "metadata": {},
   "outputs": [
    {
     "data": {
      "image/png": "[encoded data removed]",
      "text/plain": [
       "<Figure size 720x432 with 1 Axes>"
      ]
     },
     "metadata": {
      "needs_background": "light"
     },
     "output_type": "display_data"
    }
   ],
   "source": [
    "fig, axs = pl.subplots(1, 1, figsize=(10,6));\n",
    "\n",
    "axs.scatter(final_df[final_df.period == final_df.period.max()].log_value_fund,\n",
    "           np.sqrt(final_df[final_df.period == final_df.period.max()].pos_count), s=1.8);\n",
    "axs.set_title('Joint Distribution of Log Net Worth and Sqrt Number of positions in ' + str(final_df.period.max()));\n",
    "axs.set(xlabel='Log Net Worth of Fund', ylabel='Sqrt Number of positions');"
   ]
  },
  {
   "cell_type": "markdown",
   "metadata": {},
   "source": [
    "Здесь сложно выделить кластеры, но я предположу, что можно разделить наблюдения на две части по прямой, которая отсечет участок наблюдений с высокой плотностью в нижней части графика от участка с низкой плотностью в верхне."
   ]
  },
  {
   "cell_type": "code",
   "execution_count": 59,
   "metadata": {},
   "outputs": [],
   "source": [
    "final_df['cluster_size_pos'] = (np.sqrt(final_df.pos_count_lag_1) > 100 - 4 * final_df.log_value_fund)"
   ]
  },
  {
   "cell_type": "markdown",
   "metadata": {},
   "source": [
    "Теперь я посмотрю на распределения корня числа позиций относительно HHI и Turnover."
   ]
  },
  {
   "cell_type": "code",
   "execution_count": 62,
   "metadata": {},
   "outputs": [
    {
     "data": {
      "image/png": "[encoded data removed]",
      "text/plain": [
       "<Figure size 1440x432 with 2 Axes>"
      ]
     },
     "metadata": {
      "needs_background": "light"
     },
     "output_type": "display_data"
    }
   ],
   "source": [
    "fig, axs = pl.subplots(1, 2, figsize=(20,6));\n",
    "\n",
    "axs[0].scatter(np.sqrt(final_df[final_df.period == final_df.period.max()].pos_count),\n",
    "           final_df[final_df.period == final_df.period.max()].hhi, s=1.8);\n",
    "axs[0].set_title('Joint Distribution of HHI and Sqrt Number of positions' + str(final_df.period.max()));\n",
    "axs[0].set(xlabel='Sqrt Number of positions', ylabel='HHI');\n",
    "\n",
    "axs[1].scatter(np.sqrt(final_df[final_df.period == final_df.period.max()].pos_count),\n",
    "           final_df[final_df.period == final_df.period.max()].turnover, s=1.8);\n",
    "axs[1].set_title('Joint Distribution of Turnover and Sqrt Number of positions' + str(final_df.period.max()));\n",
    "axs[1].set(xlabel='Sqrt Number of positions', ylabel='Turnover');"
   ]
  },
  {
   "cell_type": "markdown",
   "metadata": {},
   "source": [
    "Можно заметить, что большинство значений на первом графике лежат ниже некоторой границы гиперболического вида, а на втором - ниже некоторой линейной границы. Я приблизительно их определю и добавлю на индикаторы на превышение этих границ."
   ]
  },
  {
   "cell_type": "code",
   "execution_count": 63,
   "metadata": {},
   "outputs": [],
   "source": [
    "final_df['cluster_pos_hhi'] = (final_df.hhi > 2 / final_df.pos_count_lag_1)\n",
    "final_df['cluster_pos_tvr'] = (final_df.turnover > 1 - final_df.pos_count_lag_1 / 50)"
   ]
  },
  {
   "cell_type": "markdown",
   "metadata": {},
   "source": [
    "После всех приготовлений избавлюсь от ненужных наблюдений и столбцов."
   ]
  },
  {
   "cell_type": "code",
   "execution_count": 68,
   "metadata": {},
   "outputs": [],
   "source": [
    "# Избавляюсь от ненужных колонок и наблюдений\n",
    "final_df.drop(['shares_lag_5', 'ticket_share_lag_5', 'quarter_diff',\n",
    "              'amend_5', 'amend', 'market_value_fund', 'ticket_share',\n",
    "              'log_value_fund', 'pos_count'], axis=1, inplace=True)\n",
    "final_df.dropna(inplace=True)"
   ]
  },
  {
   "cell_type": "markdown",
   "metadata": {},
   "source": [
    "## Variables Factoring"
   ]
  },
  {
   "cell_type": "markdown",
   "metadata": {},
   "source": [
    "Теперь я факторизирую (<a href=\"https://www.stata.com/manuals13/u25.pdf\">Variable Factoring</a>, не знаю, как лучше перевести, кросс-перемножу) некоторые непрерывные переменные и весовую категорию фонда по ценности, так как я считаю, что в зависимости от категории будет меняться зависимость от данных регрессоров."
   ]
  },
  {
   "cell_type": "code",
   "execution_count": 65,
   "metadata": {},
   "outputs": [
    {
     "name": "stdout",
     "output_type": "stream",
     "text": [
      "Wall time: 435 ms\n"
     ]
    }
   ],
   "source": [
    "%%time\n",
    "\n",
    "# Для начала я факторизирую переменные, связанные с долей акций и их количеством, и их лаги\n",
    "for lag in range(1, num_lags + 1):\n",
    "    final_df['net_shares_lag' + '_' + str(lag) + '_high'] = final_df['net_shares_lag' + '_' + str(lag)] \\\n",
    "                                                    .mul(final_df.high_value, axis=0)\n",
    "    final_df['net_shares_lag' + '_' + str(lag) + '_med'] = final_df['net_shares_lag' + '_' + str(lag)] \\\n",
    "                                                    .mul(final_df.med_value, axis=0)\n",
    "    final_df['net_shares_lag' + '_' + str(lag) + '_low'] = final_df['net_shares_lag' + '_' + str(lag)] \\\n",
    "                                                    .mul(final_df.low_value, axis=0)\n",
    "    \n",
    "    final_df['ticket_share_lag' + '_' + str(lag) + '_high'] = final_df['net_shares_lag' + '_' + str(lag)] \\\n",
    "                                                    .mul(final_df.high_value, axis=0)\n",
    "    final_df['ticket_share_lag' + '_' + str(lag) + '_med'] = final_df['net_shares_lag' + '_' + str(lag)] \\\n",
    "                                                    .mul(final_df.med_value, axis=0)\n",
    "    final_df['ticket_share_lag' + '_' + str(lag) + '_low'] = final_df['net_shares_lag' + '_' + str(lag)] \\\n",
    "                                                    .mul(final_df.low_value, axis=0)\n",
    "\n",
    "# Затем я факторизирую turnover и HHI\n",
    "final_df['turnover' + '_high'] = final_df['turnover'].mul(final_df.high_value, axis=0)\n",
    "final_df['turnover' + '_med'] = final_df['turnover'].mul(final_df.med_value, axis=0)\n",
    "final_df['turnover' + '_low'] = final_df['turnover'].mul(final_df.low_value, axis=0)\n",
    "\n",
    "final_df['hhi' + '_high'] = final_df['turnover'].mul(final_df.high_value, axis=0)\n",
    "final_df['hhi' + '_med'] = final_df['turnover'].mul(final_df.med_value, axis=0)\n",
    "final_df['hhi' + '_low'] = final_df['turnover'].mul(final_df.low_value, axis=0)"
   ]
  },
  {
   "cell_type": "markdown",
   "metadata": {},
   "source": [
    "Также я добавлю переменную среднего значения изменения позиции тикера по всем фондам и по фондам одной весовой категории, чтобы учесть, как рынок (инвесторы) и сходие по размеру фонды в целом реагировали на ситуацию."
   ]
  },
  {
   "cell_type": "code",
   "execution_count": 66,
   "metadata": {},
   "outputs": [
    {
     "name": "stdout",
     "output_type": "stream",
     "text": [
      "Wall time: 22.9 s\n"
     ]
    }
   ],
   "source": [
    "%%time\n",
    "\n",
    "# Составляю таблицы средних изменений позиций по тикеру и периоду\n",
    "\n",
    "mean_net_shares = final_df.groupby(['ticker_id', 'period'])['net_shares_lag_1'].mean().reset_index()\n",
    "mean_net_shares.rename(columns={'net_shares_lag_1': 'mean_net_shares_lag_1'}, inplace=True)\n",
    "\n",
    "\n",
    "mean_net_shares_by_value = final_df.groupby(['ticker_id', 'period', 'high_value', 'med_value']) \\\n",
    "                                                        ['net_shares_lag_1'].mean().reset_index()\n",
    "mean_net_shares_by_value.rename(columns={'net_shares_lag_1': 'mean_net_shares_lag_1_by_value'}, inplace=True)\n",
    "\n",
    "# Сцепляю их с нашим датасетом\n",
    "\n",
    "final_df = final_df.merge(mean_net_shares, on=['ticker_id', 'period'], how='left', suffixes=(False, False))\n",
    "final_df = final_df.merge(mean_net_shares_by_value, on=['ticker_id', 'period', 'high_value', 'med_value'],\n",
    "                                                                  how='left', suffixes=(False, False))\n",
    "\n",
    "# Считаю количество фондов, владеющих тикером в каждом периоде, чтобы вычесть потом долю отдельного фонда в среднем по тикеру\n",
    "\n",
    "tickers_count = final_df.groupby(['ticker_id', 'period']).count().reset_index()\n",
    "tickers_count_by_value = final_df.groupby(['ticker_id', 'period', 'high_value', 'med_value'])\\\n",
    "                                                            .count().reset_index()\n",
    "\n",
    "tickers_count.rename(columns={'shares': 'tickers_count'}, inplace=True)\n",
    "tickers_count_by_value.rename(columns={'shares': 'tickers_count_by_value'}, inplace=True)\n",
    "\n",
    "final_df = final_df.merge(tickers_count[['ticker_id', 'period', 'tickers_count']], on=['ticker_id', 'period'],\n",
    "                                                                                          how='left', suffixes=(False, False))\n",
    "final_df = final_df.merge(tickers_count_by_value[['ticker_id', 'period', 'high_value', 'med_value', 'tickers_count_by_value']], \n",
    "                                                                        on=['ticker_id', 'period', 'high_value', 'med_value'],\n",
    "                                                                                          how='left', suffixes=(False, False))\n",
    "\n",
    "# Вычитаю из среднего по тикеру составляющую конкретного фонда в нем для каждого наблюдения\n",
    "# Тем самым, я получаю среднее по всем остальным фондам\n",
    "\n",
    "final_df['mean_net_shares_lag_1'] -= final_df.net_shares_lag_1.div(final_df.tickers_count, axis=0).values\n",
    "final_df['mean_net_shares_lag_1_by_value'] -= final_df.net_shares_lag_1.div(final_df.tickers_count_by_value, axis=0).values"
   ]
  },
  {
   "cell_type": "markdown",
   "metadata": {},
   "source": [
    "# Совершаем простейшие регрессии (через МНК)"
   ]
  },
  {
   "cell_type": "markdown",
   "metadata": {},
   "source": [
    "Теперь, когда я определился с переменными, попробую определить характер зависимости чистого изменения позиции от регрессоров. Для красоты представления буду пользоваться библиотекой <i>statsmodels<i/>. Начну с простой модели без факторизации."
   ]
  },
  {
   "cell_type": "markdown",
   "metadata": {},
   "source": [
    "### Модель 1"
   ]
  },
  {
   "cell_type": "code",
   "execution_count": 69,
   "metadata": {},
   "outputs": [],
   "source": [
    "import statsmodels.api as sm"
   ]
  },
  {
   "cell_type": "code",
   "execution_count": 70,
   "metadata": {},
   "outputs": [],
   "source": [
    "y = final_df['net_shares']\n",
    "\n",
    "X = final_df[['log_value_fund_lag_1',\n",
    "        'net_shares_lag_1', 'amend_1', 'net_shares_lag_2', 'amend_2', \n",
    "        'net_shares_lag_3', 'amend_3', 'net_shares_lag_4', 'amend_4',\n",
    "        'turnover', 'hhi', 'hhi_eq_1', 'high_turnover', 'high_hhi', \n",
    "        'extreme_turnover', 'cluster_hhi', 'cluster_turnover',\n",
    "        'sqrt_pos_count_lag_1', 'high_pos_count', 'extreme_pos_count',\n",
    "        'cluster_size_pos', 'cluster_pos_hhi', 'cluster_pos_tvr', 'mean_net_shares_lag_1']].astype('float64')\n",
    "X = sm.add_constant(X)"
   ]
  },
  {
   "cell_type": "markdown",
   "metadata": {},
   "source": [
    "В этой модели я учитываю величину активов фонда, лаги чистых изменений позиций, переменные, связанные с turnover и hhi, и среднее по остальным фондам."
   ]
  },
  {
   "cell_type": "markdown",
   "metadata": {},
   "source": [
    "Делаю первую модель. Простой метод наименьших квадратов."
   ]
  },
  {
   "cell_type": "code",
   "execution_count": 71,
   "metadata": {
    "scrolled": false
   },
   "outputs": [
    {
     "data": {
      "text/html": [
       "<table class=\"simpletable\">\n",
       "<caption>OLS Regression Results</caption>\n",
       "<tr>\n",
       "  <th>Dep. Variable:</th>       <td>net_shares</td>    <th>  R-squared:         </th>  <td>   0.103</td>  \n",
       "</tr>\n",
       "<tr>\n",
       "  <th>Model:</th>                   <td>OLS</td>       <th>  Adj. R-squared:    </th>  <td>   0.103</td>  \n",
       "</tr>\n",
       "<tr>\n",
       "  <th>Method:</th>             <td>Least Squares</td>  <th>  F-statistic:       </th>  <td>   6440.</td>  \n",
       "</tr>\n",
       "<tr>\n",
       "  <th>Date:</th>             <td>Wed, 02 Dec 2020</td> <th>  Prob (F-statistic):</th>   <td>  0.00</td>   \n",
       "</tr>\n",
       "<tr>\n",
       "  <th>Time:</th>                 <td>00:07:59</td>     <th>  Log-Likelihood:    </th> <td>-1.0451e+07</td>\n",
       "</tr>\n",
       "<tr>\n",
       "  <th>No. Observations:</th>      <td>1344781</td>     <th>  AIC:               </th>  <td>2.090e+07</td> \n",
       "</tr>\n",
       "<tr>\n",
       "  <th>Df Residuals:</th>          <td>1344756</td>     <th>  BIC:               </th>  <td>2.090e+07</td> \n",
       "</tr>\n",
       "<tr>\n",
       "  <th>Df Model:</th>              <td>    24</td>      <th>                     </th>      <td> </td>     \n",
       "</tr>\n",
       "<tr>\n",
       "  <th>Covariance Type:</th>      <td>nonrobust</td>    <th>                     </th>      <td> </td>     \n",
       "</tr>\n",
       "</table>\n",
       "<table class=\"simpletable\">\n",
       "<tr>\n",
       "            <td></td>               <th>coef</th>     <th>std err</th>      <th>t</th>      <th>P>|t|</th>  <th>[0.025</th>    <th>0.975]</th>  \n",
       "</tr>\n",
       "<tr>\n",
       "  <th>const</th>                 <td>   11.9677</td> <td>    7.792</td> <td>    1.536</td> <td> 0.125</td> <td>   -3.304</td> <td>   27.239</td>\n",
       "</tr>\n",
       "<tr>\n",
       "  <th>log_value_fund_lag_1</th>  <td>   -1.2019</td> <td>    0.377</td> <td>   -3.187</td> <td> 0.001</td> <td>   -1.941</td> <td>   -0.463</td>\n",
       "</tr>\n",
       "<tr>\n",
       "  <th>net_shares_lag_1</th>      <td>    0.0414</td> <td>    0.001</td> <td>   76.291</td> <td> 0.000</td> <td>    0.040</td> <td>    0.042</td>\n",
       "</tr>\n",
       "<tr>\n",
       "  <th>amend_1</th>               <td>   -3.4111</td> <td>    5.515</td> <td>   -0.619</td> <td> 0.536</td> <td>  -14.219</td> <td>    7.397</td>\n",
       "</tr>\n",
       "<tr>\n",
       "  <th>net_shares_lag_2</th>      <td>    0.6199</td> <td>    0.002</td> <td>  341.412</td> <td> 0.000</td> <td>    0.616</td> <td>    0.623</td>\n",
       "</tr>\n",
       "<tr>\n",
       "  <th>amend_2</th>               <td>   -5.3904</td> <td>    5.800</td> <td>   -0.929</td> <td> 0.353</td> <td>  -16.758</td> <td>    5.978</td>\n",
       "</tr>\n",
       "<tr>\n",
       "  <th>net_shares_lag_3</th>      <td>    0.0174</td> <td>    0.001</td> <td>   11.986</td> <td> 0.000</td> <td>    0.015</td> <td>    0.020</td>\n",
       "</tr>\n",
       "<tr>\n",
       "  <th>amend_3</th>               <td>   -2.6579</td> <td>    5.574</td> <td>   -0.477</td> <td> 0.633</td> <td>  -13.583</td> <td>    8.267</td>\n",
       "</tr>\n",
       "<tr>\n",
       "  <th>net_shares_lag_4</th>      <td>    0.0251</td> <td>    0.002</td> <td>   16.341</td> <td> 0.000</td> <td>    0.022</td> <td>    0.028</td>\n",
       "</tr>\n",
       "<tr>\n",
       "  <th>amend_4</th>               <td>   -3.2298</td> <td>    5.250</td> <td>   -0.615</td> <td> 0.538</td> <td>  -13.519</td> <td>    7.059</td>\n",
       "</tr>\n",
       "<tr>\n",
       "  <th>turnover</th>              <td>   32.8408</td> <td>    4.585</td> <td>    7.162</td> <td> 0.000</td> <td>   23.854</td> <td>   41.828</td>\n",
       "</tr>\n",
       "<tr>\n",
       "  <th>hhi</th>                   <td>   96.3325</td> <td>   18.978</td> <td>    5.076</td> <td> 0.000</td> <td>   59.137</td> <td>  133.528</td>\n",
       "</tr>\n",
       "<tr>\n",
       "  <th>hhi_eq_1</th>              <td>  -60.2538</td> <td>   36.968</td> <td>   -1.630</td> <td> 0.103</td> <td> -132.709</td> <td>   12.202</td>\n",
       "</tr>\n",
       "<tr>\n",
       "  <th>high_turnover</th>         <td>    5.2955</td> <td>    2.905</td> <td>    1.823</td> <td> 0.068</td> <td>   -0.398</td> <td>   10.989</td>\n",
       "</tr>\n",
       "<tr>\n",
       "  <th>high_hhi</th>              <td>  -28.9707</td> <td>    7.335</td> <td>   -3.950</td> <td> 0.000</td> <td>  -43.346</td> <td>  -14.595</td>\n",
       "</tr>\n",
       "<tr>\n",
       "  <th>extreme_turnover</th>      <td> -101.5971</td> <td>   16.110</td> <td>   -6.306</td> <td> 0.000</td> <td> -133.173</td> <td>  -70.022</td>\n",
       "</tr>\n",
       "<tr>\n",
       "  <th>cluster_hhi</th>           <td>   -3.1030</td> <td>    1.874</td> <td>   -1.655</td> <td> 0.098</td> <td>   -6.777</td> <td>    0.571</td>\n",
       "</tr>\n",
       "<tr>\n",
       "  <th>cluster_turnover</th>      <td>    0.9536</td> <td>    1.366</td> <td>    0.698</td> <td> 0.485</td> <td>   -1.724</td> <td>    3.631</td>\n",
       "</tr>\n",
       "<tr>\n",
       "  <th>sqrt_pos_count_lag_1</th>  <td>    0.2658</td> <td>    0.058</td> <td>    4.559</td> <td> 0.000</td> <td>    0.152</td> <td>    0.380</td>\n",
       "</tr>\n",
       "<tr>\n",
       "  <th>high_pos_count</th>        <td>   -8.5463</td> <td>    7.599</td> <td>   -1.125</td> <td> 0.261</td> <td>  -23.440</td> <td>    6.348</td>\n",
       "</tr>\n",
       "<tr>\n",
       "  <th>extreme_pos_count</th>     <td>    6.6680</td> <td>    8.403</td> <td>    0.794</td> <td> 0.427</td> <td>   -9.801</td> <td>   23.137</td>\n",
       "</tr>\n",
       "<tr>\n",
       "  <th>cluster_size_pos</th>      <td>    0.1652</td> <td>    1.821</td> <td>    0.091</td> <td> 0.928</td> <td>   -3.404</td> <td>    3.735</td>\n",
       "</tr>\n",
       "<tr>\n",
       "  <th>cluster_pos_hhi</th>       <td>   -0.5327</td> <td>    1.608</td> <td>   -0.331</td> <td> 0.740</td> <td>   -3.685</td> <td>    2.619</td>\n",
       "</tr>\n",
       "<tr>\n",
       "  <th>cluster_pos_tvr</th>       <td>    3.8618</td> <td>    2.927</td> <td>    1.319</td> <td> 0.187</td> <td>   -1.875</td> <td>    9.599</td>\n",
       "</tr>\n",
       "<tr>\n",
       "  <th>mean_net_shares_lag_1</th> <td>   -0.0006</td> <td>    0.005</td> <td>   -0.133</td> <td> 0.894</td> <td>   -0.010</td> <td>    0.009</td>\n",
       "</tr>\n",
       "</table>\n",
       "<table class=\"simpletable\">\n",
       "<tr>\n",
       "  <th>Omnibus:</th>       <td>9111862.439</td> <th>  Durbin-Watson:     </th>       <td>   2.054</td>       \n",
       "</tr>\n",
       "<tr>\n",
       "  <th>Prob(Omnibus):</th>   <td> 0.000</td>    <th>  Jarque-Bera (JB):  </th> <td>21958336454245040.000</td>\n",
       "</tr>\n",
       "<tr>\n",
       "  <th>Skew:</th>            <td>684.911</td>   <th>  Prob(JB):          </th>       <td>    0.00</td>       \n",
       "</tr>\n",
       "<tr>\n",
       "  <th>Kurtosis:</th>      <td>626009.030</td>  <th>  Cond. No.          </th>       <td>7.09e+04</td>       \n",
       "</tr>\n",
       "</table><br/><br/>Warnings:<br/>[1] Standard Errors assume that the covariance matrix of the errors is correctly specified.<br/>[2] The condition number is large, 7.09e+04. This might indicate that there are<br/>strong multicollinearity or other numerical problems."
      ],
      "text/plain": [
       "<class 'statsmodels.iolib.summary.Summary'>\n",
       "\"\"\"\n",
       "                            OLS Regression Results                            \n",
       "==============================================================================\n",
       "Dep. Variable:             net_shares   R-squared:                       0.103\n",
       "Model:                            OLS   Adj. R-squared:                  0.103\n",
       "Method:                 Least Squares   F-statistic:                     6440.\n",
       "Date:                Wed, 02 Dec 2020   Prob (F-statistic):               0.00\n",
       "Time:                        00:07:59   Log-Likelihood:            -1.0451e+07\n",
       "No. Observations:             1344781   AIC:                         2.090e+07\n",
       "Df Residuals:                 1344756   BIC:                         2.090e+07\n",
       "Df Model:                          24                                         \n",
       "Covariance Type:            nonrobust                                         \n",
       "=========================================================================================\n",
       "                            coef    std err          t      P>|t|      [0.025      0.975]\n",
       "-----------------------------------------------------------------------------------------\n",
       "const                    11.9677      7.792      1.536      0.125      -3.304      27.239\n",
       "log_value_fund_lag_1     -1.2019      0.377     -3.187      0.001      -1.941      -0.463\n",
       "net_shares_lag_1          0.0414      0.001     76.291      0.000       0.040       0.042\n",
       "amend_1                  -3.4111      5.515     -0.619      0.536     -14.219       7.397\n",
       "net_shares_lag_2          0.6199      0.002    341.412      0.000       0.616       0.623\n",
       "amend_2                  -5.3904      5.800     -0.929      0.353     -16.758       5.978\n",
       "net_shares_lag_3          0.0174      0.001     11.986      0.000       0.015       0.020\n",
       "amend_3                  -2.6579      5.574     -0.477      0.633     -13.583       8.267\n",
       "net_shares_lag_4          0.0251      0.002     16.341      0.000       0.022       0.028\n",
       "amend_4                  -3.2298      5.250     -0.615      0.538     -13.519       7.059\n",
       "turnover                 32.8408      4.585      7.162      0.000      23.854      41.828\n",
       "hhi                      96.3325     18.978      5.076      0.000      59.137     133.528\n",
       "hhi_eq_1                -60.2538     36.968     -1.630      0.103    -132.709      12.202\n",
       "high_turnover             5.2955      2.905      1.823      0.068      -0.398      10.989\n",
       "high_hhi                -28.9707      7.335     -3.950      0.000     -43.346     -14.595\n",
       "extreme_turnover       -101.5971     16.110     -6.306      0.000    -133.173     -70.022\n",
       "cluster_hhi              -3.1030      1.874     -1.655      0.098      -6.777       0.571\n",
       "cluster_turnover          0.9536      1.366      0.698      0.485      -1.724       3.631\n",
       "sqrt_pos_count_lag_1      0.2658      0.058      4.559      0.000       0.152       0.380\n",
       "high_pos_count           -8.5463      7.599     -1.125      0.261     -23.440       6.348\n",
       "extreme_pos_count         6.6680      8.403      0.794      0.427      -9.801      23.137\n",
       "cluster_size_pos          0.1652      1.821      0.091      0.928      -3.404       3.735\n",
       "cluster_pos_hhi          -0.5327      1.608     -0.331      0.740      -3.685       2.619\n",
       "cluster_pos_tvr           3.8618      2.927      1.319      0.187      -1.875       9.599\n",
       "mean_net_shares_lag_1    -0.0006      0.005     -0.133      0.894      -0.010       0.009\n",
       "=================================================================================\n",
       "Omnibus:                  9111862.439   Durbin-Watson:                      2.054\n",
       "Prob(Omnibus):                  0.000   Jarque-Bera (JB):   21958336454245040.000\n",
       "Skew:                         684.911   Prob(JB):                            0.00\n",
       "Kurtosis:                  626009.030   Cond. No.                        7.09e+04\n",
       "=================================================================================\n",
       "\n",
       "Warnings:\n",
       "[1] Standard Errors assume that the covariance matrix of the errors is correctly specified.\n",
       "[2] The condition number is large, 7.09e+04. This might indicate that there are\n",
       "strong multicollinearity or other numerical problems.\n",
       "\"\"\""
      ]
     },
     "execution_count": 71,
     "metadata": {},
     "output_type": "execute_result"
    }
   ],
   "source": [
    "model_1 = sm.OLS(y, X).fit()\n",
    "model_1.summary()"
   ]
  },
  {
   "cell_type": "markdown",
   "metadata": {},
   "source": [
    "Как видно из результатов регрессии, незначимыми оказались только среднее, кластерные индикаторы и индикаторы поправок. \n",
    "\n",
    "Из результатов видно, что чем больше фонд, тем менее вероятно, что он будет наращивать свои позиции. Наверно, это из-за того, что многие большие фонды - индексные или ликвидные, поэтому достаточно случайно калибруют позиции, из-за чего уверенность в увеличении позиций падает.\n",
    "\n",
    "Также, положительная зависимость от предыдущих изменений. Наблюдается некая состоятельность стратегии. Если фонд избавлялся от актива, то он продолжит от него избавляться. Это может быть из-за того, что инвестиционная стратегия, связанная с этим тикером, себя изжила, и фонд выходит из актива. И наоборот, если фонд вкладывал в актив, то он будет продолжать вкладывать. Объяснение аналогичное. \n",
    "\n",
    "Кроме того, наблюдается положительная зависимость от turnover. Чем больше оборачиваемость, тем скорее увеличится позиция. При этом, при перехождении границы в степени оборачиваемости (extreme_turnover) эта уверенность уменьшается. Я понимаю это так. Оборачиваемость означает, что фонд адаптируется к изменениям рынка. С учетом того, что последние годы рынок рос, изменения наверняка положительные, и фонд скорее вложится в актив. Также, фонд наверно будет пытаться защитить свои стратегии от провала, поэтому будет подстраховываться другими акциями. Или же будет постоянно менять позиции, так как не хочет, чтобы его стратегии смогли обнаружить. При этом, если фонд слишком усердно меняет позиции, то это скорее говорит, что либо он использует сложные альфы, в которых доля актива постоянно меняется, из-за чего наша уверенность в увеличении позиции уменьшается, либо же у него нет своих собственных планов на тикер, он просто может диверсифицировать активы или повторять рыночный индекс, из-за чего опять же уменьшается уверенность в том, что его вложения в тикер увеличатся.\n",
    "\n",
    "Аналогичная ситуация с HHI, только этот индекс про диверсификацию, а не про оборачиваемость. Кроме того, присутствует надбавка за владение одной акцией, что наверняка говорит о невероятном инсайде об акции или личной привязанности к компании, поэтому уверенность в увеличении позиции повышается.\n",
    "\n",
    "Среднее по фондам почти не влияет на зависимую переменную, коэффициент почти близок к нулю. Значит, все фонды разные, и единой стратегии или animal spirit у них не присутствует.\n",
    "\n",
    "Заметим, что у константы слишком большое значение, в котором тяжело найти прикладной смысл. Кроме того, замечается разный масштаб переменных, что не очень хорошо."
   ]
  },
  {
   "cell_type": "markdown",
   "metadata": {},
   "source": [
    "В результатах написано, что присутствует сильная мультиколлинеарность, но она нас не волнует, так как не влияет на состоятельность оценок."
   ]
  },
  {
   "cell_type": "markdown",
   "metadata": {},
   "source": [
    "Создаю меру настроя инвесторов. То, ради чего затевалась курсовая."
   ]
  },
  {
   "cell_type": "code",
   "execution_count": 72,
   "metadata": {},
   "outputs": [],
   "source": [
    "# Наша искомая переменная!\n",
    "delta_1 = y - model_1.predict(X)"
   ]
  },
  {
   "cell_type": "markdown",
   "metadata": {},
   "source": [
    "Посмотрим на её зависимость от величины активов. Предполагается, что будет наблюдаться некоторая зависимость."
   ]
  },
  {
   "cell_type": "code",
   "execution_count": 73,
   "metadata": {},
   "outputs": [
    {
     "data": {
      "image/png": "[encoded data removed]",
      "text/plain": [
       "<Figure size 432x288 with 1 Axes>"
      ]
     },
     "metadata": {
      "needs_background": "light"
     },
     "output_type": "display_data"
    }
   ],
   "source": [
    "pl.scatter(X.log_value_fund_lag_1, delta_1, s=1.25);\n",
    "pl.title('Scatter Plot of Resids vs Log Fund Value');\n",
    "pl.xlabel('log fund value');\n",
    "pl.ylabel('resids');"
   ]
  },
  {
   "cell_type": "markdown",
   "metadata": {},
   "source": [
    "Как можно увидеть, никакой зависимости нет, дисперсия примерно везде одинакова. Она заметно выше в точках границ весовых категорий, но мне кажется, это из-за того, что в этих диапазонах просто больше наблюдений, поэтому разброс чуть повыше."
   ]
  },
  {
   "cell_type": "markdown",
   "metadata": {},
   "source": [
    "На графике видно, что остатки какие-то выдающиеся. Посмотрю на гистограмме, есть ли у меня такие наблюдения."
   ]
  },
  {
   "cell_type": "code",
   "execution_count": 75,
   "metadata": {},
   "outputs": [
    {
     "data": {
      "image/png": "[encoded data removed]",
      "text/plain": [
       "<Figure size 432x288 with 1 Axes>"
      ]
     },
     "metadata": {
      "needs_background": "light"
     },
     "output_type": "display_data"
    }
   ],
   "source": [
    "pl.hist(delta_1, bins=50, range=(1000, 500000));\n",
    "pl.title('Excessive Delta Distribution');"
   ]
  },
  {
   "cell_type": "markdown",
   "metadata": {},
   "source": [
    "Да, есть много наблюдений, где оценка отличается больше, чем на 1000 процентнов. Вероятно, это из-за того, что в нашей выборке много около-бедных фондов, которые при начале инвестирования в тикер быстро наращивают вложения. При этом, из-за своих возможностей они не могут покупать много акций, из-за чего при постепенном увеличении вложений процентное изменение оказывается невероятно высоким. Это проблема масштаба, как проблема сходимости экономического роста в неразвитых и развитых странах."
   ]
  },
  {
   "cell_type": "markdown",
   "metadata": {},
   "source": [
    "Чтобы избавиться от этой проблемы, я нормализую зависимую переменную. Посмотрим, станет ли лучше."
   ]
  },
  {
   "cell_type": "markdown",
   "metadata": {},
   "source": [
    "### Модель 2"
   ]
  },
  {
   "cell_type": "code",
   "execution_count": 76,
   "metadata": {},
   "outputs": [],
   "source": [
    "y = (y - y.mean()) / y.std()"
   ]
  },
  {
   "cell_type": "code",
   "execution_count": 77,
   "metadata": {},
   "outputs": [
    {
     "data": {
      "text/html": [
       "<table class=\"simpletable\">\n",
       "<caption>OLS Regression Results</caption>\n",
       "<tr>\n",
       "  <th>Dep. Variable:</th>       <td>net_shares</td>    <th>  R-squared:         </th>  <td>   0.103</td>  \n",
       "</tr>\n",
       "<tr>\n",
       "  <th>Model:</th>                   <td>OLS</td>       <th>  Adj. R-squared:    </th>  <td>   0.103</td>  \n",
       "</tr>\n",
       "<tr>\n",
       "  <th>Method:</th>             <td>Least Squares</td>  <th>  F-statistic:       </th>  <td>   6440.</td>  \n",
       "</tr>\n",
       "<tr>\n",
       "  <th>Date:</th>             <td>Wed, 02 Dec 2020</td> <th>  Prob (F-statistic):</th>   <td>  0.00</td>   \n",
       "</tr>\n",
       "<tr>\n",
       "  <th>Time:</th>                 <td>00:17:48</td>     <th>  Log-Likelihood:    </th> <td>-1.8350e+06</td>\n",
       "</tr>\n",
       "<tr>\n",
       "  <th>No. Observations:</th>      <td>1344781</td>     <th>  AIC:               </th>  <td>3.670e+06</td> \n",
       "</tr>\n",
       "<tr>\n",
       "  <th>Df Residuals:</th>          <td>1344756</td>     <th>  BIC:               </th>  <td>3.670e+06</td> \n",
       "</tr>\n",
       "<tr>\n",
       "  <th>Df Model:</th>              <td>    24</td>      <th>                     </th>      <td> </td>     \n",
       "</tr>\n",
       "<tr>\n",
       "  <th>Covariance Type:</th>      <td>nonrobust</td>    <th>                     </th>      <td> </td>     \n",
       "</tr>\n",
       "</table>\n",
       "<table class=\"simpletable\">\n",
       "<tr>\n",
       "            <td></td>               <th>coef</th>     <th>std err</th>      <th>t</th>      <th>P>|t|</th>  <th>[0.025</th>    <th>0.975]</th>  \n",
       "</tr>\n",
       "<tr>\n",
       "  <th>const</th>                 <td>    0.0067</td> <td>    0.013</td> <td>    0.518</td> <td> 0.604</td> <td>   -0.019</td> <td>    0.032</td>\n",
       "</tr>\n",
       "<tr>\n",
       "  <th>log_value_fund_lag_1</th>  <td>   -0.0020</td> <td>    0.001</td> <td>   -3.187</td> <td> 0.001</td> <td>   -0.003</td> <td>   -0.001</td>\n",
       "</tr>\n",
       "<tr>\n",
       "  <th>net_shares_lag_1</th>      <td> 6.829e-05</td> <td> 8.95e-07</td> <td>   76.291</td> <td> 0.000</td> <td> 6.65e-05</td> <td>    7e-05</td>\n",
       "</tr>\n",
       "<tr>\n",
       "  <th>amend_1</th>               <td>   -0.0056</td> <td>    0.009</td> <td>   -0.619</td> <td> 0.536</td> <td>   -0.023</td> <td>    0.012</td>\n",
       "</tr>\n",
       "<tr>\n",
       "  <th>net_shares_lag_2</th>      <td>    0.0010</td> <td>    3e-06</td> <td>  341.412</td> <td> 0.000</td> <td>    0.001</td> <td>    0.001</td>\n",
       "</tr>\n",
       "<tr>\n",
       "  <th>amend_2</th>               <td>   -0.0089</td> <td>    0.010</td> <td>   -0.929</td> <td> 0.353</td> <td>   -0.028</td> <td>    0.010</td>\n",
       "</tr>\n",
       "<tr>\n",
       "  <th>net_shares_lag_3</th>      <td> 2.864e-05</td> <td> 2.39e-06</td> <td>   11.986</td> <td> 0.000</td> <td>  2.4e-05</td> <td> 3.33e-05</td>\n",
       "</tr>\n",
       "<tr>\n",
       "  <th>amend_3</th>               <td>   -0.0044</td> <td>    0.009</td> <td>   -0.477</td> <td> 0.633</td> <td>   -0.022</td> <td>    0.014</td>\n",
       "</tr>\n",
       "<tr>\n",
       "  <th>net_shares_lag_4</th>      <td> 4.141e-05</td> <td> 2.53e-06</td> <td>   16.341</td> <td> 0.000</td> <td> 3.64e-05</td> <td> 4.64e-05</td>\n",
       "</tr>\n",
       "<tr>\n",
       "  <th>amend_4</th>               <td>   -0.0053</td> <td>    0.009</td> <td>   -0.615</td> <td> 0.538</td> <td>   -0.022</td> <td>    0.012</td>\n",
       "</tr>\n",
       "<tr>\n",
       "  <th>turnover</th>              <td>    0.0542</td> <td>    0.008</td> <td>    7.162</td> <td> 0.000</td> <td>    0.039</td> <td>    0.069</td>\n",
       "</tr>\n",
       "<tr>\n",
       "  <th>hhi</th>                   <td>    0.1589</td> <td>    0.031</td> <td>    5.076</td> <td> 0.000</td> <td>    0.098</td> <td>    0.220</td>\n",
       "</tr>\n",
       "<tr>\n",
       "  <th>hhi_eq_1</th>              <td>   -0.0994</td> <td>    0.061</td> <td>   -1.630</td> <td> 0.103</td> <td>   -0.219</td> <td>    0.020</td>\n",
       "</tr>\n",
       "<tr>\n",
       "  <th>high_turnover</th>         <td>    0.0087</td> <td>    0.005</td> <td>    1.823</td> <td> 0.068</td> <td>   -0.001</td> <td>    0.018</td>\n",
       "</tr>\n",
       "<tr>\n",
       "  <th>high_hhi</th>              <td>   -0.0478</td> <td>    0.012</td> <td>   -3.950</td> <td> 0.000</td> <td>   -0.072</td> <td>   -0.024</td>\n",
       "</tr>\n",
       "<tr>\n",
       "  <th>extreme_turnover</th>      <td>   -0.1676</td> <td>    0.027</td> <td>   -6.306</td> <td> 0.000</td> <td>   -0.220</td> <td>   -0.116</td>\n",
       "</tr>\n",
       "<tr>\n",
       "  <th>cluster_hhi</th>           <td>   -0.0051</td> <td>    0.003</td> <td>   -1.655</td> <td> 0.098</td> <td>   -0.011</td> <td>    0.001</td>\n",
       "</tr>\n",
       "<tr>\n",
       "  <th>cluster_turnover</th>      <td>    0.0016</td> <td>    0.002</td> <td>    0.698</td> <td> 0.485</td> <td>   -0.003</td> <td>    0.006</td>\n",
       "</tr>\n",
       "<tr>\n",
       "  <th>sqrt_pos_count_lag_1</th>  <td>    0.0004</td> <td> 9.62e-05</td> <td>    4.559</td> <td> 0.000</td> <td>    0.000</td> <td>    0.001</td>\n",
       "</tr>\n",
       "<tr>\n",
       "  <th>high_pos_count</th>        <td>   -0.0141</td> <td>    0.013</td> <td>   -1.125</td> <td> 0.261</td> <td>   -0.039</td> <td>    0.010</td>\n",
       "</tr>\n",
       "<tr>\n",
       "  <th>extreme_pos_count</th>     <td>    0.0110</td> <td>    0.014</td> <td>    0.794</td> <td> 0.427</td> <td>   -0.016</td> <td>    0.038</td>\n",
       "</tr>\n",
       "<tr>\n",
       "  <th>cluster_size_pos</th>      <td>    0.0003</td> <td>    0.003</td> <td>    0.091</td> <td> 0.928</td> <td>   -0.006</td> <td>    0.006</td>\n",
       "</tr>\n",
       "<tr>\n",
       "  <th>cluster_pos_hhi</th>       <td>   -0.0009</td> <td>    0.003</td> <td>   -0.331</td> <td> 0.740</td> <td>   -0.006</td> <td>    0.004</td>\n",
       "</tr>\n",
       "<tr>\n",
       "  <th>cluster_pos_tvr</th>       <td>    0.0064</td> <td>    0.005</td> <td>    1.319</td> <td> 0.187</td> <td>   -0.003</td> <td>    0.016</td>\n",
       "</tr>\n",
       "<tr>\n",
       "  <th>mean_net_shares_lag_1</th> <td>-1.039e-06</td> <td> 7.82e-06</td> <td>   -0.133</td> <td> 0.894</td> <td>-1.64e-05</td> <td> 1.43e-05</td>\n",
       "</tr>\n",
       "</table>\n",
       "<table class=\"simpletable\">\n",
       "<tr>\n",
       "  <th>Omnibus:</th>       <td>9111862.439</td> <th>  Durbin-Watson:     </th>       <td>   2.054</td>       \n",
       "</tr>\n",
       "<tr>\n",
       "  <th>Prob(Omnibus):</th>   <td> 0.000</td>    <th>  Jarque-Bera (JB):  </th> <td>21958336454245080.000</td>\n",
       "</tr>\n",
       "<tr>\n",
       "  <th>Skew:</th>            <td>684.911</td>   <th>  Prob(JB):          </th>       <td>    0.00</td>       \n",
       "</tr>\n",
       "<tr>\n",
       "  <th>Kurtosis:</th>      <td>626009.030</td>  <th>  Cond. No.          </th>       <td>7.09e+04</td>       \n",
       "</tr>\n",
       "</table><br/><br/>Warnings:<br/>[1] Standard Errors assume that the covariance matrix of the errors is correctly specified.<br/>[2] The condition number is large, 7.09e+04. This might indicate that there are<br/>strong multicollinearity or other numerical problems."
      ],
      "text/plain": [
       "<class 'statsmodels.iolib.summary.Summary'>\n",
       "\"\"\"\n",
       "                            OLS Regression Results                            \n",
       "==============================================================================\n",
       "Dep. Variable:             net_shares   R-squared:                       0.103\n",
       "Model:                            OLS   Adj. R-squared:                  0.103\n",
       "Method:                 Least Squares   F-statistic:                     6440.\n",
       "Date:                Wed, 02 Dec 2020   Prob (F-statistic):               0.00\n",
       "Time:                        00:17:48   Log-Likelihood:            -1.8350e+06\n",
       "No. Observations:             1344781   AIC:                         3.670e+06\n",
       "Df Residuals:                 1344756   BIC:                         3.670e+06\n",
       "Df Model:                          24                                         \n",
       "Covariance Type:            nonrobust                                         \n",
       "=========================================================================================\n",
       "                            coef    std err          t      P>|t|      [0.025      0.975]\n",
       "-----------------------------------------------------------------------------------------\n",
       "const                     0.0067      0.013      0.518      0.604      -0.019       0.032\n",
       "log_value_fund_lag_1     -0.0020      0.001     -3.187      0.001      -0.003      -0.001\n",
       "net_shares_lag_1       6.829e-05   8.95e-07     76.291      0.000    6.65e-05       7e-05\n",
       "amend_1                  -0.0056      0.009     -0.619      0.536      -0.023       0.012\n",
       "net_shares_lag_2          0.0010      3e-06    341.412      0.000       0.001       0.001\n",
       "amend_2                  -0.0089      0.010     -0.929      0.353      -0.028       0.010\n",
       "net_shares_lag_3       2.864e-05   2.39e-06     11.986      0.000     2.4e-05    3.33e-05\n",
       "amend_3                  -0.0044      0.009     -0.477      0.633      -0.022       0.014\n",
       "net_shares_lag_4       4.141e-05   2.53e-06     16.341      0.000    3.64e-05    4.64e-05\n",
       "amend_4                  -0.0053      0.009     -0.615      0.538      -0.022       0.012\n",
       "turnover                  0.0542      0.008      7.162      0.000       0.039       0.069\n",
       "hhi                       0.1589      0.031      5.076      0.000       0.098       0.220\n",
       "hhi_eq_1                 -0.0994      0.061     -1.630      0.103      -0.219       0.020\n",
       "high_turnover             0.0087      0.005      1.823      0.068      -0.001       0.018\n",
       "high_hhi                 -0.0478      0.012     -3.950      0.000      -0.072      -0.024\n",
       "extreme_turnover         -0.1676      0.027     -6.306      0.000      -0.220      -0.116\n",
       "cluster_hhi              -0.0051      0.003     -1.655      0.098      -0.011       0.001\n",
       "cluster_turnover          0.0016      0.002      0.698      0.485      -0.003       0.006\n",
       "sqrt_pos_count_lag_1      0.0004   9.62e-05      4.559      0.000       0.000       0.001\n",
       "high_pos_count           -0.0141      0.013     -1.125      0.261      -0.039       0.010\n",
       "extreme_pos_count         0.0110      0.014      0.794      0.427      -0.016       0.038\n",
       "cluster_size_pos          0.0003      0.003      0.091      0.928      -0.006       0.006\n",
       "cluster_pos_hhi          -0.0009      0.003     -0.331      0.740      -0.006       0.004\n",
       "cluster_pos_tvr           0.0064      0.005      1.319      0.187      -0.003       0.016\n",
       "mean_net_shares_lag_1 -1.039e-06   7.82e-06     -0.133      0.894   -1.64e-05    1.43e-05\n",
       "=================================================================================\n",
       "Omnibus:                  9111862.439   Durbin-Watson:                      2.054\n",
       "Prob(Omnibus):                  0.000   Jarque-Bera (JB):   21958336454245080.000\n",
       "Skew:                         684.911   Prob(JB):                            0.00\n",
       "Kurtosis:                  626009.030   Cond. No.                        7.09e+04\n",
       "=================================================================================\n",
       "\n",
       "Warnings:\n",
       "[1] Standard Errors assume that the covariance matrix of the errors is correctly specified.\n",
       "[2] The condition number is large, 7.09e+04. This might indicate that there are\n",
       "strong multicollinearity or other numerical problems.\n",
       "\"\"\""
      ]
     },
     "execution_count": 77,
     "metadata": {},
     "output_type": "execute_result"
    }
   ],
   "source": [
    "model_2 = sm.OLS(y, X).fit()\n",
    "model_2.summary()"
   ]
  },
  {
   "cell_type": "markdown",
   "metadata": {},
   "source": [
    "Коэффициенты стали стабильнее и уравнялись в масштабе. Более того, коэффициент при константе более осмысленный. Можно сказать, что по умолчанию фонды постепенно наращивают вложения в тикеры, но говорить об этом стоит с осторожностью. Наверно, это может происходить, так как стратегии медленнее себя реализуют, чем появляются. Поэтому инвесторы чаще входят в тикеры, чем выходят из них."
   ]
  },
  {
   "cell_type": "code",
   "execution_count": 78,
   "metadata": {},
   "outputs": [],
   "source": [
    "# Искомая переменная по второй модели\n",
    "delta_2 = y - model_2.predict(X)"
   ]
  },
  {
   "cell_type": "markdown",
   "metadata": {},
   "source": [
    "Если мы посмотрим на экстремальные значения остатков (наблюдений), то заметим, что их стало поменьше, и их экстремальность уменьшилась. Это, несомненно, лучше."
   ]
  },
  {
   "cell_type": "code",
   "execution_count": 79,
   "metadata": {
    "scrolled": true
   },
   "outputs": [
    {
     "data": {
      "image/png": "[encoded data removed]",
      "text/plain": [
       "<Figure size 432x288 with 1 Axes>"
      ]
     },
     "metadata": {
      "needs_background": "light"
     },
     "output_type": "display_data"
    }
   ],
   "source": [
    "pl.hist(delta_2, bins=50, range=(10, 1000));\n",
    "pl.title('Excessive Delta Distribution');"
   ]
  },
  {
   "cell_type": "markdown",
   "metadata": {},
   "source": [
    "На волне успеха попробую нормализовать регрессоры."
   ]
  },
  {
   "cell_type": "markdown",
   "metadata": {},
   "source": [
    "### Модель 3"
   ]
  },
  {
   "cell_type": "code",
   "execution_count": 80,
   "metadata": {},
   "outputs": [],
   "source": [
    "X.iloc[:, 1:-2] = (X.iloc[:, 1:-2] - X.iloc[:, 1:-2].mean()) / X.iloc[:, 1:-2].std()\n",
    "X.iloc[:, -1] = (X.iloc[:, -1] - X.iloc[:, -1].mean()) / X.iloc[:, -1].std()"
   ]
  },
  {
   "cell_type": "code",
   "execution_count": 81,
   "metadata": {},
   "outputs": [
    {
     "data": {
      "text/html": [
       "<table class=\"simpletable\">\n",
       "<caption>OLS Regression Results</caption>\n",
       "<tr>\n",
       "  <th>Dep. Variable:</th>       <td>net_shares</td>    <th>  R-squared:         </th>  <td>   0.103</td>  \n",
       "</tr>\n",
       "<tr>\n",
       "  <th>Model:</th>                   <td>OLS</td>       <th>  Adj. R-squared:    </th>  <td>   0.103</td>  \n",
       "</tr>\n",
       "<tr>\n",
       "  <th>Method:</th>             <td>Least Squares</td>  <th>  F-statistic:       </th>  <td>   6440.</td>  \n",
       "</tr>\n",
       "<tr>\n",
       "  <th>Date:</th>             <td>Wed, 02 Dec 2020</td> <th>  Prob (F-statistic):</th>   <td>  0.00</td>   \n",
       "</tr>\n",
       "<tr>\n",
       "  <th>Time:</th>                 <td>00:20:15</td>     <th>  Log-Likelihood:    </th> <td>-1.8350e+06</td>\n",
       "</tr>\n",
       "<tr>\n",
       "  <th>No. Observations:</th>      <td>1344781</td>     <th>  AIC:               </th>  <td>3.670e+06</td> \n",
       "</tr>\n",
       "<tr>\n",
       "  <th>Df Residuals:</th>          <td>1344756</td>     <th>  BIC:               </th>  <td>3.670e+06</td> \n",
       "</tr>\n",
       "<tr>\n",
       "  <th>Df Model:</th>              <td>    24</td>      <th>                     </th>      <td> </td>     \n",
       "</tr>\n",
       "<tr>\n",
       "  <th>Covariance Type:</th>      <td>nonrobust</td>    <th>                     </th>      <td> </td>     \n",
       "</tr>\n",
       "</table>\n",
       "<table class=\"simpletable\">\n",
       "<tr>\n",
       "            <td></td>               <th>coef</th>     <th>std err</th>      <th>t</th>      <th>P>|t|</th>  <th>[0.025</th>    <th>0.975]</th>  \n",
       "</tr>\n",
       "<tr>\n",
       "  <th>const</th>                 <td>   -0.0061</td> <td>    0.005</td> <td>   -1.299</td> <td> 0.194</td> <td>   -0.015</td> <td>    0.003</td>\n",
       "</tr>\n",
       "<tr>\n",
       "  <th>log_value_fund_lag_1</th>  <td>   -0.0046</td> <td>    0.001</td> <td>   -3.187</td> <td> 0.001</td> <td>   -0.007</td> <td>   -0.002</td>\n",
       "</tr>\n",
       "<tr>\n",
       "  <th>net_shares_lag_1</th>      <td>    0.0635</td> <td>    0.001</td> <td>   76.291</td> <td> 0.000</td> <td>    0.062</td> <td>    0.065</td>\n",
       "</tr>\n",
       "<tr>\n",
       "  <th>amend_1</th>               <td>   -0.0006</td> <td>    0.001</td> <td>   -0.619</td> <td> 0.536</td> <td>   -0.002</td> <td>    0.001</td>\n",
       "</tr>\n",
       "<tr>\n",
       "  <th>net_shares_lag_2</th>      <td>    0.2968</td> <td>    0.001</td> <td>  341.412</td> <td> 0.000</td> <td>    0.295</td> <td>    0.298</td>\n",
       "</tr>\n",
       "<tr>\n",
       "  <th>amend_2</th>               <td>   -0.0009</td> <td>    0.001</td> <td>   -0.929</td> <td> 0.353</td> <td>   -0.003</td> <td>    0.001</td>\n",
       "</tr>\n",
       "<tr>\n",
       "  <th>net_shares_lag_3</th>      <td>    0.0104</td> <td>    0.001</td> <td>   11.986</td> <td> 0.000</td> <td>    0.009</td> <td>    0.012</td>\n",
       "</tr>\n",
       "<tr>\n",
       "  <th>amend_3</th>               <td>   -0.0005</td> <td>    0.001</td> <td>   -0.477</td> <td> 0.633</td> <td>   -0.002</td> <td>    0.001</td>\n",
       "</tr>\n",
       "<tr>\n",
       "  <th>net_shares_lag_4</th>      <td>    0.0138</td> <td>    0.001</td> <td>   16.341</td> <td> 0.000</td> <td>    0.012</td> <td>    0.015</td>\n",
       "</tr>\n",
       "<tr>\n",
       "  <th>amend_4</th>               <td>   -0.0006</td> <td>    0.001</td> <td>   -0.615</td> <td> 0.538</td> <td>   -0.003</td> <td>    0.001</td>\n",
       "</tr>\n",
       "<tr>\n",
       "  <th>turnover</th>              <td>    0.0099</td> <td>    0.001</td> <td>    7.162</td> <td> 0.000</td> <td>    0.007</td> <td>    0.013</td>\n",
       "</tr>\n",
       "<tr>\n",
       "  <th>hhi</th>                   <td>    0.0084</td> <td>    0.002</td> <td>    5.076</td> <td> 0.000</td> <td>    0.005</td> <td>    0.012</td>\n",
       "</tr>\n",
       "<tr>\n",
       "  <th>hhi_eq_1</th>              <td>   -0.0014</td> <td>    0.001</td> <td>   -1.630</td> <td> 0.103</td> <td>   -0.003</td> <td>    0.000</td>\n",
       "</tr>\n",
       "<tr>\n",
       "  <th>high_turnover</th>         <td>    0.0023</td> <td>    0.001</td> <td>    1.823</td> <td> 0.068</td> <td>   -0.000</td> <td>    0.005</td>\n",
       "</tr>\n",
       "<tr>\n",
       "  <th>high_hhi</th>              <td>   -0.0057</td> <td>    0.001</td> <td>   -3.950</td> <td> 0.000</td> <td>   -0.009</td> <td>   -0.003</td>\n",
       "</tr>\n",
       "<tr>\n",
       "  <th>extreme_turnover</th>      <td>   -0.0058</td> <td>    0.001</td> <td>   -6.306</td> <td> 0.000</td> <td>   -0.008</td> <td>   -0.004</td>\n",
       "</tr>\n",
       "<tr>\n",
       "  <th>cluster_hhi</th>           <td>   -0.0016</td> <td>    0.001</td> <td>   -1.655</td> <td> 0.098</td> <td>   -0.003</td> <td>    0.000</td>\n",
       "</tr>\n",
       "<tr>\n",
       "  <th>cluster_turnover</th>      <td>    0.0007</td> <td>    0.001</td> <td>    0.698</td> <td> 0.485</td> <td>   -0.001</td> <td>    0.003</td>\n",
       "</tr>\n",
       "<tr>\n",
       "  <th>sqrt_pos_count_lag_1</th>  <td>    0.0100</td> <td>    0.002</td> <td>    4.559</td> <td> 0.000</td> <td>    0.006</td> <td>    0.014</td>\n",
       "</tr>\n",
       "<tr>\n",
       "  <th>high_pos_count</th>        <td>   -0.0020</td> <td>    0.002</td> <td>   -1.125</td> <td> 0.261</td> <td>   -0.006</td> <td>    0.002</td>\n",
       "</tr>\n",
       "<tr>\n",
       "  <th>extreme_pos_count</th>     <td>    0.0013</td> <td>    0.002</td> <td>    0.794</td> <td> 0.427</td> <td>   -0.002</td> <td>    0.005</td>\n",
       "</tr>\n",
       "<tr>\n",
       "  <th>cluster_size_pos</th>      <td>    0.0001</td> <td>    0.001</td> <td>    0.091</td> <td> 0.928</td> <td>   -0.003</td> <td>    0.003</td>\n",
       "</tr>\n",
       "<tr>\n",
       "  <th>cluster_pos_hhi</th>       <td>   -0.0003</td> <td>    0.001</td> <td>   -0.331</td> <td> 0.740</td> <td>   -0.002</td> <td>    0.002</td>\n",
       "</tr>\n",
       "<tr>\n",
       "  <th>cluster_pos_tvr</th>       <td>    0.0064</td> <td>    0.005</td> <td>    1.319</td> <td> 0.187</td> <td>   -0.003</td> <td>    0.016</td>\n",
       "</tr>\n",
       "<tr>\n",
       "  <th>mean_net_shares_lag_1</th> <td>   -0.0001</td> <td>    0.001</td> <td>   -0.133</td> <td> 0.894</td> <td>   -0.002</td> <td>    0.001</td>\n",
       "</tr>\n",
       "</table>\n",
       "<table class=\"simpletable\">\n",
       "<tr>\n",
       "  <th>Omnibus:</th>       <td>9111862.439</td> <th>  Durbin-Watson:     </th>       <td>   2.054</td>       \n",
       "</tr>\n",
       "<tr>\n",
       "  <th>Prob(Omnibus):</th>   <td> 0.000</td>    <th>  Jarque-Bera (JB):  </th> <td>21958336454245112.000</td>\n",
       "</tr>\n",
       "<tr>\n",
       "  <th>Skew:</th>            <td>684.911</td>   <th>  Prob(JB):          </th>       <td>    0.00</td>       \n",
       "</tr>\n",
       "<tr>\n",
       "  <th>Kurtosis:</th>      <td>626009.030</td>  <th>  Cond. No.          </th>       <td>    15.7</td>       \n",
       "</tr>\n",
       "</table><br/><br/>Warnings:<br/>[1] Standard Errors assume that the covariance matrix of the errors is correctly specified."
      ],
      "text/plain": [
       "<class 'statsmodels.iolib.summary.Summary'>\n",
       "\"\"\"\n",
       "                            OLS Regression Results                            \n",
       "==============================================================================\n",
       "Dep. Variable:             net_shares   R-squared:                       0.103\n",
       "Model:                            OLS   Adj. R-squared:                  0.103\n",
       "Method:                 Least Squares   F-statistic:                     6440.\n",
       "Date:                Wed, 02 Dec 2020   Prob (F-statistic):               0.00\n",
       "Time:                        00:20:15   Log-Likelihood:            -1.8350e+06\n",
       "No. Observations:             1344781   AIC:                         3.670e+06\n",
       "Df Residuals:                 1344756   BIC:                         3.670e+06\n",
       "Df Model:                          24                                         \n",
       "Covariance Type:            nonrobust                                         \n",
       "=========================================================================================\n",
       "                            coef    std err          t      P>|t|      [0.025      0.975]\n",
       "-----------------------------------------------------------------------------------------\n",
       "const                    -0.0061      0.005     -1.299      0.194      -0.015       0.003\n",
       "log_value_fund_lag_1     -0.0046      0.001     -3.187      0.001      -0.007      -0.002\n",
       "net_shares_lag_1          0.0635      0.001     76.291      0.000       0.062       0.065\n",
       "amend_1                  -0.0006      0.001     -0.619      0.536      -0.002       0.001\n",
       "net_shares_lag_2          0.2968      0.001    341.412      0.000       0.295       0.298\n",
       "amend_2                  -0.0009      0.001     -0.929      0.353      -0.003       0.001\n",
       "net_shares_lag_3          0.0104      0.001     11.986      0.000       0.009       0.012\n",
       "amend_3                  -0.0005      0.001     -0.477      0.633      -0.002       0.001\n",
       "net_shares_lag_4          0.0138      0.001     16.341      0.000       0.012       0.015\n",
       "amend_4                  -0.0006      0.001     -0.615      0.538      -0.003       0.001\n",
       "turnover                  0.0099      0.001      7.162      0.000       0.007       0.013\n",
       "hhi                       0.0084      0.002      5.076      0.000       0.005       0.012\n",
       "hhi_eq_1                 -0.0014      0.001     -1.630      0.103      -0.003       0.000\n",
       "high_turnover             0.0023      0.001      1.823      0.068      -0.000       0.005\n",
       "high_hhi                 -0.0057      0.001     -3.950      0.000      -0.009      -0.003\n",
       "extreme_turnover         -0.0058      0.001     -6.306      0.000      -0.008      -0.004\n",
       "cluster_hhi              -0.0016      0.001     -1.655      0.098      -0.003       0.000\n",
       "cluster_turnover          0.0007      0.001      0.698      0.485      -0.001       0.003\n",
       "sqrt_pos_count_lag_1      0.0100      0.002      4.559      0.000       0.006       0.014\n",
       "high_pos_count           -0.0020      0.002     -1.125      0.261      -0.006       0.002\n",
       "extreme_pos_count         0.0013      0.002      0.794      0.427      -0.002       0.005\n",
       "cluster_size_pos          0.0001      0.001      0.091      0.928      -0.003       0.003\n",
       "cluster_pos_hhi          -0.0003      0.001     -0.331      0.740      -0.002       0.002\n",
       "cluster_pos_tvr           0.0064      0.005      1.319      0.187      -0.003       0.016\n",
       "mean_net_shares_lag_1    -0.0001      0.001     -0.133      0.894      -0.002       0.001\n",
       "=================================================================================\n",
       "Omnibus:                  9111862.439   Durbin-Watson:                      2.054\n",
       "Prob(Omnibus):                  0.000   Jarque-Bera (JB):   21958336454245112.000\n",
       "Skew:                         684.911   Prob(JB):                            0.00\n",
       "Kurtosis:                  626009.030   Cond. No.                            15.7\n",
       "=================================================================================\n",
       "\n",
       "Warnings:\n",
       "[1] Standard Errors assume that the covariance matrix of the errors is correctly specified.\n",
       "\"\"\""
      ]
     },
     "execution_count": 81,
     "metadata": {},
     "output_type": "execute_result"
    }
   ],
   "source": [
    "model_3 = sm.OLS(y, X).fit()\n",
    "model_3.summary()"
   ]
  },
  {
   "cell_type": "markdown",
   "metadata": {},
   "source": [
    "Ничего не изменилось, только константа стала чуть более значимой. Лучше не стало, поэтому так делать не буду."
   ]
  },
  {
   "cell_type": "markdown",
   "metadata": {},
   "source": [
    "Теперь добавлю переменные доли тикера в активах фонда, чтобы посмотреть, как это повлияет на регрессию."
   ]
  },
  {
   "cell_type": "markdown",
   "metadata": {},
   "source": [
    "### Модель 4"
   ]
  },
  {
   "cell_type": "code",
   "execution_count": 82,
   "metadata": {},
   "outputs": [],
   "source": [
    "y = final_df['net_shares']\n",
    "y = (y - y.mean()) / y.std()\n",
    "\n",
    "X = final_df[['log_value_fund_lag_1',\n",
    "        'net_shares_lag_1', 'amend_1', 'net_shares_lag_2', 'amend_2', \n",
    "        'net_shares_lag_3', 'amend_3', 'net_shares_lag_4', 'amend_4',\n",
    "        'ticket_share_lag_1', 'ticket_share_lag_2', 'ticket_share_lag_3', 'ticket_share_lag_4',\n",
    "        'turnover', 'hhi', 'hhi_eq_1', 'high_turnover', 'high_hhi', \n",
    "        'extreme_turnover', 'cluster_hhi', 'cluster_turnover',\n",
    "        'sqrt_pos_count_lag_1', 'high_pos_count', 'extreme_pos_count',\n",
    "        'cluster_size_pos', 'cluster_pos_hhi', 'cluster_pos_tvr', 'mean_net_shares_lag_1']].astype('float64')\n",
    "X = sm.add_constant(X)"
   ]
  },
  {
   "cell_type": "code",
   "execution_count": 83,
   "metadata": {},
   "outputs": [
    {
     "data": {
      "text/html": [
       "<table class=\"simpletable\">\n",
       "<caption>OLS Regression Results</caption>\n",
       "<tr>\n",
       "  <th>Dep. Variable:</th>       <td>net_shares</td>    <th>  R-squared:         </th>  <td>   0.103</td>  \n",
       "</tr>\n",
       "<tr>\n",
       "  <th>Model:</th>                   <td>OLS</td>       <th>  Adj. R-squared:    </th>  <td>   0.103</td>  \n",
       "</tr>\n",
       "<tr>\n",
       "  <th>Method:</th>             <td>Least Squares</td>  <th>  F-statistic:       </th>  <td>   5520.</td>  \n",
       "</tr>\n",
       "<tr>\n",
       "  <th>Date:</th>             <td>Wed, 02 Dec 2020</td> <th>  Prob (F-statistic):</th>   <td>  0.00</td>   \n",
       "</tr>\n",
       "<tr>\n",
       "  <th>Time:</th>                 <td>00:21:48</td>     <th>  Log-Likelihood:    </th> <td>-1.8350e+06</td>\n",
       "</tr>\n",
       "<tr>\n",
       "  <th>No. Observations:</th>      <td>1344781</td>     <th>  AIC:               </th>  <td>3.670e+06</td> \n",
       "</tr>\n",
       "<tr>\n",
       "  <th>Df Residuals:</th>          <td>1344752</td>     <th>  BIC:               </th>  <td>3.670e+06</td> \n",
       "</tr>\n",
       "<tr>\n",
       "  <th>Df Model:</th>              <td>    28</td>      <th>                     </th>      <td> </td>     \n",
       "</tr>\n",
       "<tr>\n",
       "  <th>Covariance Type:</th>      <td>nonrobust</td>    <th>                     </th>      <td> </td>     \n",
       "</tr>\n",
       "</table>\n",
       "<table class=\"simpletable\">\n",
       "<tr>\n",
       "            <td></td>               <th>coef</th>     <th>std err</th>      <th>t</th>      <th>P>|t|</th>  <th>[0.025</th>    <th>0.975]</th>  \n",
       "</tr>\n",
       "<tr>\n",
       "  <th>const</th>                 <td>    0.0081</td> <td>    0.013</td> <td>    0.625</td> <td> 0.532</td> <td>   -0.017</td> <td>    0.034</td>\n",
       "</tr>\n",
       "<tr>\n",
       "  <th>log_value_fund_lag_1</th>  <td>   -0.0020</td> <td>    0.001</td> <td>   -3.168</td> <td> 0.002</td> <td>   -0.003</td> <td>   -0.001</td>\n",
       "</tr>\n",
       "<tr>\n",
       "  <th>net_shares_lag_1</th>      <td> 6.829e-05</td> <td> 8.95e-07</td> <td>   76.287</td> <td> 0.000</td> <td> 6.65e-05</td> <td>    7e-05</td>\n",
       "</tr>\n",
       "<tr>\n",
       "  <th>amend_1</th>               <td>   -0.0058</td> <td>    0.009</td> <td>   -0.636</td> <td> 0.525</td> <td>   -0.024</td> <td>    0.012</td>\n",
       "</tr>\n",
       "<tr>\n",
       "  <th>net_shares_lag_2</th>      <td>    0.0010</td> <td>    3e-06</td> <td>  341.414</td> <td> 0.000</td> <td>    0.001</td> <td>    0.001</td>\n",
       "</tr>\n",
       "<tr>\n",
       "  <th>amend_2</th>               <td>   -0.0088</td> <td>    0.010</td> <td>   -0.914</td> <td> 0.360</td> <td>   -0.028</td> <td>    0.010</td>\n",
       "</tr>\n",
       "<tr>\n",
       "  <th>net_shares_lag_3</th>      <td> 2.863e-05</td> <td> 2.39e-06</td> <td>   11.981</td> <td> 0.000</td> <td> 2.39e-05</td> <td> 3.33e-05</td>\n",
       "</tr>\n",
       "<tr>\n",
       "  <th>amend_3</th>               <td>   -0.0045</td> <td>    0.009</td> <td>   -0.485</td> <td> 0.628</td> <td>   -0.022</td> <td>    0.014</td>\n",
       "</tr>\n",
       "<tr>\n",
       "  <th>net_shares_lag_4</th>      <td> 4.141e-05</td> <td> 2.53e-06</td> <td>   16.341</td> <td> 0.000</td> <td> 3.64e-05</td> <td> 4.64e-05</td>\n",
       "</tr>\n",
       "<tr>\n",
       "  <th>amend_4</th>               <td>   -0.0053</td> <td>    0.009</td> <td>   -0.616</td> <td> 0.538</td> <td>   -0.022</td> <td>    0.012</td>\n",
       "</tr>\n",
       "<tr>\n",
       "  <th>ticket_share_lag_1</th>    <td>    0.1269</td> <td>    0.082</td> <td>    1.557</td> <td> 0.120</td> <td>   -0.033</td> <td>    0.287</td>\n",
       "</tr>\n",
       "<tr>\n",
       "  <th>ticket_share_lag_2</th>    <td>   -0.1878</td> <td>    0.098</td> <td>   -1.925</td> <td> 0.054</td> <td>   -0.379</td> <td>    0.003</td>\n",
       "</tr>\n",
       "<tr>\n",
       "  <th>ticket_share_lag_3</th>    <td>    0.0544</td> <td>    0.098</td> <td>    0.555</td> <td> 0.579</td> <td>   -0.138</td> <td>    0.247</td>\n",
       "</tr>\n",
       "<tr>\n",
       "  <th>ticket_share_lag_4</th>    <td>   -0.0255</td> <td>    0.079</td> <td>   -0.322</td> <td> 0.748</td> <td>   -0.181</td> <td>    0.130</td>\n",
       "</tr>\n",
       "<tr>\n",
       "  <th>turnover</th>              <td>    0.0543</td> <td>    0.008</td> <td>    7.179</td> <td> 0.000</td> <td>    0.039</td> <td>    0.069</td>\n",
       "</tr>\n",
       "<tr>\n",
       "  <th>hhi</th>                   <td>    0.1632</td> <td>    0.032</td> <td>    5.130</td> <td> 0.000</td> <td>    0.101</td> <td>    0.226</td>\n",
       "</tr>\n",
       "<tr>\n",
       "  <th>hhi_eq_1</th>              <td>   -0.0827</td> <td>    0.067</td> <td>   -1.228</td> <td> 0.219</td> <td>   -0.215</td> <td>    0.049</td>\n",
       "</tr>\n",
       "<tr>\n",
       "  <th>high_turnover</th>         <td>    0.0087</td> <td>    0.005</td> <td>    1.825</td> <td> 0.068</td> <td>   -0.001</td> <td>    0.018</td>\n",
       "</tr>\n",
       "<tr>\n",
       "  <th>high_hhi</th>              <td>   -0.0480</td> <td>    0.012</td> <td>   -3.964</td> <td> 0.000</td> <td>   -0.072</td> <td>   -0.024</td>\n",
       "</tr>\n",
       "<tr>\n",
       "  <th>extreme_turnover</th>      <td>   -0.1679</td> <td>    0.027</td> <td>   -6.311</td> <td> 0.000</td> <td>   -0.220</td> <td>   -0.116</td>\n",
       "</tr>\n",
       "<tr>\n",
       "  <th>cluster_hhi</th>           <td>   -0.0052</td> <td>    0.003</td> <td>   -1.665</td> <td> 0.096</td> <td>   -0.011</td> <td>    0.001</td>\n",
       "</tr>\n",
       "<tr>\n",
       "  <th>cluster_turnover</th>      <td>    0.0016</td> <td>    0.002</td> <td>    0.712</td> <td> 0.476</td> <td>   -0.003</td> <td>    0.006</td>\n",
       "</tr>\n",
       "<tr>\n",
       "  <th>sqrt_pos_count_lag_1</th>  <td>    0.0004</td> <td> 9.63e-05</td> <td>    4.504</td> <td> 0.000</td> <td>    0.000</td> <td>    0.001</td>\n",
       "</tr>\n",
       "<tr>\n",
       "  <th>high_pos_count</th>        <td>   -0.0138</td> <td>    0.013</td> <td>   -1.104</td> <td> 0.270</td> <td>   -0.038</td> <td>    0.011</td>\n",
       "</tr>\n",
       "<tr>\n",
       "  <th>extreme_pos_count</th>     <td>    0.0112</td> <td>    0.014</td> <td>    0.807</td> <td> 0.420</td> <td>   -0.016</td> <td>    0.038</td>\n",
       "</tr>\n",
       "<tr>\n",
       "  <th>cluster_size_pos</th>      <td>    0.0002</td> <td>    0.003</td> <td>    0.063</td> <td> 0.950</td> <td>   -0.006</td> <td>    0.006</td>\n",
       "</tr>\n",
       "<tr>\n",
       "  <th>cluster_pos_hhi</th>       <td>   -0.0011</td> <td>    0.003</td> <td>   -0.416</td> <td> 0.678</td> <td>   -0.006</td> <td>    0.004</td>\n",
       "</tr>\n",
       "<tr>\n",
       "  <th>cluster_pos_tvr</th>       <td>    0.0051</td> <td>    0.005</td> <td>    1.011</td> <td> 0.312</td> <td>   -0.005</td> <td>    0.015</td>\n",
       "</tr>\n",
       "<tr>\n",
       "  <th>mean_net_shares_lag_1</th> <td>-1.039e-06</td> <td> 7.82e-06</td> <td>   -0.133</td> <td> 0.894</td> <td>-1.64e-05</td> <td> 1.43e-05</td>\n",
       "</tr>\n",
       "</table>\n",
       "<table class=\"simpletable\">\n",
       "<tr>\n",
       "  <th>Omnibus:</th>       <td>9111867.132</td> <th>  Durbin-Watson:     </th>       <td>   2.054</td>       \n",
       "</tr>\n",
       "<tr>\n",
       "  <th>Prob(Omnibus):</th>   <td> 0.000</td>    <th>  Jarque-Bera (JB):  </th> <td>21958475869899176.000</td>\n",
       "</tr>\n",
       "<tr>\n",
       "  <th>Skew:</th>            <td>684.913</td>   <th>  Prob(JB):          </th>       <td>    0.00</td>       \n",
       "</tr>\n",
       "<tr>\n",
       "  <th>Kurtosis:</th>      <td>626011.017</td>  <th>  Cond. No.          </th>       <td>1.40e+05</td>       \n",
       "</tr>\n",
       "</table><br/><br/>Warnings:<br/>[1] Standard Errors assume that the covariance matrix of the errors is correctly specified.<br/>[2] The condition number is large, 1.4e+05. This might indicate that there are<br/>strong multicollinearity or other numerical problems."
      ],
      "text/plain": [
       "<class 'statsmodels.iolib.summary.Summary'>\n",
       "\"\"\"\n",
       "                            OLS Regression Results                            \n",
       "==============================================================================\n",
       "Dep. Variable:             net_shares   R-squared:                       0.103\n",
       "Model:                            OLS   Adj. R-squared:                  0.103\n",
       "Method:                 Least Squares   F-statistic:                     5520.\n",
       "Date:                Wed, 02 Dec 2020   Prob (F-statistic):               0.00\n",
       "Time:                        00:21:48   Log-Likelihood:            -1.8350e+06\n",
       "No. Observations:             1344781   AIC:                         3.670e+06\n",
       "Df Residuals:                 1344752   BIC:                         3.670e+06\n",
       "Df Model:                          28                                         \n",
       "Covariance Type:            nonrobust                                         \n",
       "=========================================================================================\n",
       "                            coef    std err          t      P>|t|      [0.025      0.975]\n",
       "-----------------------------------------------------------------------------------------\n",
       "const                     0.0081      0.013      0.625      0.532      -0.017       0.034\n",
       "log_value_fund_lag_1     -0.0020      0.001     -3.168      0.002      -0.003      -0.001\n",
       "net_shares_lag_1       6.829e-05   8.95e-07     76.287      0.000    6.65e-05       7e-05\n",
       "amend_1                  -0.0058      0.009     -0.636      0.525      -0.024       0.012\n",
       "net_shares_lag_2          0.0010      3e-06    341.414      0.000       0.001       0.001\n",
       "amend_2                  -0.0088      0.010     -0.914      0.360      -0.028       0.010\n",
       "net_shares_lag_3       2.863e-05   2.39e-06     11.981      0.000    2.39e-05    3.33e-05\n",
       "amend_3                  -0.0045      0.009     -0.485      0.628      -0.022       0.014\n",
       "net_shares_lag_4       4.141e-05   2.53e-06     16.341      0.000    3.64e-05    4.64e-05\n",
       "amend_4                  -0.0053      0.009     -0.616      0.538      -0.022       0.012\n",
       "ticket_share_lag_1        0.1269      0.082      1.557      0.120      -0.033       0.287\n",
       "ticket_share_lag_2       -0.1878      0.098     -1.925      0.054      -0.379       0.003\n",
       "ticket_share_lag_3        0.0544      0.098      0.555      0.579      -0.138       0.247\n",
       "ticket_share_lag_4       -0.0255      0.079     -0.322      0.748      -0.181       0.130\n",
       "turnover                  0.0543      0.008      7.179      0.000       0.039       0.069\n",
       "hhi                       0.1632      0.032      5.130      0.000       0.101       0.226\n",
       "hhi_eq_1                 -0.0827      0.067     -1.228      0.219      -0.215       0.049\n",
       "high_turnover             0.0087      0.005      1.825      0.068      -0.001       0.018\n",
       "high_hhi                 -0.0480      0.012     -3.964      0.000      -0.072      -0.024\n",
       "extreme_turnover         -0.1679      0.027     -6.311      0.000      -0.220      -0.116\n",
       "cluster_hhi              -0.0052      0.003     -1.665      0.096      -0.011       0.001\n",
       "cluster_turnover          0.0016      0.002      0.712      0.476      -0.003       0.006\n",
       "sqrt_pos_count_lag_1      0.0004   9.63e-05      4.504      0.000       0.000       0.001\n",
       "high_pos_count           -0.0138      0.013     -1.104      0.270      -0.038       0.011\n",
       "extreme_pos_count         0.0112      0.014      0.807      0.420      -0.016       0.038\n",
       "cluster_size_pos          0.0002      0.003      0.063      0.950      -0.006       0.006\n",
       "cluster_pos_hhi          -0.0011      0.003     -0.416      0.678      -0.006       0.004\n",
       "cluster_pos_tvr           0.0051      0.005      1.011      0.312      -0.005       0.015\n",
       "mean_net_shares_lag_1 -1.039e-06   7.82e-06     -0.133      0.894   -1.64e-05    1.43e-05\n",
       "=================================================================================\n",
       "Omnibus:                  9111867.132   Durbin-Watson:                      2.054\n",
       "Prob(Omnibus):                  0.000   Jarque-Bera (JB):   21958475869899176.000\n",
       "Skew:                         684.913   Prob(JB):                            0.00\n",
       "Kurtosis:                  626011.017   Cond. No.                        1.40e+05\n",
       "=================================================================================\n",
       "\n",
       "Warnings:\n",
       "[1] Standard Errors assume that the covariance matrix of the errors is correctly specified.\n",
       "[2] The condition number is large, 1.4e+05. This might indicate that there are\n",
       "strong multicollinearity or other numerical problems.\n",
       "\"\"\""
      ]
     },
     "execution_count": 83,
     "metadata": {},
     "output_type": "execute_result"
    }
   ],
   "source": [
    "model_4 = sm.OLS(y, X).fit()\n",
    "model_4.summary()"
   ]
  },
  {
   "cell_type": "markdown",
   "metadata": {},
   "source": [
    "Старые коэффициенты лучше и значимее не стали, а некоторые из новых оказались значительно незначимыми. Значимая зависимость только от первых двух лагов доли. Заметим также разнородный характер зависимости. Первый и третий лаг положительно влияют на зависимую переменную, когда второй и четвертый отрицательно. Это может быть связано с тем, что у инвесторов отчетные периоды каждые полгода, а к этому времени они формируют более диверсифицированное портфолио, чтобы привлечь больше инвесторов, поэтому меняют веса активов в противоположные стороны, чтобы быть более ликвидными. Вследствие такого объяснения у меня пропадает необходимость в 3-м и 4-м лаге для доли, так как дополнительного смысла они не несут.\n",
    "\n",
    "Заметим, что теперь у коэффициента при среднем по фондам почти нулевое отклонение, что что делает его равносильным константе, из-за чего может возникать мультиколлинеарность."
   ]
  },
  {
   "cell_type": "markdown",
   "metadata": {},
   "source": [
    "Теперь заменю переменные на их факторизированные аналоги. Должно стать лучше!"
   ]
  },
  {
   "cell_type": "markdown",
   "metadata": {},
   "source": [
    "### Модель 5"
   ]
  },
  {
   "cell_type": "code",
   "execution_count": 84,
   "metadata": {},
   "outputs": [],
   "source": [
    "y = final_df['net_shares']\n",
    "y = (y - y.mean()) / y.std()\n",
    "\n",
    "X = final_df[['log_value_fund_lag_1', 'high_value_lag_1', 'med_value_lag_1',\n",
    "        'net_shares_lag_1_low', 'net_shares_lag_1_med', 'net_shares_lag_1_high',\n",
    "        'net_shares_lag_2_low', 'net_shares_lag_2_med', 'net_shares_lag_2_high',\n",
    "        'net_shares_lag_3_low', 'net_shares_lag_3_med', 'net_shares_lag_3_high',\n",
    "        'net_shares_lag_4_low', 'net_shares_lag_4_med', 'net_shares_lag_4_high',\n",
    "        'ticket_share_lag_1_high', 'ticket_share_lag_1_med', 'ticket_share_lag_1_low',\n",
    "        'ticket_share_lag_2_high', 'ticket_share_lag_2_med', 'ticket_share_lag_2_low',\n",
    "        'amend_1', 'amend_2', 'amend_3', 'amend_4',\n",
    "        'turnover_high', 'turnover_med', 'turnover_low',\n",
    "        'hhi_high', 'hhi_med', 'hhi_low', 'hhi_eq_1', 'high_turnover', 'high_hhi', \n",
    "        'extreme_turnover', 'cluster_hhi', 'cluster_turnover',\n",
    "        'sqrt_pos_count_lag_1', 'high_pos_count', 'extreme_pos_count',\n",
    "        'cluster_size_pos', 'cluster_pos_hhi', 'cluster_pos_tvr', 'mean_net_shares_lag_1',\n",
    "        'mean_net_shares_lag_1_by_value']].astype('float64')\n",
    "X = sm.add_constant(X)"
   ]
  },
  {
   "cell_type": "code",
   "execution_count": 85,
   "metadata": {
    "scrolled": false
   },
   "outputs": [
    {
     "data": {
      "text/html": [
       "<table class=\"simpletable\">\n",
       "<caption>OLS Regression Results</caption>\n",
       "<tr>\n",
       "  <th>Dep. Variable:</th>       <td>net_shares</td>    <th>  R-squared:         </th>  <td>   0.120</td>  \n",
       "</tr>\n",
       "<tr>\n",
       "  <th>Model:</th>                   <td>OLS</td>       <th>  Adj. R-squared:    </th>  <td>   0.120</td>  \n",
       "</tr>\n",
       "<tr>\n",
       "  <th>Method:</th>             <td>Least Squares</td>  <th>  F-statistic:       </th>  <td>   5114.</td>  \n",
       "</tr>\n",
       "<tr>\n",
       "  <th>Date:</th>             <td>Wed, 02 Dec 2020</td> <th>  Prob (F-statistic):</th>   <td>  0.00</td>   \n",
       "</tr>\n",
       "<tr>\n",
       "  <th>Time:</th>                 <td>00:22:54</td>     <th>  Log-Likelihood:    </th> <td>-1.8219e+06</td>\n",
       "</tr>\n",
       "<tr>\n",
       "  <th>No. Observations:</th>      <td>1344781</td>     <th>  AIC:               </th>  <td>3.644e+06</td> \n",
       "</tr>\n",
       "<tr>\n",
       "  <th>Df Residuals:</th>          <td>1344744</td>     <th>  BIC:               </th>  <td>3.644e+06</td> \n",
       "</tr>\n",
       "<tr>\n",
       "  <th>Df Model:</th>              <td>    36</td>      <th>                     </th>      <td> </td>     \n",
       "</tr>\n",
       "<tr>\n",
       "  <th>Covariance Type:</th>      <td>nonrobust</td>    <th>                     </th>      <td> </td>     \n",
       "</tr>\n",
       "</table>\n",
       "<table class=\"simpletable\">\n",
       "<tr>\n",
       "                 <td></td>                   <th>coef</th>     <th>std err</th>      <th>t</th>      <th>P>|t|</th>  <th>[0.025</th>    <th>0.975]</th>  \n",
       "</tr>\n",
       "<tr>\n",
       "  <th>const</th>                          <td>    0.0526</td> <td>    0.015</td> <td>    3.396</td> <td> 0.001</td> <td>    0.022</td> <td>    0.083</td>\n",
       "</tr>\n",
       "<tr>\n",
       "  <th>log_value_fund_lag_1</th>           <td>   -0.0035</td> <td>    0.001</td> <td>   -3.773</td> <td> 0.000</td> <td>   -0.005</td> <td>   -0.002</td>\n",
       "</tr>\n",
       "<tr>\n",
       "  <th>high_value_lag_1</th>               <td>   -0.0087</td> <td>    0.006</td> <td>   -1.477</td> <td> 0.140</td> <td>   -0.020</td> <td>    0.003</td>\n",
       "</tr>\n",
       "<tr>\n",
       "  <th>med_value_lag_1</th>                <td>   -0.0083</td> <td>    0.005</td> <td>   -1.667</td> <td> 0.096</td> <td>   -0.018</td> <td>    0.001</td>\n",
       "</tr>\n",
       "<tr>\n",
       "  <th>net_shares_lag_1_low</th>           <td>    0.0007</td> <td> 6.37e-05</td> <td>   11.393</td> <td> 0.000</td> <td>    0.001</td> <td>    0.001</td>\n",
       "</tr>\n",
       "<tr>\n",
       "  <th>net_shares_lag_1_med</th>           <td>    0.0003</td> <td> 6.91e-06</td> <td>   44.209</td> <td> 0.000</td> <td>    0.000</td> <td>    0.000</td>\n",
       "</tr>\n",
       "<tr>\n",
       "  <th>net_shares_lag_1_high</th>          <td> 2.909e-05</td> <td> 4.45e-07</td> <td>   65.384</td> <td> 0.000</td> <td> 2.82e-05</td> <td>    3e-05</td>\n",
       "</tr>\n",
       "<tr>\n",
       "  <th>net_shares_lag_2_low</th>           <td> 2.633e-05</td> <td> 8.57e-05</td> <td>    0.307</td> <td> 0.759</td> <td>   -0.000</td> <td>    0.000</td>\n",
       "</tr>\n",
       "<tr>\n",
       "  <th>net_shares_lag_2_med</th>           <td> 4.337e-05</td> <td> 4.23e-06</td> <td>   10.256</td> <td> 0.000</td> <td> 3.51e-05</td> <td> 5.17e-05</td>\n",
       "</tr>\n",
       "<tr>\n",
       "  <th>net_shares_lag_2_high</th>          <td>    0.0006</td> <td> 1.62e-06</td> <td>  348.747</td> <td> 0.000</td> <td>    0.001</td> <td>    0.001</td>\n",
       "</tr>\n",
       "<tr>\n",
       "  <th>net_shares_lag_3_low</th>           <td> -4.96e-05</td> <td>    0.000</td> <td>   -0.367</td> <td> 0.714</td> <td>   -0.000</td> <td>    0.000</td>\n",
       "</tr>\n",
       "<tr>\n",
       "  <th>net_shares_lag_3_med</th>           <td> 3.164e-05</td> <td> 3.06e-06</td> <td>   10.350</td> <td> 0.000</td> <td> 2.57e-05</td> <td> 3.76e-05</td>\n",
       "</tr>\n",
       "<tr>\n",
       "  <th>net_shares_lag_3_high</th>          <td>    0.0003</td> <td> 4.28e-06</td> <td>   73.094</td> <td> 0.000</td> <td>    0.000</td> <td>    0.000</td>\n",
       "</tr>\n",
       "<tr>\n",
       "  <th>net_shares_lag_4_low</th>           <td>    0.0004</td> <td>    0.000</td> <td>    2.277</td> <td> 0.023</td> <td> 5.52e-05</td> <td>    0.001</td>\n",
       "</tr>\n",
       "<tr>\n",
       "  <th>net_shares_lag_4_med</th>           <td>-1.991e-06</td> <td> 2.87e-06</td> <td>   -0.693</td> <td> 0.489</td> <td>-7.62e-06</td> <td> 3.64e-06</td>\n",
       "</tr>\n",
       "<tr>\n",
       "  <th>net_shares_lag_4_high</th>          <td>    0.0002</td> <td> 5.79e-06</td> <td>   41.276</td> <td> 0.000</td> <td>    0.000</td> <td>    0.000</td>\n",
       "</tr>\n",
       "<tr>\n",
       "  <th>ticket_share_lag_1_high</th>        <td> 2.909e-05</td> <td> 4.45e-07</td> <td>   65.384</td> <td> 0.000</td> <td> 2.82e-05</td> <td>    3e-05</td>\n",
       "</tr>\n",
       "<tr>\n",
       "  <th>ticket_share_lag_1_med</th>         <td>    0.0003</td> <td> 6.91e-06</td> <td>   44.209</td> <td> 0.000</td> <td>    0.000</td> <td>    0.000</td>\n",
       "</tr>\n",
       "<tr>\n",
       "  <th>ticket_share_lag_1_low</th>         <td>    0.0007</td> <td> 6.37e-05</td> <td>   11.393</td> <td> 0.000</td> <td>    0.001</td> <td>    0.001</td>\n",
       "</tr>\n",
       "<tr>\n",
       "  <th>ticket_share_lag_2_high</th>        <td>    0.0006</td> <td> 1.62e-06</td> <td>  348.747</td> <td> 0.000</td> <td>    0.001</td> <td>    0.001</td>\n",
       "</tr>\n",
       "<tr>\n",
       "  <th>ticket_share_lag_2_med</th>         <td> 4.337e-05</td> <td> 4.23e-06</td> <td>   10.256</td> <td> 0.000</td> <td> 3.51e-05</td> <td> 5.17e-05</td>\n",
       "</tr>\n",
       "<tr>\n",
       "  <th>ticket_share_lag_2_low</th>         <td> 2.633e-05</td> <td> 8.57e-05</td> <td>    0.307</td> <td> 0.759</td> <td>   -0.000</td> <td>    0.000</td>\n",
       "</tr>\n",
       "<tr>\n",
       "  <th>amend_1</th>                        <td>   -0.0059</td> <td>    0.009</td> <td>   -0.659</td> <td> 0.510</td> <td>   -0.024</td> <td>    0.012</td>\n",
       "</tr>\n",
       "<tr>\n",
       "  <th>amend_2</th>                        <td>   -0.0065</td> <td>    0.009</td> <td>   -0.689</td> <td> 0.491</td> <td>   -0.025</td> <td>    0.012</td>\n",
       "</tr>\n",
       "<tr>\n",
       "  <th>amend_3</th>                        <td>   -0.0063</td> <td>    0.009</td> <td>   -0.690</td> <td> 0.490</td> <td>   -0.024</td> <td>    0.012</td>\n",
       "</tr>\n",
       "<tr>\n",
       "  <th>amend_4</th>                        <td>   -0.0075</td> <td>    0.009</td> <td>   -0.872</td> <td> 0.383</td> <td>   -0.024</td> <td>    0.009</td>\n",
       "</tr>\n",
       "<tr>\n",
       "  <th>turnover_high</th>                  <td>    0.0274</td> <td>    0.004</td> <td>    7.048</td> <td> 0.000</td> <td>    0.020</td> <td>    0.035</td>\n",
       "</tr>\n",
       "<tr>\n",
       "  <th>turnover_med</th>                   <td>    0.0134</td> <td>    0.007</td> <td>    1.990</td> <td> 0.047</td> <td>    0.000</td> <td>    0.027</td>\n",
       "</tr>\n",
       "<tr>\n",
       "  <th>turnover_low</th>                   <td>   -0.0214</td> <td>    0.008</td> <td>   -2.540</td> <td> 0.011</td> <td>   -0.038</td> <td>   -0.005</td>\n",
       "</tr>\n",
       "<tr>\n",
       "  <th>hhi_high</th>                       <td>    0.0274</td> <td>    0.004</td> <td>    7.048</td> <td> 0.000</td> <td>    0.020</td> <td>    0.035</td>\n",
       "</tr>\n",
       "<tr>\n",
       "  <th>hhi_med</th>                        <td>    0.0134</td> <td>    0.007</td> <td>    1.990</td> <td> 0.047</td> <td>    0.000</td> <td>    0.027</td>\n",
       "</tr>\n",
       "<tr>\n",
       "  <th>hhi_low</th>                        <td>   -0.0214</td> <td>    0.008</td> <td>   -2.540</td> <td> 0.011</td> <td>   -0.038</td> <td>   -0.005</td>\n",
       "</tr>\n",
       "<tr>\n",
       "  <th>hhi_eq_1</th>                       <td>   -0.0100</td> <td>    0.057</td> <td>   -0.175</td> <td> 0.861</td> <td>   -0.122</td> <td>    0.102</td>\n",
       "</tr>\n",
       "<tr>\n",
       "  <th>high_turnover</th>                  <td>    0.0134</td> <td>    0.005</td> <td>    2.828</td> <td> 0.005</td> <td>    0.004</td> <td>    0.023</td>\n",
       "</tr>\n",
       "<tr>\n",
       "  <th>high_hhi</th>                       <td>    0.0027</td> <td>    0.007</td> <td>    0.383</td> <td> 0.702</td> <td>   -0.011</td> <td>    0.017</td>\n",
       "</tr>\n",
       "<tr>\n",
       "  <th>extreme_turnover</th>               <td>   -0.1333</td> <td>    0.026</td> <td>   -5.050</td> <td> 0.000</td> <td>   -0.185</td> <td>   -0.082</td>\n",
       "</tr>\n",
       "<tr>\n",
       "  <th>cluster_hhi</th>                    <td>   -0.0006</td> <td>    0.003</td> <td>   -0.166</td> <td> 0.868</td> <td>   -0.007</td> <td>    0.006</td>\n",
       "</tr>\n",
       "<tr>\n",
       "  <th>cluster_turnover</th>               <td>    0.0027</td> <td>    0.003</td> <td>    0.989</td> <td> 0.323</td> <td>   -0.003</td> <td>    0.008</td>\n",
       "</tr>\n",
       "<tr>\n",
       "  <th>sqrt_pos_count_lag_1</th>           <td>    0.0004</td> <td> 9.83e-05</td> <td>    4.019</td> <td> 0.000</td> <td>    0.000</td> <td>    0.001</td>\n",
       "</tr>\n",
       "<tr>\n",
       "  <th>high_pos_count</th>                 <td>   -0.0114</td> <td>    0.012</td> <td>   -0.917</td> <td> 0.359</td> <td>   -0.036</td> <td>    0.013</td>\n",
       "</tr>\n",
       "<tr>\n",
       "  <th>extreme_pos_count</th>              <td>   -0.0476</td> <td>    0.014</td> <td>   -3.467</td> <td> 0.001</td> <td>   -0.074</td> <td>   -0.021</td>\n",
       "</tr>\n",
       "<tr>\n",
       "  <th>cluster_size_pos</th>               <td>   -0.0037</td> <td>    0.003</td> <td>   -1.170</td> <td> 0.242</td> <td>   -0.010</td> <td>    0.003</td>\n",
       "</tr>\n",
       "<tr>\n",
       "  <th>cluster_pos_hhi</th>                <td>    0.0020</td> <td>    0.003</td> <td>    0.757</td> <td> 0.449</td> <td>   -0.003</td> <td>    0.007</td>\n",
       "</tr>\n",
       "<tr>\n",
       "  <th>cluster_pos_tvr</th>                <td>    0.0002</td> <td>    0.005</td> <td>    0.049</td> <td> 0.961</td> <td>   -0.009</td> <td>    0.009</td>\n",
       "</tr>\n",
       "<tr>\n",
       "  <th>mean_net_shares_lag_1</th>          <td>-4.654e-06</td> <td> 2.04e-05</td> <td>   -0.228</td> <td> 0.820</td> <td>-4.47e-05</td> <td> 3.54e-05</td>\n",
       "</tr>\n",
       "<tr>\n",
       "  <th>mean_net_shares_lag_1_by_value</th> <td> 3.815e-06</td> <td> 1.93e-05</td> <td>    0.198</td> <td> 0.843</td> <td> -3.4e-05</td> <td> 4.16e-05</td>\n",
       "</tr>\n",
       "</table>\n",
       "<table class=\"simpletable\">\n",
       "<tr>\n",
       "  <th>Omnibus:</th>       <td>9172370.567</td> <th>  Durbin-Watson:     </th>       <td>   2.041</td>       \n",
       "</tr>\n",
       "<tr>\n",
       "  <th>Prob(Omnibus):</th>   <td> 0.000</td>    <th>  Jarque-Bera (JB):  </th> <td>23702214283646252.000</td>\n",
       "</tr>\n",
       "<tr>\n",
       "  <th>Skew:</th>            <td>703.718</td>   <th>  Prob(JB):          </th>       <td>    0.00</td>       \n",
       "</tr>\n",
       "<tr>\n",
       "  <th>Kurtosis:</th>      <td>650392.141</td>  <th>  Cond. No.          </th>       <td>1.89e+16</td>       \n",
       "</tr>\n",
       "</table><br/><br/>Warnings:<br/>[1] Standard Errors assume that the covariance matrix of the errors is correctly specified.<br/>[2] The smallest eigenvalue is 6.47e-21. This might indicate that there are<br/>strong multicollinearity problems or that the design matrix is singular."
      ],
      "text/plain": [
       "<class 'statsmodels.iolib.summary.Summary'>\n",
       "\"\"\"\n",
       "                            OLS Regression Results                            \n",
       "==============================================================================\n",
       "Dep. Variable:             net_shares   R-squared:                       0.120\n",
       "Model:                            OLS   Adj. R-squared:                  0.120\n",
       "Method:                 Least Squares   F-statistic:                     5114.\n",
       "Date:                Wed, 02 Dec 2020   Prob (F-statistic):               0.00\n",
       "Time:                        00:22:54   Log-Likelihood:            -1.8219e+06\n",
       "No. Observations:             1344781   AIC:                         3.644e+06\n",
       "Df Residuals:                 1344744   BIC:                         3.644e+06\n",
       "Df Model:                          36                                         \n",
       "Covariance Type:            nonrobust                                         \n",
       "==================================================================================================\n",
       "                                     coef    std err          t      P>|t|      [0.025      0.975]\n",
       "--------------------------------------------------------------------------------------------------\n",
       "const                              0.0526      0.015      3.396      0.001       0.022       0.083\n",
       "log_value_fund_lag_1              -0.0035      0.001     -3.773      0.000      -0.005      -0.002\n",
       "high_value_lag_1                  -0.0087      0.006     -1.477      0.140      -0.020       0.003\n",
       "med_value_lag_1                   -0.0083      0.005     -1.667      0.096      -0.018       0.001\n",
       "net_shares_lag_1_low               0.0007   6.37e-05     11.393      0.000       0.001       0.001\n",
       "net_shares_lag_1_med               0.0003   6.91e-06     44.209      0.000       0.000       0.000\n",
       "net_shares_lag_1_high           2.909e-05   4.45e-07     65.384      0.000    2.82e-05       3e-05\n",
       "net_shares_lag_2_low            2.633e-05   8.57e-05      0.307      0.759      -0.000       0.000\n",
       "net_shares_lag_2_med            4.337e-05   4.23e-06     10.256      0.000    3.51e-05    5.17e-05\n",
       "net_shares_lag_2_high              0.0006   1.62e-06    348.747      0.000       0.001       0.001\n",
       "net_shares_lag_3_low            -4.96e-05      0.000     -0.367      0.714      -0.000       0.000\n",
       "net_shares_lag_3_med            3.164e-05   3.06e-06     10.350      0.000    2.57e-05    3.76e-05\n",
       "net_shares_lag_3_high              0.0003   4.28e-06     73.094      0.000       0.000       0.000\n",
       "net_shares_lag_4_low               0.0004      0.000      2.277      0.023    5.52e-05       0.001\n",
       "net_shares_lag_4_med           -1.991e-06   2.87e-06     -0.693      0.489   -7.62e-06    3.64e-06\n",
       "net_shares_lag_4_high              0.0002   5.79e-06     41.276      0.000       0.000       0.000\n",
       "ticket_share_lag_1_high         2.909e-05   4.45e-07     65.384      0.000    2.82e-05       3e-05\n",
       "ticket_share_lag_1_med             0.0003   6.91e-06     44.209      0.000       0.000       0.000\n",
       "ticket_share_lag_1_low             0.0007   6.37e-05     11.393      0.000       0.001       0.001\n",
       "ticket_share_lag_2_high            0.0006   1.62e-06    348.747      0.000       0.001       0.001\n",
       "ticket_share_lag_2_med          4.337e-05   4.23e-06     10.256      0.000    3.51e-05    5.17e-05\n",
       "ticket_share_lag_2_low          2.633e-05   8.57e-05      0.307      0.759      -0.000       0.000\n",
       "amend_1                           -0.0059      0.009     -0.659      0.510      -0.024       0.012\n",
       "amend_2                           -0.0065      0.009     -0.689      0.491      -0.025       0.012\n",
       "amend_3                           -0.0063      0.009     -0.690      0.490      -0.024       0.012\n",
       "amend_4                           -0.0075      0.009     -0.872      0.383      -0.024       0.009\n",
       "turnover_high                      0.0274      0.004      7.048      0.000       0.020       0.035\n",
       "turnover_med                       0.0134      0.007      1.990      0.047       0.000       0.027\n",
       "turnover_low                      -0.0214      0.008     -2.540      0.011      -0.038      -0.005\n",
       "hhi_high                           0.0274      0.004      7.048      0.000       0.020       0.035\n",
       "hhi_med                            0.0134      0.007      1.990      0.047       0.000       0.027\n",
       "hhi_low                           -0.0214      0.008     -2.540      0.011      -0.038      -0.005\n",
       "hhi_eq_1                          -0.0100      0.057     -0.175      0.861      -0.122       0.102\n",
       "high_turnover                      0.0134      0.005      2.828      0.005       0.004       0.023\n",
       "high_hhi                           0.0027      0.007      0.383      0.702      -0.011       0.017\n",
       "extreme_turnover                  -0.1333      0.026     -5.050      0.000      -0.185      -0.082\n",
       "cluster_hhi                       -0.0006      0.003     -0.166      0.868      -0.007       0.006\n",
       "cluster_turnover                   0.0027      0.003      0.989      0.323      -0.003       0.008\n",
       "sqrt_pos_count_lag_1               0.0004   9.83e-05      4.019      0.000       0.000       0.001\n",
       "high_pos_count                    -0.0114      0.012     -0.917      0.359      -0.036       0.013\n",
       "extreme_pos_count                 -0.0476      0.014     -3.467      0.001      -0.074      -0.021\n",
       "cluster_size_pos                  -0.0037      0.003     -1.170      0.242      -0.010       0.003\n",
       "cluster_pos_hhi                    0.0020      0.003      0.757      0.449      -0.003       0.007\n",
       "cluster_pos_tvr                    0.0002      0.005      0.049      0.961      -0.009       0.009\n",
       "mean_net_shares_lag_1          -4.654e-06   2.04e-05     -0.228      0.820   -4.47e-05    3.54e-05\n",
       "mean_net_shares_lag_1_by_value  3.815e-06   1.93e-05      0.198      0.843    -3.4e-05    4.16e-05\n",
       "=================================================================================\n",
       "Omnibus:                  9172370.567   Durbin-Watson:                      2.041\n",
       "Prob(Omnibus):                  0.000   Jarque-Bera (JB):   23702214283646252.000\n",
       "Skew:                         703.718   Prob(JB):                            0.00\n",
       "Kurtosis:                  650392.141   Cond. No.                        1.89e+16\n",
       "=================================================================================\n",
       "\n",
       "Warnings:\n",
       "[1] Standard Errors assume that the covariance matrix of the errors is correctly specified.\n",
       "[2] The smallest eigenvalue is 6.47e-21. This might indicate that there are\n",
       "strong multicollinearity problems or that the design matrix is singular.\n",
       "\"\"\""
      ]
     },
     "execution_count": 85,
     "metadata": {},
     "output_type": "execute_result"
    }
   ],
   "source": [
    "model_5 = sm.OLS(y, X).fit()\n",
    "model_5.summary()"
   ]
  },
  {
   "cell_type": "markdown",
   "metadata": {},
   "source": [
    "Эти переменные хорошо повлияли на модель. Они сами значимые, и теперь значима и константа!\n",
    "\n",
    "Опять замечу, что у коэффициента при среднем по схожим фондам такие же проблемы с похожестью на константу."
   ]
  },
  {
   "cell_type": "markdown",
   "metadata": {},
   "source": [
    "Если смотреть глубже, то можно заметить, что незначимы почти все коэффициенты для малой весовой категории. Вероятно, на низкой ценности стратегии инвестирования своеобразны и независят от предыдущих тенденций.\n",
    "\n",
    "Кроме того, изменение не зависит от среднего изменения по фондам схожей весовой категории. <i>Размер не имеет значения?</i>\n",
    "Ещё интересно, что индикатор средней категории тоже часто не значим. Вероятно, единственное уместное деление - на большие и маленькие фонды, без средних.\n",
    "\n",
    "Значимость факторизации проявляется в том, что масштабы всех коэффициентов в разы (!!!) уменьшились."
   ]
  },
  {
   "cell_type": "markdown",
   "metadata": {},
   "source": [
    "# Макро-параметры"
   ]
  },
  {
   "cell_type": "markdown",
   "metadata": {},
   "source": [
    "Я предполагаю, что инвесторы обращают внимание на макроэкономическую ситуацию и её изменение <i>(иначе зачем макроэкономику преподают и изучают)</i>, чтобы исправлять свои стратегии.\n",
    "\n",
    "<b> Поэтому я считаю, что важно проконтролировать изменение макроэкономических параметров в модели, так как без этого их влияние войдет в остаток, а я хочу, чтобы в остатках лежало только настроение фонда относительно тикера, определяемое его новыми инсайтами, а не экзогенными факторами. </b>\n",
    "\n",
    "Я буду пользоваться парсером pandas, чтобы получать данные из статистической службы FRED.\n",
    "\n",
    "В качестве переменных я собираюсь использовать поквартальное изменение ключевой ставки, ставки по десятилетним казначейским облигациям, уровню инфляции и росту ВВП (последние два тоже поквартальные)."
   ]
  },
  {
   "cell_type": "code",
   "execution_count": 86,
   "metadata": {},
   "outputs": [],
   "source": [
    "import pandas_datareader as wb"
   ]
  },
  {
   "cell_type": "code",
   "execution_count": 102,
   "metadata": {},
   "outputs": [],
   "source": [
    "# скачиваю ставки и нахожу их изменение, группируя по кварталам\n",
    "rates = wb.DataReader(['DGS10', 'DFF', 'UNRATE'], 'fred', start=2012).resample('Q-DEC').mean().diff() / 100\n",
    "rates.reset_index(inplace=True)\n",
    "# Перевожу индекс в нужные единицы измерения\n",
    "rates.DATE = rates.DATE.dt.to_period('Q')"
   ]
  },
  {
   "cell_type": "code",
   "execution_count": 103,
   "metadata": {},
   "outputs": [],
   "source": [
    "# Нахожу инфлцяцию через Индекс потребительских цен, группируя по кварталам\n",
    "inflation = wb.DataReader('CPIAUCSL', 'fred', start=2012).resample('Q-DEC').mean().pct_change()\n",
    "inflation.reset_index(inplace=True)\n",
    "# Перевожу индекс в нужные единицы измерения\n",
    "inflation.DATE = inflation.DATE.dt.to_period('Q')"
   ]
  },
  {
   "cell_type": "code",
   "execution_count": 104,
   "metadata": {},
   "outputs": [],
   "source": [
    "# Скачиваю данные по ВВП и считаю рост (а тут сразу всё поквартально!)\n",
    "gdp_growth = wb.DataReader('GDP', 'fred', start=2012).pct_change()\n",
    "gdp_growth.reset_index(inplace=True)\n",
    "# Перевожу индекс в нужные единицы измерения\n",
    "gdp_growth.DATE = gdp_growth.DATE.dt.to_period('Q')"
   ]
  },
  {
   "cell_type": "code",
   "execution_count": 120,
   "metadata": {},
   "outputs": [
    {
     "name": "stdout",
     "output_type": "stream",
     "text": [
      "Wall time: 11.5 s\n"
     ]
    }
   ],
   "source": [
    "%%time\n",
    "\n",
    "# Связываю полученные значения с нашим датасетом\n",
    "\n",
    "final_df = final_df.merge(rates, left_on='period', right_on='DATE', how='left', suffixes=(False, False))\n",
    "final_df = final_df.merge(inflation, on=\"DATE\", how='left', suffixes=(False, False))\n",
    "final_df = final_df.merge(gdp_growth, on=\"DATE\", how='left', suffixes=(False, False))\n",
    "final_df.drop('DATE', axis=1, inplace=True)"
   ]
  },
  {
   "cell_type": "markdown",
   "metadata": {},
   "source": [
    "Теперь построим модель с макроиндикаторами!"
   ]
  },
  {
   "cell_type": "markdown",
   "metadata": {},
   "source": [
    "### Модель 6"
   ]
  },
  {
   "cell_type": "code",
   "execution_count": 121,
   "metadata": {},
   "outputs": [],
   "source": [
    "y = final_df['net_shares']\n",
    "y = (y - y.mean()) / y.std()\n",
    "\n",
    "X = final_df[['log_value_fund_lag_1', 'high_value_lag_1', 'med_value_lag_1',\n",
    "        'net_shares_lag_1_low', 'net_shares_lag_1_med', 'net_shares_lag_1_high',\n",
    "        'net_shares_lag_2_low', 'net_shares_lag_2_med', 'net_shares_lag_2_high',\n",
    "        'net_shares_lag_3_low', 'net_shares_lag_3_med', 'net_shares_lag_3_high',\n",
    "        'net_shares_lag_4_low', 'net_shares_lag_4_med', 'net_shares_lag_4_high',\n",
    "        'ticket_share_lag_1_high', 'ticket_share_lag_1_med', 'ticket_share_lag_1_low',\n",
    "        'ticket_share_lag_2_high', 'ticket_share_lag_2_med', 'ticket_share_lag_2_low',\n",
    "        'amend_1', 'amend_2', 'amend_3', 'amend_4',\n",
    "        'turnover_high', 'turnover_med', 'turnover_low',\n",
    "        'hhi_high', 'hhi_med', 'hhi_low', 'hhi_eq_1', 'high_turnover', 'high_hhi', \n",
    "        'extreme_turnover', 'cluster_hhi', 'cluster_turnover',\n",
    "        'sqrt_pos_count_lag_1', 'high_pos_count', 'extreme_pos_count',\n",
    "        'cluster_size_pos', 'cluster_pos_hhi', 'cluster_pos_tvr', 'mean_net_shares_lag_1',\n",
    "        'mean_net_shares_lag_1_by_value',\n",
    "         'DGS10', 'DFF', 'UNRATE', 'CPIAUCSL', 'GDP']].astype('float64')\n",
    "X = sm.add_constant(X)"
   ]
  },
  {
   "cell_type": "code",
   "execution_count": 122,
   "metadata": {
    "scrolled": false
   },
   "outputs": [
    {
     "data": {
      "text/html": [
       "<table class=\"simpletable\">\n",
       "<caption>OLS Regression Results</caption>\n",
       "<tr>\n",
       "  <th>Dep. Variable:</th>       <td>net_shares</td>    <th>  R-squared:         </th>  <td>   0.120</td>  \n",
       "</tr>\n",
       "<tr>\n",
       "  <th>Model:</th>                   <td>OLS</td>       <th>  Adj. R-squared:    </th>  <td>   0.120</td>  \n",
       "</tr>\n",
       "<tr>\n",
       "  <th>Method:</th>             <td>Least Squares</td>  <th>  F-statistic:       </th>  <td>   4491.</td>  \n",
       "</tr>\n",
       "<tr>\n",
       "  <th>Date:</th>             <td>Wed, 02 Dec 2020</td> <th>  Prob (F-statistic):</th>   <td>  0.00</td>   \n",
       "</tr>\n",
       "<tr>\n",
       "  <th>Time:</th>                 <td>00:56:14</td>     <th>  Log-Likelihood:    </th> <td>-1.8219e+06</td>\n",
       "</tr>\n",
       "<tr>\n",
       "  <th>No. Observations:</th>      <td>1344781</td>     <th>  AIC:               </th>  <td>3.644e+06</td> \n",
       "</tr>\n",
       "<tr>\n",
       "  <th>Df Residuals:</th>          <td>1344739</td>     <th>  BIC:               </th>  <td>3.644e+06</td> \n",
       "</tr>\n",
       "<tr>\n",
       "  <th>Df Model:</th>              <td>    41</td>      <th>                     </th>      <td> </td>     \n",
       "</tr>\n",
       "<tr>\n",
       "  <th>Covariance Type:</th>      <td>nonrobust</td>    <th>                     </th>      <td> </td>     \n",
       "</tr>\n",
       "</table>\n",
       "<table class=\"simpletable\">\n",
       "<tr>\n",
       "                 <td></td>                   <th>coef</th>     <th>std err</th>      <th>t</th>      <th>P>|t|</th>  <th>[0.025</th>    <th>0.975]</th>  \n",
       "</tr>\n",
       "<tr>\n",
       "  <th>const</th>                          <td>    0.0073</td> <td>    0.018</td> <td>    0.397</td> <td> 0.692</td> <td>   -0.029</td> <td>    0.044</td>\n",
       "</tr>\n",
       "<tr>\n",
       "  <th>log_value_fund_lag_1</th>           <td>   -0.0037</td> <td>    0.001</td> <td>   -3.971</td> <td> 0.000</td> <td>   -0.005</td> <td>   -0.002</td>\n",
       "</tr>\n",
       "<tr>\n",
       "  <th>high_value_lag_1</th>               <td>   -0.0077</td> <td>    0.006</td> <td>   -1.303</td> <td> 0.193</td> <td>   -0.019</td> <td>    0.004</td>\n",
       "</tr>\n",
       "<tr>\n",
       "  <th>med_value_lag_1</th>                <td>   -0.0079</td> <td>    0.005</td> <td>   -1.590</td> <td> 0.112</td> <td>   -0.018</td> <td>    0.002</td>\n",
       "</tr>\n",
       "<tr>\n",
       "  <th>net_shares_lag_1_low</th>           <td>    0.0007</td> <td> 6.37e-05</td> <td>   11.418</td> <td> 0.000</td> <td>    0.001</td> <td>    0.001</td>\n",
       "</tr>\n",
       "<tr>\n",
       "  <th>net_shares_lag_1_med</th>           <td>    0.0003</td> <td> 6.91e-06</td> <td>   44.216</td> <td> 0.000</td> <td>    0.000</td> <td>    0.000</td>\n",
       "</tr>\n",
       "<tr>\n",
       "  <th>net_shares_lag_1_high</th>          <td> 2.908e-05</td> <td> 4.45e-07</td> <td>   65.375</td> <td> 0.000</td> <td> 2.82e-05</td> <td>    3e-05</td>\n",
       "</tr>\n",
       "<tr>\n",
       "  <th>net_shares_lag_2_low</th>           <td> 2.615e-05</td> <td> 8.57e-05</td> <td>    0.305</td> <td> 0.760</td> <td>   -0.000</td> <td>    0.000</td>\n",
       "</tr>\n",
       "<tr>\n",
       "  <th>net_shares_lag_2_med</th>           <td> 4.336e-05</td> <td> 4.23e-06</td> <td>   10.255</td> <td> 0.000</td> <td> 3.51e-05</td> <td> 5.17e-05</td>\n",
       "</tr>\n",
       "<tr>\n",
       "  <th>net_shares_lag_2_high</th>          <td>    0.0006</td> <td> 1.62e-06</td> <td>  348.751</td> <td> 0.000</td> <td>    0.001</td> <td>    0.001</td>\n",
       "</tr>\n",
       "<tr>\n",
       "  <th>net_shares_lag_3_low</th>           <td>-4.675e-05</td> <td>    0.000</td> <td>   -0.346</td> <td> 0.729</td> <td>   -0.000</td> <td>    0.000</td>\n",
       "</tr>\n",
       "<tr>\n",
       "  <th>net_shares_lag_3_med</th>           <td> 3.165e-05</td> <td> 3.06e-06</td> <td>   10.352</td> <td> 0.000</td> <td> 2.57e-05</td> <td> 3.76e-05</td>\n",
       "</tr>\n",
       "<tr>\n",
       "  <th>net_shares_lag_3_high</th>          <td>    0.0003</td> <td> 4.28e-06</td> <td>   73.093</td> <td> 0.000</td> <td>    0.000</td> <td>    0.000</td>\n",
       "</tr>\n",
       "<tr>\n",
       "  <th>net_shares_lag_4_low</th>           <td>    0.0004</td> <td>    0.000</td> <td>    2.278</td> <td> 0.023</td> <td> 5.54e-05</td> <td>    0.001</td>\n",
       "</tr>\n",
       "<tr>\n",
       "  <th>net_shares_lag_4_med</th>           <td>-1.966e-06</td> <td> 2.87e-06</td> <td>   -0.684</td> <td> 0.494</td> <td> -7.6e-06</td> <td> 3.67e-06</td>\n",
       "</tr>\n",
       "<tr>\n",
       "  <th>net_shares_lag_4_high</th>          <td>    0.0002</td> <td> 5.79e-06</td> <td>   41.281</td> <td> 0.000</td> <td>    0.000</td> <td>    0.000</td>\n",
       "</tr>\n",
       "<tr>\n",
       "  <th>ticket_share_lag_1_high</th>        <td> 2.908e-05</td> <td> 4.45e-07</td> <td>   65.375</td> <td> 0.000</td> <td> 2.82e-05</td> <td>    3e-05</td>\n",
       "</tr>\n",
       "<tr>\n",
       "  <th>ticket_share_lag_1_med</th>         <td>    0.0003</td> <td> 6.91e-06</td> <td>   44.216</td> <td> 0.000</td> <td>    0.000</td> <td>    0.000</td>\n",
       "</tr>\n",
       "<tr>\n",
       "  <th>ticket_share_lag_1_low</th>         <td>    0.0007</td> <td> 6.37e-05</td> <td>   11.418</td> <td> 0.000</td> <td>    0.001</td> <td>    0.001</td>\n",
       "</tr>\n",
       "<tr>\n",
       "  <th>ticket_share_lag_2_high</th>        <td>    0.0006</td> <td> 1.62e-06</td> <td>  348.751</td> <td> 0.000</td> <td>    0.001</td> <td>    0.001</td>\n",
       "</tr>\n",
       "<tr>\n",
       "  <th>ticket_share_lag_2_med</th>         <td> 4.336e-05</td> <td> 4.23e-06</td> <td>   10.255</td> <td> 0.000</td> <td> 3.51e-05</td> <td> 5.17e-05</td>\n",
       "</tr>\n",
       "<tr>\n",
       "  <th>ticket_share_lag_2_low</th>         <td> 2.615e-05</td> <td> 8.57e-05</td> <td>    0.305</td> <td> 0.760</td> <td>   -0.000</td> <td>    0.000</td>\n",
       "</tr>\n",
       "<tr>\n",
       "  <th>amend_1</th>                        <td>   -0.0077</td> <td>    0.009</td> <td>   -0.857</td> <td> 0.392</td> <td>   -0.025</td> <td>    0.010</td>\n",
       "</tr>\n",
       "<tr>\n",
       "  <th>amend_2</th>                        <td>   -0.0069</td> <td>    0.009</td> <td>   -0.732</td> <td> 0.464</td> <td>   -0.026</td> <td>    0.012</td>\n",
       "</tr>\n",
       "<tr>\n",
       "  <th>amend_3</th>                        <td>   -0.0054</td> <td>    0.009</td> <td>   -0.592</td> <td> 0.554</td> <td>   -0.023</td> <td>    0.012</td>\n",
       "</tr>\n",
       "<tr>\n",
       "  <th>amend_4</th>                        <td>   -0.0056</td> <td>    0.009</td> <td>   -0.647</td> <td> 0.518</td> <td>   -0.022</td> <td>    0.011</td>\n",
       "</tr>\n",
       "<tr>\n",
       "  <th>turnover_high</th>                  <td>    0.0255</td> <td>    0.004</td> <td>    6.523</td> <td> 0.000</td> <td>    0.018</td> <td>    0.033</td>\n",
       "</tr>\n",
       "<tr>\n",
       "  <th>turnover_med</th>                   <td>    0.0119</td> <td>    0.007</td> <td>    1.766</td> <td> 0.077</td> <td>   -0.001</td> <td>    0.025</td>\n",
       "</tr>\n",
       "<tr>\n",
       "  <th>turnover_low</th>                   <td>   -0.0230</td> <td>    0.008</td> <td>   -2.721</td> <td> 0.007</td> <td>   -0.040</td> <td>   -0.006</td>\n",
       "</tr>\n",
       "<tr>\n",
       "  <th>hhi_high</th>                       <td>    0.0255</td> <td>    0.004</td> <td>    6.523</td> <td> 0.000</td> <td>    0.018</td> <td>    0.033</td>\n",
       "</tr>\n",
       "<tr>\n",
       "  <th>hhi_med</th>                        <td>    0.0119</td> <td>    0.007</td> <td>    1.766</td> <td> 0.077</td> <td>   -0.001</td> <td>    0.025</td>\n",
       "</tr>\n",
       "<tr>\n",
       "  <th>hhi_low</th>                        <td>   -0.0230</td> <td>    0.008</td> <td>   -2.721</td> <td> 0.007</td> <td>   -0.040</td> <td>   -0.006</td>\n",
       "</tr>\n",
       "<tr>\n",
       "  <th>hhi_eq_1</th>                       <td>   -0.0107</td> <td>    0.057</td> <td>   -0.186</td> <td> 0.852</td> <td>   -0.123</td> <td>    0.102</td>\n",
       "</tr>\n",
       "<tr>\n",
       "  <th>high_turnover</th>                  <td>    0.0148</td> <td>    0.005</td> <td>    3.100</td> <td> 0.002</td> <td>    0.005</td> <td>    0.024</td>\n",
       "</tr>\n",
       "<tr>\n",
       "  <th>high_hhi</th>                       <td>    0.0027</td> <td>    0.007</td> <td>    0.377</td> <td> 0.706</td> <td>   -0.011</td> <td>    0.017</td>\n",
       "</tr>\n",
       "<tr>\n",
       "  <th>extreme_turnover</th>               <td>   -0.1282</td> <td>    0.026</td> <td>   -4.854</td> <td> 0.000</td> <td>   -0.180</td> <td>   -0.076</td>\n",
       "</tr>\n",
       "<tr>\n",
       "  <th>cluster_hhi</th>                    <td>   -0.0003</td> <td>    0.003</td> <td>   -0.102</td> <td> 0.918</td> <td>   -0.007</td> <td>    0.006</td>\n",
       "</tr>\n",
       "<tr>\n",
       "  <th>cluster_turnover</th>               <td>    0.0029</td> <td>    0.003</td> <td>    1.090</td> <td> 0.276</td> <td>   -0.002</td> <td>    0.008</td>\n",
       "</tr>\n",
       "<tr>\n",
       "  <th>sqrt_pos_count_lag_1</th>           <td>    0.0004</td> <td> 9.87e-05</td> <td>    4.160</td> <td> 0.000</td> <td>    0.000</td> <td>    0.001</td>\n",
       "</tr>\n",
       "<tr>\n",
       "  <th>high_pos_count</th>                 <td>    0.0043</td> <td>    0.013</td> <td>    0.338</td> <td> 0.735</td> <td>   -0.021</td> <td>    0.029</td>\n",
       "</tr>\n",
       "<tr>\n",
       "  <th>extreme_pos_count</th>              <td>   -0.0644</td> <td>    0.014</td> <td>   -4.533</td> <td> 0.000</td> <td>   -0.092</td> <td>   -0.037</td>\n",
       "</tr>\n",
       "<tr>\n",
       "  <th>cluster_size_pos</th>               <td>   -0.0041</td> <td>    0.003</td> <td>   -1.276</td> <td> 0.202</td> <td>   -0.010</td> <td>    0.002</td>\n",
       "</tr>\n",
       "<tr>\n",
       "  <th>cluster_pos_hhi</th>                <td>    0.0019</td> <td>    0.003</td> <td>    0.730</td> <td> 0.465</td> <td>   -0.003</td> <td>    0.007</td>\n",
       "</tr>\n",
       "<tr>\n",
       "  <th>cluster_pos_tvr</th>                <td>    0.0002</td> <td>    0.005</td> <td>    0.043</td> <td> 0.966</td> <td>   -0.009</td> <td>    0.009</td>\n",
       "</tr>\n",
       "<tr>\n",
       "  <th>mean_net_shares_lag_1</th>          <td>-5.335e-06</td> <td> 2.04e-05</td> <td>   -0.261</td> <td> 0.794</td> <td>-4.54e-05</td> <td> 3.47e-05</td>\n",
       "</tr>\n",
       "<tr>\n",
       "  <th>mean_net_shares_lag_1_by_value</th> <td> 3.716e-06</td> <td> 1.93e-05</td> <td>    0.193</td> <td> 0.847</td> <td>-3.41e-05</td> <td> 4.15e-05</td>\n",
       "</tr>\n",
       "<tr>\n",
       "  <th>DGS10</th>                          <td>   -1.5038</td> <td>    1.117</td> <td>   -1.346</td> <td> 0.178</td> <td>   -3.693</td> <td>    0.685</td>\n",
       "</tr>\n",
       "<tr>\n",
       "  <th>DFF</th>                            <td>    9.3121</td> <td>    1.795</td> <td>    5.187</td> <td> 0.000</td> <td>    5.793</td> <td>   12.831</td>\n",
       "</tr>\n",
       "<tr>\n",
       "  <th>UNRATE</th>                         <td>  -12.4554</td> <td>    2.230</td> <td>   -5.585</td> <td> 0.000</td> <td>  -16.827</td> <td>   -8.084</td>\n",
       "</tr>\n",
       "<tr>\n",
       "  <th>CPIAUCSL</th>                       <td>    5.4523</td> <td>    1.230</td> <td>    4.432</td> <td> 0.000</td> <td>    3.041</td> <td>    7.863</td>\n",
       "</tr>\n",
       "<tr>\n",
       "  <th>GDP</th>                            <td>   -1.2460</td> <td>    0.453</td> <td>   -2.753</td> <td> 0.006</td> <td>   -2.133</td> <td>   -0.359</td>\n",
       "</tr>\n",
       "</table>\n",
       "<table class=\"simpletable\">\n",
       "<tr>\n",
       "  <th>Omnibus:</th>       <td>9172479.027</td> <th>  Durbin-Watson:     </th>       <td>   2.041</td>       \n",
       "</tr>\n",
       "<tr>\n",
       "  <th>Prob(Omnibus):</th>   <td> 0.000</td>    <th>  Jarque-Bera (JB):  </th> <td>23705435903190096.000</td>\n",
       "</tr>\n",
       "<tr>\n",
       "  <th>Skew:</th>            <td>703.752</td>   <th>  Prob(JB):          </th>       <td>    0.00</td>       \n",
       "</tr>\n",
       "<tr>\n",
       "  <th>Kurtosis:</th>      <td>650436.341</td>  <th>  Cond. No.          </th>       <td>1.07e+16</td>       \n",
       "</tr>\n",
       "</table><br/><br/>Warnings:<br/>[1] Standard Errors assume that the covariance matrix of the errors is correctly specified.<br/>[2] The smallest eigenvalue is 2.02e-20. This might indicate that there are<br/>strong multicollinearity problems or that the design matrix is singular."
      ],
      "text/plain": [
       "<class 'statsmodels.iolib.summary.Summary'>\n",
       "\"\"\"\n",
       "                            OLS Regression Results                            \n",
       "==============================================================================\n",
       "Dep. Variable:             net_shares   R-squared:                       0.120\n",
       "Model:                            OLS   Adj. R-squared:                  0.120\n",
       "Method:                 Least Squares   F-statistic:                     4491.\n",
       "Date:                Wed, 02 Dec 2020   Prob (F-statistic):               0.00\n",
       "Time:                        00:56:14   Log-Likelihood:            -1.8219e+06\n",
       "No. Observations:             1344781   AIC:                         3.644e+06\n",
       "Df Residuals:                 1344739   BIC:                         3.644e+06\n",
       "Df Model:                          41                                         \n",
       "Covariance Type:            nonrobust                                         \n",
       "==================================================================================================\n",
       "                                     coef    std err          t      P>|t|      [0.025      0.975]\n",
       "--------------------------------------------------------------------------------------------------\n",
       "const                              0.0073      0.018      0.397      0.692      -0.029       0.044\n",
       "log_value_fund_lag_1              -0.0037      0.001     -3.971      0.000      -0.005      -0.002\n",
       "high_value_lag_1                  -0.0077      0.006     -1.303      0.193      -0.019       0.004\n",
       "med_value_lag_1                   -0.0079      0.005     -1.590      0.112      -0.018       0.002\n",
       "net_shares_lag_1_low               0.0007   6.37e-05     11.418      0.000       0.001       0.001\n",
       "net_shares_lag_1_med               0.0003   6.91e-06     44.216      0.000       0.000       0.000\n",
       "net_shares_lag_1_high           2.908e-05   4.45e-07     65.375      0.000    2.82e-05       3e-05\n",
       "net_shares_lag_2_low            2.615e-05   8.57e-05      0.305      0.760      -0.000       0.000\n",
       "net_shares_lag_2_med            4.336e-05   4.23e-06     10.255      0.000    3.51e-05    5.17e-05\n",
       "net_shares_lag_2_high              0.0006   1.62e-06    348.751      0.000       0.001       0.001\n",
       "net_shares_lag_3_low           -4.675e-05      0.000     -0.346      0.729      -0.000       0.000\n",
       "net_shares_lag_3_med            3.165e-05   3.06e-06     10.352      0.000    2.57e-05    3.76e-05\n",
       "net_shares_lag_3_high              0.0003   4.28e-06     73.093      0.000       0.000       0.000\n",
       "net_shares_lag_4_low               0.0004      0.000      2.278      0.023    5.54e-05       0.001\n",
       "net_shares_lag_4_med           -1.966e-06   2.87e-06     -0.684      0.494    -7.6e-06    3.67e-06\n",
       "net_shares_lag_4_high              0.0002   5.79e-06     41.281      0.000       0.000       0.000\n",
       "ticket_share_lag_1_high         2.908e-05   4.45e-07     65.375      0.000    2.82e-05       3e-05\n",
       "ticket_share_lag_1_med             0.0003   6.91e-06     44.216      0.000       0.000       0.000\n",
       "ticket_share_lag_1_low             0.0007   6.37e-05     11.418      0.000       0.001       0.001\n",
       "ticket_share_lag_2_high            0.0006   1.62e-06    348.751      0.000       0.001       0.001\n",
       "ticket_share_lag_2_med          4.336e-05   4.23e-06     10.255      0.000    3.51e-05    5.17e-05\n",
       "ticket_share_lag_2_low          2.615e-05   8.57e-05      0.305      0.760      -0.000       0.000\n",
       "amend_1                           -0.0077      0.009     -0.857      0.392      -0.025       0.010\n",
       "amend_2                           -0.0069      0.009     -0.732      0.464      -0.026       0.012\n",
       "amend_3                           -0.0054      0.009     -0.592      0.554      -0.023       0.012\n",
       "amend_4                           -0.0056      0.009     -0.647      0.518      -0.022       0.011\n",
       "turnover_high                      0.0255      0.004      6.523      0.000       0.018       0.033\n",
       "turnover_med                       0.0119      0.007      1.766      0.077      -0.001       0.025\n",
       "turnover_low                      -0.0230      0.008     -2.721      0.007      -0.040      -0.006\n",
       "hhi_high                           0.0255      0.004      6.523      0.000       0.018       0.033\n",
       "hhi_med                            0.0119      0.007      1.766      0.077      -0.001       0.025\n",
       "hhi_low                           -0.0230      0.008     -2.721      0.007      -0.040      -0.006\n",
       "hhi_eq_1                          -0.0107      0.057     -0.186      0.852      -0.123       0.102\n",
       "high_turnover                      0.0148      0.005      3.100      0.002       0.005       0.024\n",
       "high_hhi                           0.0027      0.007      0.377      0.706      -0.011       0.017\n",
       "extreme_turnover                  -0.1282      0.026     -4.854      0.000      -0.180      -0.076\n",
       "cluster_hhi                       -0.0003      0.003     -0.102      0.918      -0.007       0.006\n",
       "cluster_turnover                   0.0029      0.003      1.090      0.276      -0.002       0.008\n",
       "sqrt_pos_count_lag_1               0.0004   9.87e-05      4.160      0.000       0.000       0.001\n",
       "high_pos_count                     0.0043      0.013      0.338      0.735      -0.021       0.029\n",
       "extreme_pos_count                 -0.0644      0.014     -4.533      0.000      -0.092      -0.037\n",
       "cluster_size_pos                  -0.0041      0.003     -1.276      0.202      -0.010       0.002\n",
       "cluster_pos_hhi                    0.0019      0.003      0.730      0.465      -0.003       0.007\n",
       "cluster_pos_tvr                    0.0002      0.005      0.043      0.966      -0.009       0.009\n",
       "mean_net_shares_lag_1          -5.335e-06   2.04e-05     -0.261      0.794   -4.54e-05    3.47e-05\n",
       "mean_net_shares_lag_1_by_value  3.716e-06   1.93e-05      0.193      0.847   -3.41e-05    4.15e-05\n",
       "DGS10                             -1.5038      1.117     -1.346      0.178      -3.693       0.685\n",
       "DFF                                9.3121      1.795      5.187      0.000       5.793      12.831\n",
       "UNRATE                           -12.4554      2.230     -5.585      0.000     -16.827      -8.084\n",
       "CPIAUCSL                           5.4523      1.230      4.432      0.000       3.041       7.863\n",
       "GDP                               -1.2460      0.453     -2.753      0.006      -2.133      -0.359\n",
       "=================================================================================\n",
       "Omnibus:                  9172479.027   Durbin-Watson:                      2.041\n",
       "Prob(Omnibus):                  0.000   Jarque-Bera (JB):   23705435903190096.000\n",
       "Skew:                         703.752   Prob(JB):                            0.00\n",
       "Kurtosis:                  650436.341   Cond. No.                        1.07e+16\n",
       "=================================================================================\n",
       "\n",
       "Warnings:\n",
       "[1] Standard Errors assume that the covariance matrix of the errors is correctly specified.\n",
       "[2] The smallest eigenvalue is 2.02e-20. This might indicate that there are\n",
       "strong multicollinearity problems or that the design matrix is singular.\n",
       "\"\"\""
      ]
     },
     "execution_count": 122,
     "metadata": {},
     "output_type": "execute_result"
    }
   ],
   "source": [
    "model_6 = sm.OLS(y, X).fit()\n",
    "model_6.summary()"
   ]
  },
  {
   "cell_type": "markdown",
   "metadata": {},
   "source": [
    "Все индикаторы, кроме ставки по облигациям, оказались значимыми.\n",
    "\n",
    "Наблюдается отрицательная зависимость от безработицы, положительная от инфляции и отрицательная от роста ВВП.\n",
    "Первая зависимость интиутивно понятно. Низкая безработица свидетельствует о росте экономики, который наблюдается последнее время, а во время роста увеличиваются вложения в финансовые активы. Если рост вызван увеличением предложения, то ещё более очевидно, что улучшение ситуации у эмитентов делает их более привлекательным.\n",
    "\n",
    "Вторая и третья зависимость не так очевидна, но у меня есть объяснение. Увеличение инфляции и падение выпуска происходит при уменьшении совокупного предложения. Это говорит об ухудшении положении эмитентов. Тем не менее, стоит вспомнить про то, что бизнес-циклы неотъемлемая часть экономики. И в такой ситуации очевидно наблюдается спад. Мы знаем, как и все, что после спада наступает рост. А во время роста (см. абзац выше) увеличивается спрос на финансовые активы и, как следствие, цена на них. Значит, инвестор может купить акции сейчас дешевле и продать их во время бума подороже. Наверно, так можно объяснить эти коэффициенты.\n",
    "\n",
    "Положительная зависимость от ключевой ставки объясняется тем, что увеличение ставки может быть представлено как контр-мера против перегревания экономики во время экономического бума, а поведение во время бума я уже описывал.\n",
    "\n",
    "Если надо, то я могу воспользоваться IS-LM моделью, чтобы более подробно попытаться объяснить зависимость и логику."
   ]
  },
  {
   "cell_type": "markdown",
   "metadata": {},
   "source": [
    "Давайте для интереса посмотрим, какие переменные отвечают за мультиколлинеарность."
   ]
  },
  {
   "cell_type": "code",
   "execution_count": 93,
   "metadata": {},
   "outputs": [
    {
     "name": "stdout",
     "output_type": "stream",
     "text": [
      "Wall time: 8min 43s\n"
     ]
    },
    {
     "data": {
      "text/plain": [
       "array(['const', 'net_shares_lag_1_low', 'net_shares_lag_1_med',\n",
       "       'net_shares_lag_1_high', 'net_shares_lag_2_low',\n",
       "       'net_shares_lag_2_med', 'net_shares_lag_2_high',\n",
       "       'ticket_share_lag_1_high', 'ticket_share_lag_1_med',\n",
       "       'ticket_share_lag_1_low', 'ticket_share_lag_2_high',\n",
       "       'ticket_share_lag_2_med', 'ticket_share_lag_2_low',\n",
       "       'turnover_high', 'turnover_med', 'turnover_low', 'hhi_high',\n",
       "       'hhi_med', 'hhi_low', 'CPIAUCSL'], dtype=object)"
      ]
     },
     "execution_count": 93,
     "metadata": {},
     "output_type": "execute_result"
    }
   ],
   "source": [
    "%%time\n",
    "\n",
    "from statsmodels.stats.outliers_influence import variance_inflation_factor\n",
    "\n",
    "variables = model_7.model.exog\n",
    "vif = [variance_inflation_factor(variables, i) for i in range(variables.shape[1])]\n",
    "\n",
    "vif_series = pd.Series(index=X.columns, data=vif)\n",
    "vif_series[vif_series >= 10].index.values"
   ]
  },
  {
   "cell_type": "markdown",
   "metadata": {},
   "source": [
    "Мы видим тут константу (она коррелирует со средним по фондам и средним по схожим фондам), индикаторы размера, так как они сильно коррелируют с другими факторизованными переменными, переменные, связанные с turnover и HHI, так как они связаны сильно с лагами и доходом соотвественно, а также похожи на константу в силу маленькой дисперсии, и инфляцию, так как она связана со всеми макро показателями.\n",
    "\n",
    "Кроме того, высокая мультиколлинеарность у переменных чистого изменения и доли акций. Мне кажется, они связаны, так как высокое изменение числа акций ведет к большей доле."
   ]
  },
  {
   "cell_type": "markdown",
   "metadata": {},
   "source": [
    "## Мы не можем жить без ~~космоса~~ факторизации"
   ]
  },
  {
   "cell_type": "markdown",
   "metadata": {},
   "source": [
    "Предположу, что фонд будет по-разному реагировать на изменение макроэкономического положения в зависимости от своего размера. Поэтому факторизую индикаторы и построю на новых переменных регрессию."
   ]
  },
  {
   "cell_type": "code",
   "execution_count": 123,
   "metadata": {},
   "outputs": [],
   "source": [
    "for macro_factor in ['DGS10', 'DFF', 'UNRATE', 'CPIAUCSL', 'GDP']:\n",
    "    final_df[macro_factor + '_high'] = final_df[macro_factor].mul(final_df.high_value, axis=0)\n",
    "    final_df[macro_factor + '_med'] = final_df[macro_factor].mul(final_df.med_value, axis=0)\n",
    "    final_df[macro_factor + '_low'] = final_df[macro_factor].mul(final_df.low_value, axis=0)"
   ]
  },
  {
   "cell_type": "markdown",
   "metadata": {},
   "source": [
    "### Модель 7"
   ]
  },
  {
   "cell_type": "code",
   "execution_count": 124,
   "metadata": {},
   "outputs": [],
   "source": [
    "y = final_df['net_shares']\n",
    "y = (y - y.mean()) / y.std()\n",
    "\n",
    "X = final_df[['log_value_fund_lag_1', 'high_value_lag_1', 'med_value_lag_1',\n",
    "        'net_shares_lag_1_low', 'net_shares_lag_1_med', 'net_shares_lag_1_high',\n",
    "        'net_shares_lag_2_low', 'net_shares_lag_2_med', 'net_shares_lag_2_high',\n",
    "        'net_shares_lag_3_low', 'net_shares_lag_3_med', 'net_shares_lag_3_high',\n",
    "        'net_shares_lag_4_low', 'net_shares_lag_4_med', 'net_shares_lag_4_high',\n",
    "        'ticket_share_lag_1_high', 'ticket_share_lag_1_med', 'ticket_share_lag_1_low',\n",
    "        'ticket_share_lag_2_high', 'ticket_share_lag_2_med', 'ticket_share_lag_2_low',\n",
    "        'amend_1', 'amend_2', 'amend_3', 'amend_4',\n",
    "        'turnover_high', 'turnover_med', 'turnover_low',\n",
    "        'hhi_high', 'hhi_med', 'hhi_low', 'hhi_eq_1', 'high_turnover', 'high_hhi', \n",
    "        'extreme_turnover', 'cluster_hhi', 'cluster_turnover',\n",
    "        'sqrt_pos_count_lag_1', 'high_pos_count', 'extreme_pos_count',\n",
    "        'cluster_size_pos', 'cluster_pos_hhi', 'cluster_pos_tvr', 'mean_net_shares_lag_1',\n",
    "        'mean_net_shares_lag_1_by_value',\n",
    "        'DGS10_high', 'DGS10_med', 'DGS10_low', 'DFF_high', 'DFF_med', 'DFF_low', 'UNRATE_high',\n",
    "        'UNRATE_med', 'UNRATE_low', 'CPIAUCSL_high', 'CPIAUCSL_med',\n",
    "        'CPIAUCSL_low', 'GDP_high', 'GDP_med', 'GDP_low']].astype('float64')\n",
    "X = sm.add_constant(X)"
   ]
  },
  {
   "cell_type": "code",
   "execution_count": 125,
   "metadata": {
    "scrolled": false
   },
   "outputs": [
    {
     "data": {
      "text/html": [
       "<table class=\"simpletable\">\n",
       "<caption>OLS Regression Results</caption>\n",
       "<tr>\n",
       "  <th>Dep. Variable:</th>       <td>net_shares</td>    <th>  R-squared:         </th>  <td>   0.120</td>  \n",
       "</tr>\n",
       "<tr>\n",
       "  <th>Model:</th>                   <td>OLS</td>       <th>  Adj. R-squared:    </th>  <td>   0.120</td>  \n",
       "</tr>\n",
       "<tr>\n",
       "  <th>Method:</th>             <td>Least Squares</td>  <th>  F-statistic:       </th>  <td>   3612.</td>  \n",
       "</tr>\n",
       "<tr>\n",
       "  <th>Date:</th>             <td>Wed, 02 Dec 2020</td> <th>  Prob (F-statistic):</th>   <td>  0.00</td>   \n",
       "</tr>\n",
       "<tr>\n",
       "  <th>Time:</th>                 <td>00:56:34</td>     <th>  Log-Likelihood:    </th> <td>-1.8218e+06</td>\n",
       "</tr>\n",
       "<tr>\n",
       "  <th>No. Observations:</th>      <td>1344781</td>     <th>  AIC:               </th>  <td>3.644e+06</td> \n",
       "</tr>\n",
       "<tr>\n",
       "  <th>Df Residuals:</th>          <td>1344729</td>     <th>  BIC:               </th>  <td>3.644e+06</td> \n",
       "</tr>\n",
       "<tr>\n",
       "  <th>Df Model:</th>              <td>    51</td>      <th>                     </th>      <td> </td>     \n",
       "</tr>\n",
       "<tr>\n",
       "  <th>Covariance Type:</th>      <td>nonrobust</td>    <th>                     </th>      <td> </td>     \n",
       "</tr>\n",
       "</table>\n",
       "<table class=\"simpletable\">\n",
       "<tr>\n",
       "                 <td></td>                   <th>coef</th>     <th>std err</th>      <th>t</th>      <th>P>|t|</th>  <th>[0.025</th>    <th>0.975]</th>  \n",
       "</tr>\n",
       "<tr>\n",
       "  <th>const</th>                          <td>    0.0842</td> <td>    0.021</td> <td>    4.059</td> <td> 0.000</td> <td>    0.044</td> <td>    0.125</td>\n",
       "</tr>\n",
       "<tr>\n",
       "  <th>log_value_fund_lag_1</th>           <td>   -0.0053</td> <td>    0.001</td> <td>   -5.634</td> <td> 0.000</td> <td>   -0.007</td> <td>   -0.003</td>\n",
       "</tr>\n",
       "<tr>\n",
       "  <th>high_value_lag_1</th>               <td>   -0.0650</td> <td>    0.009</td> <td>   -7.198</td> <td> 0.000</td> <td>   -0.083</td> <td>   -0.047</td>\n",
       "</tr>\n",
       "<tr>\n",
       "  <th>med_value_lag_1</th>                <td>   -0.0404</td> <td>    0.007</td> <td>   -5.463</td> <td> 0.000</td> <td>   -0.055</td> <td>   -0.026</td>\n",
       "</tr>\n",
       "<tr>\n",
       "  <th>net_shares_lag_1_low</th>           <td>    0.0007</td> <td> 6.37e-05</td> <td>   11.418</td> <td> 0.000</td> <td>    0.001</td> <td>    0.001</td>\n",
       "</tr>\n",
       "<tr>\n",
       "  <th>net_shares_lag_1_med</th>           <td>    0.0003</td> <td> 6.91e-06</td> <td>   44.245</td> <td> 0.000</td> <td>    0.000</td> <td>    0.000</td>\n",
       "</tr>\n",
       "<tr>\n",
       "  <th>net_shares_lag_1_high</th>          <td> 2.908e-05</td> <td> 4.45e-07</td> <td>   65.372</td> <td> 0.000</td> <td> 2.82e-05</td> <td>    3e-05</td>\n",
       "</tr>\n",
       "<tr>\n",
       "  <th>net_shares_lag_2_low</th>           <td> 3.009e-05</td> <td> 8.57e-05</td> <td>    0.351</td> <td> 0.726</td> <td>   -0.000</td> <td>    0.000</td>\n",
       "</tr>\n",
       "<tr>\n",
       "  <th>net_shares_lag_2_med</th>           <td> 4.346e-05</td> <td> 4.23e-06</td> <td>   10.280</td> <td> 0.000</td> <td> 3.52e-05</td> <td> 5.18e-05</td>\n",
       "</tr>\n",
       "<tr>\n",
       "  <th>net_shares_lag_2_high</th>          <td>    0.0006</td> <td> 1.62e-06</td> <td>  348.763</td> <td> 0.000</td> <td>    0.001</td> <td>    0.001</td>\n",
       "</tr>\n",
       "<tr>\n",
       "  <th>net_shares_lag_3_low</th>           <td>-4.329e-05</td> <td>    0.000</td> <td>   -0.320</td> <td> 0.749</td> <td>   -0.000</td> <td>    0.000</td>\n",
       "</tr>\n",
       "<tr>\n",
       "  <th>net_shares_lag_3_med</th>           <td>  3.17e-05</td> <td> 3.06e-06</td> <td>   10.370</td> <td> 0.000</td> <td> 2.57e-05</td> <td> 3.77e-05</td>\n",
       "</tr>\n",
       "<tr>\n",
       "  <th>net_shares_lag_3_high</th>          <td>    0.0003</td> <td> 4.28e-06</td> <td>   73.086</td> <td> 0.000</td> <td>    0.000</td> <td>    0.000</td>\n",
       "</tr>\n",
       "<tr>\n",
       "  <th>net_shares_lag_4_low</th>           <td>    0.0004</td> <td>    0.000</td> <td>    2.310</td> <td> 0.021</td> <td>  6.1e-05</td> <td>    0.001</td>\n",
       "</tr>\n",
       "<tr>\n",
       "  <th>net_shares_lag_4_med</th>           <td>-1.984e-06</td> <td> 2.87e-06</td> <td>   -0.690</td> <td> 0.490</td> <td>-7.62e-06</td> <td> 3.65e-06</td>\n",
       "</tr>\n",
       "<tr>\n",
       "  <th>net_shares_lag_4_high</th>          <td>    0.0002</td> <td> 5.79e-06</td> <td>   41.273</td> <td> 0.000</td> <td>    0.000</td> <td>    0.000</td>\n",
       "</tr>\n",
       "<tr>\n",
       "  <th>ticket_share_lag_1_high</th>        <td> 2.908e-05</td> <td> 4.45e-07</td> <td>   65.372</td> <td> 0.000</td> <td> 2.82e-05</td> <td>    3e-05</td>\n",
       "</tr>\n",
       "<tr>\n",
       "  <th>ticket_share_lag_1_med</th>         <td>    0.0003</td> <td> 6.91e-06</td> <td>   44.245</td> <td> 0.000</td> <td>    0.000</td> <td>    0.000</td>\n",
       "</tr>\n",
       "<tr>\n",
       "  <th>ticket_share_lag_1_low</th>         <td>    0.0007</td> <td> 6.37e-05</td> <td>   11.418</td> <td> 0.000</td> <td>    0.001</td> <td>    0.001</td>\n",
       "</tr>\n",
       "<tr>\n",
       "  <th>ticket_share_lag_2_high</th>        <td>    0.0006</td> <td> 1.62e-06</td> <td>  348.763</td> <td> 0.000</td> <td>    0.001</td> <td>    0.001</td>\n",
       "</tr>\n",
       "<tr>\n",
       "  <th>ticket_share_lag_2_med</th>         <td> 4.346e-05</td> <td> 4.23e-06</td> <td>   10.280</td> <td> 0.000</td> <td> 3.52e-05</td> <td> 5.18e-05</td>\n",
       "</tr>\n",
       "<tr>\n",
       "  <th>ticket_share_lag_2_low</th>         <td> 3.009e-05</td> <td> 8.57e-05</td> <td>    0.351</td> <td> 0.726</td> <td>   -0.000</td> <td>    0.000</td>\n",
       "</tr>\n",
       "<tr>\n",
       "  <th>amend_1</th>                        <td>   -0.0035</td> <td>    0.009</td> <td>   -0.381</td> <td> 0.703</td> <td>   -0.021</td> <td>    0.014</td>\n",
       "</tr>\n",
       "<tr>\n",
       "  <th>amend_2</th>                        <td>   -0.0087</td> <td>    0.010</td> <td>   -0.912</td> <td> 0.362</td> <td>   -0.027</td> <td>    0.010</td>\n",
       "</tr>\n",
       "<tr>\n",
       "  <th>amend_3</th>                        <td>   -0.0063</td> <td>    0.009</td> <td>   -0.690</td> <td> 0.490</td> <td>   -0.024</td> <td>    0.012</td>\n",
       "</tr>\n",
       "<tr>\n",
       "  <th>amend_4</th>                        <td>   -0.0046</td> <td>    0.009</td> <td>   -0.534</td> <td> 0.594</td> <td>   -0.021</td> <td>    0.012</td>\n",
       "</tr>\n",
       "<tr>\n",
       "  <th>turnover_high</th>                  <td>    0.0202</td> <td>    0.004</td> <td>    5.082</td> <td> 0.000</td> <td>    0.012</td> <td>    0.028</td>\n",
       "</tr>\n",
       "<tr>\n",
       "  <th>turnover_med</th>                   <td>    0.0130</td> <td>    0.008</td> <td>    1.717</td> <td> 0.086</td> <td>   -0.002</td> <td>    0.028</td>\n",
       "</tr>\n",
       "<tr>\n",
       "  <th>turnover_low</th>                   <td>   -0.0031</td> <td>    0.009</td> <td>   -0.349</td> <td> 0.727</td> <td>   -0.021</td> <td>    0.014</td>\n",
       "</tr>\n",
       "<tr>\n",
       "  <th>hhi_high</th>                       <td>    0.0202</td> <td>    0.004</td> <td>    5.082</td> <td> 0.000</td> <td>    0.012</td> <td>    0.028</td>\n",
       "</tr>\n",
       "<tr>\n",
       "  <th>hhi_med</th>                        <td>    0.0130</td> <td>    0.008</td> <td>    1.717</td> <td> 0.086</td> <td>   -0.002</td> <td>    0.028</td>\n",
       "</tr>\n",
       "<tr>\n",
       "  <th>hhi_low</th>                        <td>   -0.0031</td> <td>    0.009</td> <td>   -0.349</td> <td> 0.727</td> <td>   -0.021</td> <td>    0.014</td>\n",
       "</tr>\n",
       "<tr>\n",
       "  <th>hhi_eq_1</th>                       <td>   -0.0107</td> <td>    0.057</td> <td>   -0.186</td> <td> 0.852</td> <td>   -0.123</td> <td>    0.102</td>\n",
       "</tr>\n",
       "<tr>\n",
       "  <th>high_turnover</th>                  <td>    0.0173</td> <td>    0.005</td> <td>    3.620</td> <td> 0.000</td> <td>    0.008</td> <td>    0.027</td>\n",
       "</tr>\n",
       "<tr>\n",
       "  <th>high_hhi</th>                       <td>    0.0023</td> <td>    0.007</td> <td>    0.328</td> <td> 0.743</td> <td>   -0.012</td> <td>    0.016</td>\n",
       "</tr>\n",
       "<tr>\n",
       "  <th>extreme_turnover</th>               <td>   -0.1253</td> <td>    0.027</td> <td>   -4.727</td> <td> 0.000</td> <td>   -0.177</td> <td>   -0.073</td>\n",
       "</tr>\n",
       "<tr>\n",
       "  <th>cluster_hhi</th>                    <td>    0.0037</td> <td>    0.003</td> <td>    1.052</td> <td> 0.293</td> <td>   -0.003</td> <td>    0.011</td>\n",
       "</tr>\n",
       "<tr>\n",
       "  <th>cluster_turnover</th>               <td>    0.0066</td> <td>    0.003</td> <td>    2.428</td> <td> 0.015</td> <td>    0.001</td> <td>    0.012</td>\n",
       "</tr>\n",
       "<tr>\n",
       "  <th>sqrt_pos_count_lag_1</th>           <td>    0.0005</td> <td> 9.92e-05</td> <td>    4.844</td> <td> 0.000</td> <td>    0.000</td> <td>    0.001</td>\n",
       "</tr>\n",
       "<tr>\n",
       "  <th>high_pos_count</th>                 <td>    0.0094</td> <td>    0.013</td> <td>    0.740</td> <td> 0.459</td> <td>   -0.016</td> <td>    0.034</td>\n",
       "</tr>\n",
       "<tr>\n",
       "  <th>extreme_pos_count</th>              <td>   -0.0723</td> <td>    0.014</td> <td>   -5.071</td> <td> 0.000</td> <td>   -0.100</td> <td>   -0.044</td>\n",
       "</tr>\n",
       "<tr>\n",
       "  <th>cluster_size_pos</th>               <td>   -0.0068</td> <td>    0.003</td> <td>   -2.098</td> <td> 0.036</td> <td>   -0.013</td> <td>   -0.000</td>\n",
       "</tr>\n",
       "<tr>\n",
       "  <th>cluster_pos_hhi</th>                <td>    0.0006</td> <td>    0.003</td> <td>    0.235</td> <td> 0.815</td> <td>   -0.004</td> <td>    0.006</td>\n",
       "</tr>\n",
       "<tr>\n",
       "  <th>cluster_pos_tvr</th>                <td>-1.464e-05</td> <td>    0.005</td> <td>   -0.003</td> <td> 0.997</td> <td>   -0.009</td> <td>    0.009</td>\n",
       "</tr>\n",
       "<tr>\n",
       "  <th>mean_net_shares_lag_1</th>          <td>-1.106e-06</td> <td> 2.05e-05</td> <td>   -0.054</td> <td> 0.957</td> <td>-4.12e-05</td> <td>  3.9e-05</td>\n",
       "</tr>\n",
       "<tr>\n",
       "  <th>mean_net_shares_lag_1_by_value</th> <td>-5.565e-07</td> <td> 1.93e-05</td> <td>   -0.029</td> <td> 0.977</td> <td>-3.84e-05</td> <td> 3.73e-05</td>\n",
       "</tr>\n",
       "<tr>\n",
       "  <th>DGS10_high</th>                     <td>   -1.9057</td> <td>    1.190</td> <td>   -1.601</td> <td> 0.109</td> <td>   -4.238</td> <td>    0.427</td>\n",
       "</tr>\n",
       "<tr>\n",
       "  <th>DGS10_med</th>                      <td>   -2.3700</td> <td>    2.334</td> <td>   -1.015</td> <td> 0.310</td> <td>   -6.945</td> <td>    2.205</td>\n",
       "</tr>\n",
       "<tr>\n",
       "  <th>DGS10_low</th>                      <td>    1.4541</td> <td>    2.617</td> <td>    0.556</td> <td> 0.578</td> <td>   -3.674</td> <td>    6.583</td>\n",
       "</tr>\n",
       "<tr>\n",
       "  <th>DFF_high</th>                       <td>   12.1874</td> <td>    1.897</td> <td>    6.424</td> <td> 0.000</td> <td>    8.469</td> <td>   15.906</td>\n",
       "</tr>\n",
       "<tr>\n",
       "  <th>DFF_med</th>                        <td>    5.4046</td> <td>    2.987</td> <td>    1.809</td> <td> 0.070</td> <td>   -0.450</td> <td>   11.259</td>\n",
       "</tr>\n",
       "<tr>\n",
       "  <th>DFF_low</th>                        <td>   -2.9203</td> <td>    3.609</td> <td>   -0.809</td> <td> 0.418</td> <td>   -9.993</td> <td>    4.153</td>\n",
       "</tr>\n",
       "<tr>\n",
       "  <th>UNRATE_high</th>                    <td>  -16.4757</td> <td>    2.409</td> <td>   -6.840</td> <td> 0.000</td> <td>  -21.197</td> <td>  -11.755</td>\n",
       "</tr>\n",
       "<tr>\n",
       "  <th>UNRATE_med</th>                     <td>   -2.4104</td> <td>    4.680</td> <td>   -0.515</td> <td> 0.607</td> <td>  -11.582</td> <td>    6.762</td>\n",
       "</tr>\n",
       "<tr>\n",
       "  <th>UNRATE_low</th>                     <td>    3.5691</td> <td>    5.234</td> <td>    0.682</td> <td> 0.495</td> <td>   -6.689</td> <td>   13.827</td>\n",
       "</tr>\n",
       "<tr>\n",
       "  <th>CPIAUCSL_high</th>                  <td>    7.1600</td> <td>    1.335</td> <td>    5.363</td> <td> 0.000</td> <td>    4.543</td> <td>    9.777</td>\n",
       "</tr>\n",
       "<tr>\n",
       "  <th>CPIAUCSL_med</th>                   <td>    2.5077</td> <td>    2.349</td> <td>    1.068</td> <td> 0.286</td> <td>   -2.096</td> <td>    7.112</td>\n",
       "</tr>\n",
       "<tr>\n",
       "  <th>CPIAUCSL_low</th>                   <td>   -1.6460</td> <td>    2.923</td> <td>   -0.563</td> <td> 0.573</td> <td>   -7.376</td> <td>    4.084</td>\n",
       "</tr>\n",
       "<tr>\n",
       "  <th>GDP_high</th>                       <td>   -1.6469</td> <td>    0.516</td> <td>   -3.192</td> <td> 0.001</td> <td>   -2.658</td> <td>   -0.636</td>\n",
       "</tr>\n",
       "<tr>\n",
       "  <th>GDP_med</th>                        <td>    0.2739</td> <td>    1.175</td> <td>    0.233</td> <td> 0.816</td> <td>   -2.029</td> <td>    2.577</td>\n",
       "</tr>\n",
       "<tr>\n",
       "  <th>GDP_low</th>                        <td>    0.1304</td> <td>    1.432</td> <td>    0.091</td> <td> 0.927</td> <td>   -2.676</td> <td>    2.937</td>\n",
       "</tr>\n",
       "</table>\n",
       "<table class=\"simpletable\">\n",
       "<tr>\n",
       "  <th>Omnibus:</th>       <td>9172251.656</td> <th>  Durbin-Watson:     </th>       <td>   2.041</td>       \n",
       "</tr>\n",
       "<tr>\n",
       "  <th>Prob(Omnibus):</th>   <td> 0.000</td>    <th>  Jarque-Bera (JB):  </th> <td>23698472624723772.000</td>\n",
       "</tr>\n",
       "<tr>\n",
       "  <th>Skew:</th>            <td>703.681</td>   <th>  Prob(JB):          </th>       <td>    0.00</td>       \n",
       "</tr>\n",
       "<tr>\n",
       "  <th>Kurtosis:</th>      <td>650340.804</td>  <th>  Cond. No.          </th>       <td>1.86e+16</td>       \n",
       "</tr>\n",
       "</table><br/><br/>Warnings:<br/>[1] Standard Errors assume that the covariance matrix of the errors is correctly specified.<br/>[2] The smallest eigenvalue is 6.66e-21. This might indicate that there are<br/>strong multicollinearity problems or that the design matrix is singular."
      ],
      "text/plain": [
       "<class 'statsmodels.iolib.summary.Summary'>\n",
       "\"\"\"\n",
       "                            OLS Regression Results                            \n",
       "==============================================================================\n",
       "Dep. Variable:             net_shares   R-squared:                       0.120\n",
       "Model:                            OLS   Adj. R-squared:                  0.120\n",
       "Method:                 Least Squares   F-statistic:                     3612.\n",
       "Date:                Wed, 02 Dec 2020   Prob (F-statistic):               0.00\n",
       "Time:                        00:56:34   Log-Likelihood:            -1.8218e+06\n",
       "No. Observations:             1344781   AIC:                         3.644e+06\n",
       "Df Residuals:                 1344729   BIC:                         3.644e+06\n",
       "Df Model:                          51                                         \n",
       "Covariance Type:            nonrobust                                         \n",
       "==================================================================================================\n",
       "                                     coef    std err          t      P>|t|      [0.025      0.975]\n",
       "--------------------------------------------------------------------------------------------------\n",
       "const                              0.0842      0.021      4.059      0.000       0.044       0.125\n",
       "log_value_fund_lag_1              -0.0053      0.001     -5.634      0.000      -0.007      -0.003\n",
       "high_value_lag_1                  -0.0650      0.009     -7.198      0.000      -0.083      -0.047\n",
       "med_value_lag_1                   -0.0404      0.007     -5.463      0.000      -0.055      -0.026\n",
       "net_shares_lag_1_low               0.0007   6.37e-05     11.418      0.000       0.001       0.001\n",
       "net_shares_lag_1_med               0.0003   6.91e-06     44.245      0.000       0.000       0.000\n",
       "net_shares_lag_1_high           2.908e-05   4.45e-07     65.372      0.000    2.82e-05       3e-05\n",
       "net_shares_lag_2_low            3.009e-05   8.57e-05      0.351      0.726      -0.000       0.000\n",
       "net_shares_lag_2_med            4.346e-05   4.23e-06     10.280      0.000    3.52e-05    5.18e-05\n",
       "net_shares_lag_2_high              0.0006   1.62e-06    348.763      0.000       0.001       0.001\n",
       "net_shares_lag_3_low           -4.329e-05      0.000     -0.320      0.749      -0.000       0.000\n",
       "net_shares_lag_3_med             3.17e-05   3.06e-06     10.370      0.000    2.57e-05    3.77e-05\n",
       "net_shares_lag_3_high              0.0003   4.28e-06     73.086      0.000       0.000       0.000\n",
       "net_shares_lag_4_low               0.0004      0.000      2.310      0.021     6.1e-05       0.001\n",
       "net_shares_lag_4_med           -1.984e-06   2.87e-06     -0.690      0.490   -7.62e-06    3.65e-06\n",
       "net_shares_lag_4_high              0.0002   5.79e-06     41.273      0.000       0.000       0.000\n",
       "ticket_share_lag_1_high         2.908e-05   4.45e-07     65.372      0.000    2.82e-05       3e-05\n",
       "ticket_share_lag_1_med             0.0003   6.91e-06     44.245      0.000       0.000       0.000\n",
       "ticket_share_lag_1_low             0.0007   6.37e-05     11.418      0.000       0.001       0.001\n",
       "ticket_share_lag_2_high            0.0006   1.62e-06    348.763      0.000       0.001       0.001\n",
       "ticket_share_lag_2_med          4.346e-05   4.23e-06     10.280      0.000    3.52e-05    5.18e-05\n",
       "ticket_share_lag_2_low          3.009e-05   8.57e-05      0.351      0.726      -0.000       0.000\n",
       "amend_1                           -0.0035      0.009     -0.381      0.703      -0.021       0.014\n",
       "amend_2                           -0.0087      0.010     -0.912      0.362      -0.027       0.010\n",
       "amend_3                           -0.0063      0.009     -0.690      0.490      -0.024       0.012\n",
       "amend_4                           -0.0046      0.009     -0.534      0.594      -0.021       0.012\n",
       "turnover_high                      0.0202      0.004      5.082      0.000       0.012       0.028\n",
       "turnover_med                       0.0130      0.008      1.717      0.086      -0.002       0.028\n",
       "turnover_low                      -0.0031      0.009     -0.349      0.727      -0.021       0.014\n",
       "hhi_high                           0.0202      0.004      5.082      0.000       0.012       0.028\n",
       "hhi_med                            0.0130      0.008      1.717      0.086      -0.002       0.028\n",
       "hhi_low                           -0.0031      0.009     -0.349      0.727      -0.021       0.014\n",
       "hhi_eq_1                          -0.0107      0.057     -0.186      0.852      -0.123       0.102\n",
       "high_turnover                      0.0173      0.005      3.620      0.000       0.008       0.027\n",
       "high_hhi                           0.0023      0.007      0.328      0.743      -0.012       0.016\n",
       "extreme_turnover                  -0.1253      0.027     -4.727      0.000      -0.177      -0.073\n",
       "cluster_hhi                        0.0037      0.003      1.052      0.293      -0.003       0.011\n",
       "cluster_turnover                   0.0066      0.003      2.428      0.015       0.001       0.012\n",
       "sqrt_pos_count_lag_1               0.0005   9.92e-05      4.844      0.000       0.000       0.001\n",
       "high_pos_count                     0.0094      0.013      0.740      0.459      -0.016       0.034\n",
       "extreme_pos_count                 -0.0723      0.014     -5.071      0.000      -0.100      -0.044\n",
       "cluster_size_pos                  -0.0068      0.003     -2.098      0.036      -0.013      -0.000\n",
       "cluster_pos_hhi                    0.0006      0.003      0.235      0.815      -0.004       0.006\n",
       "cluster_pos_tvr                -1.464e-05      0.005     -0.003      0.997      -0.009       0.009\n",
       "mean_net_shares_lag_1          -1.106e-06   2.05e-05     -0.054      0.957   -4.12e-05     3.9e-05\n",
       "mean_net_shares_lag_1_by_value -5.565e-07   1.93e-05     -0.029      0.977   -3.84e-05    3.73e-05\n",
       "DGS10_high                        -1.9057      1.190     -1.601      0.109      -4.238       0.427\n",
       "DGS10_med                         -2.3700      2.334     -1.015      0.310      -6.945       2.205\n",
       "DGS10_low                          1.4541      2.617      0.556      0.578      -3.674       6.583\n",
       "DFF_high                          12.1874      1.897      6.424      0.000       8.469      15.906\n",
       "DFF_med                            5.4046      2.987      1.809      0.070      -0.450      11.259\n",
       "DFF_low                           -2.9203      3.609     -0.809      0.418      -9.993       4.153\n",
       "UNRATE_high                      -16.4757      2.409     -6.840      0.000     -21.197     -11.755\n",
       "UNRATE_med                        -2.4104      4.680     -0.515      0.607     -11.582       6.762\n",
       "UNRATE_low                         3.5691      5.234      0.682      0.495      -6.689      13.827\n",
       "CPIAUCSL_high                      7.1600      1.335      5.363      0.000       4.543       9.777\n",
       "CPIAUCSL_med                       2.5077      2.349      1.068      0.286      -2.096       7.112\n",
       "CPIAUCSL_low                      -1.6460      2.923     -0.563      0.573      -7.376       4.084\n",
       "GDP_high                          -1.6469      0.516     -3.192      0.001      -2.658      -0.636\n",
       "GDP_med                            0.2739      1.175      0.233      0.816      -2.029       2.577\n",
       "GDP_low                            0.1304      1.432      0.091      0.927      -2.676       2.937\n",
       "=================================================================================\n",
       "Omnibus:                  9172251.656   Durbin-Watson:                      2.041\n",
       "Prob(Omnibus):                  0.000   Jarque-Bera (JB):   23698472624723772.000\n",
       "Skew:                         703.681   Prob(JB):                            0.00\n",
       "Kurtosis:                  650340.804   Cond. No.                        1.86e+16\n",
       "=================================================================================\n",
       "\n",
       "Warnings:\n",
       "[1] Standard Errors assume that the covariance matrix of the errors is correctly specified.\n",
       "[2] The smallest eigenvalue is 6.66e-21. This might indicate that there are\n",
       "strong multicollinearity problems or that the design matrix is singular.\n",
       "\"\"\""
      ]
     },
     "execution_count": 125,
     "metadata": {},
     "output_type": "execute_result"
    }
   ],
   "source": [
    "model_7 = sm.OLS(y, X).fit()\n",
    "model_7.summary()"
   ]
  },
  {
   "cell_type": "markdown",
   "metadata": {},
   "source": [
    "Из модели можно заметить, что индикаторы значимо влияют только на большие фонды и иногда на средние (как ключевая ставка, которая оказалась более универсальной).\n",
    "\n",
    "Вероятно, маленькие фонды не думают о глобальном. Кроме того, направленность эффекта от макроиндикаторов у них противоположная в отличие от средних и больших фондов. В любом случае, это, наверно, объясняется спецификой больших фондов, которая обсуждалась в этой работе и требует ещё более тщательного анализа."
   ]
  },
  {
   "cell_type": "markdown",
   "metadata": {},
   "source": [
    "Заметим, что несмотря на свою красоту эта модель, как и предыдущие, имеет маленький R^2, то есть, имеет маленькую предсказательную способность и мало объясняет дисперсию изменения.\n",
    "Но мы уже видели, что дисперсия так рознится из-за проблемы с малыми фондами и проблемы масштаба.\n",
    "\n",
    "Главное, что наша модель имеет <b>прикладной и экономический смысл</b>!"
   ]
  },
  {
   "cell_type": "markdown",
   "metadata": {},
   "source": [
    "## Баллада о ставке"
   ]
  },
  {
   "cell_type": "markdown",
   "metadata": {},
   "source": [
    "Мне показалось странным, что ставка по облигациям незначима для предсказания чистого изменения. Возможно, проблема в том, что нам надо учитывать не её изменение, а её абсолютное значение. Сейчас я проверю данное предположение."
   ]
  },
  {
   "cell_type": "code",
   "execution_count": 126,
   "metadata": {},
   "outputs": [],
   "source": [
    "# удаляю столбец с данными об изменении ставки\n",
    "final_df.drop('DGS10', axis=1, inplace=True)\n",
    "\n",
    "# скачиваю и преобразую данные по ставке к нужному виду\n",
    "treas_10yr = wb.DataReader('DGS10', 'fred', start=2012).resample('Q-DEC').mean() / 100\n",
    "treas_10yr.reset_index(inplace=True)\n",
    "treas_10yr.DATE = treas_10yr.DATE.dt.to_period('Q')\n",
    "\n",
    "# Свожу данные с датасетом\n",
    "final_df = final_df.merge(treas_10yr, left_on='period', right_on='DATE', how='left', suffixes=(False, False))\n",
    "final_df.drop('DATE', axis=1, inplace=True)"
   ]
  },
  {
   "cell_type": "markdown",
   "metadata": {},
   "source": [
    "Построим регрессию на новых данных."
   ]
  },
  {
   "cell_type": "markdown",
   "metadata": {},
   "source": [
    "### Модель 8"
   ]
  },
  {
   "cell_type": "code",
   "execution_count": 129,
   "metadata": {},
   "outputs": [],
   "source": [
    "y = final_df['net_shares']\n",
    "y = (y - y.mean()) / y.std()\n",
    "\n",
    "X = final_df[['log_value_fund_lag_1', 'high_value_lag_1', 'med_value_lag_1',\n",
    "        'net_shares_lag_1_low', 'net_shares_lag_1_med', 'net_shares_lag_1_high',\n",
    "        'net_shares_lag_2_low', 'net_shares_lag_2_med', 'net_shares_lag_2_high',\n",
    "        'net_shares_lag_3_low', 'net_shares_lag_3_med', 'net_shares_lag_3_high',\n",
    "        'net_shares_lag_4_low', 'net_shares_lag_4_med', 'net_shares_lag_4_high',\n",
    "        'ticket_share_lag_1_high', 'ticket_share_lag_1_med', 'ticket_share_lag_1_low',\n",
    "        'ticket_share_lag_2_high', 'ticket_share_lag_2_med', 'ticket_share_lag_2_low',\n",
    "        'amend_1', 'amend_2', 'amend_3', 'amend_4',\n",
    "        'turnover_high', 'turnover_med', 'turnover_low',\n",
    "        'hhi_high', 'hhi_med', 'hhi_low', 'hhi_eq_1', 'high_turnover', 'high_hhi', \n",
    "        'extreme_turnover', 'cluster_hhi', 'cluster_turnover',\n",
    "        'sqrt_pos_count_lag_1', 'high_pos_count', 'extreme_pos_count',\n",
    "        'cluster_size_pos', 'cluster_pos_hhi', 'cluster_pos_tvr', 'mean_net_shares_lag_1',\n",
    "        'mean_net_shares_lag_1_by_value',\n",
    "         'DGS10', 'DFF', 'UNRATE', 'CPIAUCSL', 'GDP']].astype('float64')\n",
    "X = sm.add_constant(X)"
   ]
  },
  {
   "cell_type": "code",
   "execution_count": 130,
   "metadata": {
    "scrolled": false
   },
   "outputs": [
    {
     "data": {
      "text/html": [
       "<table class=\"simpletable\">\n",
       "<caption>OLS Regression Results</caption>\n",
       "<tr>\n",
       "  <th>Dep. Variable:</th>       <td>net_shares</td>    <th>  R-squared:         </th>  <td>   0.121</td>  \n",
       "</tr>\n",
       "<tr>\n",
       "  <th>Model:</th>                   <td>OLS</td>       <th>  Adj. R-squared:    </th>  <td>   0.120</td>  \n",
       "</tr>\n",
       "<tr>\n",
       "  <th>Method:</th>             <td>Least Squares</td>  <th>  F-statistic:       </th>  <td>   4494.</td>  \n",
       "</tr>\n",
       "<tr>\n",
       "  <th>Date:</th>             <td>Wed, 02 Dec 2020</td> <th>  Prob (F-statistic):</th>   <td>  0.00</td>   \n",
       "</tr>\n",
       "<tr>\n",
       "  <th>Time:</th>                 <td>00:58:01</td>     <th>  Log-Likelihood:    </th> <td>-1.8218e+06</td>\n",
       "</tr>\n",
       "<tr>\n",
       "  <th>No. Observations:</th>      <td>1344781</td>     <th>  AIC:               </th>  <td>3.644e+06</td> \n",
       "</tr>\n",
       "<tr>\n",
       "  <th>Df Residuals:</th>          <td>1344739</td>     <th>  BIC:               </th>  <td>3.644e+06</td> \n",
       "</tr>\n",
       "<tr>\n",
       "  <th>Df Model:</th>              <td>    41</td>      <th>                     </th>      <td> </td>     \n",
       "</tr>\n",
       "<tr>\n",
       "  <th>Covariance Type:</th>      <td>nonrobust</td>    <th>                     </th>      <td> </td>     \n",
       "</tr>\n",
       "</table>\n",
       "<table class=\"simpletable\">\n",
       "<tr>\n",
       "                 <td></td>                   <th>coef</th>     <th>std err</th>      <th>t</th>      <th>P>|t|</th>  <th>[0.025</th>    <th>0.975]</th>  \n",
       "</tr>\n",
       "<tr>\n",
       "  <th>const</th>                          <td>    0.0445</td> <td>    0.017</td> <td>    2.599</td> <td> 0.009</td> <td>    0.011</td> <td>    0.078</td>\n",
       "</tr>\n",
       "<tr>\n",
       "  <th>log_value_fund_lag_1</th>           <td>   -0.0033</td> <td>    0.001</td> <td>   -3.577</td> <td> 0.000</td> <td>   -0.005</td> <td>   -0.001</td>\n",
       "</tr>\n",
       "<tr>\n",
       "  <th>high_value_lag_1</th>               <td>   -0.0086</td> <td>    0.006</td> <td>   -1.453</td> <td> 0.146</td> <td>   -0.020</td> <td>    0.003</td>\n",
       "</tr>\n",
       "<tr>\n",
       "  <th>med_value_lag_1</th>                <td>   -0.0078</td> <td>    0.005</td> <td>   -1.570</td> <td> 0.116</td> <td>   -0.018</td> <td>    0.002</td>\n",
       "</tr>\n",
       "<tr>\n",
       "  <th>net_shares_lag_1_low</th>           <td>    0.0007</td> <td> 6.37e-05</td> <td>   11.434</td> <td> 0.000</td> <td>    0.001</td> <td>    0.001</td>\n",
       "</tr>\n",
       "<tr>\n",
       "  <th>net_shares_lag_1_med</th>           <td>    0.0003</td> <td> 6.91e-06</td> <td>   44.210</td> <td> 0.000</td> <td>    0.000</td> <td>    0.000</td>\n",
       "</tr>\n",
       "<tr>\n",
       "  <th>net_shares_lag_1_high</th>          <td> 2.909e-05</td> <td> 4.45e-07</td> <td>   65.391</td> <td> 0.000</td> <td> 2.82e-05</td> <td>    3e-05</td>\n",
       "</tr>\n",
       "<tr>\n",
       "  <th>net_shares_lag_2_low</th>           <td> 2.599e-05</td> <td> 8.57e-05</td> <td>    0.303</td> <td> 0.762</td> <td>   -0.000</td> <td>    0.000</td>\n",
       "</tr>\n",
       "<tr>\n",
       "  <th>net_shares_lag_2_med</th>           <td> 4.333e-05</td> <td> 4.23e-06</td> <td>   10.249</td> <td> 0.000</td> <td>  3.5e-05</td> <td> 5.16e-05</td>\n",
       "</tr>\n",
       "<tr>\n",
       "  <th>net_shares_lag_2_high</th>          <td>    0.0006</td> <td> 1.62e-06</td> <td>  348.760</td> <td> 0.000</td> <td>    0.001</td> <td>    0.001</td>\n",
       "</tr>\n",
       "<tr>\n",
       "  <th>net_shares_lag_3_low</th>           <td> -4.83e-05</td> <td>    0.000</td> <td>   -0.358</td> <td> 0.721</td> <td>   -0.000</td> <td>    0.000</td>\n",
       "</tr>\n",
       "<tr>\n",
       "  <th>net_shares_lag_3_med</th>           <td> 3.161e-05</td> <td> 3.06e-06</td> <td>   10.342</td> <td> 0.000</td> <td> 2.56e-05</td> <td> 3.76e-05</td>\n",
       "</tr>\n",
       "<tr>\n",
       "  <th>net_shares_lag_3_high</th>          <td>    0.0003</td> <td> 4.28e-06</td> <td>   73.100</td> <td> 0.000</td> <td>    0.000</td> <td>    0.000</td>\n",
       "</tr>\n",
       "<tr>\n",
       "  <th>net_shares_lag_4_low</th>           <td>    0.0004</td> <td>    0.000</td> <td>    2.288</td> <td> 0.022</td> <td> 5.71e-05</td> <td>    0.001</td>\n",
       "</tr>\n",
       "<tr>\n",
       "  <th>net_shares_lag_4_med</th>           <td>-1.981e-06</td> <td> 2.87e-06</td> <td>   -0.689</td> <td> 0.491</td> <td>-7.61e-06</td> <td> 3.65e-06</td>\n",
       "</tr>\n",
       "<tr>\n",
       "  <th>net_shares_lag_4_high</th>          <td>    0.0002</td> <td> 5.79e-06</td> <td>   41.270</td> <td> 0.000</td> <td>    0.000</td> <td>    0.000</td>\n",
       "</tr>\n",
       "<tr>\n",
       "  <th>ticket_share_lag_1_high</th>        <td> 2.909e-05</td> <td> 4.45e-07</td> <td>   65.391</td> <td> 0.000</td> <td> 2.82e-05</td> <td>    3e-05</td>\n",
       "</tr>\n",
       "<tr>\n",
       "  <th>ticket_share_lag_1_med</th>         <td>    0.0003</td> <td> 6.91e-06</td> <td>   44.210</td> <td> 0.000</td> <td>    0.000</td> <td>    0.000</td>\n",
       "</tr>\n",
       "<tr>\n",
       "  <th>ticket_share_lag_1_low</th>         <td>    0.0007</td> <td> 6.37e-05</td> <td>   11.434</td> <td> 0.000</td> <td>    0.001</td> <td>    0.001</td>\n",
       "</tr>\n",
       "<tr>\n",
       "  <th>ticket_share_lag_2_high</th>        <td>    0.0006</td> <td> 1.62e-06</td> <td>  348.760</td> <td> 0.000</td> <td>    0.001</td> <td>    0.001</td>\n",
       "</tr>\n",
       "<tr>\n",
       "  <th>ticket_share_lag_2_med</th>         <td> 4.333e-05</td> <td> 4.23e-06</td> <td>   10.249</td> <td> 0.000</td> <td>  3.5e-05</td> <td> 5.16e-05</td>\n",
       "</tr>\n",
       "<tr>\n",
       "  <th>ticket_share_lag_2_low</th>         <td> 2.599e-05</td> <td> 8.57e-05</td> <td>    0.303</td> <td> 0.762</td> <td>   -0.000</td> <td>    0.000</td>\n",
       "</tr>\n",
       "<tr>\n",
       "  <th>amend_1</th>                        <td>   -0.0078</td> <td>    0.009</td> <td>   -0.860</td> <td> 0.390</td> <td>   -0.025</td> <td>    0.010</td>\n",
       "</tr>\n",
       "<tr>\n",
       "  <th>amend_2</th>                        <td>   -0.0066</td> <td>    0.009</td> <td>   -0.696</td> <td> 0.486</td> <td>   -0.025</td> <td>    0.012</td>\n",
       "</tr>\n",
       "<tr>\n",
       "  <th>amend_3</th>                        <td>   -0.0061</td> <td>    0.009</td> <td>   -0.674</td> <td> 0.501</td> <td>   -0.024</td> <td>    0.012</td>\n",
       "</tr>\n",
       "<tr>\n",
       "  <th>amend_4</th>                        <td>   -0.0076</td> <td>    0.009</td> <td>   -0.886</td> <td> 0.376</td> <td>   -0.024</td> <td>    0.009</td>\n",
       "</tr>\n",
       "<tr>\n",
       "  <th>turnover_high</th>                  <td>    0.0254</td> <td>    0.004</td> <td>    6.490</td> <td> 0.000</td> <td>    0.018</td> <td>    0.033</td>\n",
       "</tr>\n",
       "<tr>\n",
       "  <th>turnover_med</th>                   <td>    0.0114</td> <td>    0.007</td> <td>    1.701</td> <td> 0.089</td> <td>   -0.002</td> <td>    0.025</td>\n",
       "</tr>\n",
       "<tr>\n",
       "  <th>turnover_low</th>                   <td>   -0.0237</td> <td>    0.008</td> <td>   -2.801</td> <td> 0.005</td> <td>   -0.040</td> <td>   -0.007</td>\n",
       "</tr>\n",
       "<tr>\n",
       "  <th>hhi_high</th>                       <td>    0.0254</td> <td>    0.004</td> <td>    6.490</td> <td> 0.000</td> <td>    0.018</td> <td>    0.033</td>\n",
       "</tr>\n",
       "<tr>\n",
       "  <th>hhi_med</th>                        <td>    0.0114</td> <td>    0.007</td> <td>    1.701</td> <td> 0.089</td> <td>   -0.002</td> <td>    0.025</td>\n",
       "</tr>\n",
       "<tr>\n",
       "  <th>hhi_low</th>                        <td>   -0.0237</td> <td>    0.008</td> <td>   -2.801</td> <td> 0.005</td> <td>   -0.040</td> <td>   -0.007</td>\n",
       "</tr>\n",
       "<tr>\n",
       "  <th>hhi_eq_1</th>                       <td>   -0.0101</td> <td>    0.057</td> <td>   -0.177</td> <td> 0.860</td> <td>   -0.122</td> <td>    0.102</td>\n",
       "</tr>\n",
       "<tr>\n",
       "  <th>high_turnover</th>                  <td>    0.0148</td> <td>    0.005</td> <td>    3.101</td> <td> 0.002</td> <td>    0.005</td> <td>    0.024</td>\n",
       "</tr>\n",
       "<tr>\n",
       "  <th>high_hhi</th>                       <td>    0.0026</td> <td>    0.007</td> <td>    0.360</td> <td> 0.719</td> <td>   -0.011</td> <td>    0.017</td>\n",
       "</tr>\n",
       "<tr>\n",
       "  <th>extreme_turnover</th>               <td>   -0.1262</td> <td>    0.026</td> <td>   -4.779</td> <td> 0.000</td> <td>   -0.178</td> <td>   -0.074</td>\n",
       "</tr>\n",
       "<tr>\n",
       "  <th>cluster_hhi</th>                    <td>   -0.0009</td> <td>    0.003</td> <td>   -0.272</td> <td> 0.786</td> <td>   -0.008</td> <td>    0.006</td>\n",
       "</tr>\n",
       "<tr>\n",
       "  <th>cluster_turnover</th>               <td>    0.0030</td> <td>    0.003</td> <td>    1.113</td> <td> 0.266</td> <td>   -0.002</td> <td>    0.008</td>\n",
       "</tr>\n",
       "<tr>\n",
       "  <th>sqrt_pos_count_lag_1</th>           <td>    0.0003</td> <td> 9.87e-05</td> <td>    3.371</td> <td> 0.001</td> <td>    0.000</td> <td>    0.001</td>\n",
       "</tr>\n",
       "<tr>\n",
       "  <th>high_pos_count</th>                 <td>    0.0108</td> <td>    0.013</td> <td>    0.850</td> <td> 0.396</td> <td>   -0.014</td> <td>    0.036</td>\n",
       "</tr>\n",
       "<tr>\n",
       "  <th>extreme_pos_count</th>              <td>   -0.0623</td> <td>    0.014</td> <td>   -4.442</td> <td> 0.000</td> <td>   -0.090</td> <td>   -0.035</td>\n",
       "</tr>\n",
       "<tr>\n",
       "  <th>cluster_size_pos</th>               <td>   -0.0034</td> <td>    0.003</td> <td>   -1.052</td> <td> 0.293</td> <td>   -0.010</td> <td>    0.003</td>\n",
       "</tr>\n",
       "<tr>\n",
       "  <th>cluster_pos_hhi</th>                <td>    0.0022</td> <td>    0.003</td> <td>    0.834</td> <td> 0.404</td> <td>   -0.003</td> <td>    0.007</td>\n",
       "</tr>\n",
       "<tr>\n",
       "  <th>cluster_pos_tvr</th>                <td>    0.0005</td> <td>    0.005</td> <td>    0.112</td> <td> 0.910</td> <td>   -0.008</td> <td>    0.009</td>\n",
       "</tr>\n",
       "<tr>\n",
       "  <th>mean_net_shares_lag_1</th>          <td>-4.506e-06</td> <td> 2.04e-05</td> <td>   -0.220</td> <td> 0.826</td> <td>-4.46e-05</td> <td> 3.56e-05</td>\n",
       "</tr>\n",
       "<tr>\n",
       "  <th>mean_net_shares_lag_1_by_value</th> <td> 3.935e-06</td> <td> 1.93e-05</td> <td>    0.204</td> <td> 0.838</td> <td>-3.39e-05</td> <td> 4.18e-05</td>\n",
       "</tr>\n",
       "<tr>\n",
       "  <th>DGS10</th>                          <td>   -5.1592</td> <td>    0.532</td> <td>   -9.702</td> <td> 0.000</td> <td>   -6.201</td> <td>   -4.117</td>\n",
       "</tr>\n",
       "<tr>\n",
       "  <th>DFF</th>                            <td>   28.3253</td> <td>    2.515</td> <td>   11.261</td> <td> 0.000</td> <td>   23.395</td> <td>   33.255</td>\n",
       "</tr>\n",
       "<tr>\n",
       "  <th>UNRATE</th>                         <td>  -35.0107</td> <td>    3.229</td> <td>  -10.841</td> <td> 0.000</td> <td>  -41.340</td> <td>  -28.681</td>\n",
       "</tr>\n",
       "<tr>\n",
       "  <th>CPIAUCSL</th>                       <td>   14.4028</td> <td>    1.327</td> <td>   10.852</td> <td> 0.000</td> <td>   11.802</td> <td>   17.004</td>\n",
       "</tr>\n",
       "<tr>\n",
       "  <th>GDP</th>                            <td>   -3.4887</td> <td>    0.503</td> <td>   -6.940</td> <td> 0.000</td> <td>   -4.474</td> <td>   -2.503</td>\n",
       "</tr>\n",
       "</table>\n",
       "<table class=\"simpletable\">\n",
       "<tr>\n",
       "  <th>Omnibus:</th>       <td>9172754.729</td> <th>  Durbin-Watson:     </th>       <td>   2.041</td>       \n",
       "</tr>\n",
       "<tr>\n",
       "  <th>Prob(Omnibus):</th>   <td> 0.000</td>    <th>  Jarque-Bera (JB):  </th> <td>23713384121983100.000</td>\n",
       "</tr>\n",
       "<tr>\n",
       "  <th>Skew:</th>            <td>703.839</td>   <th>  Prob(JB):          </th>       <td>    0.00</td>       \n",
       "</tr>\n",
       "<tr>\n",
       "  <th>Kurtosis:</th>      <td>650545.374</td>  <th>  Cond. No.          </th>       <td>1.07e+16</td>       \n",
       "</tr>\n",
       "</table><br/><br/>Warnings:<br/>[1] Standard Errors assume that the covariance matrix of the errors is correctly specified.<br/>[2] The smallest eigenvalue is 2.02e-20. This might indicate that there are<br/>strong multicollinearity problems or that the design matrix is singular."
      ],
      "text/plain": [
       "<class 'statsmodels.iolib.summary.Summary'>\n",
       "\"\"\"\n",
       "                            OLS Regression Results                            \n",
       "==============================================================================\n",
       "Dep. Variable:             net_shares   R-squared:                       0.121\n",
       "Model:                            OLS   Adj. R-squared:                  0.120\n",
       "Method:                 Least Squares   F-statistic:                     4494.\n",
       "Date:                Wed, 02 Dec 2020   Prob (F-statistic):               0.00\n",
       "Time:                        00:58:01   Log-Likelihood:            -1.8218e+06\n",
       "No. Observations:             1344781   AIC:                         3.644e+06\n",
       "Df Residuals:                 1344739   BIC:                         3.644e+06\n",
       "Df Model:                          41                                         \n",
       "Covariance Type:            nonrobust                                         \n",
       "==================================================================================================\n",
       "                                     coef    std err          t      P>|t|      [0.025      0.975]\n",
       "--------------------------------------------------------------------------------------------------\n",
       "const                              0.0445      0.017      2.599      0.009       0.011       0.078\n",
       "log_value_fund_lag_1              -0.0033      0.001     -3.577      0.000      -0.005      -0.001\n",
       "high_value_lag_1                  -0.0086      0.006     -1.453      0.146      -0.020       0.003\n",
       "med_value_lag_1                   -0.0078      0.005     -1.570      0.116      -0.018       0.002\n",
       "net_shares_lag_1_low               0.0007   6.37e-05     11.434      0.000       0.001       0.001\n",
       "net_shares_lag_1_med               0.0003   6.91e-06     44.210      0.000       0.000       0.000\n",
       "net_shares_lag_1_high           2.909e-05   4.45e-07     65.391      0.000    2.82e-05       3e-05\n",
       "net_shares_lag_2_low            2.599e-05   8.57e-05      0.303      0.762      -0.000       0.000\n",
       "net_shares_lag_2_med            4.333e-05   4.23e-06     10.249      0.000     3.5e-05    5.16e-05\n",
       "net_shares_lag_2_high              0.0006   1.62e-06    348.760      0.000       0.001       0.001\n",
       "net_shares_lag_3_low            -4.83e-05      0.000     -0.358      0.721      -0.000       0.000\n",
       "net_shares_lag_3_med            3.161e-05   3.06e-06     10.342      0.000    2.56e-05    3.76e-05\n",
       "net_shares_lag_3_high              0.0003   4.28e-06     73.100      0.000       0.000       0.000\n",
       "net_shares_lag_4_low               0.0004      0.000      2.288      0.022    5.71e-05       0.001\n",
       "net_shares_lag_4_med           -1.981e-06   2.87e-06     -0.689      0.491   -7.61e-06    3.65e-06\n",
       "net_shares_lag_4_high              0.0002   5.79e-06     41.270      0.000       0.000       0.000\n",
       "ticket_share_lag_1_high         2.909e-05   4.45e-07     65.391      0.000    2.82e-05       3e-05\n",
       "ticket_share_lag_1_med             0.0003   6.91e-06     44.210      0.000       0.000       0.000\n",
       "ticket_share_lag_1_low             0.0007   6.37e-05     11.434      0.000       0.001       0.001\n",
       "ticket_share_lag_2_high            0.0006   1.62e-06    348.760      0.000       0.001       0.001\n",
       "ticket_share_lag_2_med          4.333e-05   4.23e-06     10.249      0.000     3.5e-05    5.16e-05\n",
       "ticket_share_lag_2_low          2.599e-05   8.57e-05      0.303      0.762      -0.000       0.000\n",
       "amend_1                           -0.0078      0.009     -0.860      0.390      -0.025       0.010\n",
       "amend_2                           -0.0066      0.009     -0.696      0.486      -0.025       0.012\n",
       "amend_3                           -0.0061      0.009     -0.674      0.501      -0.024       0.012\n",
       "amend_4                           -0.0076      0.009     -0.886      0.376      -0.024       0.009\n",
       "turnover_high                      0.0254      0.004      6.490      0.000       0.018       0.033\n",
       "turnover_med                       0.0114      0.007      1.701      0.089      -0.002       0.025\n",
       "turnover_low                      -0.0237      0.008     -2.801      0.005      -0.040      -0.007\n",
       "hhi_high                           0.0254      0.004      6.490      0.000       0.018       0.033\n",
       "hhi_med                            0.0114      0.007      1.701      0.089      -0.002       0.025\n",
       "hhi_low                           -0.0237      0.008     -2.801      0.005      -0.040      -0.007\n",
       "hhi_eq_1                          -0.0101      0.057     -0.177      0.860      -0.122       0.102\n",
       "high_turnover                      0.0148      0.005      3.101      0.002       0.005       0.024\n",
       "high_hhi                           0.0026      0.007      0.360      0.719      -0.011       0.017\n",
       "extreme_turnover                  -0.1262      0.026     -4.779      0.000      -0.178      -0.074\n",
       "cluster_hhi                       -0.0009      0.003     -0.272      0.786      -0.008       0.006\n",
       "cluster_turnover                   0.0030      0.003      1.113      0.266      -0.002       0.008\n",
       "sqrt_pos_count_lag_1               0.0003   9.87e-05      3.371      0.001       0.000       0.001\n",
       "high_pos_count                     0.0108      0.013      0.850      0.396      -0.014       0.036\n",
       "extreme_pos_count                 -0.0623      0.014     -4.442      0.000      -0.090      -0.035\n",
       "cluster_size_pos                  -0.0034      0.003     -1.052      0.293      -0.010       0.003\n",
       "cluster_pos_hhi                    0.0022      0.003      0.834      0.404      -0.003       0.007\n",
       "cluster_pos_tvr                    0.0005      0.005      0.112      0.910      -0.008       0.009\n",
       "mean_net_shares_lag_1          -4.506e-06   2.04e-05     -0.220      0.826   -4.46e-05    3.56e-05\n",
       "mean_net_shares_lag_1_by_value  3.935e-06   1.93e-05      0.204      0.838   -3.39e-05    4.18e-05\n",
       "DGS10                             -5.1592      0.532     -9.702      0.000      -6.201      -4.117\n",
       "DFF                               28.3253      2.515     11.261      0.000      23.395      33.255\n",
       "UNRATE                           -35.0107      3.229    -10.841      0.000     -41.340     -28.681\n",
       "CPIAUCSL                          14.4028      1.327     10.852      0.000      11.802      17.004\n",
       "GDP                               -3.4887      0.503     -6.940      0.000      -4.474      -2.503\n",
       "=================================================================================\n",
       "Omnibus:                  9172754.729   Durbin-Watson:                      2.041\n",
       "Prob(Omnibus):                  0.000   Jarque-Bera (JB):   23713384121983100.000\n",
       "Skew:                         703.839   Prob(JB):                            0.00\n",
       "Kurtosis:                  650545.374   Cond. No.                        1.07e+16\n",
       "=================================================================================\n",
       "\n",
       "Warnings:\n",
       "[1] Standard Errors assume that the covariance matrix of the errors is correctly specified.\n",
       "[2] The smallest eigenvalue is 2.02e-20. This might indicate that there are\n",
       "strong multicollinearity problems or that the design matrix is singular.\n",
       "\"\"\""
      ]
     },
     "execution_count": 130,
     "metadata": {},
     "output_type": "execute_result"
    }
   ],
   "source": [
    "model_8 = sm.OLS(y, X).fit()\n",
    "model_8.summary()"
   ]
  },
  {
   "cell_type": "markdown",
   "metadata": {},
   "source": [
    "Теперь мы видим, что ставка значима. Наконец-то в модели появился здравый смысл. Её знак можно объяснить тем, что при увеличении ставки (безрисковой доходности) привлекательность более рискованных финансовых активов падает, и безрисковые активы начинают их вытеснять.\n",
    "\n",
    "Теперь посмотрим, как факторизация ставки повлияет на её влияние на модель."
   ]
  },
  {
   "cell_type": "markdown",
   "metadata": {},
   "source": [
    "Сначала факторизируем переменную."
   ]
  },
  {
   "cell_type": "code",
   "execution_count": 131,
   "metadata": {},
   "outputs": [],
   "source": [
    "for macro_factor in ['DGS10']:\n",
    "    final_df[macro_factor + '_high'] = final_df[macro_factor].mul(final_df.high_value, axis=0)\n",
    "    final_df[macro_factor + '_med'] = final_df[macro_factor].mul(final_df.med_value, axis=0)\n",
    "    final_df[macro_factor + '_low'] = final_df[macro_factor].mul(final_df.low_value, axis=0)"
   ]
  },
  {
   "cell_type": "markdown",
   "metadata": {},
   "source": [
    "Теперь построим регрессию."
   ]
  },
  {
   "cell_type": "markdown",
   "metadata": {},
   "source": [
    "### Модель 9"
   ]
  },
  {
   "cell_type": "code",
   "execution_count": 132,
   "metadata": {},
   "outputs": [],
   "source": [
    "y = final_df['net_shares']\n",
    "y = (y - y.mean()) / y.std()\n",
    "\n",
    "X = final_df[['log_value_fund_lag_1', 'high_value_lag_1', 'med_value_lag_1',\n",
    "        'net_shares_lag_1_low', 'net_shares_lag_1_med', 'net_shares_lag_1_high',\n",
    "        'net_shares_lag_2_low', 'net_shares_lag_2_med', 'net_shares_lag_2_high',\n",
    "        'net_shares_lag_3_low', 'net_shares_lag_3_med', 'net_shares_lag_3_high',\n",
    "        'net_shares_lag_4_low', 'net_shares_lag_4_med', 'net_shares_lag_4_high',\n",
    "        'ticket_share_lag_1_high', 'ticket_share_lag_1_med', 'ticket_share_lag_1_low',\n",
    "        'ticket_share_lag_2_high', 'ticket_share_lag_2_med', 'ticket_share_lag_2_low',\n",
    "        'amend_1', 'amend_2', 'amend_3', 'amend_4',\n",
    "        'turnover_high', 'turnover_med', 'turnover_low',\n",
    "        'hhi_high', 'hhi_med', 'hhi_low', 'hhi_eq_1', 'high_turnover', 'high_hhi', \n",
    "        'extreme_turnover', 'cluster_hhi', 'cluster_turnover',\n",
    "        'sqrt_pos_count_lag_1', 'high_pos_count', 'extreme_pos_count',\n",
    "        'cluster_size_pos', 'cluster_pos_hhi', 'cluster_pos_tvr', 'mean_net_shares_lag_1',\n",
    "        'mean_net_shares_lag_1_by_value',\n",
    "        'DGS10_high', 'DGS10_med', 'DGS10_low', 'DFF_high', 'DFF_med', 'DFF_low', 'UNRATE_high',\n",
    "        'UNRATE_med', 'UNRATE_low', 'CPIAUCSL_high', 'CPIAUCSL_med',\n",
    "        'CPIAUCSL_low', 'GDP_high', 'GDP_med', 'GDP_low']].astype('float64')\n",
    "X = sm.add_constant(X)"
   ]
  },
  {
   "cell_type": "code",
   "execution_count": 133,
   "metadata": {
    "scrolled": false
   },
   "outputs": [
    {
     "data": {
      "text/html": [
       "<table class=\"simpletable\">\n",
       "<caption>OLS Regression Results</caption>\n",
       "<tr>\n",
       "  <th>Dep. Variable:</th>       <td>net_shares</td>    <th>  R-squared:         </th>  <td>   0.121</td>  \n",
       "</tr>\n",
       "<tr>\n",
       "  <th>Model:</th>                   <td>OLS</td>       <th>  Adj. R-squared:    </th>  <td>   0.121</td>  \n",
       "</tr>\n",
       "<tr>\n",
       "  <th>Method:</th>             <td>Least Squares</td>  <th>  F-statistic:       </th>  <td>   3615.</td>  \n",
       "</tr>\n",
       "<tr>\n",
       "  <th>Date:</th>             <td>Wed, 02 Dec 2020</td> <th>  Prob (F-statistic):</th>   <td>  0.00</td>   \n",
       "</tr>\n",
       "<tr>\n",
       "  <th>Time:</th>                 <td>00:58:30</td>     <th>  Log-Likelihood:    </th> <td>-1.8218e+06</td>\n",
       "</tr>\n",
       "<tr>\n",
       "  <th>No. Observations:</th>      <td>1344781</td>     <th>  AIC:               </th>  <td>3.644e+06</td> \n",
       "</tr>\n",
       "<tr>\n",
       "  <th>Df Residuals:</th>          <td>1344729</td>     <th>  BIC:               </th>  <td>3.644e+06</td> \n",
       "</tr>\n",
       "<tr>\n",
       "  <th>Df Model:</th>              <td>    51</td>      <th>                     </th>      <td> </td>     \n",
       "</tr>\n",
       "<tr>\n",
       "  <th>Covariance Type:</th>      <td>nonrobust</td>    <th>                     </th>      <td> </td>     \n",
       "</tr>\n",
       "</table>\n",
       "<table class=\"simpletable\">\n",
       "<tr>\n",
       "                 <td></td>                   <th>coef</th>     <th>std err</th>      <th>t</th>      <th>P>|t|</th>  <th>[0.025</th>    <th>0.975]</th>  \n",
       "</tr>\n",
       "<tr>\n",
       "  <th>const</th>                          <td>    0.1112</td> <td>    0.019</td> <td>    5.728</td> <td> 0.000</td> <td>    0.073</td> <td>    0.149</td>\n",
       "</tr>\n",
       "<tr>\n",
       "  <th>log_value_fund_lag_1</th>           <td>   -0.0046</td> <td>    0.001</td> <td>   -4.894</td> <td> 0.000</td> <td>   -0.006</td> <td>   -0.003</td>\n",
       "</tr>\n",
       "<tr>\n",
       "  <th>high_value_lag_1</th>               <td>   -0.0599</td> <td>    0.009</td> <td>   -6.744</td> <td> 0.000</td> <td>   -0.077</td> <td>   -0.043</td>\n",
       "</tr>\n",
       "<tr>\n",
       "  <th>med_value_lag_1</th>                <td>   -0.0374</td> <td>    0.007</td> <td>   -5.128</td> <td> 0.000</td> <td>   -0.052</td> <td>   -0.023</td>\n",
       "</tr>\n",
       "<tr>\n",
       "  <th>net_shares_lag_1_low</th>           <td>    0.0007</td> <td> 6.37e-05</td> <td>   11.404</td> <td> 0.000</td> <td>    0.001</td> <td>    0.001</td>\n",
       "</tr>\n",
       "<tr>\n",
       "  <th>net_shares_lag_1_med</th>           <td>    0.0003</td> <td> 6.91e-06</td> <td>   44.238</td> <td> 0.000</td> <td>    0.000</td> <td>    0.000</td>\n",
       "</tr>\n",
       "<tr>\n",
       "  <th>net_shares_lag_1_high</th>          <td> 2.909e-05</td> <td> 4.45e-07</td> <td>   65.393</td> <td> 0.000</td> <td> 2.82e-05</td> <td>    3e-05</td>\n",
       "</tr>\n",
       "<tr>\n",
       "  <th>net_shares_lag_2_low</th>           <td> 2.979e-05</td> <td> 8.57e-05</td> <td>    0.348</td> <td> 0.728</td> <td>   -0.000</td> <td>    0.000</td>\n",
       "</tr>\n",
       "<tr>\n",
       "  <th>net_shares_lag_2_med</th>           <td> 4.344e-05</td> <td> 4.23e-06</td> <td>   10.275</td> <td> 0.000</td> <td> 3.52e-05</td> <td> 5.17e-05</td>\n",
       "</tr>\n",
       "<tr>\n",
       "  <th>net_shares_lag_2_high</th>          <td>    0.0006</td> <td> 1.62e-06</td> <td>  348.774</td> <td> 0.000</td> <td>    0.001</td> <td>    0.001</td>\n",
       "</tr>\n",
       "<tr>\n",
       "  <th>net_shares_lag_3_low</th>           <td>-4.767e-05</td> <td>    0.000</td> <td>   -0.353</td> <td> 0.724</td> <td>   -0.000</td> <td>    0.000</td>\n",
       "</tr>\n",
       "<tr>\n",
       "  <th>net_shares_lag_3_med</th>           <td> 3.168e-05</td> <td> 3.06e-06</td> <td>   10.363</td> <td> 0.000</td> <td> 2.57e-05</td> <td> 3.77e-05</td>\n",
       "</tr>\n",
       "<tr>\n",
       "  <th>net_shares_lag_3_high</th>          <td>    0.0003</td> <td> 4.28e-06</td> <td>   73.095</td> <td> 0.000</td> <td>    0.000</td> <td>    0.000</td>\n",
       "</tr>\n",
       "<tr>\n",
       "  <th>net_shares_lag_4_low</th>           <td>    0.0004</td> <td>    0.000</td> <td>    2.319</td> <td> 0.020</td> <td> 6.25e-05</td> <td>    0.001</td>\n",
       "</tr>\n",
       "<tr>\n",
       "  <th>net_shares_lag_4_med</th>           <td>-1.999e-06</td> <td> 2.87e-06</td> <td>   -0.695</td> <td> 0.487</td> <td>-7.63e-06</td> <td> 3.63e-06</td>\n",
       "</tr>\n",
       "<tr>\n",
       "  <th>net_shares_lag_4_high</th>          <td>    0.0002</td> <td> 5.79e-06</td> <td>   41.263</td> <td> 0.000</td> <td>    0.000</td> <td>    0.000</td>\n",
       "</tr>\n",
       "<tr>\n",
       "  <th>ticket_share_lag_1_high</th>        <td> 2.909e-05</td> <td> 4.45e-07</td> <td>   65.393</td> <td> 0.000</td> <td> 2.82e-05</td> <td>    3e-05</td>\n",
       "</tr>\n",
       "<tr>\n",
       "  <th>ticket_share_lag_1_med</th>         <td>    0.0003</td> <td> 6.91e-06</td> <td>   44.238</td> <td> 0.000</td> <td>    0.000</td> <td>    0.000</td>\n",
       "</tr>\n",
       "<tr>\n",
       "  <th>ticket_share_lag_1_low</th>         <td>    0.0007</td> <td> 6.37e-05</td> <td>   11.404</td> <td> 0.000</td> <td>    0.001</td> <td>    0.001</td>\n",
       "</tr>\n",
       "<tr>\n",
       "  <th>ticket_share_lag_2_high</th>        <td>    0.0006</td> <td> 1.62e-06</td> <td>  348.774</td> <td> 0.000</td> <td>    0.001</td> <td>    0.001</td>\n",
       "</tr>\n",
       "<tr>\n",
       "  <th>ticket_share_lag_2_med</th>         <td> 4.344e-05</td> <td> 4.23e-06</td> <td>   10.275</td> <td> 0.000</td> <td> 3.52e-05</td> <td> 5.17e-05</td>\n",
       "</tr>\n",
       "<tr>\n",
       "  <th>ticket_share_lag_2_low</th>         <td> 2.979e-05</td> <td> 8.57e-05</td> <td>    0.348</td> <td> 0.728</td> <td>   -0.000</td> <td>    0.000</td>\n",
       "</tr>\n",
       "<tr>\n",
       "  <th>amend_1</th>                        <td>   -0.0051</td> <td>    0.009</td> <td>   -0.563</td> <td> 0.574</td> <td>   -0.023</td> <td>    0.013</td>\n",
       "</tr>\n",
       "<tr>\n",
       "  <th>amend_2</th>                        <td>   -0.0087</td> <td>    0.009</td> <td>   -0.917</td> <td> 0.359</td> <td>   -0.027</td> <td>    0.010</td>\n",
       "</tr>\n",
       "<tr>\n",
       "  <th>amend_3</th>                        <td>   -0.0075</td> <td>    0.009</td> <td>   -0.827</td> <td> 0.408</td> <td>   -0.025</td> <td>    0.010</td>\n",
       "</tr>\n",
       "<tr>\n",
       "  <th>amend_4</th>                        <td>   -0.0075</td> <td>    0.009</td> <td>   -0.869</td> <td> 0.385</td> <td>   -0.024</td> <td>    0.009</td>\n",
       "</tr>\n",
       "<tr>\n",
       "  <th>turnover_high</th>                  <td>    0.0202</td> <td>    0.004</td> <td>    5.088</td> <td> 0.000</td> <td>    0.012</td> <td>    0.028</td>\n",
       "</tr>\n",
       "<tr>\n",
       "  <th>turnover_med</th>                   <td>    0.0122</td> <td>    0.008</td> <td>    1.614</td> <td> 0.107</td> <td>   -0.003</td> <td>    0.027</td>\n",
       "</tr>\n",
       "<tr>\n",
       "  <th>turnover_low</th>                   <td>   -0.0048</td> <td>    0.009</td> <td>   -0.534</td> <td> 0.593</td> <td>   -0.022</td> <td>    0.013</td>\n",
       "</tr>\n",
       "<tr>\n",
       "  <th>hhi_high</th>                       <td>    0.0202</td> <td>    0.004</td> <td>    5.088</td> <td> 0.000</td> <td>    0.012</td> <td>    0.028</td>\n",
       "</tr>\n",
       "<tr>\n",
       "  <th>hhi_med</th>                        <td>    0.0122</td> <td>    0.008</td> <td>    1.614</td> <td> 0.107</td> <td>   -0.003</td> <td>    0.027</td>\n",
       "</tr>\n",
       "<tr>\n",
       "  <th>hhi_low</th>                        <td>   -0.0048</td> <td>    0.009</td> <td>   -0.534</td> <td> 0.593</td> <td>   -0.022</td> <td>    0.013</td>\n",
       "</tr>\n",
       "<tr>\n",
       "  <th>hhi_eq_1</th>                       <td>   -0.0094</td> <td>    0.057</td> <td>   -0.164</td> <td> 0.870</td> <td>   -0.122</td> <td>    0.103</td>\n",
       "</tr>\n",
       "<tr>\n",
       "  <th>high_turnover</th>                  <td>    0.0173</td> <td>    0.005</td> <td>    3.624</td> <td> 0.000</td> <td>    0.008</td> <td>    0.027</td>\n",
       "</tr>\n",
       "<tr>\n",
       "  <th>high_hhi</th>                       <td>    0.0020</td> <td>    0.007</td> <td>    0.286</td> <td> 0.775</td> <td>   -0.012</td> <td>    0.016</td>\n",
       "</tr>\n",
       "<tr>\n",
       "  <th>extreme_turnover</th>               <td>   -0.1209</td> <td>    0.026</td> <td>   -4.565</td> <td> 0.000</td> <td>   -0.173</td> <td>   -0.069</td>\n",
       "</tr>\n",
       "<tr>\n",
       "  <th>cluster_hhi</th>                    <td>    0.0022</td> <td>    0.003</td> <td>    0.642</td> <td> 0.521</td> <td>   -0.005</td> <td>    0.009</td>\n",
       "</tr>\n",
       "<tr>\n",
       "  <th>cluster_turnover</th>               <td>    0.0058</td> <td>    0.003</td> <td>    2.133</td> <td> 0.033</td> <td>    0.000</td> <td>    0.011</td>\n",
       "</tr>\n",
       "<tr>\n",
       "  <th>sqrt_pos_count_lag_1</th>           <td>    0.0004</td> <td> 9.91e-05</td> <td>    3.754</td> <td> 0.000</td> <td>    0.000</td> <td>    0.001</td>\n",
       "</tr>\n",
       "<tr>\n",
       "  <th>high_pos_count</th>                 <td>    0.0194</td> <td>    0.013</td> <td>    1.523</td> <td> 0.128</td> <td>   -0.006</td> <td>    0.044</td>\n",
       "</tr>\n",
       "<tr>\n",
       "  <th>extreme_pos_count</th>              <td>   -0.0711</td> <td>    0.014</td> <td>   -5.053</td> <td> 0.000</td> <td>   -0.099</td> <td>   -0.044</td>\n",
       "</tr>\n",
       "<tr>\n",
       "  <th>cluster_size_pos</th>               <td>   -0.0049</td> <td>    0.003</td> <td>   -1.511</td> <td> 0.131</td> <td>   -0.011</td> <td>    0.001</td>\n",
       "</tr>\n",
       "<tr>\n",
       "  <th>cluster_pos_hhi</th>                <td>    0.0011</td> <td>    0.003</td> <td>    0.419</td> <td> 0.675</td> <td>   -0.004</td> <td>    0.006</td>\n",
       "</tr>\n",
       "<tr>\n",
       "  <th>cluster_pos_tvr</th>                <td>    0.0005</td> <td>    0.005</td> <td>    0.118</td> <td> 0.906</td> <td>   -0.008</td> <td>    0.010</td>\n",
       "</tr>\n",
       "<tr>\n",
       "  <th>mean_net_shares_lag_1</th>          <td>-2.545e-06</td> <td> 2.05e-05</td> <td>   -0.124</td> <td> 0.901</td> <td>-4.26e-05</td> <td> 3.76e-05</td>\n",
       "</tr>\n",
       "<tr>\n",
       "  <th>mean_net_shares_lag_1_by_value</th> <td> 1.986e-06</td> <td> 1.93e-05</td> <td>    0.103</td> <td> 0.918</td> <td>-3.59e-05</td> <td> 3.98e-05</td>\n",
       "</tr>\n",
       "<tr>\n",
       "  <th>DGS10_high</th>                     <td>   -7.0415</td> <td>    0.614</td> <td>  -11.472</td> <td> 0.000</td> <td>   -8.244</td> <td>   -5.838</td>\n",
       "</tr>\n",
       "<tr>\n",
       "  <th>DGS10_med</th>                      <td>   -0.7121</td> <td>    1.298</td> <td>   -0.549</td> <td> 0.583</td> <td>   -3.256</td> <td>    1.832</td>\n",
       "</tr>\n",
       "<tr>\n",
       "  <th>DGS10_low</th>                      <td>   -1.2217</td> <td>    1.332</td> <td>   -0.917</td> <td> 0.359</td> <td>   -3.833</td> <td>    1.390</td>\n",
       "</tr>\n",
       "<tr>\n",
       "  <th>DFF_high</th>                       <td>   40.1080</td> <td>    2.985</td> <td>   13.434</td> <td> 0.000</td> <td>   34.257</td> <td>   45.959</td>\n",
       "</tr>\n",
       "<tr>\n",
       "  <th>DFF_med</th>                        <td>    3.1059</td> <td>    6.479</td> <td>    0.479</td> <td> 0.632</td> <td>   -9.592</td> <td>   15.804</td>\n",
       "</tr>\n",
       "<tr>\n",
       "  <th>DFF_low</th>                        <td>   -1.5641</td> <td>    6.778</td> <td>   -0.231</td> <td> 0.818</td> <td>  -14.850</td> <td>   11.721</td>\n",
       "</tr>\n",
       "<tr>\n",
       "  <th>UNRATE_high</th>                    <td>  -50.3617</td> <td>    3.801</td> <td>  -13.251</td> <td> 0.000</td> <td>  -57.811</td> <td>  -42.913</td>\n",
       "</tr>\n",
       "<tr>\n",
       "  <th>UNRATE_med</th>                     <td>    0.2323</td> <td>    8.503</td> <td>    0.027</td> <td> 0.978</td> <td>  -16.433</td> <td>   16.898</td>\n",
       "</tr>\n",
       "<tr>\n",
       "  <th>UNRATE_low</th>                     <td>    6.4669</td> <td>    8.483</td> <td>    0.762</td> <td> 0.446</td> <td>  -10.159</td> <td>   23.093</td>\n",
       "</tr>\n",
       "<tr>\n",
       "  <th>CPIAUCSL_high</th>                  <td>   20.3622</td> <td>    1.581</td> <td>   12.879</td> <td> 0.000</td> <td>   17.263</td> <td>   23.461</td>\n",
       "</tr>\n",
       "<tr>\n",
       "  <th>CPIAUCSL_med</th>                   <td>    1.2232</td> <td>    3.328</td> <td>    0.368</td> <td> 0.713</td> <td>   -5.299</td> <td>    7.745</td>\n",
       "</tr>\n",
       "<tr>\n",
       "  <th>CPIAUCSL_low</th>                   <td>    0.1602</td> <td>    3.569</td> <td>    0.045</td> <td> 0.964</td> <td>   -6.835</td> <td>    7.155</td>\n",
       "</tr>\n",
       "<tr>\n",
       "  <th>GDP_high</th>                       <td>   -4.7552</td> <td>    0.579</td> <td>   -8.213</td> <td> 0.000</td> <td>   -5.890</td> <td>   -3.620</td>\n",
       "</tr>\n",
       "<tr>\n",
       "  <th>GDP_med</th>                        <td>   -0.4420</td> <td>    1.234</td> <td>   -0.358</td> <td> 0.720</td> <td>   -2.860</td> <td>    1.976</td>\n",
       "</tr>\n",
       "<tr>\n",
       "  <th>GDP_low</th>                        <td>   -0.8063</td> <td>    1.460</td> <td>   -0.552</td> <td> 0.581</td> <td>   -3.668</td> <td>    2.056</td>\n",
       "</tr>\n",
       "</table>\n",
       "<table class=\"simpletable\">\n",
       "<tr>\n",
       "  <th>Omnibus:</th>       <td>9172676.947</td> <th>  Durbin-Watson:     </th>       <td>   2.041</td>       \n",
       "</tr>\n",
       "<tr>\n",
       "  <th>Prob(Omnibus):</th>   <td> 0.000</td>    <th>  Jarque-Bera (JB):  </th> <td>23710791192425384.000</td>\n",
       "</tr>\n",
       "<tr>\n",
       "  <th>Skew:</th>            <td>703.815</td>   <th>  Prob(JB):          </th>       <td>    0.00</td>       \n",
       "</tr>\n",
       "<tr>\n",
       "  <th>Kurtosis:</th>      <td>650509.806</td>  <th>  Cond. No.          </th>       <td>1.80e+16</td>       \n",
       "</tr>\n",
       "</table><br/><br/>Warnings:<br/>[1] Standard Errors assume that the covariance matrix of the errors is correctly specified.<br/>[2] The smallest eigenvalue is 7.15e-21. This might indicate that there are<br/>strong multicollinearity problems or that the design matrix is singular."
      ],
      "text/plain": [
       "<class 'statsmodels.iolib.summary.Summary'>\n",
       "\"\"\"\n",
       "                            OLS Regression Results                            \n",
       "==============================================================================\n",
       "Dep. Variable:             net_shares   R-squared:                       0.121\n",
       "Model:                            OLS   Adj. R-squared:                  0.121\n",
       "Method:                 Least Squares   F-statistic:                     3615.\n",
       "Date:                Wed, 02 Dec 2020   Prob (F-statistic):               0.00\n",
       "Time:                        00:58:30   Log-Likelihood:            -1.8218e+06\n",
       "No. Observations:             1344781   AIC:                         3.644e+06\n",
       "Df Residuals:                 1344729   BIC:                         3.644e+06\n",
       "Df Model:                          51                                         \n",
       "Covariance Type:            nonrobust                                         \n",
       "==================================================================================================\n",
       "                                     coef    std err          t      P>|t|      [0.025      0.975]\n",
       "--------------------------------------------------------------------------------------------------\n",
       "const                              0.1112      0.019      5.728      0.000       0.073       0.149\n",
       "log_value_fund_lag_1              -0.0046      0.001     -4.894      0.000      -0.006      -0.003\n",
       "high_value_lag_1                  -0.0599      0.009     -6.744      0.000      -0.077      -0.043\n",
       "med_value_lag_1                   -0.0374      0.007     -5.128      0.000      -0.052      -0.023\n",
       "net_shares_lag_1_low               0.0007   6.37e-05     11.404      0.000       0.001       0.001\n",
       "net_shares_lag_1_med               0.0003   6.91e-06     44.238      0.000       0.000       0.000\n",
       "net_shares_lag_1_high           2.909e-05   4.45e-07     65.393      0.000    2.82e-05       3e-05\n",
       "net_shares_lag_2_low            2.979e-05   8.57e-05      0.348      0.728      -0.000       0.000\n",
       "net_shares_lag_2_med            4.344e-05   4.23e-06     10.275      0.000    3.52e-05    5.17e-05\n",
       "net_shares_lag_2_high              0.0006   1.62e-06    348.774      0.000       0.001       0.001\n",
       "net_shares_lag_3_low           -4.767e-05      0.000     -0.353      0.724      -0.000       0.000\n",
       "net_shares_lag_3_med            3.168e-05   3.06e-06     10.363      0.000    2.57e-05    3.77e-05\n",
       "net_shares_lag_3_high              0.0003   4.28e-06     73.095      0.000       0.000       0.000\n",
       "net_shares_lag_4_low               0.0004      0.000      2.319      0.020    6.25e-05       0.001\n",
       "net_shares_lag_4_med           -1.999e-06   2.87e-06     -0.695      0.487   -7.63e-06    3.63e-06\n",
       "net_shares_lag_4_high              0.0002   5.79e-06     41.263      0.000       0.000       0.000\n",
       "ticket_share_lag_1_high         2.909e-05   4.45e-07     65.393      0.000    2.82e-05       3e-05\n",
       "ticket_share_lag_1_med             0.0003   6.91e-06     44.238      0.000       0.000       0.000\n",
       "ticket_share_lag_1_low             0.0007   6.37e-05     11.404      0.000       0.001       0.001\n",
       "ticket_share_lag_2_high            0.0006   1.62e-06    348.774      0.000       0.001       0.001\n",
       "ticket_share_lag_2_med          4.344e-05   4.23e-06     10.275      0.000    3.52e-05    5.17e-05\n",
       "ticket_share_lag_2_low          2.979e-05   8.57e-05      0.348      0.728      -0.000       0.000\n",
       "amend_1                           -0.0051      0.009     -0.563      0.574      -0.023       0.013\n",
       "amend_2                           -0.0087      0.009     -0.917      0.359      -0.027       0.010\n",
       "amend_3                           -0.0075      0.009     -0.827      0.408      -0.025       0.010\n",
       "amend_4                           -0.0075      0.009     -0.869      0.385      -0.024       0.009\n",
       "turnover_high                      0.0202      0.004      5.088      0.000       0.012       0.028\n",
       "turnover_med                       0.0122      0.008      1.614      0.107      -0.003       0.027\n",
       "turnover_low                      -0.0048      0.009     -0.534      0.593      -0.022       0.013\n",
       "hhi_high                           0.0202      0.004      5.088      0.000       0.012       0.028\n",
       "hhi_med                            0.0122      0.008      1.614      0.107      -0.003       0.027\n",
       "hhi_low                           -0.0048      0.009     -0.534      0.593      -0.022       0.013\n",
       "hhi_eq_1                          -0.0094      0.057     -0.164      0.870      -0.122       0.103\n",
       "high_turnover                      0.0173      0.005      3.624      0.000       0.008       0.027\n",
       "high_hhi                           0.0020      0.007      0.286      0.775      -0.012       0.016\n",
       "extreme_turnover                  -0.1209      0.026     -4.565      0.000      -0.173      -0.069\n",
       "cluster_hhi                        0.0022      0.003      0.642      0.521      -0.005       0.009\n",
       "cluster_turnover                   0.0058      0.003      2.133      0.033       0.000       0.011\n",
       "sqrt_pos_count_lag_1               0.0004   9.91e-05      3.754      0.000       0.000       0.001\n",
       "high_pos_count                     0.0194      0.013      1.523      0.128      -0.006       0.044\n",
       "extreme_pos_count                 -0.0711      0.014     -5.053      0.000      -0.099      -0.044\n",
       "cluster_size_pos                  -0.0049      0.003     -1.511      0.131      -0.011       0.001\n",
       "cluster_pos_hhi                    0.0011      0.003      0.419      0.675      -0.004       0.006\n",
       "cluster_pos_tvr                    0.0005      0.005      0.118      0.906      -0.008       0.010\n",
       "mean_net_shares_lag_1          -2.545e-06   2.05e-05     -0.124      0.901   -4.26e-05    3.76e-05\n",
       "mean_net_shares_lag_1_by_value  1.986e-06   1.93e-05      0.103      0.918   -3.59e-05    3.98e-05\n",
       "DGS10_high                        -7.0415      0.614    -11.472      0.000      -8.244      -5.838\n",
       "DGS10_med                         -0.7121      1.298     -0.549      0.583      -3.256       1.832\n",
       "DGS10_low                         -1.2217      1.332     -0.917      0.359      -3.833       1.390\n",
       "DFF_high                          40.1080      2.985     13.434      0.000      34.257      45.959\n",
       "DFF_med                            3.1059      6.479      0.479      0.632      -9.592      15.804\n",
       "DFF_low                           -1.5641      6.778     -0.231      0.818     -14.850      11.721\n",
       "UNRATE_high                      -50.3617      3.801    -13.251      0.000     -57.811     -42.913\n",
       "UNRATE_med                         0.2323      8.503      0.027      0.978     -16.433      16.898\n",
       "UNRATE_low                         6.4669      8.483      0.762      0.446     -10.159      23.093\n",
       "CPIAUCSL_high                     20.3622      1.581     12.879      0.000      17.263      23.461\n",
       "CPIAUCSL_med                       1.2232      3.328      0.368      0.713      -5.299       7.745\n",
       "CPIAUCSL_low                       0.1602      3.569      0.045      0.964      -6.835       7.155\n",
       "GDP_high                          -4.7552      0.579     -8.213      0.000      -5.890      -3.620\n",
       "GDP_med                           -0.4420      1.234     -0.358      0.720      -2.860       1.976\n",
       "GDP_low                           -0.8063      1.460     -0.552      0.581      -3.668       2.056\n",
       "=================================================================================\n",
       "Omnibus:                  9172676.947   Durbin-Watson:                      2.041\n",
       "Prob(Omnibus):                  0.000   Jarque-Bera (JB):   23710791192425384.000\n",
       "Skew:                         703.815   Prob(JB):                            0.00\n",
       "Kurtosis:                  650509.806   Cond. No.                        1.80e+16\n",
       "=================================================================================\n",
       "\n",
       "Warnings:\n",
       "[1] Standard Errors assume that the covariance matrix of the errors is correctly specified.\n",
       "[2] The smallest eigenvalue is 7.15e-21. This might indicate that there are\n",
       "strong multicollinearity problems or that the design matrix is singular.\n",
       "\"\"\""
      ]
     },
     "execution_count": 133,
     "metadata": {},
     "output_type": "execute_result"
    }
   ],
   "source": [
    "model_9 = sm.OLS(y, X).fit()\n",
    "model_9.summary()"
   ]
  },
  {
   "cell_type": "markdown",
   "metadata": {},
   "source": [
    "Как и для других макроиндикаторов, ставка оказалась значимой для больших фондов и не очень значимой для остальных.\n",
    "\n",
    "Заметим также, что в зависимости от размера эффект отличается от предыдущих значений. Рост ВВП при всех размерах теперь влияет отрицательно, а рост инфляции - положительно. Кроме того, увеличился масштаб коэффициентов. Получается, в зависимости от того, берем ли мы разницу ставки или её абсолютное значение, мы получаем две разные модели с разным характером влияния макроиндикаторов. Хотелось бы это объяснить, но хочется для этого лучше понимать специфику инвестирования фондов в разных весовых категориях."
   ]
  },
  {
   "cell_type": "markdown",
   "metadata": {},
   "source": [
    "# Сохранение датасета."
   ]
  },
  {
   "cell_type": "markdown",
   "metadata": {},
   "source": [
    "Для удобства сохраню полученные результаты."
   ]
  },
  {
   "cell_type": "code",
   "execution_count": 82,
   "metadata": {},
   "outputs": [],
   "source": [
    "import pickle\n",
    "\n",
    "# сохраняю полный датасет\n",
    "with open('final_df.pkl', 'wb') as f:\n",
    "    pickle.dump(final_df, f, protocol=-1)"
   ]
  },
  {
   "cell_type": "markdown",
   "metadata": {},
   "source": [
    "# Планируемая работа"
   ]
  },
  {
   "cell_type": "markdown",
   "metadata": {},
   "source": [
    "1. Усовершенствовать чистку исходных данных, так как сейчас она примитивна.\n",
    "\n",
    "    Как минимум, стоит учесть поправки к исходным отчетам, но пока непонятен их характер. Там присутствуют поправки только по активам, которых не было в исходном отчете, или же там есть поправки по активам, которые уже были упомянуты. Можно создать индикатор того, что актив был в поправках, кстати.<br><br>\n",
    "   \n",
    "2. Выгрузить названия фондов из EDGAR и через Thomas Reuters сопоставить им их стили инвестирования, через что можно было бы определить схожие фонды. Потом можно было бы вычислить, например, среднее изменение актива по схожим фондам или составить кросс-произведение с другими индикаторами.<br><br>\n",
    "\n",
    "3. Аналогичная ситуация с акциями. Для них можно получить их индустрию. В сущности, можно тоже вычислить схожие фонды по их выбору индустрий. Также можно добавить фичи принадлежности акции индустрии, указать изменение позиции фонда по индустрии и долю индустрии в фонде. Кроме того, можно посчитать HHI и Turnover не в разрезе акций, а в разрезе индустрий. Можно сделать много новых индикаторов, посмотреть на совместное распределение HHI и Turnover с размером фонда.<br><br>\n",
    "\n",
    "4. Понять, надо ли оставлять в данных, на которых я буду тренировать бустинги, леса и прочие чудеса, кросс-произведения дохода и других непрерывных переменных или достаточно будет использовать все переменные по отдельности, ведь всех можно применить PolynomialFeatures.<br><br>\n",
    "\n",
    "5. Понять, как лучше разделять данные на тест и трейн.<br><br>\n",
    "\n",
    "6. Может, не выкидывать значения, где лагов не хватает, а заменить там всё нулями?"
   ]
  },
  {
   "cell_type": "markdown",
   "metadata": {},
   "source": [
    "the coursework will return ..."
   ]
  }
 ],
 "metadata": {
  "kernelspec": {
   "display_name": "Python 3",
   "language": "python",
   "name": "python3"
  },
  "language_info": {
   "codemirror_mode": {
    "name": "ipython",
    "version": 3
   },
   "file_extension": ".py",
   "mimetype": "text/x-python",
   "name": "python",
   "nbconvert_exporter": "python",
   "pygments_lexer": "ipython3",
   "version": "3.7.1"
  }
 },
 "nbformat": 4,
 "nbformat_minor": 2
}
