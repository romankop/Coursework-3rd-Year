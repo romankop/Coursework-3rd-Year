{
 "cells": [
  {
   "cell_type": "markdown",
   "metadata": {},
   "source": [
    "<h1 style=\"font-size:3vw\"> Analysis and forecast of institutional investors' positions </h1>"
   ]
  },
  {
   "cell_type": "markdown",
   "metadata": {},
   "source": [
    "<div style=\"text-align: right\"><q><i> Was it Mr Big, was it New York or was it me? </i></q></div>\n",
    "<div style=\"text-align: right\"> Carrie Bradshaw </div>"
   ]
  },
  {
   "cell_type": "markdown",
   "metadata": {},
   "source": [
    "Программный код и размышления, используемые для написания курсовой работы."
   ]
  },
  {
   "cell_type": "markdown",
   "metadata": {},
   "source": [
    "# Импорт библиотек и загрузка данных"
   ]
  },
  {
   "cell_type": "markdown",
   "metadata": {},
   "source": [
    "Импортирую библиотеки для обработки данных."
   ]
  },
  {
   "cell_type": "code",
   "execution_count": 1,
   "metadata": {},
   "outputs": [],
   "source": [
    "import pandas as pd\n",
    "import numpy as np\n",
    "import matplotlib.pyplot as pl\n",
    "\n",
    "import warnings\n",
    "warnings.filterwarnings(\"ignore\")"
   ]
  },
  {
   "cell_type": "markdown",
   "metadata": {},
   "source": [
    "Считывание файла с данными. Он очень большой!"
   ]
  },
  {
   "cell_type": "code",
   "execution_count": 92,
   "metadata": {},
   "outputs": [
    {
     "name": "stdout",
     "output_type": "stream",
     "text": [
      "Wall time: 3min 47s\n"
     ]
    }
   ],
   "source": [
    "%%time\n",
    "df = pd.read_csv(r'C:\\Users\\Redmi\\Downloads\\f13_data.csv')"
   ]
  },
  {
   "cell_type": "markdown",
   "metadata": {},
   "source": [
    "В этом датасете много разных столбцов. Некоторые я до сих пор не понимаю."
   ]
  },
  {
   "cell_type": "code",
   "execution_count": 3,
   "metadata": {},
   "outputs": [
    {
     "data": {
      "text/plain": [
       "Index(['Unnamed: 0', 'stamp', 'access_id', 'other_manager',\n",
       "       'investment_discretion', 'put_call', 'security_class',\n",
       "       'ssh_prn_amt_type', 'acceptance_stamp', 'market_value', 'ssh_prn_amt',\n",
       "       'voting_authority_sole', 'voting_authority_shared',\n",
       "       'voting_authority_none', 'cik', 'conformed_submission_type',\n",
       "       'conformed_period_of_report', 'filed_as_of_date', 'date_of_change',\n",
       "       'effectiveness_date', 'fiscal_year_end', 'close', 'is_shifted_price',\n",
       "       'id'],\n",
       "      dtype='object')"
      ]
     },
     "execution_count": 3,
     "metadata": {},
     "output_type": "execute_result"
    }
   ],
   "source": [
    "df.columns"
   ]
  },
  {
   "cell_type": "markdown",
   "metadata": {},
   "source": [
    "Подгрузим таблицу соответствия CIK и наименования институционального инвестора. Таблица соответствия взята из базы <a href=\"https://www.sec.gov/Archives/edgar/cik-lookup-data.txt\">EDGAR</a>."
   ]
  },
  {
   "cell_type": "code",
   "execution_count": 4,
   "metadata": {},
   "outputs": [
    {
     "data": {
      "text/html": [
       "<div>\n",
       "<style scoped>\n",
       "    .dataframe tbody tr th:only-of-type {\n",
       "        vertical-align: middle;\n",
       "    }\n",
       "\n",
       "    .dataframe tbody tr th {\n",
       "        vertical-align: top;\n",
       "    }\n",
       "\n",
       "    .dataframe thead th {\n",
       "        text-align: right;\n",
       "    }\n",
       "</style>\n",
       "<table border=\"1\" class=\"dataframe\">\n",
       "  <thead>\n",
       "    <tr style=\"text-align: right;\">\n",
       "      <th></th>\n",
       "      <th>fund_name</th>\n",
       "      <th>cik</th>\n",
       "    </tr>\n",
       "  </thead>\n",
       "  <tbody>\n",
       "    <tr>\n",
       "      <th>0</th>\n",
       "      <td>!J INC</td>\n",
       "      <td>1438823</td>\n",
       "    </tr>\n",
       "    <tr>\n",
       "      <th>1</th>\n",
       "      <td>#1 A LIFESAFER HOLDINGS, INC.</td>\n",
       "      <td>1509607</td>\n",
       "    </tr>\n",
       "    <tr>\n",
       "      <th>2</th>\n",
       "      <td>#1 ARIZONA DISCOUNT PROPERTIES LLC</td>\n",
       "      <td>1457512</td>\n",
       "    </tr>\n",
       "    <tr>\n",
       "      <th>3</th>\n",
       "      <td>#1 PAINTBALL CORP</td>\n",
       "      <td>1433777</td>\n",
       "    </tr>\n",
       "    <tr>\n",
       "      <th>4</th>\n",
       "      <td>$ LLC</td>\n",
       "      <td>1427189</td>\n",
       "    </tr>\n",
       "  </tbody>\n",
       "</table>\n",
       "</div>"
      ],
      "text/plain": [
       "                            fund_name      cik\n",
       "0                              !J INC  1438823\n",
       "1       #1 A LIFESAFER HOLDINGS, INC.  1509607\n",
       "2  #1 ARIZONA DISCOUNT PROPERTIES LLC  1457512\n",
       "3                   #1 PAINTBALL CORP  1433777\n",
       "4                               $ LLC  1427189"
      ]
     },
     "execution_count": 4,
     "metadata": {},
     "output_type": "execute_result"
    }
   ],
   "source": [
    "cik_array = []\n",
    "\n",
    "# Открываю файл\n",
    "with open('cik-lookup-data.txt', 'r') as cik_data:\n",
    "    \n",
    "    # Создаю массив из пар \"CIK - Название компании\"\n",
    "    for string in cik_data:\n",
    "        if string:\n",
    "            cik_array.append([string[:-13], int(string[-12:-2])])\n",
    "\n",
    "# Перевожу массив в Dataframe\n",
    "cik_lookup = pd.DataFrame(data=cik_array, columns=['fund_name', 'cik'])\n",
    "cik_lookup.head()"
   ]
  },
  {
   "cell_type": "markdown",
   "metadata": {},
   "source": [
    "Теперь подгрузим таблицу соответствия тикера и его id. Таблица соответствия взята из базы <a href=\"https://www.sec.gov/include/ticker.txt\">EDGAR</a>. С их помощью я через Yahoo! Finance я попытаюсь вычленить сектор каждой компании-эмитента, чтобы на его основе сгенерировать полезные для анализа переменные."
   ]
  },
  {
   "cell_type": "code",
   "execution_count": 5,
   "metadata": {},
   "outputs": [
    {
     "data": {
      "text/html": [
       "<div>\n",
       "<style scoped>\n",
       "    .dataframe tbody tr th:only-of-type {\n",
       "        vertical-align: middle;\n",
       "    }\n",
       "\n",
       "    .dataframe tbody tr th {\n",
       "        vertical-align: top;\n",
       "    }\n",
       "\n",
       "    .dataframe thead th {\n",
       "        text-align: right;\n",
       "    }\n",
       "</style>\n",
       "<table border=\"1\" class=\"dataframe\">\n",
       "  <thead>\n",
       "    <tr style=\"text-align: right;\">\n",
       "      <th></th>\n",
       "      <th>ticker</th>\n",
       "      <th>ticker_id</th>\n",
       "    </tr>\n",
       "  </thead>\n",
       "  <tbody>\n",
       "    <tr>\n",
       "      <th>0</th>\n",
       "      <td>aapl</td>\n",
       "      <td>320193</td>\n",
       "    </tr>\n",
       "    <tr>\n",
       "      <th>1</th>\n",
       "      <td>msft</td>\n",
       "      <td>789019</td>\n",
       "    </tr>\n",
       "    <tr>\n",
       "      <th>2</th>\n",
       "      <td>amzn</td>\n",
       "      <td>1018724</td>\n",
       "    </tr>\n",
       "    <tr>\n",
       "      <th>3</th>\n",
       "      <td>goog</td>\n",
       "      <td>1652044</td>\n",
       "    </tr>\n",
       "    <tr>\n",
       "      <th>4</th>\n",
       "      <td>fb</td>\n",
       "      <td>1326801</td>\n",
       "    </tr>\n",
       "  </tbody>\n",
       "</table>\n",
       "</div>"
      ],
      "text/plain": [
       "  ticker  ticker_id\n",
       "0   aapl     320193\n",
       "1   msft     789019\n",
       "2   amzn    1018724\n",
       "3   goog    1652044\n",
       "4     fb    1326801"
      ]
     },
     "execution_count": 5,
     "metadata": {},
     "output_type": "execute_result"
    }
   ],
   "source": [
    "# Считываю таблицу соответствия\n",
    "tickers_lookup = pd.read_csv('ticker.txt', sep='\\t', names=['ticker', 'ticker_id'])\n",
    "tickers_lookup.head()"
   ]
  },
  {
   "cell_type": "markdown",
   "metadata": {},
   "source": [
    "Чтобы скачивать данные о секторе, я напишу специальную функцию."
   ]
  },
  {
   "cell_type": "code",
   "execution_count": 6,
   "metadata": {},
   "outputs": [],
   "source": [
    "# функция выгрузки секторов для набора тикеров\n",
    "def extract_tickers_with_sector(symbols: list) -> pd.DataFrame :\n",
    "    \n",
    "    from yahooquery import Ticker\n",
    "    \n",
    "    # Получаю информацию из базы данных о тикерах\n",
    "    tickers = Ticker(symbols, asynchronous=True)\n",
    "    tickers = tickers.get_modules(\"summaryProfile quoteType\")\n",
    "    tickers = pd.DataFrame.from_dict(tickers).T\n",
    "    \n",
    "    # Преобразую информацию в понятный формат\n",
    "    ticker_frames = [pd.json_normalize([x for x in tickers[module] if isinstance(x, dict)]) \\\n",
    "                                         for module in ['summaryProfile', 'quoteType']]\n",
    "    \n",
    "    # Оставляю необходимые столбцы\n",
    "    tickers = pd.concat(ticker_frames, axis=1)[['symbol', 'sector']]\n",
    "    # Для будущей пользы (и соответствия исходному формату) изменяю формат тикеров\n",
    "    tickers.symbol = tickers.symbol.str.lower()\n",
    "\n",
    "    return tickers"
   ]
  },
  {
   "cell_type": "markdown",
   "metadata": {},
   "source": [
    "Теперь получу информацию о секторе."
   ]
  },
  {
   "cell_type": "code",
   "execution_count": 10,
   "metadata": {},
   "outputs": [
    {
     "name": "stdout",
     "output_type": "stream",
     "text": [
      "Wall time: 6min 35s\n"
     ]
    },
    {
     "data": {
      "text/html": [
       "<div>\n",
       "<style scoped>\n",
       "    .dataframe tbody tr th:only-of-type {\n",
       "        vertical-align: middle;\n",
       "    }\n",
       "\n",
       "    .dataframe tbody tr th {\n",
       "        vertical-align: top;\n",
       "    }\n",
       "\n",
       "    .dataframe thead th {\n",
       "        text-align: right;\n",
       "    }\n",
       "</style>\n",
       "<table border=\"1\" class=\"dataframe\">\n",
       "  <thead>\n",
       "    <tr style=\"text-align: right;\">\n",
       "      <th></th>\n",
       "      <th>sector</th>\n",
       "      <th>ticker</th>\n",
       "      <th>ticker_id</th>\n",
       "    </tr>\n",
       "  </thead>\n",
       "  <tbody>\n",
       "    <tr>\n",
       "      <th>0</th>\n",
       "      <td>Technology</td>\n",
       "      <td>aapl</td>\n",
       "      <td>320193</td>\n",
       "    </tr>\n",
       "    <tr>\n",
       "      <th>1</th>\n",
       "      <td>Technology</td>\n",
       "      <td>msft</td>\n",
       "      <td>789019</td>\n",
       "    </tr>\n",
       "    <tr>\n",
       "      <th>2</th>\n",
       "      <td>Consumer Cyclical</td>\n",
       "      <td>amzn</td>\n",
       "      <td>1018724</td>\n",
       "    </tr>\n",
       "    <tr>\n",
       "      <th>3</th>\n",
       "      <td>Communication Services</td>\n",
       "      <td>goog</td>\n",
       "      <td>1652044</td>\n",
       "    </tr>\n",
       "    <tr>\n",
       "      <th>4</th>\n",
       "      <td>Communication Services</td>\n",
       "      <td>fb</td>\n",
       "      <td>1326801</td>\n",
       "    </tr>\n",
       "  </tbody>\n",
       "</table>\n",
       "</div>"
      ],
      "text/plain": [
       "                   sector ticker  ticker_id\n",
       "0              Technology   aapl     320193\n",
       "1              Technology   msft     789019\n",
       "2       Consumer Cyclical   amzn    1018724\n",
       "3  Communication Services   goog    1652044\n",
       "4  Communication Services     fb    1326801"
      ]
     },
     "execution_count": 10,
     "metadata": {},
     "output_type": "execute_result"
    }
   ],
   "source": [
    "%%time\n",
    "\n",
    "# Формирую названия тикеров для функции\n",
    "symbols = tickers_lookup.ticker.unique()\n",
    "# Получаю значения секторов\n",
    "tickers = extract_tickers_with_sector(symbols)\n",
    "# Присоединяю данные о секторе к основной таблице\n",
    "tickers = tickers.merge(tickers_lookup, left_on='symbol',\n",
    "                        right_on='ticker', how='right', suffixes=(None, None))\n",
    "# Удаляю ненужный столбец, по которому велось присоединение\n",
    "tickers.drop('symbol', axis=1, inplace=True)\n",
    "\n",
    "tickers.head()"
   ]
  },
  {
   "cell_type": "markdown",
   "metadata": {},
   "source": [
    "Я также заметил, что последняя буква (иногда и две) в написании тикеров часто соответствует типу финансового инструмента. Поэтому для тикеров с ненайденными секторами повторю процедуру, используя их в запросе без первой и второй буквы."
   ]
  },
  {
   "cell_type": "code",
   "execution_count": 11,
   "metadata": {
    "scrolled": true
   },
   "outputs": [
    {
     "name": "stdout",
     "output_type": "stream",
     "text": [
      "Wall time: 2min 13s\n"
     ]
    }
   ],
   "source": [
    "%%time\n",
    "\n",
    "# Прохожу цикл по количеству убранных с конца букв\n",
    "for last in (1, 2):\n",
    "    # Составляю список правильных наименований тикеров без сектора для запроса\n",
    "    symbols_without_sector = tickers[tickers.sector.isna()].ticker.str[:-last]\n",
    "    # Получаю таблицу соответствия измененных названий тикеров и сектора\n",
    "    res_for_symbols_without_sector = extract_tickers_with_sector(symbols_without_sector)\n",
    "    # Составляю таблицу полных названий тикеров без названия и сектора\n",
    "    sector_vals = symbols_without_sector.to_frame().merge(res_for_symbols_without_sector, how='left',\n",
    "                                                          left_on='ticker', right_on='symbol').sector\n",
    "    # Обновляю изначальную таблицу новыми соответствиями\n",
    "    tickers.loc[tickers.sector.isna(), 'sector'] = sector_vals.values\n",
    "\n",
    "# Изменяю пустые поля и отсутствия сектора на неопределенное значение\n",
    "tickers['sector'] = tickers.sector.replace('', 'Undefined')\n",
    "tickers['sector'] = tickers.sector.fillna('Undefined')\n",
    "# Расширяю тип колонки идентификатора тикера для удобства сочленения с основными данными\n",
    "tickers['ticker_id'] = tickers.ticker_id.astype('int64')"
   ]
  },
  {
   "cell_type": "markdown",
   "metadata": {},
   "source": [
    "Посмотрим теперь на распределение секторов среди тикеров."
   ]
  },
  {
   "cell_type": "code",
   "execution_count": 12,
   "metadata": {
    "scrolled": false
   },
   "outputs": [
    {
     "data": {
      "image/png": "[encoded data removed]",
      "text/plain": [
       "<Figure size 1152x576 with 1 Axes>"
      ]
     },
     "metadata": {
      "needs_background": "light"
     },
     "output_type": "display_data"
    }
   ],
   "source": [
    "pl.figure(figsize=(16,8));\n",
    "tickers.sector.value_counts().plot(kind='barh', title='Stock Sectors Distribuition').invert_yaxis();"
   ]
  },
  {
   "cell_type": "markdown",
   "metadata": {},
   "source": [
    "Большинство компаний работают в секторах Здравоохранения и Финансовых услуг, а также в промышленности, IT и циклических индустрий. Замечу, что у нас огромная доля компаний не получила в соответствие сектор, что не очень приятно для дальнейшего анализа."
   ]
  },
  {
   "cell_type": "markdown",
   "metadata": {},
   "source": [
    "# Обработка датасета"
   ]
  },
  {
   "cell_type": "markdown",
   "metadata": {},
   "source": [
    "Определяю количество лагов доли акции."
   ]
  },
  {
   "cell_type": "code",
   "execution_count": 17,
   "metadata": {},
   "outputs": [],
   "source": [
    "num_lags = 4"
   ]
  },
  {
   "cell_type": "markdown",
   "metadata": {},
   "source": [
    "Чищу данные."
   ]
  },
  {
   "cell_type": "code",
   "execution_count": 93,
   "metadata": {},
   "outputs": [
    {
     "name": "stdout",
     "output_type": "stream",
     "text": [
      "Wall time: 57.9 s\n"
     ]
    }
   ],
   "source": [
    "%%time\n",
    "# оставляю только акции\n",
    "df = df[df['security_class'] == \"STOCK\"]\n",
    "# беру только самодостаточные активы\n",
    "df = df[df['investment_discretion'] == \"SOLE\"]\n",
    "# оставляю только обыкновенные акции с неразделимым правом на голосовании\n",
    "df = df[(df['voting_authority_sole'] > 0) & (df['voting_authority_shared'] + df['voting_authority_none'] == 0)]\n",
    "# Убираю наблюдения, которые являются опционами на акции\n",
    "df = df[df['put_call'].isna()]\n",
    "\n",
    "# Создаю переменную количества акций\n",
    "\n",
    "# Создаю маску, указывающую, где стоит число акций\n",
    "mask = (df['ssh_prn_amt_type'] == 'SH')\n",
    "# Нахожу количество акций через отношение стоимости позиции и цены закрытия, если количество не было указано\n",
    "df['shares'] = mask * df.ssh_prn_amt + (1 - mask) * df.market_value / df.close\n",
    "\n",
    "# Почему-то в датасете есть позиции, на которых стоит нулевая стоимость или нулевое количество\n",
    "df = df[df['shares'] > 0]\n",
    "df = df[df['market_value'] > 0]\n",
    "\n",
    "# перевожу дату в кварталы\n",
    "df['period'] = pd.to_datetime(df.conformed_period_of_report).dt.to_period('Q')\n",
    "\n",
    "# оставляю нужные колонки и перевожу в нужные форматы\n",
    "df = df[['shares', 'market_value', 'cik', 'period', 'id', 'conformed_submission_type', 'close', 'stamp']].dropna()\n",
    "df['shares'] = df['shares'].round()\n",
    "df['ticker_id'] = df['id'].astype('int')\n",
    "df['cik'] = df['cik'].astype('int')\n",
    "df.drop('id', axis=1, inplace=True)"
   ]
  },
  {
   "cell_type": "markdown",
   "metadata": {},
   "source": [
    "Теперь я хочу учесть влияние поправок к основным отчетам. Как сказано в сведениях, в поправках указываются окончательные позиции по активам. Значит, моя задача - оставить только поправки.\n",
    "\n",
    "Во-первых, проверю, что в поправках указываются именно окончательные позиции, а изменения. Для этого посмотрю, нет ли отрицательных значений количества акций в наблюдениях поправок."
   ]
  },
  {
   "cell_type": "code",
   "execution_count": 87,
   "metadata": {},
   "outputs": [
    {
     "data": {
      "text/plain": [
       "0"
      ]
     },
     "execution_count": 87,
     "metadata": {},
     "output_type": "execute_result"
    }
   ],
   "source": [
    "amends = df[df.conformed_submission_type == '13F-HR/A']\n",
    "amends[amends.shares < 0].shape[0]"
   ]
  },
  {
   "cell_type": "markdown",
   "metadata": {},
   "source": [
    "Так как в моих данных одной комбинации \"Период - Тикер - Фонд\" может соответствовать несколько наблюдений, как для основного отчета, так и для поправок, и эти наблюдения в отчете и поправках могут не совпадать, то я посчитаю суммы по комбинациям выше и типам отчета. Кроме того, так как фонды могут загружать основные отчеты и поправки в разное время, то я возьму тот тип отчета, который был загружен последним для каждой комбинации."
   ]
  },
  {
   "cell_type": "code",
   "execution_count": 94,
   "metadata": {},
   "outputs": [
    {
     "name": "stdout",
     "output_type": "stream",
     "text": [
      "Wall time: 13min 25s\n"
     ]
    }
   ],
   "source": [
    "%%time\n",
    "\n",
    "df = df.groupby(by=['cik', 'period', 'ticker_id', 'conformed_submission_type']).agg({'shares': 'sum',\n",
    "                                                             'market_value': 'sum',\n",
    "                                                             'stamp': 'max'}).reset_index()\n",
    "\n",
    "df = df.sort_values(by='stamp').groupby(['cik', 'period', 'ticker_id']).last().reset_index()\n",
    "df['_object'] = df.cik.apply(str) + '_' + df.ticker_id.apply(str) + '_' + df.period.apply(str)"
   ]
  },
  {
   "cell_type": "markdown",
   "metadata": {},
   "source": [
    "Теперь постараюсь посмотреть, есть ли смысл использовать сектор компании для анализа вопроса. Посмотрим, какому количеству данных соответствует сектор."
   ]
  },
  {
   "cell_type": "code",
   "execution_count": 96,
   "metadata": {
    "scrolled": false
   },
   "outputs": [
    {
     "name": "stdout",
     "output_type": "stream",
     "text": [
      "0.392% covered by sectoral mapping\n"
     ]
    }
   ],
   "source": [
    "# Привязываю данные о тикерах к основнуму датасету.\n",
    "data = df.merge(tickers, how='left', on='ticker_id', suffixes=(None, None))\n",
    "\n",
    "# Вывожу долю покрытия данными о тикерами\n",
    "print(str(round(data[~data.ticker.isna()].shape[0] / data.shape[0] * 100, 3)) + '% covered by sectoral mapping')"
   ]
  },
  {
   "cell_type": "markdown",
   "metadata": {},
   "source": [
    "Как мы видим, соответствием в базе тикеров обладает меньше процента наблюдений. Поэтому я не буду включать данные о секторе в разработку модели.\n",
    "\n",
    "Для красоты отсортирую данные и удобства отсортирую данные. "
   ]
  },
  {
   "cell_type": "code",
   "execution_count": 97,
   "metadata": {},
   "outputs": [
    {
     "name": "stdout",
     "output_type": "stream",
     "text": [
      "Wall time: 14 s\n"
     ]
    }
   ],
   "source": [
    "%%time\n",
    "\n",
    "# Сортирую данные\n",
    "df = df.sort_values(by=['ticker_id', 'cik', 'period'])"
   ]
  },
  {
   "cell_type": "code",
   "execution_count": 192,
   "metadata": {},
   "outputs": [],
   "source": [
    "# копирую датасет для возможности бэк-апа\n",
    "final_df = df.copy(deep=True)"
   ]
  },
  {
   "cell_type": "markdown",
   "metadata": {},
   "source": [
    "## Размер фондов"
   ]
  },
  {
   "cell_type": "markdown",
   "metadata": {},
   "source": [
    "Сначала я создаю таблицу накопленной ценности инвестора в каждый квартал."
   ]
  },
  {
   "cell_type": "code",
   "execution_count": 193,
   "metadata": {},
   "outputs": [],
   "source": [
    "funds_value = final_df.groupby(by=['period', 'cik'])['market_value'].sum().reset_index()"
   ]
  },
  {
   "cell_type": "markdown",
   "metadata": {},
   "source": [
    "Формирую пороговые значения низкой и высокой стоимости. Их я выбирал так, чтобы они примерно поровну делили выборку по размеру."
   ]
  },
  {
   "cell_type": "code",
   "execution_count": 194,
   "metadata": {},
   "outputs": [],
   "source": [
    "high_value = 3e8\n",
    "low_value = 1e8"
   ]
  },
  {
   "cell_type": "markdown",
   "metadata": {},
   "source": [
    "Рассмотрим некоторые основные описательные статистики."
   ]
  },
  {
   "cell_type": "code",
   "execution_count": 195,
   "metadata": {
    "scrolled": false
   },
   "outputs": [
    {
     "data": {
      "image/png": "[encoded data removed]",
      "text/plain": [
       "<Figure size 1728x864 with 4 Axes>"
      ]
     },
     "metadata": {
      "needs_background": "light"
     },
     "output_type": "display_data"
    }
   ],
   "source": [
    "fig, axs = pl.subplots(2, 2, figsize=(24, 12));\n",
    "\n",
    "plot_data = funds_value.groupby('period')['cik'].nunique()\n",
    "axs[0, 0].plot(plot_data.index.to_series().astype(str), plot_data.values);\n",
    "axs[0, 0].set_title('Number of funds');\n",
    "axs[0, 0].set(xlabel='years', ylabel='funds number');\n",
    "# axs[0, 0].tick_params(axis='x', labelsize=8);\n",
    "axs[0, 0].xaxis.set_major_locator(pl.MaxNLocator(10));\n",
    "\n",
    "plot_data = funds_value[funds_value.market_value > high_value].groupby('period')['cik'].nunique()\n",
    "axs[0, 1].plot(plot_data.index.to_series().astype(str), plot_data.values);\n",
    "axs[0, 1].set_title('Number of high net worth funds');\n",
    "axs[0, 1].set(xlabel='years', ylabel='funds number');\n",
    "axs[0, 1].xaxis.set_major_locator(pl.MaxNLocator(10));\n",
    "\n",
    "plot_data = funds_value[funds_value.market_value < low_value].groupby('period')['cik'].nunique()\n",
    "axs[1, 0].plot(plot_data.index.to_series().astype(str), plot_data.values);\n",
    "axs[1, 0].set_title('Number of low net worth funds');\n",
    "axs[1, 0].set(xlabel='years', ylabel='funds number');\n",
    "axs[1, 0].xaxis.set_major_locator(pl.MaxNLocator(10));\n",
    "\n",
    "plot_data = funds_value.groupby('period')['cik'].median()\n",
    "axs[1, 1].plot(plot_data.index.to_series().astype(str), plot_data.values);\n",
    "axs[1, 1].set_title('Median Value of Worth');\n",
    "axs[1, 1].set(xlabel='years', ylabel='median value');\n",
    "axs[1, 1].xaxis.set_major_locator(pl.MaxNLocator(10));"
   ]
  },
  {
   "cell_type": "markdown",
   "metadata": {},
   "source": [
    "Мы видим, что в нашем датасете до 2017 года фондов почти не было (их было меньше 100). Далее произошло резкое увеличение числа инвесторов, причем значительную их долю составили средние фонды, которые продолжают доминировать по количеству. Замеиим, что медианная стоимость упала в первом квартале 2016-го года, когда бурно увеличилось количество фондов в выборке. Это означает, что большинство пришедших фондов, несмотря на мое деление, были ближе к бедным, чем к богатым. Кроме того, в последнее время количество фондов в выборке уменьшилось. "
   ]
  },
  {
   "cell_type": "code",
   "execution_count": 196,
   "metadata": {},
   "outputs": [],
   "source": [
    "final_df = final_df[final_df.period >= '2016Q1']"
   ]
  },
  {
   "cell_type": "markdown",
   "metadata": {},
   "source": [
    "Теперь я посмотрю на распределение ценности фондов."
   ]
  },
  {
   "cell_type": "code",
   "execution_count": 197,
   "metadata": {},
   "outputs": [
    {
     "data": {
      "image/png": "[encoded data removed]",
      "text/plain": [
       "<Figure size 1440x432 with 3 Axes>"
      ]
     },
     "metadata": {
      "needs_background": "light"
     },
     "output_type": "display_data"
    }
   ],
   "source": [
    "fig, axs = pl.subplots(1, 3, figsize=(20,6));\n",
    "\n",
    "axs[0].hist(funds_value[funds_value.period == '2017Q1'].market_value.apply(np.log), bins=100);\n",
    "axs[0].set_title('2017Q1');\n",
    "\n",
    "axs[1].hist(funds_value[funds_value.period == '2017Q4'].market_value.apply(np.log), bins=100);\n",
    "axs[1].set_title('2017Q4');\n",
    "\n",
    "axs[2].hist(funds_value[funds_value.period == '2018Q3'].market_value.apply(np.log), bins=100);\n",
    "axs[2].set_title('2018Q3');\n",
    "\n",
    "for ax in axs.flat:\n",
    "    ax.set(ylabel='Investor Value Log-Distribution')"
   ]
  },
  {
   "cell_type": "markdown",
   "metadata": {},
   "source": [
    "Из графиков видно, что распределение незначительно изменялось за последние 2 года. Оно похоже на нормальное (то есть, если мы перейдем из логарифма к изначальным значениям, оно будет логнормальным. Только левый хвост у него больше, так как большинство фондов ближе к бедным, как говорилось выше."
   ]
  },
  {
   "cell_type": "markdown",
   "metadata": {},
   "source": [
    "Теперь создам дополнительные регрессоры."
   ]
  },
  {
   "cell_type": "code",
   "execution_count": 198,
   "metadata": {},
   "outputs": [],
   "source": [
    "final_df = final_df.merge(funds_value, on=['cik', 'period'], how='left', suffixes=('', '_fund'))\n",
    "# Доля тикера в активах фонда поквартально\n",
    "final_df['ticker_share'] = final_df.market_value / final_df.market_value_fund\n",
    "# Логарифмирую ценность фонда как всякую денежную величину\n",
    "final_df['log_value_fund'] = np.log(final_df.market_value_fund)\n",
    "# Создаю индикаторные переменные, указывающие на принадлежность фонда к весовой категории\n",
    "final_df['low_value'] = final_df.market_value_fund.le(low_value)\n",
    "final_df['high_value'] = final_df.market_value_fund.ge(high_value)\n",
    "final_df['med_value'] = ~(final_df['low_value'] + final_df['high_value'])"
   ]
  },
  {
   "cell_type": "markdown",
   "metadata": {},
   "source": [
    "## Создание лагов регрессий"
   ]
  },
  {
   "cell_type": "markdown",
   "metadata": {},
   "source": [
    "Создаю лаговые значения, связанные с акциями, для каждого наблюдения. Кроме того, создаю основную переменную, представляющую изменение количества акций тикера. Её я и буду предсказывать. Важно уточнить, что изменение считается от количества акций в предыдущем квартале."
   ]
  },
  {
   "cell_type": "code",
   "execution_count": 199,
   "metadata": {},
   "outputs": [
    {
     "name": "stdout",
     "output_type": "stream",
     "text": [
      "Wall time: 1min 9s\n"
     ]
    }
   ],
   "source": [
    "%%time\n",
    "\n",
    "# Считаю разницу кварталов, чтобы брать только те значения для лагов, которые из предыдущего квартала\n",
    "\n",
    "# Иначе может выйти так, что я буду создавать лаги на наблюдение, которое было несколько кварталов назад\n",
    "# Такая ситуация нам не нужна, так как это означает, что фирма тогда закончила инвестирование в эту акцию,\n",
    "# а потом заново возобновила по другим, возможно, причинам, и начался новый цикл инвестирования в этот тикер\n",
    "final_df['quarter_diff'] = final_df.period.dt.year * 4 + final_df.period.dt.quarter \\\n",
    "                - (final_df.period.dt.year * 4 + final_df.period.dt.quarter).shift()\n",
    "\n",
    "# Добавлю индекс комбинации тикера и инвестора для удобства в агрегировании\n",
    "df['object'] = df.ticker_id.apply(str) + '_' + df.cik.apply(str)\n",
    "\n",
    "# Создаю лаги для количества акций и доли тикера в активах фонда\n",
    "for lag in range(1, num_lags + 2):\n",
    "    final_df['shares_lag' + '_' + str(lag)] = final_df.shares.shift(periods=lag). \\\n",
    "                                              where((final_df.object == final_df.object.shift(periods=lag)) &\n",
    "                                                    (final_df.quarter_diff == 1))\n",
    "    final_df['ticker_share_lag' + '_' + str(lag)] = final_df.ticker_share.shift(periods=lag). \\\n",
    "                                              where((final_df.object == final_df.object.shift(periods=lag)) &\n",
    "                                                    (final_df.quarter_diff == 1))\n",
    "\n",
    "# Создаю лаги для переменных размера фондов\n",
    "    final_df['market_value_fund_lag' + '_' + str(lag)] = final_df.market_value_fund.shift(periods=lag). \\\n",
    "                                              where((final_df.object == final_df.object.shift(periods=lag)) &\n",
    "                                                    (final_df.quarter_diff == 1))    \n",
    "    final_df['log_value_fund_lag' + '_' + str(lag)] = final_df.log_value_fund.shift(periods=lag). \\\n",
    "                                              where((final_df.object == final_df.object.shift(periods=lag)) &\n",
    "                                                    (final_df.quarter_diff == 1))\n",
    "    final_df['low_value_lag' + '_' + str(lag)] = final_df.low_value.shift(periods=lag). \\\n",
    "                                              where((final_df.object == final_df.object.shift(periods=lag)) &\n",
    "                                                    (final_df.quarter_diff == 1))    \n",
    "    final_df['high_value_lag' + '_' + str(lag)] = final_df.high_value.shift(periods=lag). \\\n",
    "                                              where((final_df.object == final_df.object.shift(periods=lag)) &\n",
    "                                                    (final_df.quarter_diff == 1))\n",
    "    final_df['med_value_lag' + '_' + str(lag)] = final_df.med_value.shift(periods=lag). \\\n",
    "                                              where((final_df.object == final_df.object.shift(periods=lag)) &\n",
    "                                                    (final_df.quarter_diff == 1))\n",
    "\n",
    "# Создаю предсказываю переменную и её лаги\n",
    "for lag in range(1, num_lags + 1):\n",
    "    final_df['net_shares_lag' + '_' + str(lag)] = final_df['shares_lag' + '_' + str(lag)]. \\\n",
    "                                                  div(final_df['shares_lag' + '_' + str(lag + 1)], axis=0).sub(1)\n",
    "\n",
    "final_df['net_shares'] = final_df.shares.div(final_df['shares_lag' + '_' + str(1)], axis = 0).sub(1)"
   ]
  },
  {
   "cell_type": "markdown",
   "metadata": {},
   "source": [
    "Теперь считаю лаги для переменных, связанных с размеров фонда, чтобы учесть изменение его размеров с течением времени."
   ]
  },
  {
   "cell_type": "code",
   "execution_count": 200,
   "metadata": {},
   "outputs": [
    {
     "name": "stdout",
     "output_type": "stream",
     "text": [
      "Wall time: 7.97 s\n"
     ]
    }
   ],
   "source": [
    "%%time\n",
    "\n",
    "for lag in range(1, num_lags + 1):\n",
    "    final_df['size_cat_change_qrt_lag_' + str(lag)] = \\\n",
    "                    (final_df['high_value_lag_' + str(lag)] != final_df['high_value_lag_' + str(lag + 1)]) + \\\n",
    "                    (final_df['med_value_lag_' + str(lag)] != final_df['med_value_lag_' + str(lag + 1)]) + \\\n",
    "                    (final_df['low_value_lag_' + str(lag)] != final_df['low_value_lag_' + str(lag + 1)])\n",
    "    \n",
    "    final_df['size_cat_change_up_qrt_lag_' + str(lag)] = \\\n",
    "                    (final_df['high_value_lag_' + str(lag)] > final_df['high_value_lag_' + str(lag + 1)]) + \\\n",
    "                    (final_df['med_value_lag_' + str(lag)] > final_df['med_value_lag_' + str(lag + 1)])\n",
    "\n",
    "final_df['size_cat_change_qrt'] = \\\n",
    "                    (final_df['high_value'] != final_df['high_value_lag_' + str(1)]) + \\\n",
    "                    (final_df['med_value'] != final_df['med_value_lag_' + str(1)]) + \\\n",
    "                    (final_df['low_value'] != final_df['low_value_lag_' + str(1)])\n",
    "\n",
    "final_df['size_cat_change_up_qrt'] = \\\n",
    "                    (final_df['high_value'] > final_df['high_value_lag_' + str(1)]) + \\\n",
    "                    (final_df['med_value'] > final_df['med_value_lag_' + str(1)])\n",
    "\n",
    "final_df['size_cat_change_total'] = False\n",
    "\n",
    "for lag in range(1, num_lags + 1):\n",
    "    final_df['size_cat_change_total'] += final_df['size_cat_change_qrt_lag_' + str(lag)]"
   ]
  },
  {
   "cell_type": "markdown",
   "metadata": {},
   "source": [
    "Вот итоговые переменные."
   ]
  },
  {
   "cell_type": "code",
   "execution_count": 201,
   "metadata": {
    "scrolled": false
   },
   "outputs": [
    {
     "data": {
      "text/html": [
       "<div>\n",
       "<style scoped>\n",
       "    .dataframe tbody tr th:only-of-type {\n",
       "        vertical-align: middle;\n",
       "    }\n",
       "\n",
       "    .dataframe tbody tr th {\n",
       "        vertical-align: top;\n",
       "    }\n",
       "\n",
       "    .dataframe thead th {\n",
       "        text-align: right;\n",
       "    }\n",
       "</style>\n",
       "<table border=\"1\" class=\"dataframe\">\n",
       "  <thead>\n",
       "    <tr style=\"text-align: right;\">\n",
       "      <th></th>\n",
       "      <th>cik</th>\n",
       "      <th>period</th>\n",
       "      <th>ticker_id</th>\n",
       "      <th>conformed_submission_type</th>\n",
       "      <th>shares</th>\n",
       "      <th>market_value</th>\n",
       "      <th>stamp</th>\n",
       "      <th>_object</th>\n",
       "      <th>object</th>\n",
       "      <th>market_value_fund</th>\n",
       "      <th>...</th>\n",
       "      <th>size_cat_change_up_qrt_lag_1</th>\n",
       "      <th>size_cat_change_qrt_lag_2</th>\n",
       "      <th>size_cat_change_up_qrt_lag_2</th>\n",
       "      <th>size_cat_change_qrt_lag_3</th>\n",
       "      <th>size_cat_change_up_qrt_lag_3</th>\n",
       "      <th>size_cat_change_qrt_lag_4</th>\n",
       "      <th>size_cat_change_up_qrt_lag_4</th>\n",
       "      <th>size_cat_change_qrt</th>\n",
       "      <th>size_cat_change_up_qrt</th>\n",
       "      <th>size_cat_change_total</th>\n",
       "    </tr>\n",
       "  </thead>\n",
       "  <tbody>\n",
       "    <tr>\n",
       "      <th>0</th>\n",
       "      <td>5272</td>\n",
       "      <td>2016Q1</td>\n",
       "      <td>779</td>\n",
       "      <td>13F-HR</td>\n",
       "      <td>30681.0</td>\n",
       "      <td>859000.0</td>\n",
       "      <td>2016-05-12 11:28:14</td>\n",
       "      <td>5272_779_2016Q1</td>\n",
       "      <td>779_5272</td>\n",
       "      <td>2.289083e+10</td>\n",
       "      <td>...</td>\n",
       "      <td>False</td>\n",
       "      <td>True</td>\n",
       "      <td>False</td>\n",
       "      <td>True</td>\n",
       "      <td>False</td>\n",
       "      <td>True</td>\n",
       "      <td>False</td>\n",
       "      <td>True</td>\n",
       "      <td>False</td>\n",
       "      <td>True</td>\n",
       "    </tr>\n",
       "    <tr>\n",
       "      <th>1</th>\n",
       "      <td>5272</td>\n",
       "      <td>2016Q2</td>\n",
       "      <td>779</td>\n",
       "      <td>13F-HR</td>\n",
       "      <td>29955.0</td>\n",
       "      <td>824062.0</td>\n",
       "      <td>2016-08-11 11:38:08</td>\n",
       "      <td>5272_779_2016Q2</td>\n",
       "      <td>779_5272</td>\n",
       "      <td>2.356084e+10</td>\n",
       "      <td>...</td>\n",
       "      <td>False</td>\n",
       "      <td>True</td>\n",
       "      <td>False</td>\n",
       "      <td>True</td>\n",
       "      <td>False</td>\n",
       "      <td>True</td>\n",
       "      <td>False</td>\n",
       "      <td>False</td>\n",
       "      <td>False</td>\n",
       "      <td>True</td>\n",
       "    </tr>\n",
       "    <tr>\n",
       "      <th>2</th>\n",
       "      <td>5272</td>\n",
       "      <td>2016Q3</td>\n",
       "      <td>779</td>\n",
       "      <td>13F-HR</td>\n",
       "      <td>29922.0</td>\n",
       "      <td>862352.0</td>\n",
       "      <td>2016-11-09 17:23:48</td>\n",
       "      <td>5272_779_2016Q3</td>\n",
       "      <td>779_5272</td>\n",
       "      <td>2.500677e+10</td>\n",
       "      <td>...</td>\n",
       "      <td>False</td>\n",
       "      <td>True</td>\n",
       "      <td>False</td>\n",
       "      <td>True</td>\n",
       "      <td>False</td>\n",
       "      <td>True</td>\n",
       "      <td>False</td>\n",
       "      <td>False</td>\n",
       "      <td>False</td>\n",
       "      <td>True</td>\n",
       "    </tr>\n",
       "    <tr>\n",
       "      <th>3</th>\n",
       "      <td>5272</td>\n",
       "      <td>2016Q4</td>\n",
       "      <td>779</td>\n",
       "      <td>13F-HR</td>\n",
       "      <td>29473.0</td>\n",
       "      <td>974000.0</td>\n",
       "      <td>2017-02-10 16:37:45</td>\n",
       "      <td>5272_779_2016Q4</td>\n",
       "      <td>779_5272</td>\n",
       "      <td>2.577238e+10</td>\n",
       "      <td>...</td>\n",
       "      <td>False</td>\n",
       "      <td>False</td>\n",
       "      <td>False</td>\n",
       "      <td>True</td>\n",
       "      <td>False</td>\n",
       "      <td>True</td>\n",
       "      <td>False</td>\n",
       "      <td>False</td>\n",
       "      <td>False</td>\n",
       "      <td>True</td>\n",
       "    </tr>\n",
       "    <tr>\n",
       "      <th>4</th>\n",
       "      <td>5272</td>\n",
       "      <td>2017Q1</td>\n",
       "      <td>779</td>\n",
       "      <td>13F-HR</td>\n",
       "      <td>24875.0</td>\n",
       "      <td>879000.0</td>\n",
       "      <td>2017-05-10 16:46:13</td>\n",
       "      <td>5272_779_2017Q1</td>\n",
       "      <td>779_5272</td>\n",
       "      <td>2.635926e+10</td>\n",
       "      <td>...</td>\n",
       "      <td>False</td>\n",
       "      <td>False</td>\n",
       "      <td>False</td>\n",
       "      <td>False</td>\n",
       "      <td>False</td>\n",
       "      <td>True</td>\n",
       "      <td>False</td>\n",
       "      <td>False</td>\n",
       "      <td>False</td>\n",
       "      <td>True</td>\n",
       "    </tr>\n",
       "    <tr>\n",
       "      <th>5</th>\n",
       "      <td>5272</td>\n",
       "      <td>2017Q2</td>\n",
       "      <td>779</td>\n",
       "      <td>13F-HR</td>\n",
       "      <td>30773.0</td>\n",
       "      <td>1134000.0</td>\n",
       "      <td>2017-08-11 10:55:04</td>\n",
       "      <td>5272_779_2017Q2</td>\n",
       "      <td>779_5272</td>\n",
       "      <td>2.752555e+10</td>\n",
       "      <td>...</td>\n",
       "      <td>False</td>\n",
       "      <td>False</td>\n",
       "      <td>False</td>\n",
       "      <td>False</td>\n",
       "      <td>False</td>\n",
       "      <td>False</td>\n",
       "      <td>False</td>\n",
       "      <td>False</td>\n",
       "      <td>False</td>\n",
       "      <td>False</td>\n",
       "    </tr>\n",
       "    <tr>\n",
       "      <th>6</th>\n",
       "      <td>5272</td>\n",
       "      <td>2017Q3</td>\n",
       "      <td>779</td>\n",
       "      <td>13F-HR</td>\n",
       "      <td>32699.0</td>\n",
       "      <td>1127000.0</td>\n",
       "      <td>2017-11-09 11:55:01</td>\n",
       "      <td>5272_779_2017Q3</td>\n",
       "      <td>779_5272</td>\n",
       "      <td>2.809268e+10</td>\n",
       "      <td>...</td>\n",
       "      <td>False</td>\n",
       "      <td>False</td>\n",
       "      <td>False</td>\n",
       "      <td>False</td>\n",
       "      <td>False</td>\n",
       "      <td>False</td>\n",
       "      <td>False</td>\n",
       "      <td>False</td>\n",
       "      <td>False</td>\n",
       "      <td>False</td>\n",
       "    </tr>\n",
       "    <tr>\n",
       "      <th>7</th>\n",
       "      <td>5272</td>\n",
       "      <td>2017Q4</td>\n",
       "      <td>779</td>\n",
       "      <td>13F-HR</td>\n",
       "      <td>32818.0</td>\n",
       "      <td>1204000.0</td>\n",
       "      <td>2018-02-09 17:10:47</td>\n",
       "      <td>5272_779_2017Q4</td>\n",
       "      <td>779_5272</td>\n",
       "      <td>3.025178e+10</td>\n",
       "      <td>...</td>\n",
       "      <td>False</td>\n",
       "      <td>False</td>\n",
       "      <td>False</td>\n",
       "      <td>False</td>\n",
       "      <td>False</td>\n",
       "      <td>False</td>\n",
       "      <td>False</td>\n",
       "      <td>False</td>\n",
       "      <td>False</td>\n",
       "      <td>False</td>\n",
       "    </tr>\n",
       "    <tr>\n",
       "      <th>8</th>\n",
       "      <td>5272</td>\n",
       "      <td>2018Q1</td>\n",
       "      <td>779</td>\n",
       "      <td>13F-HR</td>\n",
       "      <td>26489.0</td>\n",
       "      <td>1033000.0</td>\n",
       "      <td>2018-05-07 16:26:05</td>\n",
       "      <td>5272_779_2018Q1</td>\n",
       "      <td>779_5272</td>\n",
       "      <td>2.840826e+10</td>\n",
       "      <td>...</td>\n",
       "      <td>False</td>\n",
       "      <td>False</td>\n",
       "      <td>False</td>\n",
       "      <td>False</td>\n",
       "      <td>False</td>\n",
       "      <td>False</td>\n",
       "      <td>False</td>\n",
       "      <td>False</td>\n",
       "      <td>False</td>\n",
       "      <td>False</td>\n",
       "    </tr>\n",
       "    <tr>\n",
       "      <th>9</th>\n",
       "      <td>5272</td>\n",
       "      <td>2018Q2</td>\n",
       "      <td>779</td>\n",
       "      <td>13F-HR</td>\n",
       "      <td>31682.0</td>\n",
       "      <td>1053000.0</td>\n",
       "      <td>2018-08-08 10:06:44</td>\n",
       "      <td>5272_779_2018Q2</td>\n",
       "      <td>779_5272</td>\n",
       "      <td>2.834944e+10</td>\n",
       "      <td>...</td>\n",
       "      <td>False</td>\n",
       "      <td>False</td>\n",
       "      <td>False</td>\n",
       "      <td>False</td>\n",
       "      <td>False</td>\n",
       "      <td>False</td>\n",
       "      <td>False</td>\n",
       "      <td>False</td>\n",
       "      <td>False</td>\n",
       "      <td>False</td>\n",
       "    </tr>\n",
       "  </tbody>\n",
       "</table>\n",
       "<p>10 rows × 67 columns</p>\n",
       "</div>"
      ],
      "text/plain": [
       "    cik  period  ticker_id conformed_submission_type   shares  market_value  \\\n",
       "0  5272  2016Q1        779                    13F-HR  30681.0      859000.0   \n",
       "1  5272  2016Q2        779                    13F-HR  29955.0      824062.0   \n",
       "2  5272  2016Q3        779                    13F-HR  29922.0      862352.0   \n",
       "3  5272  2016Q4        779                    13F-HR  29473.0      974000.0   \n",
       "4  5272  2017Q1        779                    13F-HR  24875.0      879000.0   \n",
       "5  5272  2017Q2        779                    13F-HR  30773.0     1134000.0   \n",
       "6  5272  2017Q3        779                    13F-HR  32699.0     1127000.0   \n",
       "7  5272  2017Q4        779                    13F-HR  32818.0     1204000.0   \n",
       "8  5272  2018Q1        779                    13F-HR  26489.0     1033000.0   \n",
       "9  5272  2018Q2        779                    13F-HR  31682.0     1053000.0   \n",
       "\n",
       "                 stamp          _object    object  market_value_fund  ...  \\\n",
       "0  2016-05-12 11:28:14  5272_779_2016Q1  779_5272       2.289083e+10  ...   \n",
       "1  2016-08-11 11:38:08  5272_779_2016Q2  779_5272       2.356084e+10  ...   \n",
       "2  2016-11-09 17:23:48  5272_779_2016Q3  779_5272       2.500677e+10  ...   \n",
       "3  2017-02-10 16:37:45  5272_779_2016Q4  779_5272       2.577238e+10  ...   \n",
       "4  2017-05-10 16:46:13  5272_779_2017Q1  779_5272       2.635926e+10  ...   \n",
       "5  2017-08-11 10:55:04  5272_779_2017Q2  779_5272       2.752555e+10  ...   \n",
       "6  2017-11-09 11:55:01  5272_779_2017Q3  779_5272       2.809268e+10  ...   \n",
       "7  2018-02-09 17:10:47  5272_779_2017Q4  779_5272       3.025178e+10  ...   \n",
       "8  2018-05-07 16:26:05  5272_779_2018Q1  779_5272       2.840826e+10  ...   \n",
       "9  2018-08-08 10:06:44  5272_779_2018Q2  779_5272       2.834944e+10  ...   \n",
       "\n",
       "   size_cat_change_up_qrt_lag_1  size_cat_change_qrt_lag_2  \\\n",
       "0                         False                       True   \n",
       "1                         False                       True   \n",
       "2                         False                       True   \n",
       "3                         False                      False   \n",
       "4                         False                      False   \n",
       "5                         False                      False   \n",
       "6                         False                      False   \n",
       "7                         False                      False   \n",
       "8                         False                      False   \n",
       "9                         False                      False   \n",
       "\n",
       "   size_cat_change_up_qrt_lag_2  size_cat_change_qrt_lag_3  \\\n",
       "0                         False                       True   \n",
       "1                         False                       True   \n",
       "2                         False                       True   \n",
       "3                         False                       True   \n",
       "4                         False                      False   \n",
       "5                         False                      False   \n",
       "6                         False                      False   \n",
       "7                         False                      False   \n",
       "8                         False                      False   \n",
       "9                         False                      False   \n",
       "\n",
       "   size_cat_change_up_qrt_lag_3  size_cat_change_qrt_lag_4  \\\n",
       "0                         False                       True   \n",
       "1                         False                       True   \n",
       "2                         False                       True   \n",
       "3                         False                       True   \n",
       "4                         False                       True   \n",
       "5                         False                      False   \n",
       "6                         False                      False   \n",
       "7                         False                      False   \n",
       "8                         False                      False   \n",
       "9                         False                      False   \n",
       "\n",
       "   size_cat_change_up_qrt_lag_4  size_cat_change_qrt  size_cat_change_up_qrt  \\\n",
       "0                         False                 True                   False   \n",
       "1                         False                False                   False   \n",
       "2                         False                False                   False   \n",
       "3                         False                False                   False   \n",
       "4                         False                False                   False   \n",
       "5                         False                False                   False   \n",
       "6                         False                False                   False   \n",
       "7                         False                False                   False   \n",
       "8                         False                False                   False   \n",
       "9                         False                False                   False   \n",
       "\n",
       "   size_cat_change_total  \n",
       "0                   True  \n",
       "1                   True  \n",
       "2                   True  \n",
       "3                   True  \n",
       "4                   True  \n",
       "5                  False  \n",
       "6                  False  \n",
       "7                  False  \n",
       "8                  False  \n",
       "9                  False  \n",
       "\n",
       "[10 rows x 67 columns]"
      ]
     },
     "execution_count": 201,
     "metadata": {},
     "output_type": "execute_result"
    }
   ],
   "source": [
    "final_df.head(10)"
   ]
  },
  {
   "cell_type": "code",
   "execution_count": 202,
   "metadata": {},
   "outputs": [
    {
     "data": {
      "text/plain": [
       "Index(['cik', 'period', 'ticker_id', 'conformed_submission_type', 'shares',\n",
       "       'market_value', 'stamp', '_object', 'object', 'market_value_fund',\n",
       "       'ticker_share', 'log_value_fund', 'low_value', 'high_value',\n",
       "       'med_value', 'quarter_diff', 'shares_lag_1', 'ticker_share_lag_1',\n",
       "       'market_value_fund_lag_1', 'log_value_fund_lag_1', 'low_value_lag_1',\n",
       "       'high_value_lag_1', 'med_value_lag_1', 'shares_lag_2',\n",
       "       'ticker_share_lag_2', 'market_value_fund_lag_2', 'log_value_fund_lag_2',\n",
       "       'low_value_lag_2', 'high_value_lag_2', 'med_value_lag_2',\n",
       "       'shares_lag_3', 'ticker_share_lag_3', 'market_value_fund_lag_3',\n",
       "       'log_value_fund_lag_3', 'low_value_lag_3', 'high_value_lag_3',\n",
       "       'med_value_lag_3', 'shares_lag_4', 'ticker_share_lag_4',\n",
       "       'market_value_fund_lag_4', 'log_value_fund_lag_4', 'low_value_lag_4',\n",
       "       'high_value_lag_4', 'med_value_lag_4', 'shares_lag_5',\n",
       "       'ticker_share_lag_5', 'market_value_fund_lag_5', 'log_value_fund_lag_5',\n",
       "       'low_value_lag_5', 'high_value_lag_5', 'med_value_lag_5',\n",
       "       'net_shares_lag_1', 'net_shares_lag_2', 'net_shares_lag_3',\n",
       "       'net_shares_lag_4', 'net_shares', 'size_cat_change_qrt_lag_1',\n",
       "       'size_cat_change_up_qrt_lag_1', 'size_cat_change_qrt_lag_2',\n",
       "       'size_cat_change_up_qrt_lag_2', 'size_cat_change_qrt_lag_3',\n",
       "       'size_cat_change_up_qrt_lag_3', 'size_cat_change_qrt_lag_4',\n",
       "       'size_cat_change_up_qrt_lag_4', 'size_cat_change_qrt',\n",
       "       'size_cat_change_up_qrt', 'size_cat_change_total'],\n",
       "      dtype='object')"
      ]
     },
     "execution_count": 202,
     "metadata": {},
     "output_type": "execute_result"
    }
   ],
   "source": [
    "final_df.columns"
   ]
  },
  {
   "cell_type": "markdown",
   "metadata": {},
   "source": [
    "## Метрики стиля инвестирования"
   ]
  },
  {
   "cell_type": "markdown",
   "metadata": {},
   "source": [
    "Сейчас я посмотрю на то, как фонды торгуют через призму стандартных метрик. С помощью этого я постараюсь добавить переменные, которые бы контролировали стиль фонда, ибо в зависимости от стиля инвестирования может меняться отношение к активам."
   ]
  },
  {
   "cell_type": "markdown",
   "metadata": {},
   "source": [
    "### Turnover и HHI"
   ]
  },
  {
   "cell_type": "markdown",
   "metadata": {},
   "source": [
    "Считаю такие классные и потрясающие (реально же) метрики как turnover и индекс Херфиндаля-Хиршмана (HHI) для того, чтобы разграничить фонды по типам инвестирования и проводить контроль по ним. "
   ]
  },
  {
   "cell_type": "markdown",
   "metadata": {},
   "source": [
    "Сначала вычислю turnover."
   ]
  },
  {
   "cell_type": "code",
   "execution_count": 203,
   "metadata": {},
   "outputs": [
    {
     "data": {
      "text/html": [
       "<div>\n",
       "<style scoped>\n",
       "    .dataframe tbody tr th:only-of-type {\n",
       "        vertical-align: middle;\n",
       "    }\n",
       "\n",
       "    .dataframe tbody tr th {\n",
       "        vertical-align: top;\n",
       "    }\n",
       "\n",
       "    .dataframe thead th {\n",
       "        text-align: right;\n",
       "    }\n",
       "</style>\n",
       "<table border=\"1\" class=\"dataframe\">\n",
       "  <thead>\n",
       "    <tr style=\"text-align: right;\">\n",
       "      <th></th>\n",
       "      <th>period</th>\n",
       "      <th>cik</th>\n",
       "      <th>turnover</th>\n",
       "    </tr>\n",
       "  </thead>\n",
       "  <tbody>\n",
       "    <tr>\n",
       "      <th>0</th>\n",
       "      <td>2016Q1</td>\n",
       "      <td>2230</td>\n",
       "      <td>1.0</td>\n",
       "    </tr>\n",
       "    <tr>\n",
       "      <th>1</th>\n",
       "      <td>2016Q1</td>\n",
       "      <td>3520</td>\n",
       "      <td>1.0</td>\n",
       "    </tr>\n",
       "    <tr>\n",
       "      <th>2</th>\n",
       "      <td>2016Q1</td>\n",
       "      <td>5272</td>\n",
       "      <td>1.0</td>\n",
       "    </tr>\n",
       "    <tr>\n",
       "      <th>3</th>\n",
       "      <td>2016Q1</td>\n",
       "      <td>7789</td>\n",
       "      <td>1.0</td>\n",
       "    </tr>\n",
       "    <tr>\n",
       "      <th>4</th>\n",
       "      <td>2016Q1</td>\n",
       "      <td>8565</td>\n",
       "      <td>1.0</td>\n",
       "    </tr>\n",
       "  </tbody>\n",
       "</table>\n",
       "</div>"
      ],
      "text/plain": [
       "   period   cik  turnover\n",
       "0  2016Q1  2230       1.0\n",
       "1  2016Q1  3520       1.0\n",
       "2  2016Q1  5272       1.0\n",
       "3  2016Q1  7789       1.0\n",
       "4  2016Q1  8565       1.0"
      ]
     },
     "execution_count": 203,
     "metadata": {},
     "output_type": "execute_result"
    }
   ],
   "source": [
    "turnover = final_df.fillna(0).groupby(['period', 'cik']) \\\n",
    "            .apply(lambda x: np.abs(x['ticker_share'] - x['ticker_share_lag_1']).sum()).reset_index()\n",
    "turnover.rename(columns={0: 'turnover'}, inplace=True)\n",
    "turnover.head()"
   ]
  },
  {
   "cell_type": "markdown",
   "metadata": {},
   "source": [
    "Теперь HHI."
   ]
  },
  {
   "cell_type": "code",
   "execution_count": 204,
   "metadata": {},
   "outputs": [
    {
     "data": {
      "text/html": [
       "<div>\n",
       "<style scoped>\n",
       "    .dataframe tbody tr th:only-of-type {\n",
       "        vertical-align: middle;\n",
       "    }\n",
       "\n",
       "    .dataframe tbody tr th {\n",
       "        vertical-align: top;\n",
       "    }\n",
       "\n",
       "    .dataframe thead th {\n",
       "        text-align: right;\n",
       "    }\n",
       "</style>\n",
       "<table border=\"1\" class=\"dataframe\">\n",
       "  <thead>\n",
       "    <tr style=\"text-align: right;\">\n",
       "      <th></th>\n",
       "      <th>period</th>\n",
       "      <th>cik</th>\n",
       "      <th>hhi</th>\n",
       "    </tr>\n",
       "  </thead>\n",
       "  <tbody>\n",
       "    <tr>\n",
       "      <th>0</th>\n",
       "      <td>2016Q1</td>\n",
       "      <td>2230</td>\n",
       "      <td>0.017140</td>\n",
       "    </tr>\n",
       "    <tr>\n",
       "      <th>1</th>\n",
       "      <td>2016Q1</td>\n",
       "      <td>3520</td>\n",
       "      <td>0.017225</td>\n",
       "    </tr>\n",
       "    <tr>\n",
       "      <th>2</th>\n",
       "      <td>2016Q1</td>\n",
       "      <td>5272</td>\n",
       "      <td>0.010302</td>\n",
       "    </tr>\n",
       "    <tr>\n",
       "      <th>3</th>\n",
       "      <td>2016Q1</td>\n",
       "      <td>7789</td>\n",
       "      <td>0.045664</td>\n",
       "    </tr>\n",
       "    <tr>\n",
       "      <th>4</th>\n",
       "      <td>2016Q1</td>\n",
       "      <td>8565</td>\n",
       "      <td>0.648686</td>\n",
       "    </tr>\n",
       "  </tbody>\n",
       "</table>\n",
       "</div>"
      ],
      "text/plain": [
       "   period   cik       hhi\n",
       "0  2016Q1  2230  0.017140\n",
       "1  2016Q1  3520  0.017225\n",
       "2  2016Q1  5272  0.010302\n",
       "3  2016Q1  7789  0.045664\n",
       "4  2016Q1  8565  0.648686"
      ]
     },
     "execution_count": 204,
     "metadata": {},
     "output_type": "execute_result"
    }
   ],
   "source": [
    "hhi = final_df.groupby(['period', 'cik']) \\\n",
    "            .apply(lambda x: np.square(x['ticker_share']).sum()).reset_index()\n",
    "hhi.rename(columns={0: 'hhi'}, inplace=True)\n",
    "hhi.head()"
   ]
  },
  {
   "cell_type": "markdown",
   "metadata": {},
   "source": [
    "Теперь посмотрю на их распределение."
   ]
  },
  {
   "cell_type": "code",
   "execution_count": 205,
   "metadata": {
    "scrolled": true
   },
   "outputs": [
    {
     "data": {
      "image/png": "[encoded data removed]",
      "text/plain": [
       "<Figure size 1440x432 with 2 Axes>"
      ]
     },
     "metadata": {
      "needs_background": "light"
     },
     "output_type": "display_data"
    }
   ],
   "source": [
    "fig, axs = pl.subplots(1, 2, figsize=(20,6));\n",
    "\n",
    "axs[0].hist(turnover.turnover, density=True, bins=50, range=(0.001, 3));\n",
    "axs[0].set_title('Distribution of Turnover');\n",
    "axs[0].set(xlabel='Turnover', ylabel='Density');\n",
    "\n",
    "axs[1].hist(hhi.hhi, density=True, bins=50, range=(0.001, 1));\n",
    "axs[1].set_title('Distribution of HHI');\n",
    "axs[1].set(xlabel='HHI', ylabel='Density');\n"
   ]
  },
  {
   "cell_type": "markdown",
   "metadata": {},
   "source": [
    "Можно заметить, что их распределения похожи на геометрическое/Пуассона. Можно разграничить фонды по этим категориям, установив границы для каждого из критерия. Например, 0.5 для Turnover и 0.2 для HHI. Также отметим условно экстремальные ситуации, когда и Turnover, и HHI равны единице."
   ]
  },
  {
   "cell_type": "code",
   "execution_count": 206,
   "metadata": {},
   "outputs": [
    {
     "data": {
      "image/png": "[encoded data removed]",
      "text/plain": [
       "<Figure size 432x288 with 1 Axes>"
      ]
     },
     "metadata": {
      "needs_background": "light"
     },
     "output_type": "display_data"
    }
   ],
   "source": [
    "pl.scatter(hhi[hhi.period == final_df.period.max()].hhi, turnover[turnover.period == final_df.period.max()].turnover, s=1.8);\n",
    "pl.xlabel('HHI');\n",
    "pl.ylabel('Turnover');\n",
    "pl.title('Joint Distribution of HHI and Turnover in ' + str(final_df.period.max()));"
   ]
  },
  {
   "cell_type": "markdown",
   "metadata": {},
   "source": [
    "Если мы посмотрим на совместное их распределение, то не увидим каких-то кластеров. Но подозрительно выделяются наблюдения с HHI=1 (фонды с одной акцией). Вопрос - как такие фонды существуют/как они попали к нам в выборку? Установим контроль и на них."
   ]
  },
  {
   "cell_type": "markdown",
   "metadata": {},
   "source": [
    "Добавляю переменные на основе наблюдений."
   ]
  },
  {
   "cell_type": "code",
   "execution_count": 207,
   "metadata": {},
   "outputs": [],
   "source": [
    "# Добавляю сами индексы\n",
    "final_df = final_df.merge(turnover, on=['cik', 'period'], how='left', suffixes=(False, False))\n",
    "final_df = final_df.merge(hhi, on=['cik', 'period'], how='left', suffixes=(False, False))\n",
    "\n",
    "# Устанавливаю контроль на фонды с одной акцией\n",
    "final_df['hhi_eq_1'] = final_df.hhi.eq(1)\n",
    "final_df['tvr_eq_1'] = final_df.turnover.eq(1)\n",
    "\n",
    "# Разграничиваю фонды по метрикам через индикаторы\n",
    "final_df['high_hhi'] = final_df.hhi > .2\n",
    "final_df['high_turnover'] = final_df.turnover > .5"
   ]
  },
  {
   "cell_type": "markdown",
   "metadata": {},
   "source": [
    "Если мы посмотрим на совместное распределение Размера фонда и наших метрик, то опять не увидим каких-либо кластеров, по которым можно было бы провести классификацию. Печаль."
   ]
  },
  {
   "cell_type": "code",
   "execution_count": 208,
   "metadata": {},
   "outputs": [
    {
     "data": {
      "image/png": "[encoded data removed]",
      "text/plain": [
       "<Figure size 1440x432 with 2 Axes>"
      ]
     },
     "metadata": {
      "needs_background": "light"
     },
     "output_type": "display_data"
    }
   ],
   "source": [
    "fig, axs = pl.subplots(1, 2, figsize=(20,6));\n",
    "\n",
    "axs[0].scatter(final_df[final_df.period == final_df.period.max()].log_value_fund,\n",
    "           final_df[final_df.period == final_df.period.max()].hhi, s=1.8);\n",
    "axs[0].set_title(final_df.period.max());\n",
    "axs[0].set(xlabel='Log Net Worth of Fund', ylabel='HHI');\n",
    "\n",
    "axs[1].scatter(final_df[final_df.period == final_df.period.max()].log_value_fund,\n",
    "           final_df[final_df.period == final_df.period.max()].turnover, s=1.8);\n",
    "axs[1].set_title(final_df.period.max());\n",
    "axs[1].set(xlabel='Log Net Worth of Fund', ylabel='Turnover');"
   ]
  },
  {
   "cell_type": "markdown",
   "metadata": {},
   "source": [
    "Тем не менее, при достаточной фантазии мы можем представить, что большинство значений находится в эллипсе с центром в точке (20, 0) и с радиусами 0.4 для HHI и 1.2 для Turnover. Также осуществим контроль на экстремальные значения turnover > 1.4. Они выбиваются из общей картины."
   ]
  },
  {
   "cell_type": "code",
   "execution_count": 209,
   "metadata": {},
   "outputs": [],
   "source": [
    "final_df['extreme_turnover'] = final_df.turnover > 1.4\n",
    "final_df['cluster_hhi'] = (np.square(final_df.hhi) + np.square(final_df.log_value_fund - 20) > (0.4 ** 2))\n",
    "final_df['cluster_turnover'] = (np.square(final_df.turnover) + 4 * np.square(final_df.log_value_fund - 20) > (1.0 ** 2))"
   ]
  },
  {
   "cell_type": "markdown",
   "metadata": {},
   "source": [
    "Теперь я посмотрю на совместное распределение с зависимой переменной изменения количества акций, чтобы лучше понять зависимость от класса фонда."
   ]
  },
  {
   "cell_type": "code",
   "execution_count": 210,
   "metadata": {},
   "outputs": [
    {
     "data": {
      "image/png": "[encoded data removed]",
      "text/plain": [
       "<Figure size 1440x432 with 2 Axes>"
      ]
     },
     "metadata": {
      "needs_background": "light"
     },
     "output_type": "display_data"
    }
   ],
   "source": [
    "fig, axs = pl.subplots(1, 2, figsize=(20,6));\n",
    "\n",
    "axs[0].scatter(final_df[final_df.period == final_df.period.max()].hhi,\n",
    "           final_df[final_df.period == final_df.period.max()].net_shares, s=1.8);\n",
    "axs[0].set_title(final_df.period.max());\n",
    "axs[0].set(xlabel='HHI', ylabel='Net Position Change (% divided by 100)');\n",
    "axs[0].set_ylim(-1, 50);\n",
    "\n",
    "axs[1].scatter(final_df[final_df.period == final_df.period.max()].turnover,\n",
    "           final_df[final_df.period == final_df.period.max()].net_shares, s=1.8);\n",
    "axs[1].set_title(final_df.period.max());\n",
    "axs[1].set(xlabel='Turnover', ylabel='Net Position Change (% divided by 100)');\n",
    "axs[1].set_ylim(-1, 50);"
   ]
  },
  {
   "cell_type": "markdown",
   "metadata": {},
   "source": [
    "Из графиков можно увидеть обратную зависимость от HHI. Возможно, стоит в регрессию добавить регрессор в виде обратного HHI. Получается, чем больше у фонда акций, тем меньше он будет менять их позиции. Это связано с тем, что фонды, у которых много акций, часто являются индексными или квантовыми, из-за чего там часто происходят значительные перекалибровки позиций. Зависимость от Turnover неочевидна. У нас много наблюдений с Turnover не больше 1, в которых не видна зависимость. Даже разброс значений примерно одинаков. Аналогичная ситуация с Turnover больше 1."
   ]
  },
  {
   "cell_type": "markdown",
   "metadata": {},
   "source": [
    "Создам теперь переменную обратного HHI."
   ]
  },
  {
   "cell_type": "code",
   "execution_count": 211,
   "metadata": {},
   "outputs": [],
   "source": [
    "final_df['hhi_rev'] = 1 / final_df.hhi"
   ]
  },
  {
   "cell_type": "markdown",
   "metadata": {},
   "source": [
    "### Количество акций в портфеле"
   ]
  },
  {
   "cell_type": "markdown",
   "metadata": {},
   "source": [
    "Сейчас я посмотрю на то, как соотносится количество акций в портфеле с его размером и метриками, расмотренными выше.\n",
    "\n",
    "Сначала я создам таблицу с данными о количестве позиций у фондов."
   ]
  },
  {
   "cell_type": "code",
   "execution_count": 212,
   "metadata": {},
   "outputs": [
    {
     "data": {
      "text/html": [
       "<div>\n",
       "<style scoped>\n",
       "    .dataframe tbody tr th:only-of-type {\n",
       "        vertical-align: middle;\n",
       "    }\n",
       "\n",
       "    .dataframe tbody tr th {\n",
       "        vertical-align: top;\n",
       "    }\n",
       "\n",
       "    .dataframe thead th {\n",
       "        text-align: right;\n",
       "    }\n",
       "</style>\n",
       "<table border=\"1\" class=\"dataframe\">\n",
       "  <thead>\n",
       "    <tr style=\"text-align: right;\">\n",
       "      <th></th>\n",
       "      <th>period</th>\n",
       "      <th>cik</th>\n",
       "      <th>pos_count</th>\n",
       "    </tr>\n",
       "  </thead>\n",
       "  <tbody>\n",
       "    <tr>\n",
       "      <th>0</th>\n",
       "      <td>2016Q1</td>\n",
       "      <td>2230</td>\n",
       "      <td>76</td>\n",
       "    </tr>\n",
       "    <tr>\n",
       "      <th>1</th>\n",
       "      <td>2016Q1</td>\n",
       "      <td>3520</td>\n",
       "      <td>363</td>\n",
       "    </tr>\n",
       "    <tr>\n",
       "      <th>2</th>\n",
       "      <td>2016Q1</td>\n",
       "      <td>5272</td>\n",
       "      <td>2990</td>\n",
       "    </tr>\n",
       "    <tr>\n",
       "      <th>3</th>\n",
       "      <td>2016Q1</td>\n",
       "      <td>7789</td>\n",
       "      <td>70</td>\n",
       "    </tr>\n",
       "    <tr>\n",
       "      <th>4</th>\n",
       "      <td>2016Q1</td>\n",
       "      <td>8565</td>\n",
       "      <td>2</td>\n",
       "    </tr>\n",
       "  </tbody>\n",
       "</table>\n",
       "</div>"
      ],
      "text/plain": [
       "   period   cik  pos_count\n",
       "0  2016Q1  2230         76\n",
       "1  2016Q1  3520        363\n",
       "2  2016Q1  5272       2990\n",
       "3  2016Q1  7789         70\n",
       "4  2016Q1  8565          2"
      ]
     },
     "execution_count": 212,
     "metadata": {},
     "output_type": "execute_result"
    }
   ],
   "source": [
    "# Создаю таблицу количества позиций из агрегированных данных\n",
    "pos_count = final_df.groupby(['period', 'cik']).count().reset_index()[['period', 'cik', 'shares']]\n",
    "pos_count.rename(columns={'shares': 'pos_count'}, inplace=True)\n",
    "\n",
    "pos_count.head()"
   ]
  },
  {
   "cell_type": "markdown",
   "metadata": {},
   "source": [
    "Теперь добавляю эти данные в датасет и пролаггирую их, так как, опять же, нам не доступны данные из периода предсказания."
   ]
  },
  {
   "cell_type": "code",
   "execution_count": 213,
   "metadata": {},
   "outputs": [],
   "source": [
    "# Присоединяю новые данные\n",
    "final_df = final_df.merge(pos_count, on=['period', 'cik'], how='left', suffixes=(False, False))\n",
    "# Создаю лаг количества тикеров в фонде\n",
    "final_df['pos_count_lag' + '_' + str(1)] = final_df.pos_count.shift(periods=1). \\\n",
    "                                              where((final_df.object == final_df.object.shift(periods=1)) &\n",
    "                                                    (final_df.quarter_diff == 1))"
   ]
  },
  {
   "cell_type": "markdown",
   "metadata": {},
   "source": [
    "Теперь посмотрим на распределение количества позиций в фонде."
   ]
  },
  {
   "cell_type": "code",
   "execution_count": 214,
   "metadata": {},
   "outputs": [
    {
     "data": {
      "image/png": "[encoded data removed]",
      "text/plain": [
       "<Figure size 432x288 with 1 Axes>"
      ]
     },
     "metadata": {
      "needs_background": "light"
     },
     "output_type": "display_data"
    }
   ],
   "source": [
    "pl.hist(final_df.pos_count, bins=30);\n",
    "pl.title('Распределение количества позиций у инвесторов');"
   ]
  },
  {
   "cell_type": "markdown",
   "metadata": {},
   "source": [
    "Мы видим, что распределение фондов похоже на геометрическое. Тогда разобьем его на классы последовательным извлечением половины. В первом классе будут фонды с количеством позиций, большим 2000. Во втором классе - большим 1000. И в третьем - большим 200. Это не деление по половине, но по гистограмме видно, что количество фондов с количеством позиций, меньшим 200, выбивает из сглаженности распределения, что я воспринимаю как сигнал, чтобы сместить границу разделения. Также я отмечу фонды с количеством позиций, большим 3000 и собирают почти все акции на рынке. Они стоят особняком от основного распределения. Вполне возможно, что те самые индексные и квантовые фонды, которые работают по всей вселенной акций."
   ]
  },
  {
   "cell_type": "code",
   "execution_count": 215,
   "metadata": {},
   "outputs": [],
   "source": [
    "final_df['extreme_pos_count'] = final_df.pos_count_lag_1 > 3000\n",
    "final_df['high_pos_count'] = final_df.pos_count_lag_1 > 2000\n",
    "final_df['med_pos_count'] = final_df.pos_count_lag_1 > 1000\n",
    "final_df['up_low_pos_count'] = final_df.pos_count_lag_1 > 200"
   ]
  },
  {
   "cell_type": "markdown",
   "metadata": {},
   "source": [
    "Теперь я посмотрю на совместное распределение корня числа позиций и логарифма ценности фонда."
   ]
  },
  {
   "cell_type": "code",
   "execution_count": 216,
   "metadata": {},
   "outputs": [
    {
     "data": {
      "image/png": "[encoded data removed]",
      "text/plain": [
       "<Figure size 720x432 with 1 Axes>"
      ]
     },
     "metadata": {
      "needs_background": "light"
     },
     "output_type": "display_data"
    }
   ],
   "source": [
    "fig, axs = pl.subplots(1, 1, figsize=(10,6));\n",
    "\n",
    "axs.scatter(final_df[final_df.period == final_df.period.max()].log_value_fund,\n",
    "            final_df[final_df.period == final_df.period.max()].pos_count, s=1.8);\n",
    "axs.set_title('Joint Distribution of Log Net Worth and Number of positions in ' + str(final_df.period.max()));\n",
    "axs.set(xlabel='Log Net Worth of Fund', ylabel='Number of positions');"
   ]
  },
  {
   "cell_type": "markdown",
   "metadata": {},
   "source": [
    "Здесь сложно выделить кластеры, но я предположу, что можно разделить наблюдения на две части по прямой, которая отсечет участок наблюдений с высокой плотностью в нижней части графика от участка с низкой плотностью в верхней. Если подумать, то при применении к размеру фонда функции корня в определенной степени, то мы получим линейную зависимость на некотором участке."
   ]
  },
  {
   "cell_type": "code",
   "execution_count": 217,
   "metadata": {},
   "outputs": [],
   "source": [
    "final_df['cluster_size_pos'] = (final_df.pos_count > 1000 - 40 * final_df.log_value_fund)"
   ]
  },
  {
   "cell_type": "markdown",
   "metadata": {},
   "source": [
    "Теперь я посмотрю на распределения корня числа позиций относительно HHI и Turnover."
   ]
  },
  {
   "cell_type": "code",
   "execution_count": 218,
   "metadata": {},
   "outputs": [
    {
     "data": {
      "image/png": "[encoded data removed]",
      "text/plain": [
       "<Figure size 1440x432 with 2 Axes>"
      ]
     },
     "metadata": {
      "needs_background": "light"
     },
     "output_type": "display_data"
    }
   ],
   "source": [
    "fig, axs = pl.subplots(1, 2, figsize=(20,6));\n",
    "\n",
    "axs[0].scatter(final_df[final_df.period == final_df.period.max()].pos_count,\n",
    "           final_df[final_df.period == final_df.period.max()].hhi, s=1.8);\n",
    "axs[0].set_title('Joint Distribution of HHI and Number of positions' + str(final_df.period.max()));\n",
    "axs[0].set(xlabel='Number of positions', ylabel='HHI');\n",
    "\n",
    "axs[1].scatter(final_df[final_df.period == final_df.period.max()].pos_count,\n",
    "           final_df[final_df.period == final_df.period.max()].turnover, s=1.8);\n",
    "axs[1].set_title('Joint Distribution of Turnover and Number of positions' + str(final_df.period.max()));\n",
    "axs[1].set(xlabel='Number of positions', ylabel='Turnover');"
   ]
  },
  {
   "cell_type": "markdown",
   "metadata": {},
   "source": [
    "Можно заметить, что большинство значений на первом графике лежат ниже некоторой границы гиперболического вида, а на втором - ниже некоторой линейной границы. Я приблизительно их определю и добавлю на индикаторы на превышение этих границ."
   ]
  },
  {
   "cell_type": "code",
   "execution_count": 219,
   "metadata": {},
   "outputs": [],
   "source": [
    "final_df['cluster_pos_hhi'] = (final_df.hhi > 20 / final_df.pos_count)"
   ]
  },
  {
   "cell_type": "markdown",
   "metadata": {},
   "source": [
    "После всех приготовлений избавлюсь от ненужных наблюдений и столбцов."
   ]
  },
  {
   "cell_type": "code",
   "execution_count": 220,
   "metadata": {},
   "outputs": [],
   "source": [
    "# Избавляюсь от ненужных колонок и наблюдений\n",
    "final_df.drop(['shares_lag_5', 'ticker_share_lag_5', 'quarter_diff',\n",
    "              'market_value_fund', 'ticker_share'], axis=1, inplace=True)"
   ]
  },
  {
   "cell_type": "markdown",
   "metadata": {},
   "source": [
    "## Variables Factoring"
   ]
  },
  {
   "cell_type": "markdown",
   "metadata": {},
   "source": [
    "Теперь я факторизирую (<a href=\"https://www.stata.com/manuals13/u25.pdf\">Variable Factoring</a>, не знаю, как лучше перевести, кросс-перемножу) непрерывные переменные Turnover, прямого и обратнго HHI, так как я считаю, что в зависимости от размера и инвестиционного стиля будет меняться поведение фонда."
   ]
  },
  {
   "cell_type": "code",
   "execution_count": 221,
   "metadata": {},
   "outputs": [],
   "source": [
    "# Факторизирую turnover и HHI\n",
    "final_df['turnover' + '_high'] = final_df['turnover'].mul(final_df.high_value, axis=0)\n",
    "final_df['turnover' + '_med'] = final_df['turnover'].mul(final_df.med_value, axis=0)\n",
    "final_df['turnover' + '_low'] = final_df['turnover'].mul(final_df.low_value, axis=0)\n",
    "\n",
    "final_df['hhi' + '_high'] = final_df['hhi'].mul(final_df.high_value, axis=0)\n",
    "final_df['hhi' + '_med'] = final_df['hhi'].mul(final_df.med_value, axis=0)\n",
    "final_df['hhi' + '_low'] = final_df['hhi'].mul(final_df.low_value, axis=0)\n",
    "\n",
    "final_df['hhi_rev' + '_high'] = final_df['hhi_rev'].mul(final_df.high_value, axis=0)\n",
    "final_df['hhi_rev' + '_med'] = final_df['hhi_rev'].mul(final_df.med_value, axis=0)\n",
    "final_df['hhi_rev' + '_low'] = final_df['hhi_rev'].mul(final_df.low_value, axis=0)"
   ]
  },
  {
   "cell_type": "markdown",
   "metadata": {},
   "source": [
    "Также я добавлю переменную среднего значения изменения позиции тикера по всем фондам и по фондам одной весовой категории, а также среднее значение изменения по другим активам фонда, чтобы учесть, как рынок (инвесторы) и сходие по размеру фонды в целом реагировали на ситуацию."
   ]
  },
  {
   "cell_type": "code",
   "execution_count": 223,
   "metadata": {
    "scrolled": true
   },
   "outputs": [
    {
     "name": "stdout",
     "output_type": "stream",
     "text": [
      "Wall time: 7min 57s\n"
     ]
    }
   ],
   "source": [
    "%%time\n",
    "\n",
    "# Составляю таблицы средних изменений позиций по тикеру, периоду и фонду\n",
    "\n",
    "mean_net_shares = final_df.groupby(['ticker_id', 'period'])['net_shares'].mean().reset_index()\n",
    "mean_net_shares.rename(columns={'net_shares': 'mean_net_shares'}, inplace=True)\n",
    "\n",
    "mean_net_shares_by_cik = final_df.groupby(['cik', 'period'])['net_shares'].mean().reset_index()\n",
    "mean_net_shares_by_cik.rename(columns={'net_shares': 'mean_net_shares_by_cik'}, inplace=True)\n",
    "\n",
    "mean_net_shares_by_value = final_df.groupby(['ticker_id', 'period', 'high_value', 'med_value']) \\\n",
    "                                                        ['net_shares'].mean().reset_index()\n",
    "mean_net_shares_by_value.rename(columns={'net_shares': 'mean_net_shares_by_value'}, inplace=True)\n",
    "\n",
    "# Сцепляю их с нашим датасетом\n",
    "\n",
    "final_df = final_df.merge(mean_net_shares, on=['ticker_id', 'period'], how='left', suffixes=(False, False))\n",
    "final_df = final_df.merge(mean_net_shares_by_cik, on=['cik', 'period'], how='left', suffixes=(False, False))\n",
    "final_df = final_df.merge(mean_net_shares_by_value, on=['ticker_id', 'period', 'high_value', 'med_value'],\n",
    "                                                                  how='left', suffixes=(False, False))\n",
    "\n",
    "# Считаю количество фондов, владеющих тикером в каждом периоде, чтобы вычесть потом долю отдельного фонда в среднем по тикеру\n",
    "\n",
    "tickers_count = final_df.groupby(['ticker_id', 'period']).count().reset_index()\n",
    "tickers_count_by_value = final_df.groupby(['ticker_id', 'period', 'high_value', 'med_value'])\\\n",
    "                                                            .count().reset_index()\n",
    "\n",
    "tickers_count.rename(columns={'shares': 'tickers_count'}, inplace=True)\n",
    "tickers_count_by_value.rename(columns={'shares': 'tickers_count_by_value'}, inplace=True)\n",
    "\n",
    "final_df = final_df.merge(tickers_count[['ticker_id', 'period', 'tickers_count']], on=['ticker_id', 'period'],\n",
    "                                                                                          how='left', suffixes=(False, False))\n",
    "final_df = final_df.merge(tickers_count_by_value[['ticker_id', 'period', 'high_value', 'med_value', 'tickers_count_by_value']], \n",
    "                                                                        on=['ticker_id', 'period', 'high_value', 'med_value'],\n",
    "                                                                                          how='left', suffixes=(False, False))\n",
    "\n",
    "# Вычитаю из среднего по тикеру составляющую конкретного фонда в нем для каждого наблюдения\n",
    "# Тем самым, я получаю среднее по всем остальным фондам\n",
    "\n",
    "final_df['mean_net_shares'] -= final_df.net_shares.div(final_df.tickers_count, axis=0).values\n",
    "final_df['mean_net_shares_by_cik'] -= final_df.net_shares.div(final_df.pos_count, axis=0).values\n",
    "final_df['mean_net_shares_by_value'] -= final_df.net_shares.div(final_df.tickers_count_by_value, axis=0).values"
   ]
  },
  {
   "cell_type": "markdown",
   "metadata": {},
   "source": [
    "## Макро"
   ]
  },
  {
   "cell_type": "markdown",
   "metadata": {},
   "source": [
    "Я предполагаю, что инвесторы обращают внимание на макроэкономическую ситуацию и её изменение <i>(иначе зачем макроэкономику преподают и изучают)</i>, чтобы исправлять свои стратегии.\n",
    "\n",
    "<b> Поэтому я считаю, что важно проконтролировать изменение макроэкономических параметров в модели, так как без этого их влияние войдет в остаток, а я хочу, чтобы в остатках лежало только настроение фонда относительно тикера, определяемое его новыми инсайтами, а не экзогенными факторами. </b>\n",
    "\n",
    "Я буду пользоваться парсером pandas, чтобы получать данные из статистической службы FRED.\n",
    "\n",
    "В качестве переменных я собираюсь использовать поквартальное изменение ключевой ставки, ставки по десятилетним казначейским облигациям, уровню инфляции и росту ВВП (последние два тоже поквартальные)."
   ]
  },
  {
   "cell_type": "code",
   "execution_count": 57,
   "metadata": {},
   "outputs": [],
   "source": [
    "import pandas_datareader as wb"
   ]
  },
  {
   "cell_type": "code",
   "execution_count": 59,
   "metadata": {},
   "outputs": [],
   "source": [
    "# скачиваю ставки и нахожу их изменение, группируя по кварталам\n",
    "rates = wb.DataReader(['DGS10', 'DFF', 'UNRATE'], 'fred', start=2012).resample('Q-DEC').mean().diff() / 100\n",
    "rates.reset_index(inplace=True)\n",
    "# Перевожу индекс в нужные единицы измерения\n",
    "rates.DATE = rates.DATE.dt.to_period('Q')"
   ]
  },
  {
   "cell_type": "code",
   "execution_count": 60,
   "metadata": {},
   "outputs": [],
   "source": [
    "# Нахожу инфлцяцию через Индекс потребительских цен, группируя по кварталам\n",
    "inflation = wb.DataReader('CPIAUCSL', 'fred', start=2012).resample('Q-DEC').mean().pct_change()\n",
    "inflation.reset_index(inplace=True)\n",
    "# Перевожу индекс в нужные единицы измерения\n",
    "inflation.DATE = inflation.DATE.dt.to_period('Q')"
   ]
  },
  {
   "cell_type": "code",
   "execution_count": 61,
   "metadata": {},
   "outputs": [],
   "source": [
    "# Скачиваю данные по ВВП и считаю рост (а тут сразу всё поквартально!)\n",
    "gdp_growth = wb.DataReader('GDP', 'fred', start=2012).pct_change()\n",
    "gdp_growth.reset_index(inplace=True)\n",
    "# Перевожу индекс в нужные единицы измерения\n",
    "gdp_growth.DATE = gdp_growth.DATE.dt.to_period('Q')"
   ]
  },
  {
   "cell_type": "code",
   "execution_count": null,
   "metadata": {},
   "outputs": [],
   "source": [
    "%%time\n",
    "\n",
    "# Связываю полученные значения с нашим датасетом\n",
    "\n",
    "final_df = final_df.merge(rates, left_on='period', right_on='DATE', how='left', suffixes=(False, False))\n",
    "final_df = final_df.merge(inflation, on=\"DATE\", how='left', suffixes=(False, False))\n",
    "final_df = final_df.merge(gdp_growth, on=\"DATE\", how='left', suffixes=(False, False))\n",
    "final_df.drop('DATE', axis=1, inplace=True)"
   ]
  },
  {
   "cell_type": "markdown",
   "metadata": {},
   "source": [
    "Предположу, что фонд будет по-разному реагировать на изменение макроэкономического положения в зависимости от своего размера. Поэтому факторизую индикаторы и построю на новых переменных регрессию."
   ]
  },
  {
   "cell_type": "code",
   "execution_count": 68,
   "metadata": {},
   "outputs": [],
   "source": [
    "for macro_factor in ['DGS10', 'DFF', 'UNRATE', 'CPIAUCSL', 'GDP']:\n",
    "    final_df[macro_factor + '_high'] = final_df[macro_factor].mul(final_df.high_value, axis=0)\n",
    "    final_df[macro_factor + '_med'] = final_df[macro_factor].mul(final_df.med_value, axis=0)\n",
    "    final_df[macro_factor + '_low'] = final_df[macro_factor].mul(final_df.low_value, axis=0)"
   ]
  },
  {
   "cell_type": "markdown",
   "metadata": {},
   "source": [
    "## Формирование датасетов для отдельных задач"
   ]
  },
  {
   "cell_type": "markdown",
   "metadata": {},
   "source": [
    "Так как у многих активов в фондах может не хватать старших лагов, а также учитывая, что фонды не всегда вкладываются на долгий срок, то я для каждого количества доступных лагов, идущих подряд, начиная с первого, создам отдельный датасет, на котором я буду проводить отдельные испытания моделей. В итоге, у меня будет 4 датасета, в первом будут значения для первого лага, во втором - для первого и второго, и так далее.\n",
    "\n",
    "Также, я создам 5-й датасет, где не будет ни одного лага, и я на нем буду решать задачу предсказания появления позиции по акции в фонде.\n",
    "\n",
    "Кроме того, я хочу создать датасет, который бы помогал решить задачу определения ситуаций, когда фонд выходит из тикера, но создание такого датасета представляется чересчур ресурсозатратным, так как мой датасет знает только ситуации, когда фонд владел акциями. Плюс, я не всегда знаю, была ли в обороте та или иная акция в определенный квартал, которая не была ни в одном фонде в тот квартал, но есть в датасете."
   ]
  },
  {
   "cell_type": "code",
   "execution_count": 24,
   "metadata": {},
   "outputs": [
    {
     "name": "stdout",
     "output_type": "stream",
     "text": [
      "Wall time: 1min 39s\n"
     ]
    }
   ],
   "source": [
    "%%time\n",
    "\n",
    "lag0 = final_df[(final_df.shares_lag_1.isna()) * final_df.shares_lag_2.isna() * \\\n",
    "            final_df.shares_lag_3.isna() * final_df.shares_lag_4.isna()].dropna()\n",
    "lag1 = final_df[(~final_df.shares_lag_1.isna()) * final_df.shares_lag_2.isna() * \\\n",
    "            final_df.shares_lag_3.isna() * final_df.shares_lag_4.isna()].dropna()\n",
    "lag2 = final_df[~final_df.shares_lag_1.isna() * (~final_df.shares_lag_2.isna()) * \\\n",
    "            final_df.shares_lag_3.isna() * final_df.shares_lag_4.isna()].dropna()\n",
    "lag3 = final_df[(~final_df.shares_lag_1.isna()) * (~final_df.shares_lag_2.isna()) * \\\n",
    "            (~final_df.shares_lag_3.isna()) * final_df.shares_lag_4.isna()].dropna()\n",
    "lag4 = final_df[(~final_df.shares_lag_1.isna()) * (~final_df.shares_lag_2.isna()) * \\\n",
    "            (~final_df.shares_lag_3.isna()) * (~final_df.shares_lag_4.isna())].dropna()"
   ]
  },
  {
   "cell_type": "markdown",
   "metadata": {},
   "source": [
    "# Совершаем простейшие регрессии (через МНК)"
   ]
  },
  {
   "cell_type": "markdown",
   "metadata": {},
   "source": [
    "Теперь, когда я определился с переменными, попробую определить характер зависимости чистого изменения позиции от регрессоров. Для красоты представления буду пользоваться библиотекой <i>statsmodels<i/>. Начну с простой модели без факторизации."
   ]
  },
  {
   "cell_type": "markdown",
   "metadata": {},
   "source": [
    "### Модель 1"
   ]
  },
  {
   "cell_type": "code",
   "execution_count": 13,
   "metadata": {},
   "outputs": [],
   "source": [
    "import statsmodels.api as sm"
   ]
  },
  {
   "cell_type": "code",
   "execution_count": 26,
   "metadata": {},
   "outputs": [],
   "source": [
    "y = lag4['net_shares']\n",
    "\n",
    "X = lag4[['log_value_fund',\n",
    "       'high_value', 'med_value',\n",
    "       'ticker_share_lag_1', 'ticker_share_lag_2', 'ticker_share_lag_3', 'ticker_share_lag_4',\n",
    "       'net_shares_lag_1', 'net_shares_lag_2', 'net_shares_lag_3', 'net_shares_lag_4',\n",
    "       'size_cat_change_qrt_lag_1', \n",
    "       'size_cat_change_up_qrt_lag_1', 'size_cat_change_qrt_lag_2',\n",
    "       'size_cat_change_up_qrt_lag_2', 'size_cat_change_qrt_lag_3',\n",
    "       'size_cat_change_up_qrt_lag_3', 'size_cat_change_qrt_lag_4',\n",
    "       'size_cat_change_up_qrt_lag_4', 'size_cat_change_qrt',\n",
    "       'size_cat_change_up_qrt', 'size_cat_change_total',\n",
    "       'turnover', 'hhi', 'hhi_eq_1', 'tvr_eq_1', 'high_hhi',\n",
    "       'high_turnover', 'extreme_turnover', \n",
    "       'cluster_hhi', 'cluster_turnover', 'hhi_rev', 'pos_count',\n",
    "       'extreme_pos_count', 'high_pos_count', 'med_pos_count', 'up_low_pos_count',\n",
    "       'cluster_size_pos', 'cluster_pos_hhi', 'mean_net_shares', 'mean_net_shares_by_cik',\n",
    "       'mean_net_shares_by_value']].astype('float64')\n",
    "X = sm.add_constant(X)"
   ]
  },
  {
   "cell_type": "markdown",
   "metadata": {},
   "source": [
    "В этой модели я учитываю величину активов фонда, лаги чистых изменений позиций, переменные, связанные с turnover и hhi, и среднее по остальным фондам."
   ]
  },
  {
   "cell_type": "markdown",
   "metadata": {},
   "source": [
    "Делаю первую модель. Простой метод наименьших квадратов."
   ]
  },
  {
   "cell_type": "code",
   "execution_count": 27,
   "metadata": {
    "scrolled": false
   },
   "outputs": [
    {
     "data": {
      "text/html": [
       "<table class=\"simpletable\">\n",
       "<caption>OLS Regression Results</caption>\n",
       "<tr>\n",
       "  <th>Dep. Variable:</th>       <td>net_shares</td>    <th>  R-squared:         </th>  <td>   0.086</td>  \n",
       "</tr>\n",
       "<tr>\n",
       "  <th>Model:</th>                   <td>OLS</td>       <th>  Adj. R-squared:    </th>  <td>   0.086</td>  \n",
       "</tr>\n",
       "<tr>\n",
       "  <th>Method:</th>             <td>Least Squares</td>  <th>  F-statistic:       </th>  <td>   2984.</td>  \n",
       "</tr>\n",
       "<tr>\n",
       "  <th>Date:</th>             <td>Sun, 06 Dec 2020</td> <th>  Prob (F-statistic):</th>   <td>  0.00</td>   \n",
       "</tr>\n",
       "<tr>\n",
       "  <th>Time:</th>                 <td>01:00:49</td>     <th>  Log-Likelihood:    </th> <td>-9.7462e+06</td>\n",
       "</tr>\n",
       "<tr>\n",
       "  <th>No. Observations:</th>      <td>1298404</td>     <th>  AIC:               </th>  <td>1.949e+07</td> \n",
       "</tr>\n",
       "<tr>\n",
       "  <th>Df Residuals:</th>          <td>1298362</td>     <th>  BIC:               </th>  <td>1.949e+07</td> \n",
       "</tr>\n",
       "<tr>\n",
       "  <th>Df Model:</th>              <td>    41</td>      <th>                     </th>      <td> </td>     \n",
       "</tr>\n",
       "<tr>\n",
       "  <th>Covariance Type:</th>      <td>nonrobust</td>    <th>                     </th>      <td> </td>     \n",
       "</tr>\n",
       "</table>\n",
       "<table class=\"simpletable\">\n",
       "<tr>\n",
       "                <td></td>                  <th>coef</th>     <th>std err</th>      <th>t</th>      <th>P>|t|</th>  <th>[0.025</th>    <th>0.975]</th>  \n",
       "</tr>\n",
       "<tr>\n",
       "  <th>const</th>                        <td>    0.2084</td> <td>    7.333</td> <td>    0.028</td> <td> 0.977</td> <td>  -14.164</td> <td>   14.581</td>\n",
       "</tr>\n",
       "<tr>\n",
       "  <th>log_value_fund</th>               <td>    0.0364</td> <td>    0.445</td> <td>    0.082</td> <td> 0.935</td> <td>   -0.836</td> <td>    0.909</td>\n",
       "</tr>\n",
       "<tr>\n",
       "  <th>high_value</th>                   <td>   -2.8107</td> <td>    2.478</td> <td>   -1.134</td> <td> 0.257</td> <td>   -7.668</td> <td>    2.046</td>\n",
       "</tr>\n",
       "<tr>\n",
       "  <th>med_value</th>                    <td>    0.5699</td> <td>    1.879</td> <td>    0.303</td> <td> 0.762</td> <td>   -3.113</td> <td>    4.252</td>\n",
       "</tr>\n",
       "<tr>\n",
       "  <th>ticker_share_lag_1</th>           <td> -131.5809</td> <td>   39.379</td> <td>   -3.341</td> <td> 0.001</td> <td> -208.763</td> <td>  -54.398</td>\n",
       "</tr>\n",
       "<tr>\n",
       "  <th>ticker_share_lag_2</th>           <td>   43.1104</td> <td>   48.357</td> <td>    0.891</td> <td> 0.373</td> <td>  -51.669</td> <td>  137.889</td>\n",
       "</tr>\n",
       "<tr>\n",
       "  <th>ticker_share_lag_3</th>           <td>   24.8585</td> <td>   48.930</td> <td>    0.508</td> <td> 0.611</td> <td>  -71.042</td> <td>  120.759</td>\n",
       "</tr>\n",
       "<tr>\n",
       "  <th>ticker_share_lag_4</th>           <td>   63.3156</td> <td>   38.834</td> <td>    1.630</td> <td> 0.103</td> <td>  -12.797</td> <td>  139.428</td>\n",
       "</tr>\n",
       "<tr>\n",
       "  <th>net_shares_lag_1</th>             <td>   -0.0026</td> <td>    0.001</td> <td>   -3.295</td> <td> 0.001</td> <td>   -0.004</td> <td>   -0.001</td>\n",
       "</tr>\n",
       "<tr>\n",
       "  <th>net_shares_lag_2</th>             <td>   -0.0039</td> <td>    0.002</td> <td>   -2.324</td> <td> 0.020</td> <td>   -0.007</td> <td>   -0.001</td>\n",
       "</tr>\n",
       "<tr>\n",
       "  <th>net_shares_lag_3</th>             <td>    0.0034</td> <td>    0.001</td> <td>    2.970</td> <td> 0.003</td> <td>    0.001</td> <td>    0.006</td>\n",
       "</tr>\n",
       "<tr>\n",
       "  <th>net_shares_lag_4</th>             <td>    0.0082</td> <td>    0.001</td> <td>    7.324</td> <td> 0.000</td> <td>    0.006</td> <td>    0.010</td>\n",
       "</tr>\n",
       "<tr>\n",
       "  <th>size_cat_change_qrt_lag_1</th>    <td>   -8.0863</td> <td>    5.925</td> <td>   -1.365</td> <td> 0.172</td> <td>  -19.698</td> <td>    3.526</td>\n",
       "</tr>\n",
       "<tr>\n",
       "  <th>size_cat_change_up_qrt_lag_1</th> <td>   -4.6653</td> <td>    6.294</td> <td>   -0.741</td> <td> 0.459</td> <td>  -17.000</td> <td>    7.670</td>\n",
       "</tr>\n",
       "<tr>\n",
       "  <th>size_cat_change_qrt_lag_2</th>    <td>   -2.8763</td> <td>    5.670</td> <td>   -0.507</td> <td> 0.612</td> <td>  -13.990</td> <td>    8.238</td>\n",
       "</tr>\n",
       "<tr>\n",
       "  <th>size_cat_change_up_qrt_lag_2</th> <td>    6.4202</td> <td>    6.124</td> <td>    1.048</td> <td> 0.294</td> <td>   -5.582</td> <td>   18.423</td>\n",
       "</tr>\n",
       "<tr>\n",
       "  <th>size_cat_change_qrt_lag_3</th>    <td>   -4.9707</td> <td>    5.845</td> <td>   -0.850</td> <td> 0.395</td> <td>  -16.426</td> <td>    6.485</td>\n",
       "</tr>\n",
       "<tr>\n",
       "  <th>size_cat_change_up_qrt_lag_3</th> <td>   -2.7709</td> <td>    6.217</td> <td>   -0.446</td> <td> 0.656</td> <td>  -14.956</td> <td>    9.414</td>\n",
       "</tr>\n",
       "<tr>\n",
       "  <th>size_cat_change_qrt_lag_4</th>    <td>   -7.2064</td> <td>    5.663</td> <td>   -1.273</td> <td> 0.203</td> <td>  -18.305</td> <td>    3.892</td>\n",
       "</tr>\n",
       "<tr>\n",
       "  <th>size_cat_change_up_qrt_lag_4</th> <td>   -4.9323</td> <td>    5.846</td> <td>   -0.844</td> <td> 0.399</td> <td>  -16.391</td> <td>    6.526</td>\n",
       "</tr>\n",
       "<tr>\n",
       "  <th>size_cat_change_qrt</th>          <td>    0.2330</td> <td>    5.791</td> <td>    0.040</td> <td> 0.968</td> <td>  -11.118</td> <td>   11.584</td>\n",
       "</tr>\n",
       "<tr>\n",
       "  <th>size_cat_change_up_qrt</th>       <td>   -0.2833</td> <td>    6.385</td> <td>   -0.044</td> <td> 0.965</td> <td>  -12.798</td> <td>   12.231</td>\n",
       "</tr>\n",
       "<tr>\n",
       "  <th>size_cat_change_total</th>        <td>   12.1248</td> <td>    3.363</td> <td>    3.605</td> <td> 0.000</td> <td>    5.533</td> <td>   18.717</td>\n",
       "</tr>\n",
       "<tr>\n",
       "  <th>turnover</th>                     <td>   -2.0170</td> <td>    3.737</td> <td>   -0.540</td> <td> 0.589</td> <td>   -9.341</td> <td>    5.307</td>\n",
       "</tr>\n",
       "<tr>\n",
       "  <th>hhi</th>                          <td>    6.2614</td> <td>   14.752</td> <td>    0.424</td> <td> 0.671</td> <td>  -22.653</td> <td>   35.176</td>\n",
       "</tr>\n",
       "<tr>\n",
       "  <th>hhi_eq_1</th>                     <td>    6.5717</td> <td>   29.617</td> <td>    0.222</td> <td> 0.824</td> <td>  -51.476</td> <td>   64.619</td>\n",
       "</tr>\n",
       "<tr>\n",
       "  <th>tvr_eq_1</th>                     <td>-1.205e-11</td> <td> 1.77e-11</td> <td>   -0.682</td> <td> 0.495</td> <td>-4.67e-11</td> <td> 2.26e-11</td>\n",
       "</tr>\n",
       "<tr>\n",
       "  <th>high_hhi</th>                     <td>   -0.1082</td> <td>    5.453</td> <td>   -0.020</td> <td> 0.984</td> <td>  -10.796</td> <td>   10.580</td>\n",
       "</tr>\n",
       "<tr>\n",
       "  <th>high_turnover</th>                <td>    3.1122</td> <td>    2.412</td> <td>    1.290</td> <td> 0.197</td> <td>   -1.615</td> <td>    7.839</td>\n",
       "</tr>\n",
       "<tr>\n",
       "  <th>extreme_turnover</th>             <td>   17.5208</td> <td>    7.737</td> <td>    2.265</td> <td> 0.024</td> <td>    2.357</td> <td>   32.685</td>\n",
       "</tr>\n",
       "<tr>\n",
       "  <th>cluster_hhi</th>                  <td>   -0.3994</td> <td>    2.391</td> <td>   -0.167</td> <td> 0.867</td> <td>   -5.085</td> <td>    4.286</td>\n",
       "</tr>\n",
       "<tr>\n",
       "  <th>cluster_turnover</th>             <td>    2.0201</td> <td>    2.377</td> <td>    0.850</td> <td> 0.395</td> <td>   -2.639</td> <td>    6.679</td>\n",
       "</tr>\n",
       "<tr>\n",
       "  <th>hhi_rev</th>                      <td>   -0.0051</td> <td>    0.006</td> <td>   -0.878</td> <td> 0.380</td> <td>   -0.016</td> <td>    0.006</td>\n",
       "</tr>\n",
       "<tr>\n",
       "  <th>pos_count</th>                    <td>-5.305e-06</td> <td>    0.002</td> <td>   -0.003</td> <td> 0.998</td> <td>   -0.004</td> <td>    0.004</td>\n",
       "</tr>\n",
       "<tr>\n",
       "  <th>extreme_pos_count</th>            <td>   -3.2241</td> <td>    3.688</td> <td>   -0.874</td> <td> 0.382</td> <td>  -10.452</td> <td>    4.004</td>\n",
       "</tr>\n",
       "<tr>\n",
       "  <th>high_pos_count</th>               <td>   -0.2280</td> <td>    2.271</td> <td>   -0.100</td> <td> 0.920</td> <td>   -4.680</td> <td>    4.224</td>\n",
       "</tr>\n",
       "<tr>\n",
       "  <th>med_pos_count</th>                <td>    0.7730</td> <td>    1.855</td> <td>    0.417</td> <td> 0.677</td> <td>   -2.863</td> <td>    4.409</td>\n",
       "</tr>\n",
       "<tr>\n",
       "  <th>up_low_pos_count</th>             <td>    1.1794</td> <td>    2.252</td> <td>    0.524</td> <td> 0.600</td> <td>   -3.234</td> <td>    5.593</td>\n",
       "</tr>\n",
       "<tr>\n",
       "  <th>cluster_size_pos</th>             <td>   -0.7631</td> <td>    2.346</td> <td>   -0.325</td> <td> 0.745</td> <td>   -5.362</td> <td>    3.836</td>\n",
       "</tr>\n",
       "<tr>\n",
       "  <th>cluster_pos_hhi</th>              <td>   -0.5743</td> <td>    1.830</td> <td>   -0.314</td> <td> 0.754</td> <td>   -4.161</td> <td>    3.012</td>\n",
       "</tr>\n",
       "<tr>\n",
       "  <th>mean_net_shares</th>              <td>   -3.2915</td> <td>    0.015</td> <td> -219.445</td> <td> 0.000</td> <td>   -3.321</td> <td>   -3.262</td>\n",
       "</tr>\n",
       "<tr>\n",
       "  <th>mean_net_shares_by_cik</th>       <td>    0.7746</td> <td>    0.011</td> <td>   71.272</td> <td> 0.000</td> <td>    0.753</td> <td>    0.796</td>\n",
       "</tr>\n",
       "<tr>\n",
       "  <th>mean_net_shares_by_value</th>     <td>    2.9576</td> <td>    0.011</td> <td>  260.793</td> <td> 0.000</td> <td>    2.935</td> <td>    2.980</td>\n",
       "</tr>\n",
       "</table>\n",
       "<table class=\"simpletable\">\n",
       "<tr>\n",
       "  <th>Omnibus:</th>       <td>8554087.559</td> <th>  Durbin-Watson:     </th>       <td>   2.001</td>       \n",
       "</tr>\n",
       "<tr>\n",
       "  <th>Prob(Omnibus):</th>   <td> 0.000</td>    <th>  Jarque-Bera (JB):  </th> <td>13021142629833486.000</td>\n",
       "</tr>\n",
       "<tr>\n",
       "  <th>Skew:</th>            <td>611.315</td>   <th>  Prob(JB):          </th>       <td>    0.00</td>       \n",
       "</tr>\n",
       "<tr>\n",
       "  <th>Kurtosis:</th>      <td>490598.881</td>  <th>  Cond. No.          </th>       <td>1.39e+16</td>       \n",
       "</tr>\n",
       "</table><br/><br/>Warnings:<br/>[1] Standard Errors assume that the covariance matrix of the errors is correctly specified.<br/>[2] The smallest eigenvalue is 1.12e-20. This might indicate that there are<br/>strong multicollinearity problems or that the design matrix is singular."
      ],
      "text/plain": [
       "<class 'statsmodels.iolib.summary.Summary'>\n",
       "\"\"\"\n",
       "                            OLS Regression Results                            \n",
       "==============================================================================\n",
       "Dep. Variable:             net_shares   R-squared:                       0.086\n",
       "Model:                            OLS   Adj. R-squared:                  0.086\n",
       "Method:                 Least Squares   F-statistic:                     2984.\n",
       "Date:                Sun, 06 Dec 2020   Prob (F-statistic):               0.00\n",
       "Time:                        01:00:49   Log-Likelihood:            -9.7462e+06\n",
       "No. Observations:             1298404   AIC:                         1.949e+07\n",
       "Df Residuals:                 1298362   BIC:                         1.949e+07\n",
       "Df Model:                          41                                         \n",
       "Covariance Type:            nonrobust                                         \n",
       "================================================================================================\n",
       "                                   coef    std err          t      P>|t|      [0.025      0.975]\n",
       "------------------------------------------------------------------------------------------------\n",
       "const                            0.2084      7.333      0.028      0.977     -14.164      14.581\n",
       "log_value_fund                   0.0364      0.445      0.082      0.935      -0.836       0.909\n",
       "high_value                      -2.8107      2.478     -1.134      0.257      -7.668       2.046\n",
       "med_value                        0.5699      1.879      0.303      0.762      -3.113       4.252\n",
       "ticker_share_lag_1            -131.5809     39.379     -3.341      0.001    -208.763     -54.398\n",
       "ticker_share_lag_2              43.1104     48.357      0.891      0.373     -51.669     137.889\n",
       "ticker_share_lag_3              24.8585     48.930      0.508      0.611     -71.042     120.759\n",
       "ticker_share_lag_4              63.3156     38.834      1.630      0.103     -12.797     139.428\n",
       "net_shares_lag_1                -0.0026      0.001     -3.295      0.001      -0.004      -0.001\n",
       "net_shares_lag_2                -0.0039      0.002     -2.324      0.020      -0.007      -0.001\n",
       "net_shares_lag_3                 0.0034      0.001      2.970      0.003       0.001       0.006\n",
       "net_shares_lag_4                 0.0082      0.001      7.324      0.000       0.006       0.010\n",
       "size_cat_change_qrt_lag_1       -8.0863      5.925     -1.365      0.172     -19.698       3.526\n",
       "size_cat_change_up_qrt_lag_1    -4.6653      6.294     -0.741      0.459     -17.000       7.670\n",
       "size_cat_change_qrt_lag_2       -2.8763      5.670     -0.507      0.612     -13.990       8.238\n",
       "size_cat_change_up_qrt_lag_2     6.4202      6.124      1.048      0.294      -5.582      18.423\n",
       "size_cat_change_qrt_lag_3       -4.9707      5.845     -0.850      0.395     -16.426       6.485\n",
       "size_cat_change_up_qrt_lag_3    -2.7709      6.217     -0.446      0.656     -14.956       9.414\n",
       "size_cat_change_qrt_lag_4       -7.2064      5.663     -1.273      0.203     -18.305       3.892\n",
       "size_cat_change_up_qrt_lag_4    -4.9323      5.846     -0.844      0.399     -16.391       6.526\n",
       "size_cat_change_qrt              0.2330      5.791      0.040      0.968     -11.118      11.584\n",
       "size_cat_change_up_qrt          -0.2833      6.385     -0.044      0.965     -12.798      12.231\n",
       "size_cat_change_total           12.1248      3.363      3.605      0.000       5.533      18.717\n",
       "turnover                        -2.0170      3.737     -0.540      0.589      -9.341       5.307\n",
       "hhi                              6.2614     14.752      0.424      0.671     -22.653      35.176\n",
       "hhi_eq_1                         6.5717     29.617      0.222      0.824     -51.476      64.619\n",
       "tvr_eq_1                     -1.205e-11   1.77e-11     -0.682      0.495   -4.67e-11    2.26e-11\n",
       "high_hhi                        -0.1082      5.453     -0.020      0.984     -10.796      10.580\n",
       "high_turnover                    3.1122      2.412      1.290      0.197      -1.615       7.839\n",
       "extreme_turnover                17.5208      7.737      2.265      0.024       2.357      32.685\n",
       "cluster_hhi                     -0.3994      2.391     -0.167      0.867      -5.085       4.286\n",
       "cluster_turnover                 2.0201      2.377      0.850      0.395      -2.639       6.679\n",
       "hhi_rev                         -0.0051      0.006     -0.878      0.380      -0.016       0.006\n",
       "pos_count                    -5.305e-06      0.002     -0.003      0.998      -0.004       0.004\n",
       "extreme_pos_count               -3.2241      3.688     -0.874      0.382     -10.452       4.004\n",
       "high_pos_count                  -0.2280      2.271     -0.100      0.920      -4.680       4.224\n",
       "med_pos_count                    0.7730      1.855      0.417      0.677      -2.863       4.409\n",
       "up_low_pos_count                 1.1794      2.252      0.524      0.600      -3.234       5.593\n",
       "cluster_size_pos                -0.7631      2.346     -0.325      0.745      -5.362       3.836\n",
       "cluster_pos_hhi                 -0.5743      1.830     -0.314      0.754      -4.161       3.012\n",
       "mean_net_shares                 -3.2915      0.015   -219.445      0.000      -3.321      -3.262\n",
       "mean_net_shares_by_cik           0.7746      0.011     71.272      0.000       0.753       0.796\n",
       "mean_net_shares_by_value         2.9576      0.011    260.793      0.000       2.935       2.980\n",
       "=================================================================================\n",
       "Omnibus:                  8554087.559   Durbin-Watson:                      2.001\n",
       "Prob(Omnibus):                  0.000   Jarque-Bera (JB):   13021142629833486.000\n",
       "Skew:                         611.315   Prob(JB):                            0.00\n",
       "Kurtosis:                  490598.881   Cond. No.                        1.39e+16\n",
       "=================================================================================\n",
       "\n",
       "Warnings:\n",
       "[1] Standard Errors assume that the covariance matrix of the errors is correctly specified.\n",
       "[2] The smallest eigenvalue is 1.12e-20. This might indicate that there are\n",
       "strong multicollinearity problems or that the design matrix is singular.\n",
       "\"\"\""
      ]
     },
     "execution_count": 27,
     "metadata": {},
     "output_type": "execute_result"
    }
   ],
   "source": [
    "model_1 = sm.OLS(y, X).fit()\n",
    "model_1.summary()"
   ]
  },
  {
   "cell_type": "markdown",
   "metadata": {},
   "source": [
    "Константа сразу нормальная. Значимы только лаги изменений и изменение размера, а также все средние изменения!!!!!!\n",
    "\n",
    "Зависимость от размера положительная, как и от HHI, но отрицательна от обратного HHI и Turnover.\n",
    "\n",
    "Изменение размера влияет отрицательно почти всегда для каждого квартала, но его наличие в общем случае влияет положительно.\n",
    "\n",
    "Значения различаются по масштабу."
   ]
  },
  {
   "cell_type": "markdown",
   "metadata": {},
   "source": [
    "В результатах написано, что присутствует сильная мультиколлинеарность, но она нас не волнует, так как не влияет на состоятельность оценок."
   ]
  },
  {
   "cell_type": "markdown",
   "metadata": {},
   "source": [
    "Создаю меру настроя инвесторов. То, ради чего затевалась курсовая."
   ]
  },
  {
   "cell_type": "code",
   "execution_count": 28,
   "metadata": {},
   "outputs": [],
   "source": [
    "# Наша искомая переменная!\n",
    "delta_1 = y - model_1.predict(X)"
   ]
  },
  {
   "cell_type": "markdown",
   "metadata": {},
   "source": [
    "Посмотрим на её зависимость от величины активов. Предполагается, что будет наблюдаться некоторая зависимость."
   ]
  },
  {
   "cell_type": "code",
   "execution_count": 30,
   "metadata": {},
   "outputs": [
    {
     "data": {
      "image/png": "[encoded data removed]",
      "text/plain": [
       "<Figure size 432x288 with 1 Axes>"
      ]
     },
     "metadata": {
      "needs_background": "light"
     },
     "output_type": "display_data"
    }
   ],
   "source": [
    "pl.scatter(X.log_value_fund, delta_1, s=1.25);\n",
    "pl.title('Scatter Plot of Resids vs Log Fund Value');\n",
    "pl.xlabel('log fund value');\n",
    "pl.ylabel('resids');"
   ]
  },
  {
   "cell_type": "markdown",
   "metadata": {},
   "source": [
    "Как можно увидеть, никакой зависимости нет, дисперсия примерно везде одинакова. Она заметно выше в определенных районах, но мне кажется, это из-за того, что в этих диапазонах просто больше наблюдений, поэтому разброс чуть повыше."
   ]
  },
  {
   "cell_type": "markdown",
   "metadata": {},
   "source": [
    "На графике видно, что остатки какие-то выдающиеся. Посмотрю на гистограмме, есть ли у меня такие наблюдения."
   ]
  },
  {
   "cell_type": "code",
   "execution_count": 37,
   "metadata": {},
   "outputs": [
    {
     "data": {
      "image/png": "[encoded data removed]",
      "text/plain": [
       "<Figure size 432x288 with 1 Axes>"
      ]
     },
     "metadata": {
      "needs_background": "light"
     },
     "output_type": "display_data"
    }
   ],
   "source": [
    "pl.hist(delta_1, bins=50, range=(10, 1000));\n",
    "pl.title('Excessive Delta Distribution');"
   ]
  },
  {
   "cell_type": "markdown",
   "metadata": {},
   "source": [
    "Да, есть много наблюдений, где оценка отличается больше, чем на 1000 процентнов. Вероятно, это из-за того, что в нашей выборке много около-бедных фондов, которые при начале инвестирования в тикер быстро наращивают вложения. При этом, из-за своих возможностей они не могут покупать много акций, из-за чего при постепенном увеличении вложений процентное изменение оказывается невероятно высоким. Это проблема масштаба, как проблема сходимости экономического роста в неразвитых и развитых странах."
   ]
  },
  {
   "cell_type": "markdown",
   "metadata": {},
   "source": [
    "Чтобы избавиться от этой проблемы, я нормализую зависимую переменную. Посмотрим, станет ли лучше."
   ]
  },
  {
   "cell_type": "markdown",
   "metadata": {},
   "source": [
    "### Модель 2"
   ]
  },
  {
   "cell_type": "code",
   "execution_count": 38,
   "metadata": {},
   "outputs": [],
   "source": [
    "y = (y - y.mean()) / y.std()"
   ]
  },
  {
   "cell_type": "code",
   "execution_count": 39,
   "metadata": {},
   "outputs": [
    {
     "data": {
      "text/html": [
       "<table class=\"simpletable\">\n",
       "<caption>OLS Regression Results</caption>\n",
       "<tr>\n",
       "  <th>Dep. Variable:</th>       <td>net_shares</td>    <th>  R-squared:         </th>  <td>   0.086</td>  \n",
       "</tr>\n",
       "<tr>\n",
       "  <th>Model:</th>                   <td>OLS</td>       <th>  Adj. R-squared:    </th>  <td>   0.086</td>  \n",
       "</tr>\n",
       "<tr>\n",
       "  <th>Method:</th>             <td>Least Squares</td>  <th>  F-statistic:       </th>  <td>   2984.</td>  \n",
       "</tr>\n",
       "<tr>\n",
       "  <th>Date:</th>             <td>Sun, 06 Dec 2020</td> <th>  Prob (F-statistic):</th>   <td>  0.00</td>   \n",
       "</tr>\n",
       "<tr>\n",
       "  <th>Time:</th>                 <td>01:06:41</td>     <th>  Log-Likelihood:    </th> <td>-1.7839e+06</td>\n",
       "</tr>\n",
       "<tr>\n",
       "  <th>No. Observations:</th>      <td>1298404</td>     <th>  AIC:               </th>  <td>3.568e+06</td> \n",
       "</tr>\n",
       "<tr>\n",
       "  <th>Df Residuals:</th>          <td>1298362</td>     <th>  BIC:               </th>  <td>3.568e+06</td> \n",
       "</tr>\n",
       "<tr>\n",
       "  <th>Df Model:</th>              <td>    41</td>      <th>                     </th>      <td> </td>     \n",
       "</tr>\n",
       "<tr>\n",
       "  <th>Covariance Type:</th>      <td>nonrobust</td>    <th>                     </th>      <td> </td>     \n",
       "</tr>\n",
       "</table>\n",
       "<table class=\"simpletable\">\n",
       "<tr>\n",
       "                <td></td>                  <th>coef</th>     <th>std err</th>      <th>t</th>      <th>P>|t|</th>  <th>[0.025</th>    <th>0.975]</th>  \n",
       "</tr>\n",
       "<tr>\n",
       "  <th>const</th>                        <td>   -0.0036</td> <td>    0.016</td> <td>   -0.226</td> <td> 0.821</td> <td>   -0.035</td> <td>    0.028</td>\n",
       "</tr>\n",
       "<tr>\n",
       "  <th>log_value_fund</th>               <td> 7.903e-05</td> <td>    0.001</td> <td>    0.082</td> <td> 0.935</td> <td>   -0.002</td> <td>    0.002</td>\n",
       "</tr>\n",
       "<tr>\n",
       "  <th>high_value</th>                   <td>   -0.0061</td> <td>    0.005</td> <td>   -1.134</td> <td> 0.257</td> <td>   -0.017</td> <td>    0.004</td>\n",
       "</tr>\n",
       "<tr>\n",
       "  <th>med_value</th>                    <td>    0.0012</td> <td>    0.004</td> <td>    0.303</td> <td> 0.762</td> <td>   -0.007</td> <td>    0.009</td>\n",
       "</tr>\n",
       "<tr>\n",
       "  <th>ticker_share_lag_1</th>           <td>   -0.2857</td> <td>    0.086</td> <td>   -3.341</td> <td> 0.001</td> <td>   -0.453</td> <td>   -0.118</td>\n",
       "</tr>\n",
       "<tr>\n",
       "  <th>ticker_share_lag_2</th>           <td>    0.0936</td> <td>    0.105</td> <td>    0.891</td> <td> 0.373</td> <td>   -0.112</td> <td>    0.299</td>\n",
       "</tr>\n",
       "<tr>\n",
       "  <th>ticker_share_lag_3</th>           <td>    0.0540</td> <td>    0.106</td> <td>    0.508</td> <td> 0.611</td> <td>   -0.154</td> <td>    0.262</td>\n",
       "</tr>\n",
       "<tr>\n",
       "  <th>ticker_share_lag_4</th>           <td>    0.1375</td> <td>    0.084</td> <td>    1.630</td> <td> 0.103</td> <td>   -0.028</td> <td>    0.303</td>\n",
       "</tr>\n",
       "<tr>\n",
       "  <th>net_shares_lag_1</th>             <td>-5.607e-06</td> <td>  1.7e-06</td> <td>   -3.295</td> <td> 0.001</td> <td>-8.94e-06</td> <td>-2.27e-06</td>\n",
       "</tr>\n",
       "<tr>\n",
       "  <th>net_shares_lag_2</th>             <td>-8.552e-06</td> <td> 3.68e-06</td> <td>   -2.324</td> <td> 0.020</td> <td>-1.58e-05</td> <td>-1.34e-06</td>\n",
       "</tr>\n",
       "<tr>\n",
       "  <th>net_shares_lag_3</th>             <td> 7.281e-06</td> <td> 2.45e-06</td> <td>    2.970</td> <td> 0.003</td> <td> 2.48e-06</td> <td> 1.21e-05</td>\n",
       "</tr>\n",
       "<tr>\n",
       "  <th>net_shares_lag_4</th>             <td> 1.789e-05</td> <td> 2.44e-06</td> <td>    7.324</td> <td> 0.000</td> <td> 1.31e-05</td> <td> 2.27e-05</td>\n",
       "</tr>\n",
       "<tr>\n",
       "  <th>size_cat_change_qrt_lag_1</th>    <td>   -0.0176</td> <td>    0.013</td> <td>   -1.365</td> <td> 0.172</td> <td>   -0.043</td> <td>    0.008</td>\n",
       "</tr>\n",
       "<tr>\n",
       "  <th>size_cat_change_up_qrt_lag_1</th> <td>   -0.0101</td> <td>    0.014</td> <td>   -0.741</td> <td> 0.459</td> <td>   -0.037</td> <td>    0.017</td>\n",
       "</tr>\n",
       "<tr>\n",
       "  <th>size_cat_change_qrt_lag_2</th>    <td>   -0.0062</td> <td>    0.012</td> <td>   -0.507</td> <td> 0.612</td> <td>   -0.030</td> <td>    0.018</td>\n",
       "</tr>\n",
       "<tr>\n",
       "  <th>size_cat_change_up_qrt_lag_2</th> <td>    0.0139</td> <td>    0.013</td> <td>    1.048</td> <td> 0.294</td> <td>   -0.012</td> <td>    0.040</td>\n",
       "</tr>\n",
       "<tr>\n",
       "  <th>size_cat_change_qrt_lag_3</th>    <td>   -0.0108</td> <td>    0.013</td> <td>   -0.850</td> <td> 0.395</td> <td>   -0.036</td> <td>    0.014</td>\n",
       "</tr>\n",
       "<tr>\n",
       "  <th>size_cat_change_up_qrt_lag_3</th> <td>   -0.0060</td> <td>    0.014</td> <td>   -0.446</td> <td> 0.656</td> <td>   -0.032</td> <td>    0.020</td>\n",
       "</tr>\n",
       "<tr>\n",
       "  <th>size_cat_change_qrt_lag_4</th>    <td>   -0.0156</td> <td>    0.012</td> <td>   -1.273</td> <td> 0.203</td> <td>   -0.040</td> <td>    0.008</td>\n",
       "</tr>\n",
       "<tr>\n",
       "  <th>size_cat_change_up_qrt_lag_4</th> <td>   -0.0107</td> <td>    0.013</td> <td>   -0.844</td> <td> 0.399</td> <td>   -0.036</td> <td>    0.014</td>\n",
       "</tr>\n",
       "<tr>\n",
       "  <th>size_cat_change_qrt</th>          <td>    0.0005</td> <td>    0.013</td> <td>    0.040</td> <td> 0.968</td> <td>   -0.024</td> <td>    0.025</td>\n",
       "</tr>\n",
       "<tr>\n",
       "  <th>size_cat_change_up_qrt</th>       <td>   -0.0006</td> <td>    0.014</td> <td>   -0.044</td> <td> 0.965</td> <td>   -0.028</td> <td>    0.027</td>\n",
       "</tr>\n",
       "<tr>\n",
       "  <th>size_cat_change_total</th>        <td>    0.0263</td> <td>    0.007</td> <td>    3.605</td> <td> 0.000</td> <td>    0.012</td> <td>    0.041</td>\n",
       "</tr>\n",
       "<tr>\n",
       "  <th>turnover</th>                     <td>   -0.0044</td> <td>    0.008</td> <td>   -0.540</td> <td> 0.589</td> <td>   -0.020</td> <td>    0.012</td>\n",
       "</tr>\n",
       "<tr>\n",
       "  <th>hhi</th>                          <td>    0.0136</td> <td>    0.032</td> <td>    0.424</td> <td> 0.671</td> <td>   -0.049</td> <td>    0.076</td>\n",
       "</tr>\n",
       "<tr>\n",
       "  <th>hhi_eq_1</th>                     <td>    0.0143</td> <td>    0.064</td> <td>    0.222</td> <td> 0.824</td> <td>   -0.112</td> <td>    0.140</td>\n",
       "</tr>\n",
       "<tr>\n",
       "  <th>tvr_eq_1</th>                     <td>-2.616e-14</td> <td> 3.84e-14</td> <td>   -0.682</td> <td> 0.495</td> <td>-1.01e-13</td> <td>  4.9e-14</td>\n",
       "</tr>\n",
       "<tr>\n",
       "  <th>high_hhi</th>                     <td>   -0.0002</td> <td>    0.012</td> <td>   -0.020</td> <td> 0.984</td> <td>   -0.023</td> <td>    0.023</td>\n",
       "</tr>\n",
       "<tr>\n",
       "  <th>high_turnover</th>                <td>    0.0068</td> <td>    0.005</td> <td>    1.290</td> <td> 0.197</td> <td>   -0.004</td> <td>    0.017</td>\n",
       "</tr>\n",
       "<tr>\n",
       "  <th>extreme_turnover</th>             <td>    0.0380</td> <td>    0.017</td> <td>    2.265</td> <td> 0.024</td> <td>    0.005</td> <td>    0.071</td>\n",
       "</tr>\n",
       "<tr>\n",
       "  <th>cluster_hhi</th>                  <td>   -0.0009</td> <td>    0.005</td> <td>   -0.167</td> <td> 0.867</td> <td>   -0.011</td> <td>    0.009</td>\n",
       "</tr>\n",
       "<tr>\n",
       "  <th>cluster_turnover</th>             <td>    0.0044</td> <td>    0.005</td> <td>    0.850</td> <td> 0.395</td> <td>   -0.006</td> <td>    0.015</td>\n",
       "</tr>\n",
       "<tr>\n",
       "  <th>hhi_rev</th>                      <td>-1.099e-05</td> <td> 1.25e-05</td> <td>   -0.878</td> <td> 0.380</td> <td>-3.55e-05</td> <td> 1.36e-05</td>\n",
       "</tr>\n",
       "<tr>\n",
       "  <th>pos_count</th>                    <td>-1.152e-08</td> <td> 4.04e-06</td> <td>   -0.003</td> <td> 0.998</td> <td>-7.92e-06</td> <td>  7.9e-06</td>\n",
       "</tr>\n",
       "<tr>\n",
       "  <th>extreme_pos_count</th>            <td>   -0.0070</td> <td>    0.008</td> <td>   -0.874</td> <td> 0.382</td> <td>   -0.023</td> <td>    0.009</td>\n",
       "</tr>\n",
       "<tr>\n",
       "  <th>high_pos_count</th>               <td>   -0.0005</td> <td>    0.005</td> <td>   -0.100</td> <td> 0.920</td> <td>   -0.010</td> <td>    0.009</td>\n",
       "</tr>\n",
       "<tr>\n",
       "  <th>med_pos_count</th>                <td>    0.0017</td> <td>    0.004</td> <td>    0.417</td> <td> 0.677</td> <td>   -0.006</td> <td>    0.010</td>\n",
       "</tr>\n",
       "<tr>\n",
       "  <th>up_low_pos_count</th>             <td>    0.0026</td> <td>    0.005</td> <td>    0.524</td> <td> 0.600</td> <td>   -0.007</td> <td>    0.012</td>\n",
       "</tr>\n",
       "<tr>\n",
       "  <th>cluster_size_pos</th>             <td>   -0.0017</td> <td>    0.005</td> <td>   -0.325</td> <td> 0.745</td> <td>   -0.012</td> <td>    0.008</td>\n",
       "</tr>\n",
       "<tr>\n",
       "  <th>cluster_pos_hhi</th>              <td>   -0.0012</td> <td>    0.004</td> <td>   -0.314</td> <td> 0.754</td> <td>   -0.009</td> <td>    0.007</td>\n",
       "</tr>\n",
       "<tr>\n",
       "  <th>mean_net_shares</th>              <td>   -0.0071</td> <td> 3.26e-05</td> <td> -219.445</td> <td> 0.000</td> <td>   -0.007</td> <td>   -0.007</td>\n",
       "</tr>\n",
       "<tr>\n",
       "  <th>mean_net_shares_by_cik</th>       <td>    0.0017</td> <td> 2.36e-05</td> <td>   71.272</td> <td> 0.000</td> <td>    0.002</td> <td>    0.002</td>\n",
       "</tr>\n",
       "<tr>\n",
       "  <th>mean_net_shares_by_value</th>     <td>    0.0064</td> <td> 2.46e-05</td> <td>  260.793</td> <td> 0.000</td> <td>    0.006</td> <td>    0.006</td>\n",
       "</tr>\n",
       "</table>\n",
       "<table class=\"simpletable\">\n",
       "<tr>\n",
       "  <th>Omnibus:</th>       <td>8554087.559</td> <th>  Durbin-Watson:     </th>       <td>   2.001</td>       \n",
       "</tr>\n",
       "<tr>\n",
       "  <th>Prob(Omnibus):</th>   <td> 0.000</td>    <th>  Jarque-Bera (JB):  </th> <td>13021142629832792.000</td>\n",
       "</tr>\n",
       "<tr>\n",
       "  <th>Skew:</th>            <td>611.315</td>   <th>  Prob(JB):          </th>       <td>    0.00</td>       \n",
       "</tr>\n",
       "<tr>\n",
       "  <th>Kurtosis:</th>      <td>490598.881</td>  <th>  Cond. No.          </th>       <td>1.39e+16</td>       \n",
       "</tr>\n",
       "</table><br/><br/>Warnings:<br/>[1] Standard Errors assume that the covariance matrix of the errors is correctly specified.<br/>[2] The smallest eigenvalue is 1.12e-20. This might indicate that there are<br/>strong multicollinearity problems or that the design matrix is singular."
      ],
      "text/plain": [
       "<class 'statsmodels.iolib.summary.Summary'>\n",
       "\"\"\"\n",
       "                            OLS Regression Results                            \n",
       "==============================================================================\n",
       "Dep. Variable:             net_shares   R-squared:                       0.086\n",
       "Model:                            OLS   Adj. R-squared:                  0.086\n",
       "Method:                 Least Squares   F-statistic:                     2984.\n",
       "Date:                Sun, 06 Dec 2020   Prob (F-statistic):               0.00\n",
       "Time:                        01:06:41   Log-Likelihood:            -1.7839e+06\n",
       "No. Observations:             1298404   AIC:                         3.568e+06\n",
       "Df Residuals:                 1298362   BIC:                         3.568e+06\n",
       "Df Model:                          41                                         \n",
       "Covariance Type:            nonrobust                                         \n",
       "================================================================================================\n",
       "                                   coef    std err          t      P>|t|      [0.025      0.975]\n",
       "------------------------------------------------------------------------------------------------\n",
       "const                           -0.0036      0.016     -0.226      0.821      -0.035       0.028\n",
       "log_value_fund                7.903e-05      0.001      0.082      0.935      -0.002       0.002\n",
       "high_value                      -0.0061      0.005     -1.134      0.257      -0.017       0.004\n",
       "med_value                        0.0012      0.004      0.303      0.762      -0.007       0.009\n",
       "ticker_share_lag_1              -0.2857      0.086     -3.341      0.001      -0.453      -0.118\n",
       "ticker_share_lag_2               0.0936      0.105      0.891      0.373      -0.112       0.299\n",
       "ticker_share_lag_3               0.0540      0.106      0.508      0.611      -0.154       0.262\n",
       "ticker_share_lag_4               0.1375      0.084      1.630      0.103      -0.028       0.303\n",
       "net_shares_lag_1             -5.607e-06    1.7e-06     -3.295      0.001   -8.94e-06   -2.27e-06\n",
       "net_shares_lag_2             -8.552e-06   3.68e-06     -2.324      0.020   -1.58e-05   -1.34e-06\n",
       "net_shares_lag_3              7.281e-06   2.45e-06      2.970      0.003    2.48e-06    1.21e-05\n",
       "net_shares_lag_4              1.789e-05   2.44e-06      7.324      0.000    1.31e-05    2.27e-05\n",
       "size_cat_change_qrt_lag_1       -0.0176      0.013     -1.365      0.172      -0.043       0.008\n",
       "size_cat_change_up_qrt_lag_1    -0.0101      0.014     -0.741      0.459      -0.037       0.017\n",
       "size_cat_change_qrt_lag_2       -0.0062      0.012     -0.507      0.612      -0.030       0.018\n",
       "size_cat_change_up_qrt_lag_2     0.0139      0.013      1.048      0.294      -0.012       0.040\n",
       "size_cat_change_qrt_lag_3       -0.0108      0.013     -0.850      0.395      -0.036       0.014\n",
       "size_cat_change_up_qrt_lag_3    -0.0060      0.014     -0.446      0.656      -0.032       0.020\n",
       "size_cat_change_qrt_lag_4       -0.0156      0.012     -1.273      0.203      -0.040       0.008\n",
       "size_cat_change_up_qrt_lag_4    -0.0107      0.013     -0.844      0.399      -0.036       0.014\n",
       "size_cat_change_qrt              0.0005      0.013      0.040      0.968      -0.024       0.025\n",
       "size_cat_change_up_qrt          -0.0006      0.014     -0.044      0.965      -0.028       0.027\n",
       "size_cat_change_total            0.0263      0.007      3.605      0.000       0.012       0.041\n",
       "turnover                        -0.0044      0.008     -0.540      0.589      -0.020       0.012\n",
       "hhi                              0.0136      0.032      0.424      0.671      -0.049       0.076\n",
       "hhi_eq_1                         0.0143      0.064      0.222      0.824      -0.112       0.140\n",
       "tvr_eq_1                     -2.616e-14   3.84e-14     -0.682      0.495   -1.01e-13     4.9e-14\n",
       "high_hhi                        -0.0002      0.012     -0.020      0.984      -0.023       0.023\n",
       "high_turnover                    0.0068      0.005      1.290      0.197      -0.004       0.017\n",
       "extreme_turnover                 0.0380      0.017      2.265      0.024       0.005       0.071\n",
       "cluster_hhi                     -0.0009      0.005     -0.167      0.867      -0.011       0.009\n",
       "cluster_turnover                 0.0044      0.005      0.850      0.395      -0.006       0.015\n",
       "hhi_rev                      -1.099e-05   1.25e-05     -0.878      0.380   -3.55e-05    1.36e-05\n",
       "pos_count                    -1.152e-08   4.04e-06     -0.003      0.998   -7.92e-06     7.9e-06\n",
       "extreme_pos_count               -0.0070      0.008     -0.874      0.382      -0.023       0.009\n",
       "high_pos_count                  -0.0005      0.005     -0.100      0.920      -0.010       0.009\n",
       "med_pos_count                    0.0017      0.004      0.417      0.677      -0.006       0.010\n",
       "up_low_pos_count                 0.0026      0.005      0.524      0.600      -0.007       0.012\n",
       "cluster_size_pos                -0.0017      0.005     -0.325      0.745      -0.012       0.008\n",
       "cluster_pos_hhi                 -0.0012      0.004     -0.314      0.754      -0.009       0.007\n",
       "mean_net_shares                 -0.0071   3.26e-05   -219.445      0.000      -0.007      -0.007\n",
       "mean_net_shares_by_cik           0.0017   2.36e-05     71.272      0.000       0.002       0.002\n",
       "mean_net_shares_by_value         0.0064   2.46e-05    260.793      0.000       0.006       0.006\n",
       "=================================================================================\n",
       "Omnibus:                  8554087.559   Durbin-Watson:                      2.001\n",
       "Prob(Omnibus):                  0.000   Jarque-Bera (JB):   13021142629832792.000\n",
       "Skew:                         611.315   Prob(JB):                            0.00\n",
       "Kurtosis:                  490598.881   Cond. No.                        1.39e+16\n",
       "=================================================================================\n",
       "\n",
       "Warnings:\n",
       "[1] Standard Errors assume that the covariance matrix of the errors is correctly specified.\n",
       "[2] The smallest eigenvalue is 1.12e-20. This might indicate that there are\n",
       "strong multicollinearity problems or that the design matrix is singular.\n",
       "\"\"\""
      ]
     },
     "execution_count": 39,
     "metadata": {},
     "output_type": "execute_result"
    }
   ],
   "source": [
    "model_2 = sm.OLS(y, X).fit()\n",
    "model_2.summary()"
   ]
  },
  {
   "cell_type": "markdown",
   "metadata": {},
   "source": [
    "Константа теперь отрицательная, масштаб коэффициентов уменьшился, знаки не поменялись, значимости тоже."
   ]
  },
  {
   "cell_type": "code",
   "execution_count": 40,
   "metadata": {},
   "outputs": [],
   "source": [
    "# Искомая переменная по второй модели\n",
    "delta_2 = y - model_2.predict(X)"
   ]
  },
  {
   "cell_type": "markdown",
   "metadata": {},
   "source": [
    "Если мы посмотрим на экстремальные значения остатков (наблюдений), то заметим, что их стало поменьше, и их экстремальность уменьшилась. Это, несомненно, лучше."
   ]
  },
  {
   "cell_type": "code",
   "execution_count": 49,
   "metadata": {
    "scrolled": true
   },
   "outputs": [
    {
     "data": {
      "image/png": "[encoded data removed]",
      "text/plain": [
       "<Figure size 432x288 with 1 Axes>"
      ]
     },
     "metadata": {
      "needs_background": "light"
     },
     "output_type": "display_data"
    }
   ],
   "source": [
    "pl.hist(delta_2, bins=50, range=(0.1, 10));\n",
    "pl.title('Excessive Delta Distribution');"
   ]
  },
  {
   "cell_type": "markdown",
   "metadata": {},
   "source": [
    "Теперь посмотрю, станет ли лучше в регрессии от факторизированных значений."
   ]
  },
  {
   "cell_type": "markdown",
   "metadata": {},
   "source": [
    "### Модель 4"
   ]
  },
  {
   "cell_type": "code",
   "execution_count": 55,
   "metadata": {},
   "outputs": [],
   "source": [
    "y = lag4['net_shares']\n",
    "y = (y - y.mean()) / y.std()\n",
    "\n",
    "X = lag4[['log_value_fund',\n",
    "       'high_value', 'med_value',\n",
    "       'ticker_share_lag_1', 'ticker_share_lag_2', 'ticker_share_lag_3', 'ticker_share_lag_4',\n",
    "       'net_shares_lag_1', 'net_shares_lag_2', 'net_shares_lag_3', 'net_shares_lag_4',\n",
    "       'size_cat_change_qrt_lag_1', \n",
    "       'size_cat_change_up_qrt_lag_1', 'size_cat_change_qrt_lag_2',\n",
    "       'size_cat_change_up_qrt_lag_2', 'size_cat_change_qrt_lag_3',\n",
    "       'size_cat_change_up_qrt_lag_3', 'size_cat_change_qrt_lag_4',\n",
    "       'size_cat_change_up_qrt_lag_4', 'size_cat_change_qrt',\n",
    "       'size_cat_change_up_qrt', 'size_cat_change_total',\n",
    "       'turnover_high', 'turnover_med', 'turnover_low',\n",
    "       'hhi_high', 'hhi_med', 'hhi_low', 'hhi_rev_high', 'hhi_rev_med',\n",
    "       'hhi_rev_low', 'hhi_eq_1', 'tvr_eq_1', 'high_hhi',\n",
    "       'high_turnover', 'extreme_turnover', \n",
    "       'cluster_hhi', 'cluster_turnover', 'pos_count',\n",
    "       'extreme_pos_count', 'high_pos_count', 'med_pos_count', 'up_low_pos_count',\n",
    "       'cluster_size_pos', 'cluster_pos_hhi', 'mean_net_shares', 'mean_net_shares_by_cik',\n",
    "       'mean_net_shares_by_value']].astype('float64')\n",
    "X = sm.add_constant(X)"
   ]
  },
  {
   "cell_type": "code",
   "execution_count": 56,
   "metadata": {},
   "outputs": [
    {
     "data": {
      "text/html": [
       "<table class=\"simpletable\">\n",
       "<caption>OLS Regression Results</caption>\n",
       "<tr>\n",
       "  <th>Dep. Variable:</th>       <td>net_shares</td>    <th>  R-squared:         </th>  <td>   0.086</td>  \n",
       "</tr>\n",
       "<tr>\n",
       "  <th>Model:</th>                   <td>OLS</td>       <th>  Adj. R-squared:    </th>  <td>   0.086</td>  \n",
       "</tr>\n",
       "<tr>\n",
       "  <th>Method:</th>             <td>Least Squares</td>  <th>  F-statistic:       </th>  <td>   2603.</td>  \n",
       "</tr>\n",
       "<tr>\n",
       "  <th>Date:</th>             <td>Sun, 06 Dec 2020</td> <th>  Prob (F-statistic):</th>   <td>  0.00</td>   \n",
       "</tr>\n",
       "<tr>\n",
       "  <th>Time:</th>                 <td>01:11:28</td>     <th>  Log-Likelihood:    </th> <td>-1.7839e+06</td>\n",
       "</tr>\n",
       "<tr>\n",
       "  <th>No. Observations:</th>      <td>1298404</td>     <th>  AIC:               </th>  <td>3.568e+06</td> \n",
       "</tr>\n",
       "<tr>\n",
       "  <th>Df Residuals:</th>          <td>1298356</td>     <th>  BIC:               </th>  <td>3.568e+06</td> \n",
       "</tr>\n",
       "<tr>\n",
       "  <th>Df Model:</th>              <td>    47</td>      <th>                     </th>      <td> </td>     \n",
       "</tr>\n",
       "<tr>\n",
       "  <th>Covariance Type:</th>      <td>nonrobust</td>    <th>                     </th>      <td> </td>     \n",
       "</tr>\n",
       "</table>\n",
       "<table class=\"simpletable\">\n",
       "<tr>\n",
       "                <td></td>                  <th>coef</th>     <th>std err</th>      <th>t</th>      <th>P>|t|</th>  <th>[0.025</th>    <th>0.975]</th>  \n",
       "</tr>\n",
       "<tr>\n",
       "  <th>const</th>                        <td>   -0.0034</td> <td>    0.017</td> <td>   -0.196</td> <td> 0.845</td> <td>   -0.037</td> <td>    0.031</td>\n",
       "</tr>\n",
       "<tr>\n",
       "  <th>log_value_fund</th>               <td> 2.306e-05</td> <td>    0.001</td> <td>    0.024</td> <td> 0.981</td> <td>   -0.002</td> <td>    0.002</td>\n",
       "</tr>\n",
       "<tr>\n",
       "  <th>high_value</th>                   <td>   -0.0040</td> <td>    0.009</td> <td>   -0.449</td> <td> 0.654</td> <td>   -0.021</td> <td>    0.013</td>\n",
       "</tr>\n",
       "<tr>\n",
       "  <th>med_value</th>                    <td>   -0.0025</td> <td>    0.008</td> <td>   -0.294</td> <td> 0.769</td> <td>   -0.019</td> <td>    0.014</td>\n",
       "</tr>\n",
       "<tr>\n",
       "  <th>ticker_share_lag_1</th>           <td>   -0.2878</td> <td>    0.086</td> <td>   -3.359</td> <td> 0.001</td> <td>   -0.456</td> <td>   -0.120</td>\n",
       "</tr>\n",
       "<tr>\n",
       "  <th>ticker_share_lag_2</th>           <td>    0.0931</td> <td>    0.105</td> <td>    0.887</td> <td> 0.375</td> <td>   -0.113</td> <td>    0.299</td>\n",
       "</tr>\n",
       "<tr>\n",
       "  <th>ticker_share_lag_3</th>           <td>    0.0539</td> <td>    0.106</td> <td>    0.508</td> <td> 0.612</td> <td>   -0.154</td> <td>    0.262</td>\n",
       "</tr>\n",
       "<tr>\n",
       "  <th>ticker_share_lag_4</th>           <td>    0.1363</td> <td>    0.084</td> <td>    1.616</td> <td> 0.106</td> <td>   -0.029</td> <td>    0.302</td>\n",
       "</tr>\n",
       "<tr>\n",
       "  <th>net_shares_lag_1</th>             <td>-5.604e-06</td> <td>  1.7e-06</td> <td>   -3.293</td> <td> 0.001</td> <td>-8.94e-06</td> <td>-2.27e-06</td>\n",
       "</tr>\n",
       "<tr>\n",
       "  <th>net_shares_lag_2</th>             <td>-8.559e-06</td> <td> 3.68e-06</td> <td>   -2.326</td> <td> 0.020</td> <td>-1.58e-05</td> <td>-1.35e-06</td>\n",
       "</tr>\n",
       "<tr>\n",
       "  <th>net_shares_lag_3</th>             <td> 7.265e-06</td> <td> 2.45e-06</td> <td>    2.963</td> <td> 0.003</td> <td> 2.46e-06</td> <td> 1.21e-05</td>\n",
       "</tr>\n",
       "<tr>\n",
       "  <th>net_shares_lag_4</th>             <td> 1.788e-05</td> <td> 2.44e-06</td> <td>    7.319</td> <td> 0.000</td> <td> 1.31e-05</td> <td> 2.27e-05</td>\n",
       "</tr>\n",
       "<tr>\n",
       "  <th>size_cat_change_qrt_lag_1</th>    <td>   -0.0186</td> <td>    0.013</td> <td>   -1.441</td> <td> 0.150</td> <td>   -0.044</td> <td>    0.007</td>\n",
       "</tr>\n",
       "<tr>\n",
       "  <th>size_cat_change_up_qrt_lag_1</th> <td>   -0.0090</td> <td>    0.014</td> <td>   -0.655</td> <td> 0.512</td> <td>   -0.036</td> <td>    0.018</td>\n",
       "</tr>\n",
       "<tr>\n",
       "  <th>size_cat_change_qrt_lag_2</th>    <td>   -0.0073</td> <td>    0.012</td> <td>   -0.592</td> <td> 0.554</td> <td>   -0.032</td> <td>    0.017</td>\n",
       "</tr>\n",
       "<tr>\n",
       "  <th>size_cat_change_up_qrt_lag_2</th> <td>    0.0151</td> <td>    0.013</td> <td>    1.130</td> <td> 0.258</td> <td>   -0.011</td> <td>    0.041</td>\n",
       "</tr>\n",
       "<tr>\n",
       "  <th>size_cat_change_qrt_lag_3</th>    <td>   -0.0113</td> <td>    0.013</td> <td>   -0.892</td> <td> 0.372</td> <td>   -0.036</td> <td>    0.014</td>\n",
       "</tr>\n",
       "<tr>\n",
       "  <th>size_cat_change_up_qrt_lag_3</th> <td>   -0.0051</td> <td>    0.014</td> <td>   -0.378</td> <td> 0.706</td> <td>   -0.032</td> <td>    0.021</td>\n",
       "</tr>\n",
       "<tr>\n",
       "  <th>size_cat_change_qrt_lag_4</th>    <td>   -0.0167</td> <td>    0.012</td> <td>   -1.353</td> <td> 0.176</td> <td>   -0.041</td> <td>    0.007</td>\n",
       "</tr>\n",
       "<tr>\n",
       "  <th>size_cat_change_up_qrt_lag_4</th> <td>   -0.0093</td> <td>    0.013</td> <td>   -0.729</td> <td> 0.466</td> <td>   -0.034</td> <td>    0.016</td>\n",
       "</tr>\n",
       "<tr>\n",
       "  <th>size_cat_change_qrt</th>          <td>    0.0013</td> <td>    0.013</td> <td>    0.102</td> <td> 0.919</td> <td>   -0.024</td> <td>    0.027</td>\n",
       "</tr>\n",
       "<tr>\n",
       "  <th>size_cat_change_up_qrt</th>       <td>   -0.0035</td> <td>    0.015</td> <td>   -0.243</td> <td> 0.808</td> <td>   -0.032</td> <td>    0.025</td>\n",
       "</tr>\n",
       "<tr>\n",
       "  <th>size_cat_change_total</th>        <td>    0.0260</td> <td>    0.007</td> <td>    3.554</td> <td> 0.000</td> <td>    0.012</td> <td>    0.040</td>\n",
       "</tr>\n",
       "<tr>\n",
       "  <th>turnover_high</th>                <td>   -0.0054</td> <td>    0.008</td> <td>   -0.635</td> <td> 0.525</td> <td>   -0.022</td> <td>    0.011</td>\n",
       "</tr>\n",
       "<tr>\n",
       "  <th>turnover_med</th>                 <td>    0.0069</td> <td>    0.014</td> <td>    0.509</td> <td> 0.611</td> <td>   -0.020</td> <td>    0.033</td>\n",
       "</tr>\n",
       "<tr>\n",
       "  <th>turnover_low</th>                 <td>   -0.0083</td> <td>    0.014</td> <td>   -0.580</td> <td> 0.562</td> <td>   -0.036</td> <td>    0.020</td>\n",
       "</tr>\n",
       "<tr>\n",
       "  <th>hhi_high</th>                     <td>   -0.0067</td> <td>    0.036</td> <td>   -0.188</td> <td> 0.851</td> <td>   -0.076</td> <td>    0.063</td>\n",
       "</tr>\n",
       "<tr>\n",
       "  <th>hhi_med</th>                      <td>    0.0700</td> <td>    0.045</td> <td>    1.565</td> <td> 0.118</td> <td>   -0.018</td> <td>    0.158</td>\n",
       "</tr>\n",
       "<tr>\n",
       "  <th>hhi_low</th>                      <td>    0.0183</td> <td>    0.048</td> <td>    0.379</td> <td> 0.705</td> <td>   -0.076</td> <td>    0.113</td>\n",
       "</tr>\n",
       "<tr>\n",
       "  <th>hhi_rev_high</th>                 <td>-1.216e-05</td> <td> 1.33e-05</td> <td>   -0.915</td> <td> 0.360</td> <td>-3.82e-05</td> <td> 1.39e-05</td>\n",
       "</tr>\n",
       "<tr>\n",
       "  <th>hhi_rev_med</th>                  <td>-1.025e-05</td> <td> 3.26e-05</td> <td>   -0.314</td> <td> 0.753</td> <td>-7.42e-05</td> <td> 5.37e-05</td>\n",
       "</tr>\n",
       "<tr>\n",
       "  <th>hhi_rev_low</th>                  <td> 3.819e-05</td> <td>    0.000</td> <td>    0.280</td> <td> 0.779</td> <td>   -0.000</td> <td>    0.000</td>\n",
       "</tr>\n",
       "<tr>\n",
       "  <th>hhi_eq_1</th>                     <td>    0.0125</td> <td>    0.067</td> <td>    0.186</td> <td> 0.852</td> <td>   -0.119</td> <td>    0.143</td>\n",
       "</tr>\n",
       "<tr>\n",
       "  <th>tvr_eq_1</th>                     <td> 2.104e-14</td> <td> 3.46e-14</td> <td>    0.609</td> <td> 0.543</td> <td>-4.67e-14</td> <td> 8.88e-14</td>\n",
       "</tr>\n",
       "<tr>\n",
       "  <th>high_hhi</th>                     <td>   -0.0013</td> <td>    0.012</td> <td>   -0.108</td> <td> 0.914</td> <td>   -0.025</td> <td>    0.022</td>\n",
       "</tr>\n",
       "<tr>\n",
       "  <th>high_turnover</th>                <td>    0.0069</td> <td>    0.005</td> <td>    1.323</td> <td> 0.186</td> <td>   -0.003</td> <td>    0.017</td>\n",
       "</tr>\n",
       "<tr>\n",
       "  <th>extreme_turnover</th>             <td>    0.0357</td> <td>    0.017</td> <td>    2.063</td> <td> 0.039</td> <td>    0.002</td> <td>    0.070</td>\n",
       "</tr>\n",
       "<tr>\n",
       "  <th>cluster_hhi</th>                  <td> 3.931e-07</td> <td>    0.005</td> <td> 7.53e-05</td> <td> 1.000</td> <td>   -0.010</td> <td>    0.010</td>\n",
       "</tr>\n",
       "<tr>\n",
       "  <th>cluster_turnover</th>             <td>    0.0036</td> <td>    0.005</td> <td>    0.695</td> <td> 0.487</td> <td>   -0.007</td> <td>    0.014</td>\n",
       "</tr>\n",
       "<tr>\n",
       "  <th>pos_count</th>                    <td>-2.056e-07</td> <td> 4.06e-06</td> <td>   -0.051</td> <td> 0.960</td> <td>-8.16e-06</td> <td> 7.75e-06</td>\n",
       "</tr>\n",
       "<tr>\n",
       "  <th>extreme_pos_count</th>            <td>   -0.0067</td> <td>    0.008</td> <td>   -0.831</td> <td> 0.406</td> <td>   -0.022</td> <td>    0.009</td>\n",
       "</tr>\n",
       "<tr>\n",
       "  <th>high_pos_count</th>               <td>   -0.0004</td> <td>    0.005</td> <td>   -0.072</td> <td> 0.942</td> <td>   -0.010</td> <td>    0.009</td>\n",
       "</tr>\n",
       "<tr>\n",
       "  <th>med_pos_count</th>                <td>    0.0017</td> <td>    0.004</td> <td>    0.418</td> <td> 0.676</td> <td>   -0.006</td> <td>    0.010</td>\n",
       "</tr>\n",
       "<tr>\n",
       "  <th>up_low_pos_count</th>             <td>    0.0023</td> <td>    0.005</td> <td>    0.467</td> <td> 0.641</td> <td>   -0.007</td> <td>    0.012</td>\n",
       "</tr>\n",
       "<tr>\n",
       "  <th>cluster_size_pos</th>             <td>   -0.0017</td> <td>    0.005</td> <td>   -0.329</td> <td> 0.742</td> <td>   -0.012</td> <td>    0.008</td>\n",
       "</tr>\n",
       "<tr>\n",
       "  <th>cluster_pos_hhi</th>              <td>   -0.0009</td> <td>    0.004</td> <td>   -0.230</td> <td> 0.818</td> <td>   -0.009</td> <td>    0.007</td>\n",
       "</tr>\n",
       "<tr>\n",
       "  <th>mean_net_shares</th>              <td>   -0.0071</td> <td> 3.26e-05</td> <td> -219.456</td> <td> 0.000</td> <td>   -0.007</td> <td>   -0.007</td>\n",
       "</tr>\n",
       "<tr>\n",
       "  <th>mean_net_shares_by_cik</th>       <td>    0.0017</td> <td> 2.36e-05</td> <td>   71.260</td> <td> 0.000</td> <td>    0.002</td> <td>    0.002</td>\n",
       "</tr>\n",
       "<tr>\n",
       "  <th>mean_net_shares_by_value</th>     <td>    0.0064</td> <td> 2.46e-05</td> <td>  260.801</td> <td> 0.000</td> <td>    0.006</td> <td>    0.006</td>\n",
       "</tr>\n",
       "</table>\n",
       "<table class=\"simpletable\">\n",
       "<tr>\n",
       "  <th>Omnibus:</th>       <td>8554068.327</td> <th>  Durbin-Watson:     </th>       <td>   2.001</td>       \n",
       "</tr>\n",
       "<tr>\n",
       "  <th>Prob(Omnibus):</th>   <td> 0.000</td>    <th>  Jarque-Bera (JB):  </th> <td>13020817618032668.000</td>\n",
       "</tr>\n",
       "<tr>\n",
       "  <th>Skew:</th>            <td>611.309</td>   <th>  Prob(JB):          </th>       <td>    0.00</td>       \n",
       "</tr>\n",
       "<tr>\n",
       "  <th>Kurtosis:</th>      <td>490592.759</td>  <th>  Cond. No.          </th>       <td>1.39e+16</td>       \n",
       "</tr>\n",
       "</table><br/><br/>Warnings:<br/>[1] Standard Errors assume that the covariance matrix of the errors is correctly specified.<br/>[2] The smallest eigenvalue is 1.11e-20. This might indicate that there are<br/>strong multicollinearity problems or that the design matrix is singular."
      ],
      "text/plain": [
       "<class 'statsmodels.iolib.summary.Summary'>\n",
       "\"\"\"\n",
       "                            OLS Regression Results                            \n",
       "==============================================================================\n",
       "Dep. Variable:             net_shares   R-squared:                       0.086\n",
       "Model:                            OLS   Adj. R-squared:                  0.086\n",
       "Method:                 Least Squares   F-statistic:                     2603.\n",
       "Date:                Sun, 06 Dec 2020   Prob (F-statistic):               0.00\n",
       "Time:                        01:11:28   Log-Likelihood:            -1.7839e+06\n",
       "No. Observations:             1298404   AIC:                         3.568e+06\n",
       "Df Residuals:                 1298356   BIC:                         3.568e+06\n",
       "Df Model:                          47                                         \n",
       "Covariance Type:            nonrobust                                         \n",
       "================================================================================================\n",
       "                                   coef    std err          t      P>|t|      [0.025      0.975]\n",
       "------------------------------------------------------------------------------------------------\n",
       "const                           -0.0034      0.017     -0.196      0.845      -0.037       0.031\n",
       "log_value_fund                2.306e-05      0.001      0.024      0.981      -0.002       0.002\n",
       "high_value                      -0.0040      0.009     -0.449      0.654      -0.021       0.013\n",
       "med_value                       -0.0025      0.008     -0.294      0.769      -0.019       0.014\n",
       "ticker_share_lag_1              -0.2878      0.086     -3.359      0.001      -0.456      -0.120\n",
       "ticker_share_lag_2               0.0931      0.105      0.887      0.375      -0.113       0.299\n",
       "ticker_share_lag_3               0.0539      0.106      0.508      0.612      -0.154       0.262\n",
       "ticker_share_lag_4               0.1363      0.084      1.616      0.106      -0.029       0.302\n",
       "net_shares_lag_1             -5.604e-06    1.7e-06     -3.293      0.001   -8.94e-06   -2.27e-06\n",
       "net_shares_lag_2             -8.559e-06   3.68e-06     -2.326      0.020   -1.58e-05   -1.35e-06\n",
       "net_shares_lag_3              7.265e-06   2.45e-06      2.963      0.003    2.46e-06    1.21e-05\n",
       "net_shares_lag_4              1.788e-05   2.44e-06      7.319      0.000    1.31e-05    2.27e-05\n",
       "size_cat_change_qrt_lag_1       -0.0186      0.013     -1.441      0.150      -0.044       0.007\n",
       "size_cat_change_up_qrt_lag_1    -0.0090      0.014     -0.655      0.512      -0.036       0.018\n",
       "size_cat_change_qrt_lag_2       -0.0073      0.012     -0.592      0.554      -0.032       0.017\n",
       "size_cat_change_up_qrt_lag_2     0.0151      0.013      1.130      0.258      -0.011       0.041\n",
       "size_cat_change_qrt_lag_3       -0.0113      0.013     -0.892      0.372      -0.036       0.014\n",
       "size_cat_change_up_qrt_lag_3    -0.0051      0.014     -0.378      0.706      -0.032       0.021\n",
       "size_cat_change_qrt_lag_4       -0.0167      0.012     -1.353      0.176      -0.041       0.007\n",
       "size_cat_change_up_qrt_lag_4    -0.0093      0.013     -0.729      0.466      -0.034       0.016\n",
       "size_cat_change_qrt              0.0013      0.013      0.102      0.919      -0.024       0.027\n",
       "size_cat_change_up_qrt          -0.0035      0.015     -0.243      0.808      -0.032       0.025\n",
       "size_cat_change_total            0.0260      0.007      3.554      0.000       0.012       0.040\n",
       "turnover_high                   -0.0054      0.008     -0.635      0.525      -0.022       0.011\n",
       "turnover_med                     0.0069      0.014      0.509      0.611      -0.020       0.033\n",
       "turnover_low                    -0.0083      0.014     -0.580      0.562      -0.036       0.020\n",
       "hhi_high                        -0.0067      0.036     -0.188      0.851      -0.076       0.063\n",
       "hhi_med                          0.0700      0.045      1.565      0.118      -0.018       0.158\n",
       "hhi_low                          0.0183      0.048      0.379      0.705      -0.076       0.113\n",
       "hhi_rev_high                 -1.216e-05   1.33e-05     -0.915      0.360   -3.82e-05    1.39e-05\n",
       "hhi_rev_med                  -1.025e-05   3.26e-05     -0.314      0.753   -7.42e-05    5.37e-05\n",
       "hhi_rev_low                   3.819e-05      0.000      0.280      0.779      -0.000       0.000\n",
       "hhi_eq_1                         0.0125      0.067      0.186      0.852      -0.119       0.143\n",
       "tvr_eq_1                      2.104e-14   3.46e-14      0.609      0.543   -4.67e-14    8.88e-14\n",
       "high_hhi                        -0.0013      0.012     -0.108      0.914      -0.025       0.022\n",
       "high_turnover                    0.0069      0.005      1.323      0.186      -0.003       0.017\n",
       "extreme_turnover                 0.0357      0.017      2.063      0.039       0.002       0.070\n",
       "cluster_hhi                   3.931e-07      0.005   7.53e-05      1.000      -0.010       0.010\n",
       "cluster_turnover                 0.0036      0.005      0.695      0.487      -0.007       0.014\n",
       "pos_count                    -2.056e-07   4.06e-06     -0.051      0.960   -8.16e-06    7.75e-06\n",
       "extreme_pos_count               -0.0067      0.008     -0.831      0.406      -0.022       0.009\n",
       "high_pos_count                  -0.0004      0.005     -0.072      0.942      -0.010       0.009\n",
       "med_pos_count                    0.0017      0.004      0.418      0.676      -0.006       0.010\n",
       "up_low_pos_count                 0.0023      0.005      0.467      0.641      -0.007       0.012\n",
       "cluster_size_pos                -0.0017      0.005     -0.329      0.742      -0.012       0.008\n",
       "cluster_pos_hhi                 -0.0009      0.004     -0.230      0.818      -0.009       0.007\n",
       "mean_net_shares                 -0.0071   3.26e-05   -219.456      0.000      -0.007      -0.007\n",
       "mean_net_shares_by_cik           0.0017   2.36e-05     71.260      0.000       0.002       0.002\n",
       "mean_net_shares_by_value         0.0064   2.46e-05    260.801      0.000       0.006       0.006\n",
       "=================================================================================\n",
       "Omnibus:                  8554068.327   Durbin-Watson:                      2.001\n",
       "Prob(Omnibus):                  0.000   Jarque-Bera (JB):   13020817618032668.000\n",
       "Skew:                         611.309   Prob(JB):                            0.00\n",
       "Kurtosis:                  490592.759   Cond. No.                        1.39e+16\n",
       "=================================================================================\n",
       "\n",
       "Warnings:\n",
       "[1] Standard Errors assume that the covariance matrix of the errors is correctly specified.\n",
       "[2] The smallest eigenvalue is 1.11e-20. This might indicate that there are\n",
       "strong multicollinearity problems or that the design matrix is singular.\n",
       "\"\"\""
      ]
     },
     "execution_count": 56,
     "metadata": {},
     "output_type": "execute_result"
    }
   ],
   "source": [
    "model_4 = sm.OLS(y, X).fit()\n",
    "model_4.summary()"
   ]
  },
  {
   "cell_type": "markdown",
   "metadata": {},
   "source": [
    "Не стало. Никаких изменений в лучшую сторону."
   ]
  },
  {
   "cell_type": "markdown",
   "metadata": {},
   "source": [
    "Теперь построим модель с макроиндикаторами!"
   ]
  },
  {
   "cell_type": "markdown",
   "metadata": {},
   "source": [
    "### Модель 6"
   ]
  },
  {
   "cell_type": "code",
   "execution_count": 64,
   "metadata": {},
   "outputs": [],
   "source": [
    "y = lag4['net_shares']\n",
    "y = (y - y.mean()) / y.std()\n",
    "\n",
    "X = lag4[['log_value_fund',\n",
    "       'high_value', 'med_value',\n",
    "       'ticker_share_lag_1', 'ticker_share_lag_2', 'ticker_share_lag_3', 'ticker_share_lag_4',\n",
    "       'net_shares_lag_1', 'net_shares_lag_2', 'net_shares_lag_3', 'net_shares_lag_4',\n",
    "       'size_cat_change_qrt_lag_1', \n",
    "       'size_cat_change_up_qrt_lag_1', 'size_cat_change_qrt_lag_2',\n",
    "       'size_cat_change_up_qrt_lag_2', 'size_cat_change_qrt_lag_3',\n",
    "       'size_cat_change_up_qrt_lag_3', 'size_cat_change_qrt_lag_4',\n",
    "       'size_cat_change_up_qrt_lag_4', 'size_cat_change_qrt',\n",
    "       'size_cat_change_up_qrt', 'size_cat_change_total',\n",
    "       'turnover_high', 'turnover_med', 'turnover_low',\n",
    "       'hhi_high', 'hhi_med', 'hhi_low', 'hhi_rev_high', 'hhi_rev_med',\n",
    "       'hhi_rev_low', 'hhi_eq_1', 'tvr_eq_1', 'high_hhi',\n",
    "       'high_turnover', 'extreme_turnover', \n",
    "       'cluster_hhi', 'cluster_turnover', 'pos_count',\n",
    "       'extreme_pos_count', 'high_pos_count', 'med_pos_count', 'up_low_pos_count',\n",
    "       'cluster_size_pos', 'cluster_pos_hhi', 'mean_net_shares', 'mean_net_shares_by_cik',\n",
    "       'mean_net_shares_by_value', 'DGS10', 'DFF', 'UNRATE', 'CPIAUCSL', 'GDP']].astype('float64')\n",
    "X = sm.add_constant(X)"
   ]
  },
  {
   "cell_type": "code",
   "execution_count": 65,
   "metadata": {
    "scrolled": false
   },
   "outputs": [
    {
     "data": {
      "text/html": [
       "<table class=\"simpletable\">\n",
       "<caption>OLS Regression Results</caption>\n",
       "<tr>\n",
       "  <th>Dep. Variable:</th>       <td>net_shares</td>    <th>  R-squared:         </th>  <td>   0.086</td>  \n",
       "</tr>\n",
       "<tr>\n",
       "  <th>Model:</th>                   <td>OLS</td>       <th>  Adj. R-squared:    </th>  <td>   0.086</td>  \n",
       "</tr>\n",
       "<tr>\n",
       "  <th>Method:</th>             <td>Least Squares</td>  <th>  F-statistic:       </th>  <td>   2353.</td>  \n",
       "</tr>\n",
       "<tr>\n",
       "  <th>Date:</th>             <td>Sun, 06 Dec 2020</td> <th>  Prob (F-statistic):</th>   <td>  0.00</td>   \n",
       "</tr>\n",
       "<tr>\n",
       "  <th>Time:</th>                 <td>01:20:33</td>     <th>  Log-Likelihood:    </th> <td>-1.7839e+06</td>\n",
       "</tr>\n",
       "<tr>\n",
       "  <th>No. Observations:</th>      <td>1298404</td>     <th>  AIC:               </th>  <td>3.568e+06</td> \n",
       "</tr>\n",
       "<tr>\n",
       "  <th>Df Residuals:</th>          <td>1298351</td>     <th>  BIC:               </th>  <td>3.569e+06</td> \n",
       "</tr>\n",
       "<tr>\n",
       "  <th>Df Model:</th>              <td>    52</td>      <th>                     </th>      <td> </td>     \n",
       "</tr>\n",
       "<tr>\n",
       "  <th>Covariance Type:</th>      <td>nonrobust</td>    <th>                     </th>      <td> </td>     \n",
       "</tr>\n",
       "</table>\n",
       "<table class=\"simpletable\">\n",
       "<tr>\n",
       "                <td></td>                  <th>coef</th>     <th>std err</th>      <th>t</th>      <th>P>|t|</th>  <th>[0.025</th>    <th>0.975]</th>  \n",
       "</tr>\n",
       "<tr>\n",
       "  <th>const</th>                        <td>   -0.0166</td> <td>    0.025</td> <td>   -0.660</td> <td> 0.509</td> <td>   -0.066</td> <td>    0.033</td>\n",
       "</tr>\n",
       "<tr>\n",
       "  <th>log_value_fund</th>               <td> 3.273e-05</td> <td>    0.001</td> <td>    0.034</td> <td> 0.973</td> <td>   -0.002</td> <td>    0.002</td>\n",
       "</tr>\n",
       "<tr>\n",
       "  <th>high_value</th>                   <td>   -0.0040</td> <td>    0.009</td> <td>   -0.456</td> <td> 0.648</td> <td>   -0.021</td> <td>    0.013</td>\n",
       "</tr>\n",
       "<tr>\n",
       "  <th>med_value</th>                    <td>   -0.0025</td> <td>    0.008</td> <td>   -0.300</td> <td> 0.764</td> <td>   -0.019</td> <td>    0.014</td>\n",
       "</tr>\n",
       "<tr>\n",
       "  <th>ticker_share_lag_1</th>           <td>   -0.2876</td> <td>    0.086</td> <td>   -3.357</td> <td> 0.001</td> <td>   -0.455</td> <td>   -0.120</td>\n",
       "</tr>\n",
       "<tr>\n",
       "  <th>ticker_share_lag_2</th>           <td>    0.0929</td> <td>    0.105</td> <td>    0.884</td> <td> 0.376</td> <td>   -0.113</td> <td>    0.299</td>\n",
       "</tr>\n",
       "<tr>\n",
       "  <th>ticker_share_lag_3</th>           <td>    0.0540</td> <td>    0.106</td> <td>    0.508</td> <td> 0.612</td> <td>   -0.154</td> <td>    0.262</td>\n",
       "</tr>\n",
       "<tr>\n",
       "  <th>ticker_share_lag_4</th>           <td>    0.1363</td> <td>    0.084</td> <td>    1.616</td> <td> 0.106</td> <td>   -0.029</td> <td>    0.302</td>\n",
       "</tr>\n",
       "<tr>\n",
       "  <th>net_shares_lag_1</th>             <td>-5.591e-06</td> <td>  1.7e-06</td> <td>   -3.285</td> <td> 0.001</td> <td>-8.93e-06</td> <td>-2.25e-06</td>\n",
       "</tr>\n",
       "<tr>\n",
       "  <th>net_shares_lag_2</th>             <td>-8.587e-06</td> <td> 3.68e-06</td> <td>   -2.333</td> <td> 0.020</td> <td>-1.58e-05</td> <td>-1.37e-06</td>\n",
       "</tr>\n",
       "<tr>\n",
       "  <th>net_shares_lag_3</th>             <td> 7.291e-06</td> <td> 2.45e-06</td> <td>    2.973</td> <td> 0.003</td> <td> 2.48e-06</td> <td> 1.21e-05</td>\n",
       "</tr>\n",
       "<tr>\n",
       "  <th>net_shares_lag_4</th>             <td>  1.79e-05</td> <td> 2.44e-06</td> <td>    7.325</td> <td> 0.000</td> <td> 1.31e-05</td> <td> 2.27e-05</td>\n",
       "</tr>\n",
       "<tr>\n",
       "  <th>size_cat_change_qrt_lag_1</th>    <td>   -0.0187</td> <td>    0.013</td> <td>   -1.448</td> <td> 0.148</td> <td>   -0.044</td> <td>    0.007</td>\n",
       "</tr>\n",
       "<tr>\n",
       "  <th>size_cat_change_up_qrt_lag_1</th> <td>   -0.0088</td> <td>    0.014</td> <td>   -0.644</td> <td> 0.520</td> <td>   -0.036</td> <td>    0.018</td>\n",
       "</tr>\n",
       "<tr>\n",
       "  <th>size_cat_change_qrt_lag_2</th>    <td>   -0.0072</td> <td>    0.012</td> <td>   -0.580</td> <td> 0.562</td> <td>   -0.031</td> <td>    0.017</td>\n",
       "</tr>\n",
       "<tr>\n",
       "  <th>size_cat_change_up_qrt_lag_2</th> <td>    0.0150</td> <td>    0.013</td> <td>    1.121</td> <td> 0.262</td> <td>   -0.011</td> <td>    0.041</td>\n",
       "</tr>\n",
       "<tr>\n",
       "  <th>size_cat_change_qrt_lag_3</th>    <td>   -0.0115</td> <td>    0.013</td> <td>   -0.904</td> <td> 0.366</td> <td>   -0.036</td> <td>    0.013</td>\n",
       "</tr>\n",
       "<tr>\n",
       "  <th>size_cat_change_up_qrt_lag_3</th> <td>   -0.0050</td> <td>    0.014</td> <td>   -0.372</td> <td> 0.710</td> <td>   -0.032</td> <td>    0.021</td>\n",
       "</tr>\n",
       "<tr>\n",
       "  <th>size_cat_change_qrt_lag_4</th>    <td>   -0.0167</td> <td>    0.012</td> <td>   -1.352</td> <td> 0.176</td> <td>   -0.041</td> <td>    0.007</td>\n",
       "</tr>\n",
       "<tr>\n",
       "  <th>size_cat_change_up_qrt_lag_4</th> <td>   -0.0093</td> <td>    0.013</td> <td>   -0.729</td> <td> 0.466</td> <td>   -0.034</td> <td>    0.016</td>\n",
       "</tr>\n",
       "<tr>\n",
       "  <th>size_cat_change_qrt</th>          <td>    0.0012</td> <td>    0.013</td> <td>    0.088</td> <td> 0.930</td> <td>   -0.024</td> <td>    0.027</td>\n",
       "</tr>\n",
       "<tr>\n",
       "  <th>size_cat_change_up_qrt</th>       <td>   -0.0035</td> <td>    0.015</td> <td>   -0.238</td> <td> 0.812</td> <td>   -0.032</td> <td>    0.025</td>\n",
       "</tr>\n",
       "<tr>\n",
       "  <th>size_cat_change_total</th>        <td>    0.0260</td> <td>    0.007</td> <td>    3.560</td> <td> 0.000</td> <td>    0.012</td> <td>    0.040</td>\n",
       "</tr>\n",
       "<tr>\n",
       "  <th>turnover_high</th>                <td>   -0.0054</td> <td>    0.008</td> <td>   -0.636</td> <td> 0.525</td> <td>   -0.022</td> <td>    0.011</td>\n",
       "</tr>\n",
       "<tr>\n",
       "  <th>turnover_med</th>                 <td>    0.0069</td> <td>    0.014</td> <td>    0.512</td> <td> 0.609</td> <td>   -0.020</td> <td>    0.033</td>\n",
       "</tr>\n",
       "<tr>\n",
       "  <th>turnover_low</th>                 <td>   -0.0081</td> <td>    0.014</td> <td>   -0.566</td> <td> 0.571</td> <td>   -0.036</td> <td>    0.020</td>\n",
       "</tr>\n",
       "<tr>\n",
       "  <th>hhi_high</th>                     <td>   -0.0065</td> <td>    0.036</td> <td>   -0.182</td> <td> 0.855</td> <td>   -0.076</td> <td>    0.063</td>\n",
       "</tr>\n",
       "<tr>\n",
       "  <th>hhi_med</th>                      <td>    0.0701</td> <td>    0.045</td> <td>    1.568</td> <td> 0.117</td> <td>   -0.018</td> <td>    0.158</td>\n",
       "</tr>\n",
       "<tr>\n",
       "  <th>hhi_low</th>                      <td>    0.0183</td> <td>    0.048</td> <td>    0.380</td> <td> 0.704</td> <td>   -0.076</td> <td>    0.113</td>\n",
       "</tr>\n",
       "<tr>\n",
       "  <th>hhi_rev_high</th>                 <td>-1.182e-05</td> <td> 1.33e-05</td> <td>   -0.888</td> <td> 0.375</td> <td>-3.79e-05</td> <td> 1.43e-05</td>\n",
       "</tr>\n",
       "<tr>\n",
       "  <th>hhi_rev_med</th>                  <td>-9.436e-06</td> <td> 3.27e-05</td> <td>   -0.289</td> <td> 0.773</td> <td>-7.35e-05</td> <td> 5.46e-05</td>\n",
       "</tr>\n",
       "<tr>\n",
       "  <th>hhi_rev_low</th>                  <td> 3.744e-05</td> <td>    0.000</td> <td>    0.275</td> <td> 0.784</td> <td>   -0.000</td> <td>    0.000</td>\n",
       "</tr>\n",
       "<tr>\n",
       "  <th>hhi_eq_1</th>                     <td>    0.0124</td> <td>    0.067</td> <td>    0.186</td> <td> 0.853</td> <td>   -0.119</td> <td>    0.143</td>\n",
       "</tr>\n",
       "<tr>\n",
       "  <th>tvr_eq_1</th>                     <td>-1.894e-14</td> <td> 4.04e-14</td> <td>   -0.468</td> <td> 0.640</td> <td>-9.82e-14</td> <td> 6.03e-14</td>\n",
       "</tr>\n",
       "<tr>\n",
       "  <th>high_hhi</th>                     <td>   -0.0013</td> <td>    0.012</td> <td>   -0.109</td> <td> 0.913</td> <td>   -0.025</td> <td>    0.022</td>\n",
       "</tr>\n",
       "<tr>\n",
       "  <th>high_turnover</th>                <td>    0.0069</td> <td>    0.005</td> <td>    1.317</td> <td> 0.188</td> <td>   -0.003</td> <td>    0.017</td>\n",
       "</tr>\n",
       "<tr>\n",
       "  <th>extreme_turnover</th>             <td>    0.0357</td> <td>    0.017</td> <td>    2.066</td> <td> 0.039</td> <td>    0.002</td> <td>    0.070</td>\n",
       "</tr>\n",
       "<tr>\n",
       "  <th>cluster_hhi</th>                  <td>-2.098e-05</td> <td>    0.005</td> <td>   -0.004</td> <td> 0.997</td> <td>   -0.010</td> <td>    0.010</td>\n",
       "</tr>\n",
       "<tr>\n",
       "  <th>cluster_turnover</th>             <td>    0.0036</td> <td>    0.005</td> <td>    0.694</td> <td> 0.488</td> <td>   -0.007</td> <td>    0.014</td>\n",
       "</tr>\n",
       "<tr>\n",
       "  <th>pos_count</th>                    <td>-2.315e-07</td> <td> 4.07e-06</td> <td>   -0.057</td> <td> 0.955</td> <td>-8.21e-06</td> <td> 7.74e-06</td>\n",
       "</tr>\n",
       "<tr>\n",
       "  <th>extreme_pos_count</th>            <td>   -0.0069</td> <td>    0.008</td> <td>   -0.863</td> <td> 0.388</td> <td>   -0.023</td> <td>    0.009</td>\n",
       "</tr>\n",
       "<tr>\n",
       "  <th>high_pos_count</th>               <td>   -0.0003</td> <td>    0.005</td> <td>   -0.061</td> <td> 0.951</td> <td>   -0.010</td> <td>    0.009</td>\n",
       "</tr>\n",
       "<tr>\n",
       "  <th>med_pos_count</th>                <td>    0.0017</td> <td>    0.004</td> <td>    0.419</td> <td> 0.676</td> <td>   -0.006</td> <td>    0.010</td>\n",
       "</tr>\n",
       "<tr>\n",
       "  <th>up_low_pos_count</th>             <td>    0.0023</td> <td>    0.005</td> <td>    0.460</td> <td> 0.646</td> <td>   -0.007</td> <td>    0.012</td>\n",
       "</tr>\n",
       "<tr>\n",
       "  <th>cluster_size_pos</th>             <td>   -0.0017</td> <td>    0.005</td> <td>   -0.325</td> <td> 0.745</td> <td>   -0.012</td> <td>    0.008</td>\n",
       "</tr>\n",
       "<tr>\n",
       "  <th>cluster_pos_hhi</th>              <td>   -0.0009</td> <td>    0.004</td> <td>   -0.235</td> <td> 0.814</td> <td>   -0.009</td> <td>    0.007</td>\n",
       "</tr>\n",
       "<tr>\n",
       "  <th>mean_net_shares</th>              <td>   -0.0071</td> <td> 3.26e-05</td> <td> -219.455</td> <td> 0.000</td> <td>   -0.007</td> <td>   -0.007</td>\n",
       "</tr>\n",
       "<tr>\n",
       "  <th>mean_net_shares_by_cik</th>       <td>    0.0017</td> <td> 2.36e-05</td> <td>   71.210</td> <td> 0.000</td> <td>    0.002</td> <td>    0.002</td>\n",
       "</tr>\n",
       "<tr>\n",
       "  <th>mean_net_shares_by_value</th>     <td>    0.0064</td> <td> 2.46e-05</td> <td>  260.801</td> <td> 0.000</td> <td>    0.006</td> <td>    0.006</td>\n",
       "</tr>\n",
       "<tr>\n",
       "  <th>DGS10</th>                        <td>   -1.4936</td> <td>    1.874</td> <td>   -0.797</td> <td> 0.425</td> <td>   -5.167</td> <td>    2.179</td>\n",
       "</tr>\n",
       "<tr>\n",
       "  <th>DFF</th>                          <td>    2.3521</td> <td>    2.959</td> <td>    0.795</td> <td> 0.427</td> <td>   -3.447</td> <td>    8.151</td>\n",
       "</tr>\n",
       "<tr>\n",
       "  <th>UNRATE</th>                       <td>   -1.1234</td> <td>    2.996</td> <td>   -0.375</td> <td> 0.708</td> <td>   -6.995</td> <td>    4.748</td>\n",
       "</tr>\n",
       "<tr>\n",
       "  <th>CPIAUCSL</th>                     <td>    1.5963</td> <td>    1.928</td> <td>    0.828</td> <td> 0.408</td> <td>   -2.183</td> <td>    5.375</td>\n",
       "</tr>\n",
       "<tr>\n",
       "  <th>GDP</th>                          <td>   -0.0611</td> <td>    0.493</td> <td>   -0.124</td> <td> 0.901</td> <td>   -1.028</td> <td>    0.906</td>\n",
       "</tr>\n",
       "</table>\n",
       "<table class=\"simpletable\">\n",
       "<tr>\n",
       "  <th>Omnibus:</th>       <td>8554068.952</td> <th>  Durbin-Watson:     </th>       <td>   2.001</td>       \n",
       "</tr>\n",
       "<tr>\n",
       "  <th>Prob(Omnibus):</th>   <td> 0.000</td>    <th>  Jarque-Bera (JB):  </th> <td>13020824884379140.000</td>\n",
       "</tr>\n",
       "<tr>\n",
       "  <th>Skew:</th>            <td>611.309</td>   <th>  Prob(JB):          </th>       <td>    0.00</td>       \n",
       "</tr>\n",
       "<tr>\n",
       "  <th>Kurtosis:</th>      <td>490592.895</td>  <th>  Cond. No.          </th>       <td>1.39e+16</td>       \n",
       "</tr>\n",
       "</table><br/><br/>Warnings:<br/>[1] Standard Errors assume that the covariance matrix of the errors is correctly specified.<br/>[2] The smallest eigenvalue is 1.11e-20. This might indicate that there are<br/>strong multicollinearity problems or that the design matrix is singular."
      ],
      "text/plain": [
       "<class 'statsmodels.iolib.summary.Summary'>\n",
       "\"\"\"\n",
       "                            OLS Regression Results                            \n",
       "==============================================================================\n",
       "Dep. Variable:             net_shares   R-squared:                       0.086\n",
       "Model:                            OLS   Adj. R-squared:                  0.086\n",
       "Method:                 Least Squares   F-statistic:                     2353.\n",
       "Date:                Sun, 06 Dec 2020   Prob (F-statistic):               0.00\n",
       "Time:                        01:20:33   Log-Likelihood:            -1.7839e+06\n",
       "No. Observations:             1298404   AIC:                         3.568e+06\n",
       "Df Residuals:                 1298351   BIC:                         3.569e+06\n",
       "Df Model:                          52                                         \n",
       "Covariance Type:            nonrobust                                         \n",
       "================================================================================================\n",
       "                                   coef    std err          t      P>|t|      [0.025      0.975]\n",
       "------------------------------------------------------------------------------------------------\n",
       "const                           -0.0166      0.025     -0.660      0.509      -0.066       0.033\n",
       "log_value_fund                3.273e-05      0.001      0.034      0.973      -0.002       0.002\n",
       "high_value                      -0.0040      0.009     -0.456      0.648      -0.021       0.013\n",
       "med_value                       -0.0025      0.008     -0.300      0.764      -0.019       0.014\n",
       "ticker_share_lag_1              -0.2876      0.086     -3.357      0.001      -0.455      -0.120\n",
       "ticker_share_lag_2               0.0929      0.105      0.884      0.376      -0.113       0.299\n",
       "ticker_share_lag_3               0.0540      0.106      0.508      0.612      -0.154       0.262\n",
       "ticker_share_lag_4               0.1363      0.084      1.616      0.106      -0.029       0.302\n",
       "net_shares_lag_1             -5.591e-06    1.7e-06     -3.285      0.001   -8.93e-06   -2.25e-06\n",
       "net_shares_lag_2             -8.587e-06   3.68e-06     -2.333      0.020   -1.58e-05   -1.37e-06\n",
       "net_shares_lag_3              7.291e-06   2.45e-06      2.973      0.003    2.48e-06    1.21e-05\n",
       "net_shares_lag_4               1.79e-05   2.44e-06      7.325      0.000    1.31e-05    2.27e-05\n",
       "size_cat_change_qrt_lag_1       -0.0187      0.013     -1.448      0.148      -0.044       0.007\n",
       "size_cat_change_up_qrt_lag_1    -0.0088      0.014     -0.644      0.520      -0.036       0.018\n",
       "size_cat_change_qrt_lag_2       -0.0072      0.012     -0.580      0.562      -0.031       0.017\n",
       "size_cat_change_up_qrt_lag_2     0.0150      0.013      1.121      0.262      -0.011       0.041\n",
       "size_cat_change_qrt_lag_3       -0.0115      0.013     -0.904      0.366      -0.036       0.013\n",
       "size_cat_change_up_qrt_lag_3    -0.0050      0.014     -0.372      0.710      -0.032       0.021\n",
       "size_cat_change_qrt_lag_4       -0.0167      0.012     -1.352      0.176      -0.041       0.007\n",
       "size_cat_change_up_qrt_lag_4    -0.0093      0.013     -0.729      0.466      -0.034       0.016\n",
       "size_cat_change_qrt              0.0012      0.013      0.088      0.930      -0.024       0.027\n",
       "size_cat_change_up_qrt          -0.0035      0.015     -0.238      0.812      -0.032       0.025\n",
       "size_cat_change_total            0.0260      0.007      3.560      0.000       0.012       0.040\n",
       "turnover_high                   -0.0054      0.008     -0.636      0.525      -0.022       0.011\n",
       "turnover_med                     0.0069      0.014      0.512      0.609      -0.020       0.033\n",
       "turnover_low                    -0.0081      0.014     -0.566      0.571      -0.036       0.020\n",
       "hhi_high                        -0.0065      0.036     -0.182      0.855      -0.076       0.063\n",
       "hhi_med                          0.0701      0.045      1.568      0.117      -0.018       0.158\n",
       "hhi_low                          0.0183      0.048      0.380      0.704      -0.076       0.113\n",
       "hhi_rev_high                 -1.182e-05   1.33e-05     -0.888      0.375   -3.79e-05    1.43e-05\n",
       "hhi_rev_med                  -9.436e-06   3.27e-05     -0.289      0.773   -7.35e-05    5.46e-05\n",
       "hhi_rev_low                   3.744e-05      0.000      0.275      0.784      -0.000       0.000\n",
       "hhi_eq_1                         0.0124      0.067      0.186      0.853      -0.119       0.143\n",
       "tvr_eq_1                     -1.894e-14   4.04e-14     -0.468      0.640   -9.82e-14    6.03e-14\n",
       "high_hhi                        -0.0013      0.012     -0.109      0.913      -0.025       0.022\n",
       "high_turnover                    0.0069      0.005      1.317      0.188      -0.003       0.017\n",
       "extreme_turnover                 0.0357      0.017      2.066      0.039       0.002       0.070\n",
       "cluster_hhi                  -2.098e-05      0.005     -0.004      0.997      -0.010       0.010\n",
       "cluster_turnover                 0.0036      0.005      0.694      0.488      -0.007       0.014\n",
       "pos_count                    -2.315e-07   4.07e-06     -0.057      0.955   -8.21e-06    7.74e-06\n",
       "extreme_pos_count               -0.0069      0.008     -0.863      0.388      -0.023       0.009\n",
       "high_pos_count                  -0.0003      0.005     -0.061      0.951      -0.010       0.009\n",
       "med_pos_count                    0.0017      0.004      0.419      0.676      -0.006       0.010\n",
       "up_low_pos_count                 0.0023      0.005      0.460      0.646      -0.007       0.012\n",
       "cluster_size_pos                -0.0017      0.005     -0.325      0.745      -0.012       0.008\n",
       "cluster_pos_hhi                 -0.0009      0.004     -0.235      0.814      -0.009       0.007\n",
       "mean_net_shares                 -0.0071   3.26e-05   -219.455      0.000      -0.007      -0.007\n",
       "mean_net_shares_by_cik           0.0017   2.36e-05     71.210      0.000       0.002       0.002\n",
       "mean_net_shares_by_value         0.0064   2.46e-05    260.801      0.000       0.006       0.006\n",
       "DGS10                           -1.4936      1.874     -0.797      0.425      -5.167       2.179\n",
       "DFF                              2.3521      2.959      0.795      0.427      -3.447       8.151\n",
       "UNRATE                          -1.1234      2.996     -0.375      0.708      -6.995       4.748\n",
       "CPIAUCSL                         1.5963      1.928      0.828      0.408      -2.183       5.375\n",
       "GDP                             -0.0611      0.493     -0.124      0.901      -1.028       0.906\n",
       "=================================================================================\n",
       "Omnibus:                  8554068.952   Durbin-Watson:                      2.001\n",
       "Prob(Omnibus):                  0.000   Jarque-Bera (JB):   13020824884379140.000\n",
       "Skew:                         611.309   Prob(JB):                            0.00\n",
       "Kurtosis:                  490592.895   Cond. No.                        1.39e+16\n",
       "=================================================================================\n",
       "\n",
       "Warnings:\n",
       "[1] Standard Errors assume that the covariance matrix of the errors is correctly specified.\n",
       "[2] The smallest eigenvalue is 1.11e-20. This might indicate that there are\n",
       "strong multicollinearity problems or that the design matrix is singular.\n",
       "\"\"\""
      ]
     },
     "execution_count": 65,
     "metadata": {},
     "output_type": "execute_result"
    }
   ],
   "source": [
    "model_6 = sm.OLS(y, X).fit()\n",
    "model_6.summary()"
   ]
  },
  {
   "cell_type": "markdown",
   "metadata": {},
   "source": [
    "Все индикаторы незначимы!!!! Зависимости даже на сломанной модели не поменялись!!!\n",
    "\n",
    "Наблюдается отрицательная зависимость от безработицы, положительная от инфляции и отрицательная от роста ВВП.\n",
    "Первая зависимость интиутивно понятно. Низкая безработица свидетельствует о росте экономики, который наблюдается последнее время, а во время роста увеличиваются вложения в финансовые активы. Если рост вызван увеличением предложения, то ещё более очевидно, что улучшение ситуации у эмитентов делает их более привлекательным.\n",
    "\n",
    "Вторая и третья зависимость не так очевидна, но у меня есть объяснение. Увеличение инфляции и падение выпуска происходит при уменьшении совокупного предложения. Это говорит об ухудшении положении эмитентов. Тем не менее, стоит вспомнить про то, что бизнес-циклы неотъемлемая часть экономики. И в такой ситуации очевидно наблюдается спад. Мы знаем, как и все, что после спада наступает рост. А во время роста (см. абзац выше) увеличивается спрос на финансовые активы и, как следствие, цена на них. Значит, инвестор может купить акции сейчас дешевле и продать их во время бума подороже. Наверно, так можно объяснить эти коэффициенты.\n",
    "\n",
    "Положительная зависимость от ключевой ставки объясняется тем, что увеличение ставки может быть представлено как контр-мера против перегревания экономики во время экономического бума, а поведение во время бума я уже описывал.\n",
    "\n",
    "Если надо, то я могу воспользоваться IS-LM моделью, чтобы более подробно попытаться объяснить зависимость и логику."
   ]
  },
  {
   "cell_type": "markdown",
   "metadata": {},
   "source": [
    "И в конце я внедрю в модель факторизированные макроиндикаторы."
   ]
  },
  {
   "cell_type": "markdown",
   "metadata": {},
   "source": [
    "## Мы не можем жить без ~~космоса~~ факторизации"
   ]
  },
  {
   "cell_type": "markdown",
   "metadata": {},
   "source": [
    "### Модель 7"
   ]
  },
  {
   "cell_type": "code",
   "execution_count": 69,
   "metadata": {},
   "outputs": [],
   "source": [
    "y = lag4['net_shares']\n",
    "y = (y - y.mean()) / y.std()\n",
    "\n",
    "X = lag4[['log_value_fund',\n",
    "       'high_value', 'med_value',\n",
    "       'ticker_share_lag_1', 'ticker_share_lag_2', 'ticker_share_lag_3', 'ticker_share_lag_4',\n",
    "       'net_shares_lag_1', 'net_shares_lag_2', 'net_shares_lag_3', 'net_shares_lag_4',\n",
    "       'size_cat_change_qrt_lag_1', \n",
    "       'size_cat_change_up_qrt_lag_1', 'size_cat_change_qrt_lag_2',\n",
    "       'size_cat_change_up_qrt_lag_2', 'size_cat_change_qrt_lag_3',\n",
    "       'size_cat_change_up_qrt_lag_3', 'size_cat_change_qrt_lag_4',\n",
    "       'size_cat_change_up_qrt_lag_4', 'size_cat_change_qrt',\n",
    "       'size_cat_change_up_qrt', 'size_cat_change_total',\n",
    "       'turnover_high', 'turnover_med', 'turnover_low',\n",
    "       'hhi_high', 'hhi_med', 'hhi_low', 'hhi_rev_high', 'hhi_rev_med',\n",
    "       'hhi_rev_low', 'hhi_eq_1', 'tvr_eq_1', 'high_hhi',\n",
    "       'high_turnover', 'extreme_turnover', \n",
    "       'cluster_hhi', 'cluster_turnover', 'pos_count',\n",
    "       'extreme_pos_count', 'high_pos_count', 'med_pos_count', 'up_low_pos_count',\n",
    "       'cluster_size_pos', 'cluster_pos_hhi', 'mean_net_shares', 'mean_net_shares_by_cik',\n",
    "       'mean_net_shares_by_value', \n",
    "        'DGS10_high', 'DGS10_med', 'DGS10_low', 'DFF_high', 'DFF_med', 'DFF_low', 'UNRATE_high',\n",
    "        'UNRATE_med', 'UNRATE_low', 'CPIAUCSL_high', 'CPIAUCSL_med',\n",
    "        'CPIAUCSL_low', 'GDP_high', 'GDP_med', 'GDP_low']].astype('float64')\n",
    "X = sm.add_constant(X)"
   ]
  },
  {
   "cell_type": "code",
   "execution_count": 70,
   "metadata": {
    "scrolled": false
   },
   "outputs": [
    {
     "data": {
      "text/html": [
       "<table class=\"simpletable\">\n",
       "<caption>OLS Regression Results</caption>\n",
       "<tr>\n",
       "  <th>Dep. Variable:</th>       <td>net_shares</td>    <th>  R-squared:         </th>  <td>   0.086</td>  \n",
       "</tr>\n",
       "<tr>\n",
       "  <th>Model:</th>                   <td>OLS</td>       <th>  Adj. R-squared:    </th>  <td>   0.086</td>  \n",
       "</tr>\n",
       "<tr>\n",
       "  <th>Method:</th>             <td>Least Squares</td>  <th>  F-statistic:       </th>  <td>   1973.</td>  \n",
       "</tr>\n",
       "<tr>\n",
       "  <th>Date:</th>             <td>Sun, 06 Dec 2020</td> <th>  Prob (F-statistic):</th>   <td>  0.00</td>   \n",
       "</tr>\n",
       "<tr>\n",
       "  <th>Time:</th>                 <td>01:22:50</td>     <th>  Log-Likelihood:    </th> <td>-1.7839e+06</td>\n",
       "</tr>\n",
       "<tr>\n",
       "  <th>No. Observations:</th>      <td>1298404</td>     <th>  AIC:               </th>  <td>3.568e+06</td> \n",
       "</tr>\n",
       "<tr>\n",
       "  <th>Df Residuals:</th>          <td>1298341</td>     <th>  BIC:               </th>  <td>3.569e+06</td> \n",
       "</tr>\n",
       "<tr>\n",
       "  <th>Df Model:</th>              <td>    62</td>      <th>                     </th>      <td> </td>     \n",
       "</tr>\n",
       "<tr>\n",
       "  <th>Covariance Type:</th>      <td>nonrobust</td>    <th>                     </th>      <td> </td>     \n",
       "</tr>\n",
       "</table>\n",
       "<table class=\"simpletable\">\n",
       "<tr>\n",
       "                <td></td>                  <th>coef</th>     <th>std err</th>      <th>t</th>      <th>P>|t|</th>  <th>[0.025</th>    <th>0.975]</th>  \n",
       "</tr>\n",
       "<tr>\n",
       "  <th>const</th>                        <td>   -0.0614</td> <td>    0.061</td> <td>   -1.007</td> <td> 0.314</td> <td>   -0.181</td> <td>    0.058</td>\n",
       "</tr>\n",
       "<tr>\n",
       "  <th>log_value_fund</th>               <td>-3.834e-06</td> <td>    0.001</td> <td>   -0.004</td> <td> 0.997</td> <td>   -0.002</td> <td>    0.002</td>\n",
       "</tr>\n",
       "<tr>\n",
       "  <th>high_value</th>                   <td>    0.0678</td> <td>    0.063</td> <td>    1.079</td> <td> 0.280</td> <td>   -0.055</td> <td>    0.191</td>\n",
       "</tr>\n",
       "<tr>\n",
       "  <th>med_value</th>                    <td>   -0.0713</td> <td>    0.077</td> <td>   -0.929</td> <td> 0.353</td> <td>   -0.222</td> <td>    0.079</td>\n",
       "</tr>\n",
       "<tr>\n",
       "  <th>ticker_share_lag_1</th>           <td>   -0.2880</td> <td>    0.086</td> <td>   -3.362</td> <td> 0.001</td> <td>   -0.456</td> <td>   -0.120</td>\n",
       "</tr>\n",
       "<tr>\n",
       "  <th>ticker_share_lag_2</th>           <td>    0.0926</td> <td>    0.105</td> <td>    0.882</td> <td> 0.378</td> <td>   -0.113</td> <td>    0.298</td>\n",
       "</tr>\n",
       "<tr>\n",
       "  <th>ticker_share_lag_3</th>           <td>    0.0533</td> <td>    0.106</td> <td>    0.502</td> <td> 0.616</td> <td>   -0.155</td> <td>    0.262</td>\n",
       "</tr>\n",
       "<tr>\n",
       "  <th>ticker_share_lag_4</th>           <td>    0.1372</td> <td>    0.084</td> <td>    1.627</td> <td> 0.104</td> <td>   -0.028</td> <td>    0.302</td>\n",
       "</tr>\n",
       "<tr>\n",
       "  <th>net_shares_lag_1</th>             <td>-5.612e-06</td> <td>  1.7e-06</td> <td>   -3.297</td> <td> 0.001</td> <td>-8.95e-06</td> <td>-2.28e-06</td>\n",
       "</tr>\n",
       "<tr>\n",
       "  <th>net_shares_lag_2</th>             <td>-8.682e-06</td> <td> 3.68e-06</td> <td>   -2.358</td> <td> 0.018</td> <td>-1.59e-05</td> <td>-1.47e-06</td>\n",
       "</tr>\n",
       "<tr>\n",
       "  <th>net_shares_lag_3</th>             <td> 7.348e-06</td> <td> 2.45e-06</td> <td>    2.995</td> <td> 0.003</td> <td> 2.54e-06</td> <td> 1.22e-05</td>\n",
       "</tr>\n",
       "<tr>\n",
       "  <th>net_shares_lag_4</th>             <td> 1.795e-05</td> <td> 2.44e-06</td> <td>    7.344</td> <td> 0.000</td> <td> 1.32e-05</td> <td> 2.27e-05</td>\n",
       "</tr>\n",
       "<tr>\n",
       "  <th>size_cat_change_qrt_lag_1</th>    <td>   -0.0191</td> <td>    0.013</td> <td>   -1.475</td> <td> 0.140</td> <td>   -0.044</td> <td>    0.006</td>\n",
       "</tr>\n",
       "<tr>\n",
       "  <th>size_cat_change_up_qrt_lag_1</th> <td>   -0.0085</td> <td>    0.014</td> <td>   -0.615</td> <td> 0.539</td> <td>   -0.035</td> <td>    0.019</td>\n",
       "</tr>\n",
       "<tr>\n",
       "  <th>size_cat_change_qrt_lag_2</th>    <td>   -0.0074</td> <td>    0.012</td> <td>   -0.597</td> <td> 0.550</td> <td>   -0.032</td> <td>    0.017</td>\n",
       "</tr>\n",
       "<tr>\n",
       "  <th>size_cat_change_up_qrt_lag_2</th> <td>    0.0148</td> <td>    0.013</td> <td>    1.104</td> <td> 0.270</td> <td>   -0.011</td> <td>    0.041</td>\n",
       "</tr>\n",
       "<tr>\n",
       "  <th>size_cat_change_qrt_lag_3</th>    <td>   -0.0112</td> <td>    0.013</td> <td>   -0.880</td> <td> 0.379</td> <td>   -0.036</td> <td>    0.014</td>\n",
       "</tr>\n",
       "<tr>\n",
       "  <th>size_cat_change_up_qrt_lag_3</th> <td>   -0.0051</td> <td>    0.014</td> <td>   -0.376</td> <td> 0.707</td> <td>   -0.032</td> <td>    0.021</td>\n",
       "</tr>\n",
       "<tr>\n",
       "  <th>size_cat_change_qrt_lag_4</th>    <td>   -0.0176</td> <td>    0.012</td> <td>   -1.426</td> <td> 0.154</td> <td>   -0.042</td> <td>    0.007</td>\n",
       "</tr>\n",
       "<tr>\n",
       "  <th>size_cat_change_up_qrt_lag_4</th> <td>   -0.0083</td> <td>    0.013</td> <td>   -0.654</td> <td> 0.513</td> <td>   -0.033</td> <td>    0.017</td>\n",
       "</tr>\n",
       "<tr>\n",
       "  <th>size_cat_change_qrt</th>          <td>    0.0009</td> <td>    0.013</td> <td>    0.068</td> <td> 0.946</td> <td>   -0.025</td> <td>    0.026</td>\n",
       "</tr>\n",
       "<tr>\n",
       "  <th>size_cat_change_up_qrt</th>       <td>   -0.0036</td> <td>    0.015</td> <td>   -0.246</td> <td> 0.805</td> <td>   -0.032</td> <td>    0.025</td>\n",
       "</tr>\n",
       "<tr>\n",
       "  <th>size_cat_change_total</th>        <td>    0.0262</td> <td>    0.007</td> <td>    3.582</td> <td> 0.000</td> <td>    0.012</td> <td>    0.041</td>\n",
       "</tr>\n",
       "<tr>\n",
       "  <th>turnover_high</th>                <td>   -0.0044</td> <td>    0.008</td> <td>   -0.525</td> <td> 0.600</td> <td>   -0.021</td> <td>    0.012</td>\n",
       "</tr>\n",
       "<tr>\n",
       "  <th>turnover_med</th>                 <td>    0.0066</td> <td>    0.014</td> <td>    0.488</td> <td> 0.626</td> <td>   -0.020</td> <td>    0.033</td>\n",
       "</tr>\n",
       "<tr>\n",
       "  <th>turnover_low</th>                 <td>   -0.0077</td> <td>    0.014</td> <td>   -0.534</td> <td> 0.593</td> <td>   -0.036</td> <td>    0.021</td>\n",
       "</tr>\n",
       "<tr>\n",
       "  <th>hhi_high</th>                     <td>   -0.0062</td> <td>    0.036</td> <td>   -0.174</td> <td> 0.862</td> <td>   -0.076</td> <td>    0.063</td>\n",
       "</tr>\n",
       "<tr>\n",
       "  <th>hhi_med</th>                      <td>    0.0727</td> <td>    0.045</td> <td>    1.626</td> <td> 0.104</td> <td>   -0.015</td> <td>    0.160</td>\n",
       "</tr>\n",
       "<tr>\n",
       "  <th>hhi_low</th>                      <td>    0.0185</td> <td>    0.048</td> <td>    0.382</td> <td> 0.702</td> <td>   -0.076</td> <td>    0.113</td>\n",
       "</tr>\n",
       "<tr>\n",
       "  <th>hhi_rev_high</th>                 <td>-1.316e-05</td> <td> 1.33e-05</td> <td>   -0.988</td> <td> 0.323</td> <td>-3.93e-05</td> <td>  1.3e-05</td>\n",
       "</tr>\n",
       "<tr>\n",
       "  <th>hhi_rev_med</th>                  <td>-1.571e-06</td> <td> 3.29e-05</td> <td>   -0.048</td> <td> 0.962</td> <td> -6.6e-05</td> <td> 6.29e-05</td>\n",
       "</tr>\n",
       "<tr>\n",
       "  <th>hhi_rev_low</th>                  <td> 3.993e-05</td> <td>    0.000</td> <td>    0.293</td> <td> 0.770</td> <td>   -0.000</td> <td>    0.000</td>\n",
       "</tr>\n",
       "<tr>\n",
       "  <th>hhi_eq_1</th>                     <td>    0.0123</td> <td>    0.067</td> <td>    0.185</td> <td> 0.854</td> <td>   -0.119</td> <td>    0.143</td>\n",
       "</tr>\n",
       "<tr>\n",
       "  <th>tvr_eq_1</th>                     <td> 2.304e-10</td> <td> 1.52e-10</td> <td>    1.516</td> <td> 0.129</td> <td>-6.74e-11</td> <td> 5.28e-10</td>\n",
       "</tr>\n",
       "<tr>\n",
       "  <th>high_hhi</th>                     <td>   -0.0010</td> <td>    0.012</td> <td>   -0.085</td> <td> 0.933</td> <td>   -0.024</td> <td>    0.022</td>\n",
       "</tr>\n",
       "<tr>\n",
       "  <th>high_turnover</th>                <td>    0.0068</td> <td>    0.005</td> <td>    1.284</td> <td> 0.199</td> <td>   -0.004</td> <td>    0.017</td>\n",
       "</tr>\n",
       "<tr>\n",
       "  <th>extreme_turnover</th>             <td>    0.0346</td> <td>    0.017</td> <td>    1.997</td> <td> 0.046</td> <td>    0.001</td> <td>    0.069</td>\n",
       "</tr>\n",
       "<tr>\n",
       "  <th>cluster_hhi</th>                  <td>-6.523e-05</td> <td>    0.005</td> <td>   -0.012</td> <td> 0.990</td> <td>   -0.010</td> <td>    0.010</td>\n",
       "</tr>\n",
       "<tr>\n",
       "  <th>cluster_turnover</th>             <td>    0.0038</td> <td>    0.005</td> <td>    0.738</td> <td> 0.461</td> <td>   -0.006</td> <td>    0.014</td>\n",
       "</tr>\n",
       "<tr>\n",
       "  <th>pos_count</th>                    <td> 2.829e-07</td> <td> 4.07e-06</td> <td>    0.069</td> <td> 0.945</td> <td> -7.7e-06</td> <td> 8.26e-06</td>\n",
       "</tr>\n",
       "<tr>\n",
       "  <th>extreme_pos_count</th>            <td>   -0.0073</td> <td>    0.008</td> <td>   -0.914</td> <td> 0.360</td> <td>   -0.023</td> <td>    0.008</td>\n",
       "</tr>\n",
       "<tr>\n",
       "  <th>high_pos_count</th>               <td>   -0.0007</td> <td>    0.005</td> <td>   -0.141</td> <td> 0.888</td> <td>   -0.010</td> <td>    0.009</td>\n",
       "</tr>\n",
       "<tr>\n",
       "  <th>med_pos_count</th>                <td>    0.0014</td> <td>    0.004</td> <td>    0.335</td> <td> 0.738</td> <td>   -0.007</td> <td>    0.009</td>\n",
       "</tr>\n",
       "<tr>\n",
       "  <th>up_low_pos_count</th>             <td>    0.0023</td> <td>    0.005</td> <td>    0.477</td> <td> 0.633</td> <td>   -0.007</td> <td>    0.012</td>\n",
       "</tr>\n",
       "<tr>\n",
       "  <th>cluster_size_pos</th>             <td>   -0.0020</td> <td>    0.005</td> <td>   -0.399</td> <td> 0.690</td> <td>   -0.012</td> <td>    0.008</td>\n",
       "</tr>\n",
       "<tr>\n",
       "  <th>cluster_pos_hhi</th>              <td>   -0.0017</td> <td>    0.004</td> <td>   -0.419</td> <td> 0.675</td> <td>   -0.010</td> <td>    0.006</td>\n",
       "</tr>\n",
       "<tr>\n",
       "  <th>mean_net_shares</th>              <td>   -0.0072</td> <td> 3.26e-05</td> <td> -219.490</td> <td> 0.000</td> <td>   -0.007</td> <td>   -0.007</td>\n",
       "</tr>\n",
       "<tr>\n",
       "  <th>mean_net_shares_by_cik</th>       <td>    0.0017</td> <td> 2.36e-05</td> <td>   71.268</td> <td> 0.000</td> <td>    0.002</td> <td>    0.002</td>\n",
       "</tr>\n",
       "<tr>\n",
       "  <th>mean_net_shares_by_value</th>     <td>    0.0064</td> <td> 2.46e-05</td> <td>  260.831</td> <td> 0.000</td> <td>    0.006</td> <td>    0.006</td>\n",
       "</tr>\n",
       "<tr>\n",
       "  <th>DGS10_high</th>                   <td>   -0.3881</td> <td>    2.137</td> <td>   -0.182</td> <td> 0.856</td> <td>   -4.577</td> <td>    3.801</td>\n",
       "</tr>\n",
       "<tr>\n",
       "  <th>DGS10_med</th>                    <td>   -7.5244</td> <td>    5.076</td> <td>   -1.482</td> <td> 0.138</td> <td>  -17.473</td> <td>    2.424</td>\n",
       "</tr>\n",
       "<tr>\n",
       "  <th>DGS10_low</th>                    <td>   -1.5636</td> <td>    6.085</td> <td>   -0.257</td> <td> 0.797</td> <td>  -13.491</td> <td>   10.363</td>\n",
       "</tr>\n",
       "<tr>\n",
       "  <th>DFF_high</th>                     <td>   -1.3687</td> <td>    3.377</td> <td>   -0.405</td> <td> 0.685</td> <td>   -7.987</td> <td>    5.250</td>\n",
       "</tr>\n",
       "<tr>\n",
       "  <th>DFF_med</th>                      <td>   19.0490</td> <td>    7.990</td> <td>    2.384</td> <td> 0.017</td> <td>    3.389</td> <td>   34.709</td>\n",
       "</tr>\n",
       "<tr>\n",
       "  <th>DFF_low</th>                      <td>    7.7277</td> <td>    9.625</td> <td>    0.803</td> <td> 0.422</td> <td>  -11.137</td> <td>   26.593</td>\n",
       "</tr>\n",
       "<tr>\n",
       "  <th>UNRATE_high</th>                  <td>    3.5274</td> <td>    3.418</td> <td>    1.032</td> <td> 0.302</td> <td>   -3.171</td> <td>   10.226</td>\n",
       "</tr>\n",
       "<tr>\n",
       "  <th>UNRATE_med</th>                   <td>  -18.7133</td> <td>    8.173</td> <td>   -2.290</td> <td> 0.022</td> <td>  -34.732</td> <td>   -2.695</td>\n",
       "</tr>\n",
       "<tr>\n",
       "  <th>UNRATE_low</th>                   <td>  -12.7008</td> <td>    9.645</td> <td>   -1.317</td> <td> 0.188</td> <td>  -31.604</td> <td>    6.202</td>\n",
       "</tr>\n",
       "<tr>\n",
       "  <th>CPIAUCSL_high</th>                <td>   -0.1770</td> <td>    2.197</td> <td>   -0.081</td> <td> 0.936</td> <td>   -4.483</td> <td>    4.129</td>\n",
       "</tr>\n",
       "<tr>\n",
       "  <th>CPIAUCSL_med</th>                 <td>   10.8554</td> <td>    5.235</td> <td>    2.074</td> <td> 0.038</td> <td>    0.595</td> <td>   21.116</td>\n",
       "</tr>\n",
       "<tr>\n",
       "  <th>CPIAUCSL_low</th>                 <td>    2.3634</td> <td>    6.295</td> <td>    0.375</td> <td> 0.707</td> <td>   -9.974</td> <td>   14.701</td>\n",
       "</tr>\n",
       "<tr>\n",
       "  <th>GDP_high</th>                     <td>   -0.3560</td> <td>    0.562</td> <td>   -0.634</td> <td> 0.526</td> <td>   -1.457</td> <td>    0.745</td>\n",
       "</tr>\n",
       "<tr>\n",
       "  <th>GDP_med</th>                      <td>    0.7292</td> <td>    1.343</td> <td>    0.543</td> <td> 0.587</td> <td>   -1.904</td> <td>    3.362</td>\n",
       "</tr>\n",
       "<tr>\n",
       "  <th>GDP_low</th>                      <td>    1.0878</td> <td>    1.620</td> <td>    0.672</td> <td> 0.502</td> <td>   -2.087</td> <td>    4.262</td>\n",
       "</tr>\n",
       "</table>\n",
       "<table class=\"simpletable\">\n",
       "<tr>\n",
       "  <th>Omnibus:</th>       <td>8553998.633</td> <th>  Durbin-Watson:     </th>       <td>   2.001</td>       \n",
       "</tr>\n",
       "<tr>\n",
       "  <th>Prob(Omnibus):</th>   <td> 0.000</td>    <th>  Jarque-Bera (JB):  </th> <td>13019484875751030.000</td>\n",
       "</tr>\n",
       "<tr>\n",
       "  <th>Skew:</th>            <td>611.289</td>   <th>  Prob(JB):          </th>       <td>    0.00</td>       \n",
       "</tr>\n",
       "<tr>\n",
       "  <th>Kurtosis:</th>      <td>490567.651</td>  <th>  Cond. No.          </th>       <td>1.39e+16</td>       \n",
       "</tr>\n",
       "</table><br/><br/>Warnings:<br/>[1] Standard Errors assume that the covariance matrix of the errors is correctly specified.<br/>[2] The smallest eigenvalue is 1.11e-20. This might indicate that there are<br/>strong multicollinearity problems or that the design matrix is singular."
      ],
      "text/plain": [
       "<class 'statsmodels.iolib.summary.Summary'>\n",
       "\"\"\"\n",
       "                            OLS Regression Results                            \n",
       "==============================================================================\n",
       "Dep. Variable:             net_shares   R-squared:                       0.086\n",
       "Model:                            OLS   Adj. R-squared:                  0.086\n",
       "Method:                 Least Squares   F-statistic:                     1973.\n",
       "Date:                Sun, 06 Dec 2020   Prob (F-statistic):               0.00\n",
       "Time:                        01:22:50   Log-Likelihood:            -1.7839e+06\n",
       "No. Observations:             1298404   AIC:                         3.568e+06\n",
       "Df Residuals:                 1298341   BIC:                         3.569e+06\n",
       "Df Model:                          62                                         \n",
       "Covariance Type:            nonrobust                                         \n",
       "================================================================================================\n",
       "                                   coef    std err          t      P>|t|      [0.025      0.975]\n",
       "------------------------------------------------------------------------------------------------\n",
       "const                           -0.0614      0.061     -1.007      0.314      -0.181       0.058\n",
       "log_value_fund               -3.834e-06      0.001     -0.004      0.997      -0.002       0.002\n",
       "high_value                       0.0678      0.063      1.079      0.280      -0.055       0.191\n",
       "med_value                       -0.0713      0.077     -0.929      0.353      -0.222       0.079\n",
       "ticker_share_lag_1              -0.2880      0.086     -3.362      0.001      -0.456      -0.120\n",
       "ticker_share_lag_2               0.0926      0.105      0.882      0.378      -0.113       0.298\n",
       "ticker_share_lag_3               0.0533      0.106      0.502      0.616      -0.155       0.262\n",
       "ticker_share_lag_4               0.1372      0.084      1.627      0.104      -0.028       0.302\n",
       "net_shares_lag_1             -5.612e-06    1.7e-06     -3.297      0.001   -8.95e-06   -2.28e-06\n",
       "net_shares_lag_2             -8.682e-06   3.68e-06     -2.358      0.018   -1.59e-05   -1.47e-06\n",
       "net_shares_lag_3              7.348e-06   2.45e-06      2.995      0.003    2.54e-06    1.22e-05\n",
       "net_shares_lag_4              1.795e-05   2.44e-06      7.344      0.000    1.32e-05    2.27e-05\n",
       "size_cat_change_qrt_lag_1       -0.0191      0.013     -1.475      0.140      -0.044       0.006\n",
       "size_cat_change_up_qrt_lag_1    -0.0085      0.014     -0.615      0.539      -0.035       0.019\n",
       "size_cat_change_qrt_lag_2       -0.0074      0.012     -0.597      0.550      -0.032       0.017\n",
       "size_cat_change_up_qrt_lag_2     0.0148      0.013      1.104      0.270      -0.011       0.041\n",
       "size_cat_change_qrt_lag_3       -0.0112      0.013     -0.880      0.379      -0.036       0.014\n",
       "size_cat_change_up_qrt_lag_3    -0.0051      0.014     -0.376      0.707      -0.032       0.021\n",
       "size_cat_change_qrt_lag_4       -0.0176      0.012     -1.426      0.154      -0.042       0.007\n",
       "size_cat_change_up_qrt_lag_4    -0.0083      0.013     -0.654      0.513      -0.033       0.017\n",
       "size_cat_change_qrt              0.0009      0.013      0.068      0.946      -0.025       0.026\n",
       "size_cat_change_up_qrt          -0.0036      0.015     -0.246      0.805      -0.032       0.025\n",
       "size_cat_change_total            0.0262      0.007      3.582      0.000       0.012       0.041\n",
       "turnover_high                   -0.0044      0.008     -0.525      0.600      -0.021       0.012\n",
       "turnover_med                     0.0066      0.014      0.488      0.626      -0.020       0.033\n",
       "turnover_low                    -0.0077      0.014     -0.534      0.593      -0.036       0.021\n",
       "hhi_high                        -0.0062      0.036     -0.174      0.862      -0.076       0.063\n",
       "hhi_med                          0.0727      0.045      1.626      0.104      -0.015       0.160\n",
       "hhi_low                          0.0185      0.048      0.382      0.702      -0.076       0.113\n",
       "hhi_rev_high                 -1.316e-05   1.33e-05     -0.988      0.323   -3.93e-05     1.3e-05\n",
       "hhi_rev_med                  -1.571e-06   3.29e-05     -0.048      0.962    -6.6e-05    6.29e-05\n",
       "hhi_rev_low                   3.993e-05      0.000      0.293      0.770      -0.000       0.000\n",
       "hhi_eq_1                         0.0123      0.067      0.185      0.854      -0.119       0.143\n",
       "tvr_eq_1                      2.304e-10   1.52e-10      1.516      0.129   -6.74e-11    5.28e-10\n",
       "high_hhi                        -0.0010      0.012     -0.085      0.933      -0.024       0.022\n",
       "high_turnover                    0.0068      0.005      1.284      0.199      -0.004       0.017\n",
       "extreme_turnover                 0.0346      0.017      1.997      0.046       0.001       0.069\n",
       "cluster_hhi                  -6.523e-05      0.005     -0.012      0.990      -0.010       0.010\n",
       "cluster_turnover                 0.0038      0.005      0.738      0.461      -0.006       0.014\n",
       "pos_count                     2.829e-07   4.07e-06      0.069      0.945    -7.7e-06    8.26e-06\n",
       "extreme_pos_count               -0.0073      0.008     -0.914      0.360      -0.023       0.008\n",
       "high_pos_count                  -0.0007      0.005     -0.141      0.888      -0.010       0.009\n",
       "med_pos_count                    0.0014      0.004      0.335      0.738      -0.007       0.009\n",
       "up_low_pos_count                 0.0023      0.005      0.477      0.633      -0.007       0.012\n",
       "cluster_size_pos                -0.0020      0.005     -0.399      0.690      -0.012       0.008\n",
       "cluster_pos_hhi                 -0.0017      0.004     -0.419      0.675      -0.010       0.006\n",
       "mean_net_shares                 -0.0072   3.26e-05   -219.490      0.000      -0.007      -0.007\n",
       "mean_net_shares_by_cik           0.0017   2.36e-05     71.268      0.000       0.002       0.002\n",
       "mean_net_shares_by_value         0.0064   2.46e-05    260.831      0.000       0.006       0.006\n",
       "DGS10_high                      -0.3881      2.137     -0.182      0.856      -4.577       3.801\n",
       "DGS10_med                       -7.5244      5.076     -1.482      0.138     -17.473       2.424\n",
       "DGS10_low                       -1.5636      6.085     -0.257      0.797     -13.491      10.363\n",
       "DFF_high                        -1.3687      3.377     -0.405      0.685      -7.987       5.250\n",
       "DFF_med                         19.0490      7.990      2.384      0.017       3.389      34.709\n",
       "DFF_low                          7.7277      9.625      0.803      0.422     -11.137      26.593\n",
       "UNRATE_high                      3.5274      3.418      1.032      0.302      -3.171      10.226\n",
       "UNRATE_med                     -18.7133      8.173     -2.290      0.022     -34.732      -2.695\n",
       "UNRATE_low                     -12.7008      9.645     -1.317      0.188     -31.604       6.202\n",
       "CPIAUCSL_high                   -0.1770      2.197     -0.081      0.936      -4.483       4.129\n",
       "CPIAUCSL_med                    10.8554      5.235      2.074      0.038       0.595      21.116\n",
       "CPIAUCSL_low                     2.3634      6.295      0.375      0.707      -9.974      14.701\n",
       "GDP_high                        -0.3560      0.562     -0.634      0.526      -1.457       0.745\n",
       "GDP_med                          0.7292      1.343      0.543      0.587      -1.904       3.362\n",
       "GDP_low                          1.0878      1.620      0.672      0.502      -2.087       4.262\n",
       "=================================================================================\n",
       "Omnibus:                  8553998.633   Durbin-Watson:                      2.001\n",
       "Prob(Omnibus):                  0.000   Jarque-Bera (JB):   13019484875751030.000\n",
       "Skew:                         611.289   Prob(JB):                            0.00\n",
       "Kurtosis:                  490567.651   Cond. No.                        1.39e+16\n",
       "=================================================================================\n",
       "\n",
       "Warnings:\n",
       "[1] Standard Errors assume that the covariance matrix of the errors is correctly specified.\n",
       "[2] The smallest eigenvalue is 1.11e-20. This might indicate that there are\n",
       "strong multicollinearity problems or that the design matrix is singular.\n",
       "\"\"\""
      ]
     },
     "execution_count": 70,
     "metadata": {},
     "output_type": "execute_result"
    }
   ],
   "source": [
    "model_7 = sm.OLS(y, X).fit()\n",
    "model_7.summary()"
   ]
  },
  {
   "cell_type": "markdown",
   "metadata": {},
   "source": [
    "Отмечу, что опять почти все макроиндикаторы незначимы. "
   ]
  },
  {
   "cell_type": "markdown",
   "metadata": {},
   "source": [
    "Заметим, что несмотря на свою красоту эта модель, как и предыдущие, имеет маленький R^2, то есть, имеет маленькую предсказательную способность и мало объясняет дисперсию изменения.\n",
    "Но мы уже видели, что дисперсия так рознится из-за проблемы с малыми фондами и проблемы масштаба.\n",
    "\n",
    "Главное, что наша модель имеет <b>прикладной и экономический смысл</b>!"
   ]
  },
  {
   "cell_type": "markdown",
   "metadata": {},
   "source": [
    "# Сохранение датасета."
   ]
  },
  {
   "cell_type": "markdown",
   "metadata": {},
   "source": [
    "Для удобства сохраню полученные результаты."
   ]
  },
  {
   "cell_type": "code",
   "execution_count": 71,
   "metadata": {},
   "outputs": [],
   "source": [
    "import pickle\n",
    "\n",
    "# сохраняю полный датасет\n",
    "with open('final_df.pkl', 'wb') as f:\n",
    "    pickle.dump(final_df, f, protocol=-1)"
   ]
  },
  {
   "cell_type": "markdown",
   "metadata": {},
   "source": [
    "# Планируемая работа"
   ]
  },
  {
   "cell_type": "markdown",
   "metadata": {},
   "source": [
    "1. Усовершенствовать чистку исходных данных, так как сейчас она примитивна.\n",
    "\n",
    "    Как минимум, стоит учесть поправки к исходным отчетам, но пока непонятен их характер. Там присутствуют поправки только по активам, которых не было в исходном отчете, или же там есть поправки по активам, которые уже были упомянуты. Можно создать индикатор того, что актив был в поправках, кстати.<br><br> (Как-то справились)<br><br>\n",
    "   \n",
    "2. Выгрузить названия фондов из EDGAR и через Thomas Reuters сопоставить им их стили инвестирования, через что можно было бы определить схожие фонды. Потом можно было бы вычислить, например, среднее изменение актива по схожим фондам или составить кросс-произведение с другими индикаторами.<br><br> (Черт знает, где искать типы фондов)<br><br>\n",
    "\n",
    "3. Аналогичная ситуация с акциями. Для них можно получить их индустрию. В сущности, можно тоже вычислить схожие фонды по их выбору индустрий. Также можно добавить фичи принадлежности акции индустрии, указать изменение позиции фонда по индустрии и долю индустрии в фонде. Кроме того, можно посчитать HHI и Turnover не в разрезе акций, а в разрезе индустрий. Можно сделать много новых индикаторов, посмотреть на совместное распределение HHI и Turnover с размером фонда.<br><br> (Не хватает данных)<br><br>\n",
    "\n",
    "4. Понять, надо ли оставлять в данных, на которых я буду тренировать бустинги, леса и прочие чудеса, кросс-произведения дохода и других непрерывных переменных или достаточно будет использовать все переменные по отдельности, ведь всех можно применить PolynomialFeatures.<br><br> (Разобрались)<br><br>\n",
    "\n",
    "5. Понять, как лучше разделять данные на тест и трейн.<br><br> <b>(Непонятно)</b><br><br>\n",
    "\n",
    "6. Как делать датасет для определения выхода из тикера, если это слишком ресурнозатратное по памяти испытание?<br><br>\n",
    "\n",
    "7. Нормально, что я в регрессии использую и HHI, и обратный HHI?<br><br>"
   ]
  },
  {
   "cell_type": "markdown",
   "metadata": {},
   "source": [
    "the coursework will return ..."
   ]
  }
 ],
 "metadata": {
  "kernelspec": {
   "display_name": "Python 3",
   "language": "python",
   "name": "python3"
  },
  "language_info": {
   "codemirror_mode": {
    "name": "ipython",
    "version": 3
   },
   "file_extension": ".py",
   "mimetype": "text/x-python",
   "name": "python",
   "nbconvert_exporter": "python",
   "pygments_lexer": "ipython3",
   "version": "3.7.1"
  }
 },
 "nbformat": 4,
 "nbformat_minor": 2
}
